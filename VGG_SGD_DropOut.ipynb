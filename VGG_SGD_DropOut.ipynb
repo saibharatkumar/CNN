{
  "nbformat": 4,
  "nbformat_minor": 0,
  "metadata": {
    "colab": {
      "name": "VGG_SGD_DropOut.ipynb",
      "provenance": [],
      "collapsed_sections": []
    },
    "kernelspec": {
      "name": "python3",
      "display_name": "Python 3"
    },
    "accelerator": "GPU"
  },
  "cells": [
    {
      "cell_type": "code",
      "metadata": {
        "id": "DHxExJHmHrOi"
      },
      "source": [
        "import tensorflow as tf\n",
        "from tensorflow import keras\n",
        "from tensorflow.keras import layers\n",
        "import numpy as np\n",
        "import datetime as dt\n",
        "from keras.models import Sequential\n",
        "from keras.layers import Dense, Dropout, Flatten\n",
        "from keras.layers import Conv2D, MaxPooling2D,Add,Activation\n",
        "from keras import backend as K\n",
        "import matplotlib.pyplot as plt\n",
        "from keras.preprocessing.image import ImageDataGenerator\n",
        "from sklearn.metrics import confusion_matrix, precision_score, recall_score, accuracy_score\n"
      ],
      "execution_count": null,
      "outputs": []
    },
    {
      "cell_type": "code",
      "metadata": {
        "id": "EdglliqVIpcH"
      },
      "source": [
        "(x_train, y_train), (x_test, y_test) = tf.keras.datasets.cifar100.load_data()"
      ],
      "execution_count": null,
      "outputs": []
    },
    {
      "cell_type": "code",
      "metadata": {
        "id": "3xOtuKNpIvmm",
        "outputId": "4593efe7-a59d-4032-dcd9-fcdd9a16aef7",
        "colab": {
          "base_uri": "https://localhost:8080/",
          "height": 34
        }
      },
      "source": [
        "y_proc=np.zeros((50000,100))\n",
        "for i in range(0,50000):\n",
        "    y_proc[i][y_train[i][0]]=1\n",
        "y_test_proc=np.zeros((10000,100))\n",
        "for i in range(0,10000):\n",
        "    y_test_proc[i][y_test[i][0]]=1\n",
        "y_proc.shape\n",
        "input_shape=(32,32,3)\n",
        "y_test_proc[0]\n",
        "x_train=x_train.astype('float')/255\n",
        "x_test=x_test.astype('float')/255\n",
        "y_test_proc.shape"
      ],
      "execution_count": null,
      "outputs": [
        {
          "output_type": "execute_result",
          "data": {
            "text/plain": [
              "(10000, 100)"
            ]
          },
          "metadata": {
            "tags": []
          },
          "execution_count": 10
        }
      ]
    },
    {
      "cell_type": "code",
      "metadata": {
        "id": "kjNVHplzIxNh"
      },
      "source": [
        "datagen = ImageDataGenerator(\n",
        "    featurewise_center=False,  # set input mean to 0 over the dataset\n",
        "    samplewise_center=False,  # set each sample mean to 0\n",
        "    featurewise_std_normalization=False,  # divide inputs by std of the dataset\n",
        "    samplewise_std_normalization=False,  # divide each input by its std\n",
        "    zca_whitening=False,  # apply ZCA whitening\n",
        "    rotation_range=15,  # randomly rotate images in the range (degrees, 0 to 180)\n",
        "    width_shift_range=0.1,  # randomly shift images horizontally (fraction of total width)\n",
        "    height_shift_range=0.1,  # randomly shift images vertically (fraction of total height)\n",
        "    horizontal_flip=True,  # randomly flip images\n",
        "    vertical_flip=False)  # randomly flip images\n",
        "# (std, mean, and principal components if ZCA whitening is applied).\n",
        "datagen.fit(x_train)"
      ],
      "execution_count": null,
      "outputs": []
    },
    {
      "cell_type": "code",
      "metadata": {
        "id": "Bwee_Z5zIy4v"
      },
      "source": [
        "inputs = keras.Input(shape=input_shape)\n",
        "x = layers.Conv2D(32, 3, activation='elu')(inputs)\n",
        "x=layers.Dropout(0.01)(x)\n",
        "x = layers.Conv2D(32, 3, activation='relu')(x)\n",
        "x = layers.MaxPool2D((3,3),strides=(1,1), padding='same')(x)\n",
        "x = layers.Conv2D(32, 3, activation='elu')(x)\n",
        "x=layers.Dropout(0.01)(x)\n",
        "x = layers.Conv2D(32, 3, activation='relu')(x)\n",
        "x = layers.MaxPool2D((3,3),strides=(1,1), padding='same')(x)\n",
        "x = layers.Conv2D(64, 3, activation='elu')(x)\n",
        "x = layers.Conv2D(64, 3, activation='elu')(x)\n",
        "x=layers.Dropout(0.01)(x)\n",
        "x = layers.Conv2D(64, 3, activation='relu')(x)\n",
        "x = layers.MaxPool2D((3,3),strides=(1,1), padding='same')(x)\n",
        "x = layers.Conv2D(64, 3, activation='elu')(x)\n",
        "x = layers.Conv2D(64, 3, activation='elu')(x)\n",
        "x=layers.Dropout(0.01)(x)\n",
        "x = layers.Conv2D(64, 3, activation='relu')(x)\n",
        "x = layers.MaxPool2D((3,3),strides=(1,1), padding='same')(x)\n",
        "x = layers.Conv2D(128, 3, activation='elu')(x)\n",
        "x = layers.Conv2D(128, 3, activation='elu')(x)\n",
        "x = layers.Conv2D(128, 3, activation='relu')(x)\n",
        "x = layers.MaxPool2D((3,3),strides=(1,1), padding='same')(x)\n",
        "x=layers.Flatten()(x)\n",
        "\n",
        "x = layers.Dense(256, activation='elu')(x)\n",
        "x = layers.Dense(256, activation='elu')(x)\n",
        "x = layers.Dense(256, activation='relu')(x)\n",
        "\n",
        "outputs = layers.Dense(100, activation='softmax')(x)\n",
        "\n",
        "\n",
        "vgg_net_model = keras.Model(inputs, outputs)"
      ],
      "execution_count": null,
      "outputs": []
    },
    {
      "cell_type": "code",
      "metadata": {
        "id": "b8_otLGWKM43",
        "outputId": "2a5d14dc-6290-43cd-f5fa-2f94302e679f",
        "colab": {
          "base_uri": "https://localhost:8080/",
          "height": 1000
        }
      },
      "source": [
        "vgg_net_model.summary()"
      ],
      "execution_count": null,
      "outputs": [
        {
          "output_type": "stream",
          "text": [
            "Model: \"functional_3\"\n",
            "_________________________________________________________________\n",
            "Layer (type)                 Output Shape              Param #   \n",
            "=================================================================\n",
            "input_2 (InputLayer)         [(None, 32, 32, 3)]       0         \n",
            "_________________________________________________________________\n",
            "conv2d_13 (Conv2D)           (None, 30, 30, 32)        896       \n",
            "_________________________________________________________________\n",
            "dropout_4 (Dropout)          (None, 30, 30, 32)        0         \n",
            "_________________________________________________________________\n",
            "conv2d_14 (Conv2D)           (None, 28, 28, 32)        9248      \n",
            "_________________________________________________________________\n",
            "max_pooling2d_5 (MaxPooling2 (None, 28, 28, 32)        0         \n",
            "_________________________________________________________________\n",
            "conv2d_15 (Conv2D)           (None, 26, 26, 32)        9248      \n",
            "_________________________________________________________________\n",
            "dropout_5 (Dropout)          (None, 26, 26, 32)        0         \n",
            "_________________________________________________________________\n",
            "conv2d_16 (Conv2D)           (None, 24, 24, 32)        9248      \n",
            "_________________________________________________________________\n",
            "max_pooling2d_6 (MaxPooling2 (None, 24, 24, 32)        0         \n",
            "_________________________________________________________________\n",
            "conv2d_17 (Conv2D)           (None, 22, 22, 64)        18496     \n",
            "_________________________________________________________________\n",
            "conv2d_18 (Conv2D)           (None, 20, 20, 64)        36928     \n",
            "_________________________________________________________________\n",
            "dropout_6 (Dropout)          (None, 20, 20, 64)        0         \n",
            "_________________________________________________________________\n",
            "conv2d_19 (Conv2D)           (None, 18, 18, 64)        36928     \n",
            "_________________________________________________________________\n",
            "max_pooling2d_7 (MaxPooling2 (None, 18, 18, 64)        0         \n",
            "_________________________________________________________________\n",
            "conv2d_20 (Conv2D)           (None, 16, 16, 64)        36928     \n",
            "_________________________________________________________________\n",
            "conv2d_21 (Conv2D)           (None, 14, 14, 64)        36928     \n",
            "_________________________________________________________________\n",
            "dropout_7 (Dropout)          (None, 14, 14, 64)        0         \n",
            "_________________________________________________________________\n",
            "conv2d_22 (Conv2D)           (None, 12, 12, 64)        36928     \n",
            "_________________________________________________________________\n",
            "max_pooling2d_8 (MaxPooling2 (None, 12, 12, 64)        0         \n",
            "_________________________________________________________________\n",
            "conv2d_23 (Conv2D)           (None, 10, 10, 128)       73856     \n",
            "_________________________________________________________________\n",
            "conv2d_24 (Conv2D)           (None, 8, 8, 128)         147584    \n",
            "_________________________________________________________________\n",
            "conv2d_25 (Conv2D)           (None, 6, 6, 128)         147584    \n",
            "_________________________________________________________________\n",
            "max_pooling2d_9 (MaxPooling2 (None, 6, 6, 128)         0         \n",
            "_________________________________________________________________\n",
            "flatten_1 (Flatten)          (None, 4608)              0         \n",
            "_________________________________________________________________\n",
            "dense_4 (Dense)              (None, 256)               1179904   \n",
            "_________________________________________________________________\n",
            "dense_5 (Dense)              (None, 256)               65792     \n",
            "_________________________________________________________________\n",
            "dense_6 (Dense)              (None, 256)               65792     \n",
            "_________________________________________________________________\n",
            "dense_7 (Dense)              (None, 100)               25700     \n",
            "=================================================================\n",
            "Total params: 1,937,988\n",
            "Trainable params: 1,937,988\n",
            "Non-trainable params: 0\n",
            "_________________________________________________________________\n"
          ],
          "name": "stdout"
        }
      ]
    },
    {
      "cell_type": "code",
      "metadata": {
        "id": "9iCKoHIdKQPm",
        "outputId": "eb0260ba-0dff-4d2c-93d5-cfa037f79e15",
        "colab": {
          "base_uri": "https://localhost:8080/",
          "height": 1000
        }
      },
      "source": [
        "%load_ext tensorboard\n",
        "tensor_board = tf.keras.callbacks.TensorBoard(log_dir='tensorboard',histogram_freq=1)\n",
        "vgg_net_model.compile(optimizer=keras.optimizers.SGD(lr=0.01,momentum=0.9,clipvalue=0.7,clipnorm=0.7),\n",
        "              loss='categorical_crossentropy',\n",
        "              metrics=['acc'])\n",
        "callback = tf.keras.callbacks.EarlyStopping(monitor='loss', patience=3,min_delta=0.0001)\n",
        "model_checkpoint_callback = tf.keras.callbacks.ModelCheckpoint(\n",
        "    filepath='vgg_sgd_dropout.hdf5',\n",
        "    save_weights_only=True,\n",
        "    monitor='val_acc',\n",
        "    mode='max',\n",
        "    save_best_only=True)\n",
        "# vgg_net_model.fit(x_train,y_proc,batch_size=200,validation_data=(x_test,y_test_proc),epochs=50,callbacks=[callback,model_checkpoint_callback])\n",
        "output=vgg_net_model.fit_generator(datagen.flow(x_train,y_proc,batch_size = 200), epochs = 100, validation_data = (x_test,y_test_proc),callbacks = [tensor_board,callback,model_checkpoint_callback])"
      ],
      "execution_count": null,
      "outputs": [
        {
          "output_type": "stream",
          "text": [
            "WARNING:tensorflow:From <ipython-input-7-970b0ece55d7>:14: Model.fit_generator (from tensorflow.python.keras.engine.training) is deprecated and will be removed in a future version.\n",
            "Instructions for updating:\n",
            "Please use Model.fit, which supports generators.\n",
            "Epoch 1/100\n",
            "  1/250 [..............................] - ETA: 0s - loss: 4.6060 - acc: 0.0100WARNING:tensorflow:From /usr/local/lib/python3.6/dist-packages/tensorflow/python/ops/summary_ops_v2.py:1277: stop (from tensorflow.python.eager.profiler) is deprecated and will be removed after 2020-07-01.\n",
            "Instructions for updating:\n",
            "use `tf.profiler.experimental.stop` instead.\n",
            "  2/250 [..............................] - ETA: 19s - loss: 4.6065 - acc: 0.0200WARNING:tensorflow:Callbacks method `on_train_batch_end` is slow compared to the batch time (batch time: 0.0402s vs `on_train_batch_end` time: 0.1193s). Check your callbacks.\n",
            "250/250 [==============================] - 26s 104ms/step - loss: 4.4411 - acc: 0.0250 - val_loss: 4.2590 - val_acc: 0.0411\n",
            "Epoch 2/100\n",
            "250/250 [==============================] - 25s 102ms/step - loss: 4.1275 - acc: 0.0600 - val_loss: 3.9739 - val_acc: 0.0832\n",
            "Epoch 3/100\n",
            "250/250 [==============================] - 26s 102ms/step - loss: 3.9202 - acc: 0.0924 - val_loss: 3.7511 - val_acc: 0.1160\n",
            "Epoch 4/100\n",
            "250/250 [==============================] - 25s 102ms/step - loss: 3.7250 - acc: 0.1236 - val_loss: 3.6042 - val_acc: 0.1474\n",
            "Epoch 5/100\n",
            "250/250 [==============================] - 26s 104ms/step - loss: 3.5607 - acc: 0.1524 - val_loss: 3.4356 - val_acc: 0.1820\n",
            "Epoch 6/100\n",
            "250/250 [==============================] - 25s 101ms/step - loss: 3.4236 - acc: 0.1760 - val_loss: 3.3030 - val_acc: 0.2006\n",
            "Epoch 7/100\n",
            "250/250 [==============================] - 25s 101ms/step - loss: 3.3125 - acc: 0.1962 - val_loss: 3.2038 - val_acc: 0.2218\n",
            "Epoch 8/100\n",
            "250/250 [==============================] - 26s 102ms/step - loss: 3.2182 - acc: 0.2101 - val_loss: 3.1355 - val_acc: 0.2256\n",
            "Epoch 9/100\n",
            "250/250 [==============================] - 25s 102ms/step - loss: 3.1269 - acc: 0.2279 - val_loss: 3.0792 - val_acc: 0.2411\n",
            "Epoch 10/100\n",
            "250/250 [==============================] - 26s 103ms/step - loss: 3.0547 - acc: 0.2443 - val_loss: 2.9527 - val_acc: 0.2684\n",
            "Epoch 11/100\n",
            "250/250 [==============================] - 26s 103ms/step - loss: 2.9827 - acc: 0.2555 - val_loss: 2.9228 - val_acc: 0.2767\n",
            "Epoch 12/100\n",
            "250/250 [==============================] - 26s 102ms/step - loss: 2.9184 - acc: 0.2698 - val_loss: 2.9117 - val_acc: 0.2732\n",
            "Epoch 13/100\n",
            "250/250 [==============================] - 26s 102ms/step - loss: 2.8748 - acc: 0.2772 - val_loss: 2.8298 - val_acc: 0.2903\n",
            "Epoch 14/100\n",
            "250/250 [==============================] - 26s 103ms/step - loss: 2.8053 - acc: 0.2900 - val_loss: 2.7923 - val_acc: 0.2976\n",
            "Epoch 15/100\n",
            "250/250 [==============================] - 25s 102ms/step - loss: 2.7688 - acc: 0.2997 - val_loss: 2.8055 - val_acc: 0.2995\n",
            "Epoch 16/100\n",
            "250/250 [==============================] - 25s 102ms/step - loss: 2.7033 - acc: 0.3102 - val_loss: 2.7012 - val_acc: 0.3164\n",
            "Epoch 17/100\n",
            "250/250 [==============================] - 25s 102ms/step - loss: 2.6652 - acc: 0.3201 - val_loss: 2.7026 - val_acc: 0.3190\n",
            "Epoch 18/100\n",
            "250/250 [==============================] - 25s 100ms/step - loss: 2.6249 - acc: 0.3293 - val_loss: 2.7418 - val_acc: 0.3127\n",
            "Epoch 19/100\n",
            "250/250 [==============================] - 26s 104ms/step - loss: 2.6069 - acc: 0.3279 - val_loss: 2.6302 - val_acc: 0.3321\n",
            "Epoch 20/100\n",
            "250/250 [==============================] - 26s 104ms/step - loss: 2.5534 - acc: 0.3397 - val_loss: 2.6266 - val_acc: 0.3365\n",
            "Epoch 21/100\n",
            "250/250 [==============================] - 27s 109ms/step - loss: 2.5237 - acc: 0.3464 - val_loss: 2.6913 - val_acc: 0.3266\n",
            "Epoch 22/100\n",
            "250/250 [==============================] - 27s 107ms/step - loss: 2.4921 - acc: 0.3517 - val_loss: 2.6809 - val_acc: 0.3286\n",
            "Epoch 23/100\n",
            "250/250 [==============================] - 27s 106ms/step - loss: 2.4553 - acc: 0.3569 - val_loss: 2.5910 - val_acc: 0.3407\n",
            "Epoch 24/100\n",
            "250/250 [==============================] - 27s 107ms/step - loss: 2.4292 - acc: 0.3676 - val_loss: 2.6981 - val_acc: 0.3339\n",
            "Epoch 25/100\n",
            "250/250 [==============================] - 27s 106ms/step - loss: 2.3911 - acc: 0.3758 - val_loss: 2.5723 - val_acc: 0.3460\n",
            "Epoch 26/100\n",
            "250/250 [==============================] - 27s 106ms/step - loss: 2.3698 - acc: 0.3781 - val_loss: 2.4366 - val_acc: 0.3793\n",
            "Epoch 27/100\n",
            "250/250 [==============================] - 26s 106ms/step - loss: 2.3466 - acc: 0.3849 - val_loss: 2.5176 - val_acc: 0.3575\n",
            "Epoch 28/100\n",
            "250/250 [==============================] - 27s 107ms/step - loss: 2.3144 - acc: 0.3897 - val_loss: 2.6051 - val_acc: 0.3438\n",
            "Epoch 29/100\n",
            "250/250 [==============================] - 27s 107ms/step - loss: 2.2946 - acc: 0.3940 - val_loss: 2.5253 - val_acc: 0.3648\n",
            "Epoch 30/100\n",
            "250/250 [==============================] - 27s 106ms/step - loss: 2.2729 - acc: 0.4002 - val_loss: 2.5525 - val_acc: 0.3603\n",
            "Epoch 31/100\n",
            "250/250 [==============================] - 27s 107ms/step - loss: 2.2483 - acc: 0.4048 - val_loss: 2.5688 - val_acc: 0.3492\n",
            "Epoch 32/100\n",
            "250/250 [==============================] - 26s 106ms/step - loss: 2.2250 - acc: 0.4081 - val_loss: 2.4251 - val_acc: 0.3843\n",
            "Epoch 33/100\n",
            "250/250 [==============================] - 27s 106ms/step - loss: 2.2144 - acc: 0.4108 - val_loss: 2.4317 - val_acc: 0.3736\n",
            "Epoch 34/100\n",
            "250/250 [==============================] - 27s 107ms/step - loss: 2.1837 - acc: 0.4167 - val_loss: 2.5258 - val_acc: 0.3732\n",
            "Epoch 35/100\n",
            "250/250 [==============================] - 27s 107ms/step - loss: 2.1734 - acc: 0.4206 - val_loss: 2.4977 - val_acc: 0.3731\n",
            "Epoch 36/100\n",
            "250/250 [==============================] - 27s 107ms/step - loss: 2.1515 - acc: 0.4265 - val_loss: 2.4141 - val_acc: 0.3910\n",
            "Epoch 37/100\n",
            "250/250 [==============================] - 27s 106ms/step - loss: 2.1352 - acc: 0.4268 - val_loss: 2.3500 - val_acc: 0.4038\n",
            "Epoch 38/100\n",
            "250/250 [==============================] - 27s 107ms/step - loss: 2.1146 - acc: 0.4330 - val_loss: 2.2967 - val_acc: 0.4054\n",
            "Epoch 39/100\n",
            "250/250 [==============================] - 26s 106ms/step - loss: 2.0988 - acc: 0.4352 - val_loss: 2.3812 - val_acc: 0.3962\n",
            "Epoch 40/100\n",
            "250/250 [==============================] - 27s 107ms/step - loss: 2.0844 - acc: 0.4394 - val_loss: 2.3510 - val_acc: 0.4082\n",
            "Epoch 41/100\n",
            "250/250 [==============================] - 27s 107ms/step - loss: 2.0543 - acc: 0.4458 - val_loss: 2.2963 - val_acc: 0.4058\n",
            "Epoch 42/100\n",
            "250/250 [==============================] - 28s 110ms/step - loss: 2.0491 - acc: 0.4464 - val_loss: 2.3324 - val_acc: 0.4017\n",
            "Epoch 43/100\n",
            "250/250 [==============================] - 28s 110ms/step - loss: 2.0325 - acc: 0.4508 - val_loss: 2.4070 - val_acc: 0.3887\n",
            "Epoch 44/100\n",
            "250/250 [==============================] - 27s 107ms/step - loss: 2.0208 - acc: 0.4539 - val_loss: 2.5285 - val_acc: 0.3746\n",
            "Epoch 45/100\n",
            "250/250 [==============================] - 26s 106ms/step - loss: 2.0028 - acc: 0.4563 - val_loss: 2.4168 - val_acc: 0.3967\n",
            "Epoch 46/100\n",
            "250/250 [==============================] - 27s 107ms/step - loss: 1.9883 - acc: 0.4622 - val_loss: 2.3728 - val_acc: 0.3978\n",
            "Epoch 47/100\n",
            "250/250 [==============================] - 27s 107ms/step - loss: 1.9587 - acc: 0.4670 - val_loss: 2.4300 - val_acc: 0.3941\n",
            "Epoch 48/100\n",
            "250/250 [==============================] - 27s 107ms/step - loss: 1.9635 - acc: 0.4640 - val_loss: 2.3659 - val_acc: 0.4056\n",
            "Epoch 49/100\n",
            "250/250 [==============================] - 27s 106ms/step - loss: 1.9354 - acc: 0.4691 - val_loss: 2.3245 - val_acc: 0.4031\n",
            "Epoch 50/100\n",
            "250/250 [==============================] - 27s 106ms/step - loss: 1.9318 - acc: 0.4707 - val_loss: 2.3340 - val_acc: 0.4099\n",
            "Epoch 51/100\n",
            "250/250 [==============================] - 27s 106ms/step - loss: 1.9278 - acc: 0.4723 - val_loss: 2.3417 - val_acc: 0.4166\n",
            "Epoch 52/100\n",
            "250/250 [==============================] - 27s 110ms/step - loss: 1.9074 - acc: 0.4766 - val_loss: 2.4090 - val_acc: 0.4024\n",
            "Epoch 53/100\n",
            "250/250 [==============================] - 28s 111ms/step - loss: 1.8720 - acc: 0.4853 - val_loss: 2.3581 - val_acc: 0.4151\n",
            "Epoch 54/100\n",
            "250/250 [==============================] - 27s 110ms/step - loss: 1.8687 - acc: 0.4858 - val_loss: 2.2997 - val_acc: 0.4210\n",
            "Epoch 55/100\n",
            "250/250 [==============================] - 28s 110ms/step - loss: 1.8621 - acc: 0.4861 - val_loss: 2.4051 - val_acc: 0.3963\n",
            "Epoch 56/100\n",
            "250/250 [==============================] - 28s 112ms/step - loss: 1.8667 - acc: 0.4858 - val_loss: 2.2737 - val_acc: 0.4176\n",
            "Epoch 57/100\n",
            "250/250 [==============================] - 28s 111ms/step - loss: 1.8427 - acc: 0.4907 - val_loss: 2.3983 - val_acc: 0.4020\n",
            "Epoch 58/100\n",
            "250/250 [==============================] - 28s 112ms/step - loss: 1.8328 - acc: 0.4935 - val_loss: 2.3268 - val_acc: 0.4174\n",
            "Epoch 59/100\n",
            "250/250 [==============================] - 28s 113ms/step - loss: 1.8147 - acc: 0.4974 - val_loss: 2.3135 - val_acc: 0.4188\n",
            "Epoch 60/100\n",
            "250/250 [==============================] - 28s 111ms/step - loss: 1.7996 - acc: 0.4997 - val_loss: 2.3028 - val_acc: 0.4247\n",
            "Epoch 61/100\n",
            "250/250 [==============================] - 27s 107ms/step - loss: 1.8059 - acc: 0.4988 - val_loss: 2.2678 - val_acc: 0.4318\n",
            "Epoch 62/100\n",
            "250/250 [==============================] - 27s 107ms/step - loss: 1.7842 - acc: 0.5068 - val_loss: 2.2389 - val_acc: 0.4303\n",
            "Epoch 63/100\n",
            "250/250 [==============================] - 27s 108ms/step - loss: 1.7754 - acc: 0.5060 - val_loss: 2.1790 - val_acc: 0.4431\n",
            "Epoch 64/100\n",
            "250/250 [==============================] - 27s 107ms/step - loss: 1.7677 - acc: 0.5093 - val_loss: 2.3129 - val_acc: 0.4201\n",
            "Epoch 65/100\n",
            "250/250 [==============================] - 27s 107ms/step - loss: 1.7595 - acc: 0.5109 - val_loss: 2.3245 - val_acc: 0.4157\n",
            "Epoch 66/100\n",
            "250/250 [==============================] - 26s 105ms/step - loss: 1.7469 - acc: 0.5151 - val_loss: 2.2284 - val_acc: 0.4365\n",
            "Epoch 67/100\n",
            "250/250 [==============================] - 27s 107ms/step - loss: 1.7277 - acc: 0.5183 - val_loss: 2.2360 - val_acc: 0.4412\n",
            "Epoch 68/100\n",
            "250/250 [==============================] - 27s 106ms/step - loss: 1.7196 - acc: 0.5209 - val_loss: 2.3078 - val_acc: 0.4193\n",
            "Epoch 69/100\n",
            "250/250 [==============================] - 27s 106ms/step - loss: 1.7065 - acc: 0.5228 - val_loss: 2.4141 - val_acc: 0.4071\n",
            "Epoch 70/100\n",
            "250/250 [==============================] - 27s 108ms/step - loss: 1.7089 - acc: 0.5212 - val_loss: 2.2773 - val_acc: 0.4213\n",
            "Epoch 71/100\n",
            "250/250 [==============================] - 27s 106ms/step - loss: 1.6928 - acc: 0.5265 - val_loss: 2.4200 - val_acc: 0.4095\n",
            "Epoch 72/100\n",
            "250/250 [==============================] - 26s 106ms/step - loss: 1.6856 - acc: 0.5280 - val_loss: 2.2468 - val_acc: 0.4350\n",
            "Epoch 73/100\n",
            "250/250 [==============================] - 27s 107ms/step - loss: 1.6719 - acc: 0.5315 - val_loss: 2.2489 - val_acc: 0.4329\n",
            "Epoch 74/100\n",
            "250/250 [==============================] - 27s 108ms/step - loss: 1.6732 - acc: 0.5307 - val_loss: 2.4352 - val_acc: 0.4103\n",
            "Epoch 75/100\n",
            "250/250 [==============================] - 27s 106ms/step - loss: 1.6671 - acc: 0.5316 - val_loss: 2.2637 - val_acc: 0.4355\n",
            "Epoch 76/100\n",
            "250/250 [==============================] - 27s 106ms/step - loss: 1.6569 - acc: 0.5341 - val_loss: 2.3528 - val_acc: 0.4244\n",
            "Epoch 77/100\n",
            "250/250 [==============================] - 26s 106ms/step - loss: 1.6573 - acc: 0.5350 - val_loss: 2.4049 - val_acc: 0.4177\n",
            "Epoch 78/100\n",
            "250/250 [==============================] - 26s 106ms/step - loss: 1.6288 - acc: 0.5396 - val_loss: 2.2389 - val_acc: 0.4439\n",
            "Epoch 79/100\n",
            "250/250 [==============================] - 26s 106ms/step - loss: 1.6303 - acc: 0.5393 - val_loss: 2.2961 - val_acc: 0.4327\n",
            "Epoch 80/100\n",
            "250/250 [==============================] - 26s 105ms/step - loss: 1.6260 - acc: 0.5402 - val_loss: 2.3627 - val_acc: 0.4197\n",
            "Epoch 81/100\n",
            "250/250 [==============================] - 26s 104ms/step - loss: 1.6042 - acc: 0.5479 - val_loss: 2.2524 - val_acc: 0.4440\n",
            "Epoch 82/100\n",
            "250/250 [==============================] - 26s 103ms/step - loss: 1.6106 - acc: 0.5453 - val_loss: 2.3206 - val_acc: 0.4329\n",
            "Epoch 83/100\n",
            "250/250 [==============================] - 26s 103ms/step - loss: 1.6015 - acc: 0.5447 - val_loss: 2.3258 - val_acc: 0.4279\n",
            "Epoch 84/100\n",
            "250/250 [==============================] - 26s 103ms/step - loss: 1.5934 - acc: 0.5475 - val_loss: 2.3221 - val_acc: 0.4313\n",
            "Epoch 85/100\n",
            "250/250 [==============================] - 26s 102ms/step - loss: 1.5785 - acc: 0.5531 - val_loss: 2.2742 - val_acc: 0.4371\n",
            "Epoch 86/100\n",
            "250/250 [==============================] - 26s 104ms/step - loss: 1.5714 - acc: 0.5532 - val_loss: 2.2680 - val_acc: 0.4399\n",
            "Epoch 87/100\n",
            "250/250 [==============================] - 26s 103ms/step - loss: 1.5668 - acc: 0.5531 - val_loss: 2.2476 - val_acc: 0.4462\n",
            "Epoch 88/100\n",
            "250/250 [==============================] - 26s 103ms/step - loss: 1.5616 - acc: 0.5571 - val_loss: 2.2489 - val_acc: 0.4441\n",
            "Epoch 89/100\n",
            "250/250 [==============================] - 26s 104ms/step - loss: 1.5569 - acc: 0.5576 - val_loss: 2.4126 - val_acc: 0.4272\n",
            "Epoch 90/100\n",
            "250/250 [==============================] - 26s 104ms/step - loss: 1.5535 - acc: 0.5587 - val_loss: 2.3742 - val_acc: 0.4217\n",
            "Epoch 91/100\n",
            "250/250 [==============================] - 26s 103ms/step - loss: 1.5344 - acc: 0.5639 - val_loss: 2.1891 - val_acc: 0.4470\n",
            "Epoch 92/100\n",
            "250/250 [==============================] - 26s 104ms/step - loss: 1.5387 - acc: 0.5618 - val_loss: 2.2324 - val_acc: 0.4438\n",
            "Epoch 93/100\n",
            "250/250 [==============================] - 26s 103ms/step - loss: 1.5174 - acc: 0.5665 - val_loss: 2.2826 - val_acc: 0.4427\n",
            "Epoch 94/100\n",
            "250/250 [==============================] - 26s 103ms/step - loss: 1.5164 - acc: 0.5679 - val_loss: 2.3235 - val_acc: 0.4368\n",
            "Epoch 95/100\n",
            "250/250 [==============================] - 26s 104ms/step - loss: 1.5054 - acc: 0.5713 - val_loss: 2.3648 - val_acc: 0.4219\n",
            "Epoch 96/100\n",
            "250/250 [==============================] - 26s 104ms/step - loss: 1.5067 - acc: 0.5691 - val_loss: 2.3412 - val_acc: 0.4334\n",
            "Epoch 97/100\n",
            "250/250 [==============================] - 26s 103ms/step - loss: 1.4978 - acc: 0.5727 - val_loss: 2.1778 - val_acc: 0.4562\n",
            "Epoch 98/100\n",
            "250/250 [==============================] - 26s 106ms/step - loss: 1.4954 - acc: 0.5741 - val_loss: 2.3489 - val_acc: 0.4285\n",
            "Epoch 99/100\n",
            "250/250 [==============================] - 26s 104ms/step - loss: 1.4893 - acc: 0.5728 - val_loss: 2.4345 - val_acc: 0.4242\n",
            "Epoch 100/100\n",
            "250/250 [==============================] - 26s 103ms/step - loss: 1.4954 - acc: 0.5713 - val_loss: 2.2031 - val_acc: 0.4532\n"
          ],
          "name": "stdout"
        }
      ]
    },
    {
      "cell_type": "code",
      "metadata": {
        "id": "JTEGhOaJKnB5",
        "outputId": "ff5c2884-6d13-44ea-fcde-d025ec66e4c0",
        "colab": {
          "base_uri": "https://localhost:8080/",
          "height": 121
        }
      },
      "source": [
        "\n",
        "y_pred=vgg_net_model.predict(x_test)\n",
        "# tf.one_hot(y_pred)\n",
        "# y_pred=np.where(y_pred[0]=max(y_pred[0],1,0))\n",
        "y_pred_proc=np.zeros((10000,100))\n",
        "for i in range(0,10000):\n",
        "    y_pred_proc[i][np.argmax(y_pred[i])]=1\n",
        "print(\"Precision: \"+ str(precision_score(y_test_proc, y_pred_proc, average='weighted')))\n",
        "print(\"Recall: \"+ str(recall_score(y_test_proc, y_pred_proc, average='weighted')))\n",
        "print(\"Accuracy: \"+ str(accuracy_score(y_test_proc, y_pred_proc)))"
      ],
      "execution_count": null,
      "outputs": [
        {
          "output_type": "stream",
          "text": [
            "Precision: 0.00039881187513137573\n",
            "Recall: 0.0108\n",
            "Accuracy: 0.0108\n"
          ],
          "name": "stdout"
        },
        {
          "output_type": "stream",
          "text": [
            "/usr/local/lib/python3.6/dist-packages/sklearn/metrics/_classification.py:1272: UndefinedMetricWarning: Precision is ill-defined and being set to 0.0 in labels with no predicted samples. Use `zero_division` parameter to control this behavior.\n",
            "  _warn_prf(average, modifier, msg_start, len(result))\n"
          ],
          "name": "stderr"
        }
      ]
    },
    {
      "cell_type": "code",
      "metadata": {
        "id": "seiMcUtKgNsh",
        "outputId": "49d8b9bb-7c6e-42fb-9191-bcb4f53b8689",
        "colab": {
          "base_uri": "https://localhost:8080/",
          "height": 286
        }
      },
      "source": [
        "plt.plot(output.history['acc'])\n",
        "plt.plot(output.history['val_acc'])\n",
        "plt.legend(['Training Accuracy','Testing Accuracy'])\n"
      ],
      "execution_count": null,
      "outputs": [
        {
          "output_type": "execute_result",
          "data": {
            "text/plain": [
              "<matplotlib.legend.Legend at 0x7f0f9122f1d0>"
            ]
          },
          "metadata": {
            "tags": []
          },
          "execution_count": 15
        },
        {
          "output_type": "display_data",
          "data": {
            "image/png": "[encoded data removed]",
            "text/plain": [
              "<Figure size 432x288 with 1 Axes>"
            ]
          },
          "metadata": {
            "tags": [],
            "needs_background": "light"
          }
        }
      ]
    },
    {
      "cell_type": "code",
      "metadata": {
        "id": "uLY3-wt-gP96",
        "outputId": "2131e3f7-be5c-4e1d-d910-b8212acbfe32",
        "colab": {
          "base_uri": "https://localhost:8080/",
          "height": 282
        }
      },
      "source": [
        "plt.plot(output.history['loss'])\n",
        "plt.plot(output.history['val_loss'])\n",
        "plt.legend(['Training loss','Testing loss'])"
      ],
      "execution_count": null,
      "outputs": [
        {
          "output_type": "execute_result",
          "data": {
            "text/plain": [
              "<matplotlib.legend.Legend at 0x7f0f912a54e0>"
            ]
          },
          "metadata": {
            "tags": []
          },
          "execution_count": 16
        },
        {
          "output_type": "display_data",
          "data": {
            "image/png": "[encoded data removed]",
            "text/plain": [
              "<Figure size 432x288 with 1 Axes>"
            ]
          },
          "metadata": {
            "tags": [],
            "needs_background": "light"
          }
        }
      ]
    },
    {
      "cell_type": "code",
      "metadata": {
        "id": "b0RuJPDdgSBs",
        "outputId": "7082d63d-29c8-444a-d39e-b8049593e14a",
        "colab": {
          "base_uri": "https://localhost:8080/",
          "height": 101
        }
      },
      "source": [
        "import tensorflow as tf\n",
        "from tensorflow import keras\n",
        "from tensorflow.keras import layers\n",
        "import numpy as np\n",
        "import datetime as dt\n",
        "from keras.models import Sequential\n",
        "from keras.layers import Dense, Dropout, Flatten\n",
        "from keras.layers import Conv2D, MaxPooling2D,Add,Activation\n",
        "from keras import backend as K\n",
        "import matplotlib.pyplot as plt\n",
        "from keras.preprocessing.image import ImageDataGenerator\n",
        "from sklearn.metrics import confusion_matrix, precision_score, recall_score, accuracy_score\n",
        "\n",
        "\n",
        "(x_train, y_train), (x_test, y_test) = tf.keras.datasets.cifar100.load_data()\n",
        "\n",
        "y_proc=np.zeros((50000,100))\n",
        "for i in range(0,50000):\n",
        "    y_proc[i][y_train[i][0]]=1\n",
        "y_test_proc=np.zeros((10000,100))\n",
        "for i in range(0,10000):\n",
        "    y_test_proc[i][y_test[i][0]]=1\n",
        "y_proc.shape\n",
        "input_shape=(32,32,3)\n",
        "y_test_proc[0]\n",
        "x_train=x_train.astype('float')/255\n",
        "x_test=x_test.astype('float')/255\n",
        "y_test_proc.shape\n",
        "\n",
        "inputs = keras.Input(shape=input_shape)\n",
        "x = layers.Conv2D(32, 3, activation='elu')(inputs)\n",
        "x=layers.Dropout(0.01)(x)\n",
        "x = layers.Conv2D(32, 3, activation='relu')(x)\n",
        "x = layers.MaxPool2D((3,3),strides=(1,1), padding='same')(x)\n",
        "x = layers.Conv2D(32, 3, activation='elu')(x)\n",
        "x=layers.Dropout(0.01)(x)\n",
        "x = layers.Conv2D(32, 3, activation='relu')(x)\n",
        "x = layers.MaxPool2D((3,3),strides=(1,1), padding='same')(x)\n",
        "x = layers.Conv2D(64, 3, activation='elu')(x)\n",
        "x = layers.Conv2D(64, 3, activation='elu')(x)\n",
        "x=layers.Dropout(0.01)(x)\n",
        "x = layers.Conv2D(64, 3, activation='relu')(x)\n",
        "x = layers.MaxPool2D((3,3),strides=(1,1), padding='same')(x)\n",
        "x = layers.Conv2D(64, 3, activation='elu')(x)\n",
        "x = layers.Conv2D(64, 3, activation='elu')(x)\n",
        "x=layers.Dropout(0.01)(x)\n",
        "x = layers.Conv2D(64, 3, activation='relu')(x)\n",
        "x = layers.MaxPool2D((3,3),strides=(1,1), padding='same')(x)\n",
        "x = layers.Conv2D(128, 3, activation='elu')(x)\n",
        "x = layers.Conv2D(128, 3, activation='elu')(x)\n",
        "x = layers.Conv2D(128, 3, activation='relu')(x)\n",
        "x = layers.MaxPool2D((3,3),strides=(1,1), padding='same')(x)\n",
        "x=layers.Flatten()(x)\n",
        "\n",
        "x = layers.Dense(256, activation='elu')(x)\n",
        "x = layers.Dense(256, activation='elu')(x)\n",
        "x = layers.Dense(256, activation='relu')(x)\n",
        "\n",
        "outputs = layers.Dense(100, activation='softmax')(x)\n",
        "\n",
        "\n",
        "vgg_net_model = keras.Model(inputs, outputs)\n",
        "vgg_net_model.load_weights('../weights/vgg_sgd_dropout.hdf5')\n",
        "\n",
        "y_pred=vgg_net_model.predict(x_test)\n",
        "# tf.one_hot(y_pred)\n",
        "# y_pred=np.where(y_pred[0]=max(y_pred[0],1,0))\n",
        "y_pred_proc=np.zeros((10000,100))\n",
        "for i in range(0,10000):\n",
        "    y_pred_proc[i][np.argmax(y_pred[i])]=1\n",
        "print(\"Precision: \"+ str(precision_score(y_test_proc, y_pred_proc, average='weighted')))\n",
        "print(\"Recall: \"+ str(recall_score(y_test_proc, y_pred_proc, average='weighted')))\n",
        "print(\"Accuracy: \"+ str(accuracy_score(y_test_proc, y_pred_proc)))"
      ],
      "execution_count": 1,
      "outputs": [
        {
          "output_type": "stream",
          "text": [
            "Downloading data from https://www.cs.toronto.edu/~kriz/cifar-100-python.tar.gz\n",
            "169009152/169001437 [==============================] - 6s 0us/step\n",
            "Precision: 0.46601310241923477\n",
            "Recall: 0.4562\n",
            "Accuracy: 0.4562\n"
          ],
          "name": "stdout"
        }
      ]
    }
  ]
}