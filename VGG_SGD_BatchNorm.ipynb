{
  "nbformat": 4,
  "nbformat_minor": 0,
  "metadata": {
    "colab": {
      "name": "VGG_SGD_BatchNorm.ipynb",
      "provenance": [],
      "collapsed_sections": []
    },
    "kernelspec": {
      "name": "python3",
      "display_name": "Python 3"
    },
    "accelerator": "GPU"
  },
  "cells": [
    {
      "cell_type": "code",
      "metadata": {
        "id": "DHxExJHmHrOi"
      },
      "source": [
        "import tensorflow as tf\n",
        "from tensorflow import keras\n",
        "from tensorflow.keras import layers\n",
        "import numpy as np\n",
        "import datetime as dt\n",
        "from keras.models import Sequential\n",
        "from keras.layers import Dense, Dropout, Flatten\n",
        "from keras.layers import Conv2D, MaxPooling2D,Add,Activation\n",
        "from keras import backend as K\n",
        "import matplotlib.pyplot as plt\n",
        "from keras.preprocessing.image import ImageDataGenerator\n",
        "from sklearn.metrics import confusion_matrix, precision_score, recall_score, accuracy_score\n"
      ],
      "execution_count": null,
      "outputs": []
    },
    {
      "cell_type": "code",
      "metadata": {
        "id": "EdglliqVIpcH",
        "outputId": "2d7393e2-799d-438a-a5d3-b0b07a2f12aa",
        "colab": {
          "base_uri": "https://localhost:8080/",
          "height": 50
        }
      },
      "source": [
        "(x_train, y_train), (x_test, y_test) = tf.keras.datasets.cifar100.load_data()"
      ],
      "execution_count": null,
      "outputs": [
        {
          "output_type": "stream",
          "text": [
            "Downloading data from https://www.cs.toronto.edu/~kriz/cifar-100-python.tar.gz\n",
            "169009152/169001437 [==============================] - 9s 0us/step\n"
          ],
          "name": "stdout"
        }
      ]
    },
    {
      "cell_type": "code",
      "metadata": {
        "id": "3xOtuKNpIvmm",
        "outputId": "e90d73a1-6132-4a37-bc94-7a339ee2639c",
        "colab": {
          "base_uri": "https://localhost:8080/",
          "height": 34
        }
      },
      "source": [
        "y_proc=np.zeros((50000,100))\n",
        "for i in range(0,50000):\n",
        "    y_proc[i][y_train[i][0]]=1\n",
        "y_test_proc=np.zeros((10000,100))\n",
        "for i in range(0,10000):\n",
        "    y_test_proc[i][y_test[i][0]]=1\n",
        "y_proc.shape\n",
        "input_shape=(32,32,3)\n",
        "y_test_proc[0]\n",
        "x_train=x_train.astype('float')/255\n",
        "x_test=x_test.astype('float')/255\n",
        "y_test_proc.shape"
      ],
      "execution_count": null,
      "outputs": [
        {
          "output_type": "execute_result",
          "data": {
            "text/plain": [
              "(10000, 100)"
            ]
          },
          "metadata": {
            "tags": []
          },
          "execution_count": 3
        }
      ]
    },
    {
      "cell_type": "code",
      "metadata": {
        "id": "kjNVHplzIxNh"
      },
      "source": [
        "datagen = ImageDataGenerator(\n",
        "    featurewise_center=False,  # set input mean to 0 over the dataset\n",
        "    samplewise_center=False,  # set each sample mean to 0\n",
        "    featurewise_std_normalization=False,  # divide inputs by std of the dataset\n",
        "    samplewise_std_normalization=False,  # divide each input by its std\n",
        "    zca_whitening=False,  # apply ZCA whitening\n",
        "    rotation_range=15,  # randomly rotate images in the range (degrees, 0 to 180)\n",
        "    width_shift_range=0.1,  # randomly shift images horizontally (fraction of total width)\n",
        "    height_shift_range=0.1,  # randomly shift images vertically (fraction of total height)\n",
        "    horizontal_flip=True,  # randomly flip images\n",
        "    vertical_flip=False)  # randomly flip images\n",
        "# (std, mean, and principal components if ZCA whitening is applied).\n",
        "datagen.fit(x_train)"
      ],
      "execution_count": null,
      "outputs": []
    },
    {
      "cell_type": "code",
      "metadata": {
        "id": "Bwee_Z5zIy4v"
      },
      "source": [
        "inputs = keras.Input(shape=input_shape)\n",
        "x = layers.Conv2D(32, 3, activation='elu')(inputs)\n",
        "x = layers.Conv2D(32, 3, activation='relu')(x)\n",
        "x=layers.BatchNormalization()(x)\n",
        "x = layers.MaxPool2D((3,3),strides=(1,1), padding='same')(x)\n",
        "x = layers.Conv2D(32, 3, activation='elu')(x)\n",
        "x = layers.Conv2D(32, 3, activation='relu')(x)\n",
        "x=layers.BatchNormalization()(x)\n",
        "x = layers.MaxPool2D((3,3),strides=(1,1), padding='same')(x)\n",
        "x = layers.Conv2D(64, 3, activation='elu')(x)\n",
        "x = layers.Conv2D(64, 3, activation='elu')(x)\n",
        "x = layers.Conv2D(64, 3, activation='relu')(x)\n",
        "x=layers.BatchNormalization()(x)\n",
        "x = layers.MaxPool2D((3,3),strides=(1,1), padding='same')(x)\n",
        "x = layers.Conv2D(64, 3, activation='elu')(x)\n",
        "x = layers.Conv2D(64, 3, activation='elu')(x)\n",
        "x = layers.Conv2D(64, 3, activation='relu')(x)\n",
        "x=layers.BatchNormalization()(x)\n",
        "x = layers.MaxPool2D((3,3),strides=(1,1), padding='same')(x)\n",
        "x = layers.Conv2D(128, 3, activation='elu')(x)\n",
        "x = layers.Conv2D(128, 3, activation='elu')(x)\n",
        "x = layers.Conv2D(128, 3, activation='relu')(x)\n",
        "x=layers.BatchNormalization()(x)\n",
        "x = layers.MaxPool2D((3,3),strides=(1,1), padding='same')(x)\n",
        "x=layers.Flatten()(x)\n",
        "\n",
        "x = layers.Dense(256, activation='elu')(x)\n",
        "x = layers.Dense(256, activation='elu')(x)\n",
        "x = layers.Dense(256, activation='relu')(x)\n",
        "\n",
        "outputs = layers.Dense(100, activation='softmax')(x)\n",
        "\n",
        "\n",
        "vgg_net_model = keras.Model(inputs, outputs)"
      ],
      "execution_count": null,
      "outputs": []
    },
    {
      "cell_type": "code",
      "metadata": {
        "id": "b8_otLGWKM43",
        "outputId": "616c7b30-bc20-4efd-fe8c-372678612d4a",
        "colab": {
          "base_uri": "https://localhost:8080/",
          "height": 1000
        }
      },
      "source": [
        "vgg_net_model.summary()"
      ],
      "execution_count": null,
      "outputs": [
        {
          "output_type": "stream",
          "text": [
            "Model: \"functional_1\"\n",
            "_________________________________________________________________\n",
            "Layer (type)                 Output Shape              Param #   \n",
            "=================================================================\n",
            "input_1 (InputLayer)         [(None, 32, 32, 3)]       0         \n",
            "_________________________________________________________________\n",
            "conv2d (Conv2D)              (None, 30, 30, 32)        896       \n",
            "_________________________________________________________________\n",
            "conv2d_1 (Conv2D)            (None, 28, 28, 32)        9248      \n",
            "_________________________________________________________________\n",
            "batch_normalization (BatchNo (None, 28, 28, 32)        128       \n",
            "_________________________________________________________________\n",
            "max_pooling2d (MaxPooling2D) (None, 28, 28, 32)        0         \n",
            "_________________________________________________________________\n",
            "conv2d_2 (Conv2D)            (None, 26, 26, 32)        9248      \n",
            "_________________________________________________________________\n",
            "conv2d_3 (Conv2D)            (None, 24, 24, 32)        9248      \n",
            "_________________________________________________________________\n",
            "batch_normalization_1 (Batch (None, 24, 24, 32)        128       \n",
            "_________________________________________________________________\n",
            "max_pooling2d_1 (MaxPooling2 (None, 24, 24, 32)        0         \n",
            "_________________________________________________________________\n",
            "conv2d_4 (Conv2D)            (None, 22, 22, 64)        18496     \n",
            "_________________________________________________________________\n",
            "conv2d_5 (Conv2D)            (None, 20, 20, 64)        36928     \n",
            "_________________________________________________________________\n",
            "conv2d_6 (Conv2D)            (None, 18, 18, 64)        36928     \n",
            "_________________________________________________________________\n",
            "batch_normalization_2 (Batch (None, 18, 18, 64)        256       \n",
            "_________________________________________________________________\n",
            "max_pooling2d_2 (MaxPooling2 (None, 18, 18, 64)        0         \n",
            "_________________________________________________________________\n",
            "conv2d_7 (Conv2D)            (None, 16, 16, 64)        36928     \n",
            "_________________________________________________________________\n",
            "conv2d_8 (Conv2D)            (None, 14, 14, 64)        36928     \n",
            "_________________________________________________________________\n",
            "conv2d_9 (Conv2D)            (None, 12, 12, 64)        36928     \n",
            "_________________________________________________________________\n",
            "batch_normalization_3 (Batch (None, 12, 12, 64)        256       \n",
            "_________________________________________________________________\n",
            "max_pooling2d_3 (MaxPooling2 (None, 12, 12, 64)        0         \n",
            "_________________________________________________________________\n",
            "conv2d_10 (Conv2D)           (None, 10, 10, 128)       73856     \n",
            "_________________________________________________________________\n",
            "conv2d_11 (Conv2D)           (None, 8, 8, 128)         147584    \n",
            "_________________________________________________________________\n",
            "conv2d_12 (Conv2D)           (None, 6, 6, 128)         147584    \n",
            "_________________________________________________________________\n",
            "batch_normalization_4 (Batch (None, 6, 6, 128)         512       \n",
            "_________________________________________________________________\n",
            "max_pooling2d_4 (MaxPooling2 (None, 6, 6, 128)         0         \n",
            "_________________________________________________________________\n",
            "flatten (Flatten)            (None, 4608)              0         \n",
            "_________________________________________________________________\n",
            "dense (Dense)                (None, 256)               1179904   \n",
            "_________________________________________________________________\n",
            "dense_1 (Dense)              (None, 256)               65792     \n",
            "_________________________________________________________________\n",
            "dense_2 (Dense)              (None, 256)               65792     \n",
            "_________________________________________________________________\n",
            "dense_3 (Dense)              (None, 100)               25700     \n",
            "=================================================================\n",
            "Total params: 1,939,268\n",
            "Trainable params: 1,938,628\n",
            "Non-trainable params: 640\n",
            "_________________________________________________________________\n"
          ],
          "name": "stdout"
        }
      ]
    },
    {
      "cell_type": "code",
      "metadata": {
        "id": "9iCKoHIdKQPm",
        "outputId": "7df622ad-e5e6-4eeb-9b1b-16e1ed917d29",
        "colab": {
          "base_uri": "https://localhost:8080/",
          "height": 1000
        }
      },
      "source": [
        "%load_ext tensorboard\n",
        "tensor_board = tf.keras.callbacks.TensorBoard(log_dir='tensorboard',histogram_freq=1)\n",
        "vgg_net_model.compile(optimizer=keras.optimizers.SGD(lr=0.01,momentum=0.9,clipvalue=0.7,clipnorm=0.7),\n",
        "              loss='categorical_crossentropy',\n",
        "              metrics=['acc'])\n",
        "callback = tf.keras.callbacks.EarlyStopping(monitor='loss', patience=3,min_delta=0.0001)\n",
        "model_checkpoint_callback = tf.keras.callbacks.ModelCheckpoint(\n",
        "    filepath='vgg_sgd_batchnorm.hdf5',\n",
        "    save_weights_only=True,\n",
        "    monitor='val_acc',\n",
        "    mode='max',\n",
        "    save_best_only=True)\n",
        "# vgg_net_model.fit(x_train,y_proc,batch_size=200,validation_data=(x_test,y_test_proc),epochs=50,callbacks=[callback,model_checkpoint_callback])\n",
        "output=vgg_net_model.fit_generator(datagen.flow(x_train,y_proc,batch_size = 200), epochs = 100, validation_data = (x_test,y_test_proc),callbacks = [tensor_board,callback,model_checkpoint_callback])"
      ],
      "execution_count": null,
      "outputs": [
        {
          "output_type": "stream",
          "text": [
            "The tensorboard extension is already loaded. To reload it, use:\n",
            "  %reload_ext tensorboard\n",
            "Epoch 1/100\n",
            "  1/250 [..............................] - ETA: 0s - loss: 5.0270 - acc: 0.0050WARNING:tensorflow:From /usr/local/lib/python3.6/dist-packages/tensorflow/python/ops/summary_ops_v2.py:1277: stop (from tensorflow.python.eager.profiler) is deprecated and will be removed after 2020-07-01.\n",
            "Instructions for updating:\n",
            "use `tf.profiler.experimental.stop` instead.\n",
            "  2/250 [..............................] - ETA: 31s - loss: 4.9738 - acc: 0.0050WARNING:tensorflow:Callbacks method `on_train_batch_end` is slow compared to the batch time (batch time: 0.0913s vs `on_train_batch_end` time: 0.1608s). Check your callbacks.\n",
            "250/250 [==============================] - 26s 105ms/step - loss: 4.0890 - acc: 0.0834 - val_loss: 4.1232 - val_acc: 0.0727\n",
            "Epoch 2/100\n",
            "250/250 [==============================] - 26s 104ms/step - loss: 3.6073 - acc: 0.1475 - val_loss: 3.7269 - val_acc: 0.1420\n",
            "Epoch 3/100\n",
            "250/250 [==============================] - 26s 104ms/step - loss: 3.3714 - acc: 0.1877 - val_loss: 3.3478 - val_acc: 0.1952\n",
            "Epoch 4/100\n",
            "250/250 [==============================] - 26s 103ms/step - loss: 3.1994 - acc: 0.2133 - val_loss: 3.9982 - val_acc: 0.1189\n",
            "Epoch 5/100\n",
            "250/250 [==============================] - 26s 104ms/step - loss: 3.0609 - acc: 0.2440 - val_loss: 3.4438 - val_acc: 0.1838\n",
            "Epoch 6/100\n",
            "250/250 [==============================] - 26s 104ms/step - loss: 2.9500 - acc: 0.2629 - val_loss: 3.3842 - val_acc: 0.2055\n",
            "Epoch 7/100\n",
            "250/250 [==============================] - 26s 103ms/step - loss: 2.8418 - acc: 0.2811 - val_loss: 3.2298 - val_acc: 0.2197\n",
            "Epoch 8/100\n",
            "250/250 [==============================] - 26s 104ms/step - loss: 2.7616 - acc: 0.2983 - val_loss: 3.0274 - val_acc: 0.2523\n",
            "Epoch 9/100\n",
            "250/250 [==============================] - 26s 104ms/step - loss: 2.6838 - acc: 0.3125 - val_loss: 2.9231 - val_acc: 0.2771\n",
            "Epoch 10/100\n",
            "250/250 [==============================] - 26s 104ms/step - loss: 2.6278 - acc: 0.3230 - val_loss: 2.8467 - val_acc: 0.2846\n",
            "Epoch 11/100\n",
            "250/250 [==============================] - 26s 104ms/step - loss: 2.5526 - acc: 0.3388 - val_loss: 3.1943 - val_acc: 0.2432\n",
            "Epoch 12/100\n",
            "250/250 [==============================] - 26s 105ms/step - loss: 2.4963 - acc: 0.3508 - val_loss: 2.9233 - val_acc: 0.2759\n",
            "Epoch 13/100\n",
            "250/250 [==============================] - 26s 104ms/step - loss: 2.4495 - acc: 0.3606 - val_loss: 2.7147 - val_acc: 0.3238\n",
            "Epoch 14/100\n",
            "250/250 [==============================] - 26s 106ms/step - loss: 2.3995 - acc: 0.3688 - val_loss: 2.9919 - val_acc: 0.2807\n",
            "Epoch 15/100\n",
            "250/250 [==============================] - 26s 105ms/step - loss: 2.3610 - acc: 0.3788 - val_loss: 2.6183 - val_acc: 0.3354\n",
            "Epoch 16/100\n",
            "250/250 [==============================] - 26s 105ms/step - loss: 2.3108 - acc: 0.3918 - val_loss: 2.5699 - val_acc: 0.3488\n",
            "Epoch 17/100\n",
            "250/250 [==============================] - 26s 105ms/step - loss: 2.2690 - acc: 0.4009 - val_loss: 2.7198 - val_acc: 0.3215\n",
            "Epoch 18/100\n",
            "250/250 [==============================] - 26s 105ms/step - loss: 2.2407 - acc: 0.4043 - val_loss: 2.7043 - val_acc: 0.3290\n",
            "Epoch 19/100\n",
            "250/250 [==============================] - 26s 105ms/step - loss: 2.2054 - acc: 0.4134 - val_loss: 3.1109 - val_acc: 0.2799\n",
            "Epoch 20/100\n",
            "250/250 [==============================] - 26s 105ms/step - loss: 2.1751 - acc: 0.4167 - val_loss: 2.5514 - val_acc: 0.3601\n",
            "Epoch 21/100\n",
            "250/250 [==============================] - 26s 104ms/step - loss: 2.1492 - acc: 0.4225 - val_loss: 2.6546 - val_acc: 0.3358\n",
            "Epoch 22/100\n",
            "250/250 [==============================] - 26s 105ms/step - loss: 2.1211 - acc: 0.4309 - val_loss: 2.3713 - val_acc: 0.3797\n",
            "Epoch 23/100\n",
            "250/250 [==============================] - 26s 105ms/step - loss: 2.0975 - acc: 0.4339 - val_loss: 2.7794 - val_acc: 0.3217\n",
            "Epoch 24/100\n",
            "250/250 [==============================] - 26s 105ms/step - loss: 2.0765 - acc: 0.4402 - val_loss: 2.4775 - val_acc: 0.3668\n",
            "Epoch 25/100\n",
            "250/250 [==============================] - 26s 104ms/step - loss: 2.0371 - acc: 0.4519 - val_loss: 2.3980 - val_acc: 0.3912\n",
            "Epoch 26/100\n",
            "250/250 [==============================] - 26s 105ms/step - loss: 2.0188 - acc: 0.4509 - val_loss: 2.3591 - val_acc: 0.3907\n",
            "Epoch 27/100\n",
            "250/250 [==============================] - 26s 104ms/step - loss: 1.9932 - acc: 0.4580 - val_loss: 2.6961 - val_acc: 0.3466\n",
            "Epoch 28/100\n",
            "250/250 [==============================] - 26s 104ms/step - loss: 1.9626 - acc: 0.4666 - val_loss: 2.4282 - val_acc: 0.3882\n",
            "Epoch 29/100\n",
            "250/250 [==============================] - 26s 106ms/step - loss: 1.9515 - acc: 0.4677 - val_loss: 2.3676 - val_acc: 0.3944\n",
            "Epoch 30/100\n",
            "250/250 [==============================] - 27s 106ms/step - loss: 1.9339 - acc: 0.4706 - val_loss: 2.1982 - val_acc: 0.4229\n",
            "Epoch 31/100\n",
            "250/250 [==============================] - 26s 105ms/step - loss: 1.9029 - acc: 0.4786 - val_loss: 2.4099 - val_acc: 0.3983\n",
            "Epoch 32/100\n",
            "250/250 [==============================] - 26s 105ms/step - loss: 1.8849 - acc: 0.4829 - val_loss: 2.5619 - val_acc: 0.3691\n",
            "Epoch 33/100\n",
            "250/250 [==============================] - 27s 106ms/step - loss: 1.8754 - acc: 0.4843 - val_loss: 2.4598 - val_acc: 0.3838\n",
            "Epoch 34/100\n",
            "250/250 [==============================] - 26s 106ms/step - loss: 1.8502 - acc: 0.4897 - val_loss: 2.6433 - val_acc: 0.3485\n",
            "Epoch 35/100\n",
            "250/250 [==============================] - 27s 106ms/step - loss: 1.8295 - acc: 0.4963 - val_loss: 2.5546 - val_acc: 0.3755\n",
            "Epoch 36/100\n",
            "250/250 [==============================] - 27s 106ms/step - loss: 1.8138 - acc: 0.4976 - val_loss: 2.5144 - val_acc: 0.3760\n",
            "Epoch 37/100\n",
            "250/250 [==============================] - 27s 107ms/step - loss: 1.8006 - acc: 0.4999 - val_loss: 2.3815 - val_acc: 0.4050\n",
            "Epoch 38/100\n",
            "250/250 [==============================] - 27s 106ms/step - loss: 1.7714 - acc: 0.5086 - val_loss: 2.4588 - val_acc: 0.3948\n",
            "Epoch 39/100\n",
            "250/250 [==============================] - 27s 106ms/step - loss: 1.7545 - acc: 0.5131 - val_loss: 2.3526 - val_acc: 0.4051\n",
            "Epoch 40/100\n",
            "250/250 [==============================] - 26s 105ms/step - loss: 1.7519 - acc: 0.5124 - val_loss: 2.3475 - val_acc: 0.4074\n",
            "Epoch 41/100\n",
            "250/250 [==============================] - 26s 106ms/step - loss: 1.7321 - acc: 0.5172 - val_loss: 2.5337 - val_acc: 0.3870\n",
            "Epoch 42/100\n",
            "250/250 [==============================] - 27s 106ms/step - loss: 1.7076 - acc: 0.5229 - val_loss: 2.5568 - val_acc: 0.3838\n",
            "Epoch 43/100\n",
            "250/250 [==============================] - 26s 105ms/step - loss: 1.6906 - acc: 0.5301 - val_loss: 2.4073 - val_acc: 0.4078\n",
            "Epoch 44/100\n",
            "250/250 [==============================] - 26s 105ms/step - loss: 1.6915 - acc: 0.5263 - val_loss: 2.3860 - val_acc: 0.4017\n",
            "Epoch 45/100\n",
            "250/250 [==============================] - 26s 105ms/step - loss: 1.6682 - acc: 0.5330 - val_loss: 2.5777 - val_acc: 0.3771\n",
            "Epoch 46/100\n",
            "250/250 [==============================] - 26s 105ms/step - loss: 1.6522 - acc: 0.5366 - val_loss: 2.3606 - val_acc: 0.4128\n",
            "Epoch 47/100\n",
            "250/250 [==============================] - 26s 105ms/step - loss: 1.6473 - acc: 0.5347 - val_loss: 2.3589 - val_acc: 0.4192\n",
            "Epoch 48/100\n",
            "250/250 [==============================] - 26s 105ms/step - loss: 1.6290 - acc: 0.5427 - val_loss: 2.2978 - val_acc: 0.4158\n",
            "Epoch 49/100\n",
            "250/250 [==============================] - 27s 106ms/step - loss: 1.6179 - acc: 0.5445 - val_loss: 2.2453 - val_acc: 0.4338\n",
            "Epoch 50/100\n",
            "250/250 [==============================] - 26s 106ms/step - loss: 1.6030 - acc: 0.5454 - val_loss: 2.1946 - val_acc: 0.4478\n",
            "Epoch 51/100\n",
            "250/250 [==============================] - 26s 106ms/step - loss: 1.5943 - acc: 0.5499 - val_loss: 2.1833 - val_acc: 0.4479\n",
            "Epoch 52/100\n",
            "250/250 [==============================] - 26s 105ms/step - loss: 1.5777 - acc: 0.5554 - val_loss: 2.4653 - val_acc: 0.3937\n",
            "Epoch 53/100\n",
            "250/250 [==============================] - 26s 106ms/step - loss: 1.5693 - acc: 0.5549 - val_loss: 2.4439 - val_acc: 0.4097\n",
            "Epoch 54/100\n",
            "250/250 [==============================] - 26s 106ms/step - loss: 1.5566 - acc: 0.5587 - val_loss: 2.2808 - val_acc: 0.4308\n",
            "Epoch 55/100\n",
            "250/250 [==============================] - 26s 105ms/step - loss: 1.5381 - acc: 0.5620 - val_loss: 2.3054 - val_acc: 0.4294\n",
            "Epoch 56/100\n",
            "250/250 [==============================] - 26s 105ms/step - loss: 1.5244 - acc: 0.5648 - val_loss: 2.4807 - val_acc: 0.4030\n",
            "Epoch 57/100\n",
            "250/250 [==============================] - 26s 105ms/step - loss: 1.5120 - acc: 0.5676 - val_loss: 2.3756 - val_acc: 0.4152\n",
            "Epoch 58/100\n",
            "250/250 [==============================] - 26s 105ms/step - loss: 1.5051 - acc: 0.5716 - val_loss: 2.3082 - val_acc: 0.4303\n",
            "Epoch 59/100\n",
            "250/250 [==============================] - 26s 105ms/step - loss: 1.4961 - acc: 0.5725 - val_loss: 2.4379 - val_acc: 0.4218\n",
            "Epoch 60/100\n",
            "250/250 [==============================] - 26s 105ms/step - loss: 1.4823 - acc: 0.5796 - val_loss: 2.3433 - val_acc: 0.4224\n",
            "Epoch 61/100\n",
            "250/250 [==============================] - 27s 107ms/step - loss: 1.4669 - acc: 0.5817 - val_loss: 2.3401 - val_acc: 0.4286\n",
            "Epoch 62/100\n",
            "250/250 [==============================] - 27s 106ms/step - loss: 1.4646 - acc: 0.5809 - val_loss: 2.1195 - val_acc: 0.4612\n",
            "Epoch 63/100\n",
            "250/250 [==============================] - 26s 106ms/step - loss: 1.4597 - acc: 0.5790 - val_loss: 2.3595 - val_acc: 0.4322\n",
            "Epoch 64/100\n",
            "250/250 [==============================] - 26s 105ms/step - loss: 1.4397 - acc: 0.5874 - val_loss: 2.3317 - val_acc: 0.4350\n",
            "Epoch 65/100\n",
            "250/250 [==============================] - 26s 105ms/step - loss: 1.4325 - acc: 0.5864 - val_loss: 2.1332 - val_acc: 0.4561\n",
            "Epoch 66/100\n",
            "250/250 [==============================] - 26s 106ms/step - loss: 1.4227 - acc: 0.5917 - val_loss: 2.3840 - val_acc: 0.4236\n",
            "Epoch 67/100\n",
            "250/250 [==============================] - 26s 106ms/step - loss: 1.4105 - acc: 0.5943 - val_loss: 2.2359 - val_acc: 0.4473\n",
            "Epoch 68/100\n",
            "250/250 [==============================] - 26s 105ms/step - loss: 1.4032 - acc: 0.5938 - val_loss: 2.2646 - val_acc: 0.4534\n",
            "Epoch 69/100\n",
            "250/250 [==============================] - 26s 106ms/step - loss: 1.3958 - acc: 0.5979 - val_loss: 2.4017 - val_acc: 0.4227\n",
            "Epoch 70/100\n",
            "250/250 [==============================] - 26s 105ms/step - loss: 1.3831 - acc: 0.6004 - val_loss: 2.3518 - val_acc: 0.4292\n",
            "Epoch 71/100\n",
            "250/250 [==============================] - 26s 105ms/step - loss: 1.3759 - acc: 0.6022 - val_loss: 2.3644 - val_acc: 0.4352\n",
            "Epoch 72/100\n",
            "250/250 [==============================] - 27s 107ms/step - loss: 1.3609 - acc: 0.6057 - val_loss: 2.1748 - val_acc: 0.4637\n",
            "Epoch 73/100\n",
            "250/250 [==============================] - 27s 106ms/step - loss: 1.3514 - acc: 0.6079 - val_loss: 2.2518 - val_acc: 0.4512\n",
            "Epoch 74/100\n",
            "250/250 [==============================] - 26s 106ms/step - loss: 1.3366 - acc: 0.6119 - val_loss: 2.4848 - val_acc: 0.4186\n",
            "Epoch 75/100\n",
            "250/250 [==============================] - 27s 106ms/step - loss: 1.3413 - acc: 0.6084 - val_loss: 2.6683 - val_acc: 0.3890\n",
            "Epoch 76/100\n",
            "250/250 [==============================] - 26s 106ms/step - loss: 1.3219 - acc: 0.6156 - val_loss: 2.3063 - val_acc: 0.4502\n",
            "Epoch 77/100\n",
            "250/250 [==============================] - 26s 105ms/step - loss: 1.3244 - acc: 0.6118 - val_loss: 2.2560 - val_acc: 0.4553\n",
            "Epoch 78/100\n",
            "250/250 [==============================] - 26s 106ms/step - loss: 1.3112 - acc: 0.6161 - val_loss: 2.3121 - val_acc: 0.4406\n",
            "Epoch 79/100\n",
            "250/250 [==============================] - 26s 106ms/step - loss: 1.3051 - acc: 0.6190 - val_loss: 2.3278 - val_acc: 0.4495\n",
            "Epoch 80/100\n",
            "250/250 [==============================] - 26s 105ms/step - loss: 1.2833 - acc: 0.6267 - val_loss: 2.3070 - val_acc: 0.4479\n",
            "Epoch 81/100\n",
            "250/250 [==============================] - 27s 106ms/step - loss: 1.2876 - acc: 0.6245 - val_loss: 2.2504 - val_acc: 0.4588\n",
            "Epoch 82/100\n",
            "250/250 [==============================] - 26s 105ms/step - loss: 1.2616 - acc: 0.6314 - val_loss: 2.3765 - val_acc: 0.4414\n",
            "Epoch 83/100\n",
            "250/250 [==============================] - 27s 106ms/step - loss: 1.2645 - acc: 0.6293 - val_loss: 2.2454 - val_acc: 0.4519\n",
            "Epoch 84/100\n",
            "250/250 [==============================] - 27s 107ms/step - loss: 1.2561 - acc: 0.6324 - val_loss: 2.3255 - val_acc: 0.4463\n",
            "Epoch 85/100\n",
            "250/250 [==============================] - 26s 106ms/step - loss: 1.2438 - acc: 0.6340 - val_loss: 2.3472 - val_acc: 0.4528\n",
            "Epoch 86/100\n",
            "250/250 [==============================] - 26s 105ms/step - loss: 1.2414 - acc: 0.6358 - val_loss: 2.2586 - val_acc: 0.4589\n",
            "Epoch 87/100\n",
            "250/250 [==============================] - 27s 107ms/step - loss: 1.2349 - acc: 0.6383 - val_loss: 2.2144 - val_acc: 0.4656\n",
            "Epoch 88/100\n",
            "250/250 [==============================] - 26s 106ms/step - loss: 1.2226 - acc: 0.6405 - val_loss: 2.3642 - val_acc: 0.4518\n",
            "Epoch 89/100\n",
            "250/250 [==============================] - 26s 106ms/step - loss: 1.2118 - acc: 0.6414 - val_loss: 2.3433 - val_acc: 0.4459\n",
            "Epoch 90/100\n",
            "250/250 [==============================] - 26s 106ms/step - loss: 1.2141 - acc: 0.6410 - val_loss: 2.2444 - val_acc: 0.4655\n",
            "Epoch 91/100\n",
            "250/250 [==============================] - 26s 105ms/step - loss: 1.1979 - acc: 0.6477 - val_loss: 2.3935 - val_acc: 0.4504\n",
            "Epoch 92/100\n",
            "250/250 [==============================] - 26s 106ms/step - loss: 1.1910 - acc: 0.6473 - val_loss: 2.1741 - val_acc: 0.4691\n",
            "Epoch 93/100\n",
            "250/250 [==============================] - 27s 106ms/step - loss: 1.1945 - acc: 0.6478 - val_loss: 2.4196 - val_acc: 0.4491\n",
            "Epoch 94/100\n",
            "250/250 [==============================] - 26s 106ms/step - loss: 1.1851 - acc: 0.6504 - val_loss: 2.5754 - val_acc: 0.4234\n",
            "Epoch 95/100\n",
            "250/250 [==============================] - 27s 106ms/step - loss: 1.1729 - acc: 0.6525 - val_loss: 2.2573 - val_acc: 0.4596\n",
            "Epoch 96/100\n",
            "250/250 [==============================] - 27s 107ms/step - loss: 1.1595 - acc: 0.6542 - val_loss: 2.2787 - val_acc: 0.4594\n",
            "Epoch 97/100\n",
            "250/250 [==============================] - 27s 107ms/step - loss: 1.1664 - acc: 0.6552 - val_loss: 2.2997 - val_acc: 0.4619\n",
            "Epoch 98/100\n",
            "250/250 [==============================] - 26s 106ms/step - loss: 1.1606 - acc: 0.6560 - val_loss: 2.2474 - val_acc: 0.4675\n",
            "Epoch 99/100\n",
            "250/250 [==============================] - 27s 106ms/step - loss: 1.1455 - acc: 0.6599 - val_loss: 2.2575 - val_acc: 0.4634\n",
            "Epoch 100/100\n",
            "250/250 [==============================] - 26s 105ms/step - loss: 1.1379 - acc: 0.6612 - val_loss: 2.3370 - val_acc: 0.4528\n"
          ],
          "name": "stdout"
        }
      ]
    },
    {
      "cell_type": "code",
      "metadata": {
        "id": "JTEGhOaJKnB5",
        "outputId": "0dee14ff-8a10-464e-9d30-9b08d565e3ba",
        "colab": {
          "base_uri": "https://localhost:8080/",
          "height": 67
        }
      },
      "source": [
        "\n",
        "y_pred=vgg_net_model.predict(x_test)\n",
        "# tf.one_hot(y_pred)\n",
        "# y_pred=np.where(y_pred[0]=max(y_pred[0],1,0))\n",
        "y_pred_proc=np.zeros((10000,100))\n",
        "for i in range(0,10000):\n",
        "    y_pred_proc[i][np.argmax(y_pred[i])]=1\n",
        "print(\"Precision: \"+ str(precision_score(y_test_proc, y_pred_proc, average='weighted')))\n",
        "print(\"Recall: \"+ str(recall_score(y_test_proc, y_pred_proc, average='weighted')))\n",
        "print(\"Accuracy: \"+ str(accuracy_score(y_test_proc, y_pred_proc)))"
      ],
      "execution_count": null,
      "outputs": [
        {
          "output_type": "stream",
          "text": [
            "Precision: 0.485332974818646\n",
            "Recall: 0.4528\n",
            "Accuracy: 0.4528\n"
          ],
          "name": "stdout"
        }
      ]
    },
    {
      "cell_type": "code",
      "metadata": {
        "id": "seiMcUtKgNsh",
        "outputId": "20d1495c-b269-462e-d1fa-bf69bbb4e71b",
        "colab": {
          "base_uri": "https://localhost:8080/",
          "height": 282
        }
      },
      "source": [
        "plt.plot(output.history['acc'])\n",
        "plt.plot(output.history['val_acc'])\n",
        "plt.legend(['Training Accuracy','Testing Accuracy'])\n"
      ],
      "execution_count": null,
      "outputs": [
        {
          "output_type": "execute_result",
          "data": {
            "text/plain": [
              "<matplotlib.legend.Legend at 0x7f0e50346cf8>"
            ]
          },
          "metadata": {
            "tags": []
          },
          "execution_count": 10
        },
        {
          "output_type": "display_data",
          "data": {
            "image/png": "[encoded data removed]",
            "text/plain": [
              "<Figure size 432x288 with 1 Axes>"
            ]
          },
          "metadata": {
            "tags": [],
            "needs_background": "light"
          }
        }
      ]
    },
    {
      "cell_type": "code",
      "metadata": {
        "id": "uLY3-wt-gP96",
        "outputId": "2b49deea-defe-429e-d40d-7ba84687933c",
        "colab": {
          "base_uri": "https://localhost:8080/",
          "height": 282
        }
      },
      "source": [
        "plt.plot(output.history['loss'])\n",
        "plt.plot(output.history['val_loss'])\n",
        "plt.legend(['Training loss','Testing loss'])"
      ],
      "execution_count": null,
      "outputs": [
        {
          "output_type": "execute_result",
          "data": {
            "text/plain": [
              "<matplotlib.legend.Legend at 0x7f0e502f9470>"
            ]
          },
          "metadata": {
            "tags": []
          },
          "execution_count": 11
        },
        {
          "output_type": "display_data",
          "data": {
            "image/png": "[encoded data removed]",
            "text/plain": [
              "<Figure size 432x288 with 1 Axes>"
            ]
          },
          "metadata": {
            "tags": [],
            "needs_background": "light"
          }
        }
      ]
    },
    {
      "cell_type": "code",
      "metadata": {
        "id": "b0RuJPDdgSBs",
        "outputId": "4a4064ca-e425-4d59-b16a-61b62e633804",
        "colab": {
          "base_uri": "https://localhost:8080/",
          "height": 101
        }
      },
      "source": [
        "import tensorflow as tf\n",
        "from tensorflow import keras\n",
        "from tensorflow.keras import layers\n",
        "import numpy as np\n",
        "import datetime as dt\n",
        "from keras.models import Sequential\n",
        "from keras.layers import Dense, Dropout, Flatten\n",
        "from keras.layers import Conv2D, MaxPooling2D,Add,Activation\n",
        "from keras import backend as K\n",
        "import matplotlib.pyplot as plt\n",
        "from keras.preprocessing.image import ImageDataGenerator\n",
        "from sklearn.metrics import confusion_matrix, precision_score, recall_score, accuracy_score\n",
        "\n",
        "(x_train, y_train), (x_test, y_test) = tf.keras.datasets.cifar100.load_data()\n",
        "\n",
        "y_proc=np.zeros((50000,100))\n",
        "for i in range(0,50000):\n",
        "    y_proc[i][y_train[i][0]]=1\n",
        "y_test_proc=np.zeros((10000,100))\n",
        "for i in range(0,10000):\n",
        "    y_test_proc[i][y_test[i][0]]=1\n",
        "y_proc.shape\n",
        "input_shape=(32,32,3)\n",
        "y_test_proc[0]\n",
        "x_train=x_train.astype('float')/255\n",
        "x_test=x_test.astype('float')/255\n",
        "y_test_proc.shape\n",
        "\n",
        "inputs = keras.Input(shape=input_shape)\n",
        "x = layers.Conv2D(32, 3, activation='elu')(inputs)\n",
        "x = layers.Conv2D(32, 3, activation='relu')(x)\n",
        "x=layers.BatchNormalization()(x)\n",
        "x = layers.MaxPool2D((3,3),strides=(1,1), padding='same')(x)\n",
        "x = layers.Conv2D(32, 3, activation='elu')(x)\n",
        "x = layers.Conv2D(32, 3, activation='relu')(x)\n",
        "x=layers.BatchNormalization()(x)\n",
        "x = layers.MaxPool2D((3,3),strides=(1,1), padding='same')(x)\n",
        "x = layers.Conv2D(64, 3, activation='elu')(x)\n",
        "x = layers.Conv2D(64, 3, activation='elu')(x)\n",
        "x = layers.Conv2D(64, 3, activation='relu')(x)\n",
        "x=layers.BatchNormalization()(x)\n",
        "x = layers.MaxPool2D((3,3),strides=(1,1), padding='same')(x)\n",
        "x = layers.Conv2D(64, 3, activation='elu')(x)\n",
        "x = layers.Conv2D(64, 3, activation='elu')(x)\n",
        "x = layers.Conv2D(64, 3, activation='relu')(x)\n",
        "x=layers.BatchNormalization()(x)\n",
        "x = layers.MaxPool2D((3,3),strides=(1,1), padding='same')(x)\n",
        "x = layers.Conv2D(128, 3, activation='elu')(x)\n",
        "x = layers.Conv2D(128, 3, activation='elu')(x)\n",
        "x = layers.Conv2D(128, 3, activation='relu')(x)\n",
        "x=layers.BatchNormalization()(x)\n",
        "x = layers.MaxPool2D((3,3),strides=(1,1), padding='same')(x)\n",
        "x=layers.Flatten()(x)\n",
        "\n",
        "x = layers.Dense(256, activation='elu')(x)\n",
        "x = layers.Dense(256, activation='elu')(x)\n",
        "x = layers.Dense(256, activation='relu')(x)\n",
        "\n",
        "outputs = layers.Dense(100, activation='softmax')(x)\n",
        "\n",
        "\n",
        "vgg_net_model = keras.Model(inputs, outputs)\n",
        "\n",
        "vgg_net_model.load_weights('../weights/vgg_sgd_batchnorm.hdf5')\n",
        "\n",
        "\n",
        "y_pred=vgg_net_model.predict(x_test)\n",
        "# tf.one_hot(y_pred)\n",
        "# y_pred=np.where(y_pred[0]=max(y_pred[0],1,0))\n",
        "y_pred_proc=np.zeros((10000,100))\n",
        "for i in range(0,10000):\n",
        "    y_pred_proc[i][np.argmax(y_pred[i])]=1\n",
        "print(\"Precision: \"+ str(precision_score(y_test_proc, y_pred_proc, average='weighted')))\n",
        "print(\"Recall: \"+ str(recall_score(y_test_proc, y_pred_proc, average='weighted')))\n",
        "print(\"Accuracy: \"+ str(accuracy_score(y_test_proc, y_pred_proc)))"
      ],
      "execution_count": 1,
      "outputs": [
        {
          "output_type": "stream",
          "text": [
            "Downloading data from https://www.cs.toronto.edu/~kriz/cifar-100-python.tar.gz\n",
            "169009152/169001437 [==============================] - 11s 0us/step\n",
            "Precision: 0.4887015426018195\n",
            "Recall: 0.4691\n",
            "Accuracy: 0.4691\n"
          ],
          "name": "stdout"
        }
      ]
    }
  ]
}