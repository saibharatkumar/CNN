{
  "nbformat": 4,
  "nbformat_minor": 0,
  "metadata": {
    "colab": {
      "name": "Res_SGD_DropOut.ipynb",
      "provenance": [],
      "collapsed_sections": []
    },
    "kernelspec": {
      "name": "python3",
      "display_name": "Python 3"
    },
    "accelerator": "GPU"
  },
  "cells": [
    {
      "cell_type": "code",
      "metadata": {
        "id": "qxFcIxiPei2_"
      },
      "source": [
        "import tensorflow as tf\n",
        "from tensorflow import keras\n",
        "from tensorflow.keras import layers\n",
        "import numpy as np\n",
        "import datetime as dt\n",
        "from keras.models import Sequential\n",
        "from keras.layers import Dense, Dropout, Flatten\n",
        "from keras.layers import Conv2D, MaxPooling2D,AveragePooling2D\n",
        "from keras import backend as K\n",
        "from keras.preprocessing.image import ImageDataGenerator\n",
        "from matplotlib import pyplot as plt"
      ],
      "execution_count": null,
      "outputs": []
    },
    {
      "cell_type": "code",
      "metadata": {
        "id": "Uo33OyJCfi5o",
        "outputId": "7a27e3ef-0477-4f35-fb96-99355335d224",
        "colab": {
          "base_uri": "https://localhost:8080/",
          "height": 50
        }
      },
      "source": [
        "(x_train, y_train), (x_test, y_test) = tf.keras.datasets.cifar100.load_data()"
      ],
      "execution_count": null,
      "outputs": [
        {
          "output_type": "stream",
          "text": [
            "Downloading data from https://www.cs.toronto.edu/~kriz/cifar-100-python.tar.gz\n",
            "169009152/169001437 [==============================] - 2s 0us/step\n"
          ],
          "name": "stdout"
        }
      ]
    },
    {
      "cell_type": "code",
      "metadata": {
        "id": "glh9mSLE-jQG"
      },
      "source": [
        "y_proc=np.zeros((50000,100))\n",
        "for i in range(0,50000):\n",
        "    y_proc[i][y_train[i][0]]=1\n",
        "y_test_proc=np.zeros((10000,100))\n",
        "for i in range(0,10000):\n",
        "    y_test_proc[i][y_test[i][0]]=1\n",
        "y_proc.shape\n",
        "input_shape=(32,32,3)\n",
        "y_test_proc[0]\n",
        "x_train=x_train.astype('float')/255\n",
        "x_test=x_test.astype('float')/255"
      ],
      "execution_count": null,
      "outputs": []
    },
    {
      "cell_type": "code",
      "metadata": {
        "id": "gjl5LG2L-qQI"
      },
      "source": [
        "datagen = ImageDataGenerator(\n",
        "    featurewise_center=False,  # set input mean to 0 over the dataset\n",
        "    samplewise_center=False,  # set each sample mean to 0\n",
        "    featurewise_std_normalization=False,  # divide inputs by std of the dataset\n",
        "    samplewise_std_normalization=False,  # divide each input by its std\n",
        "    zca_whitening=False,  # apply ZCA whitening\n",
        "    rotation_range=15,  # randomly rotate images in the range (degrees, 0 to 180)\n",
        "    width_shift_range=0.1,  # randomly shift images horizontally (fraction of total width)\n",
        "    height_shift_range=0.1,  # randomly shift images vertically (fraction of total height)\n",
        "    horizontal_flip=True,  # randomly flip images\n",
        "    vertical_flip=False)  # randomly flip images\n",
        "# (std, mean, and principal components if ZCA whitening is applied).\n",
        "datagen.fit(x_train)"
      ],
      "execution_count": null,
      "outputs": []
    },
    {
      "cell_type": "code",
      "metadata": {
        "id": "iWecl-DT-ryj"
      },
      "source": [
        "inputs = keras.Input(shape=input_shape)\n",
        "x = layers.Conv2D(32, 3, activation='elu')(inputs)\n",
        "x = layers.Conv2D(32, 3, activation='elu')(x)\n",
        "x = layers.MaxPooling2D(3)(x)\n",
        "num_res_net_blocks = 5\n",
        "filters=32\n",
        "conv_size=3\n",
        "\n",
        "x_skip=x\n",
        "x = layers.Conv2D(filters, conv_size, activation='elu', padding='same')(x)\n",
        "x = layers.Conv2D(filters, conv_size, activation=None, padding='same')(x)\n",
        "x = layers.Add()([x, x_skip])\n",
        "# x = layers.MaxPool2D((3,3), strides=(1,1), padding='same')(x)\n",
        "x = layers.Activation('relu')(x)\n",
        "\n",
        "x_skip=x\n",
        "x = layers.Conv2D(filters, conv_size, activation='elu', padding='same')(x)\n",
        "x = layers.Conv2D(filters, conv_size, activation=None, padding='same')(x)\n",
        "x = layers.Add()([x, x_skip])\n",
        "# x = layers.MaxPool2D((3,3), strides=(1,1), padding='same')(x)\n",
        "x = layers.Activation('relu')(x)\n",
        "\n",
        "x_skip=x\n",
        "x = layers.Conv2D(filters, conv_size, activation='elu', padding='same')(x)\n",
        "x = layers.Conv2D(filters, conv_size, activation=None, padding='same')(x)\n",
        "x = layers.Add()([x, x_skip])\n",
        "# x = layers.MaxPool2D((3,3), strides=(1,1), padding='same')(x)\n",
        "x = layers.Activation('relu')(x)\n",
        "x=layers.Dropout(0.01)(x)\n",
        "# x = layers.Conv2D(64, 3, activation='elu')(x)\n",
        "\n",
        "x_skip=x\n",
        "x = layers.Conv2D(filters, conv_size, activation='elu', padding='same')(x)\n",
        "x = layers.Conv2D(filters, conv_size, activation=None, padding='same')(x)\n",
        "x = layers.Add()([x, x_skip])\n",
        "# x = layers.MaxPool2D((3,3), strides=(1,1), padding='same')(x)\n",
        "x = layers.Activation('relu')(x)\n",
        "\n",
        "x_skip=x\n",
        "x = layers.Conv2D(filters, conv_size, activation='elu', padding='same')(x)\n",
        "x = layers.Conv2D(filters, conv_size, activation=None, padding='same')(x)\n",
        "x = layers.Add()([x, x_skip])\n",
        "# x = layers.MaxPool2D((3,3), strides=(1,1), padding='same')(x)\n",
        "x = layers.Activation('relu')(x)\n",
        "\n",
        "x=layers.Dropout(0.01)(x)\n",
        "# x = layers.Conv2D(128, 3, activation='elu')(x)\n",
        "\n",
        "x_skip=x\n",
        "x = layers.Conv2D(filters, conv_size, activation='elu', padding='same')(x)\n",
        "x = layers.Conv2D(filters, conv_size, activation=None, padding='same')(x)\n",
        "x = layers.Add()([x, x_skip])\n",
        "# x = layers.MaxPool2D((3,3), strides=(1,1), padding='same')(x)\n",
        "x = layers.Activation('relu')(x)\n",
        "\n",
        "x_skip=x\n",
        "x = layers.Conv2D(filters, conv_size, activation='elu', padding='same')(x)\n",
        "x = layers.Conv2D(filters, conv_size, activation=None, padding='same')(x)\n",
        "x = layers.Add()([x, x_skip])\n",
        "# x = layers.MaxPool2D((3,3), strides=(1,1), padding='same')(x)\n",
        "x = layers.Activation('relu')(x)\n",
        "\n",
        "x=layers.Dropout(0.01)(x)\n",
        "\n",
        "x = layers.Conv2D(32, 3, activation='elu')(x)\n",
        "x = layers.AveragePooling2D(4)(x)\n",
        "x=layers.Flatten()(x)\n",
        "x = layers.Dense(256, activation='elu')(x)\n",
        "outputs = layers.Dense(100, activation='softmax')(x)\n",
        "\n",
        "res_net_model = keras.Model(inputs, outputs)"
      ],
      "execution_count": null,
      "outputs": []
    },
    {
      "cell_type": "code",
      "metadata": {
        "id": "izxdMAI9-wX9",
        "outputId": "1c6c0305-5e44-45c4-8b2d-0df67019b39a",
        "colab": {
          "base_uri": "https://localhost:8080/",
          "height": 1000
        }
      },
      "source": [
        "res_net_model.summary()"
      ],
      "execution_count": null,
      "outputs": [
        {
          "output_type": "stream",
          "text": [
            "Model: \"functional_1\"\n",
            "__________________________________________________________________________________________________\n",
            "Layer (type)                    Output Shape         Param #     Connected to                     \n",
            "==================================================================================================\n",
            "input_1 (InputLayer)            [(None, 32, 32, 3)]  0                                            \n",
            "__________________________________________________________________________________________________\n",
            "conv2d (Conv2D)                 (None, 30, 30, 32)   896         input_1[0][0]                    \n",
            "__________________________________________________________________________________________________\n",
            "conv2d_1 (Conv2D)               (None, 28, 28, 32)   9248        conv2d[0][0]                     \n",
            "__________________________________________________________________________________________________\n",
            "max_pooling2d (MaxPooling2D)    (None, 9, 9, 32)     0           conv2d_1[0][0]                   \n",
            "__________________________________________________________________________________________________\n",
            "conv2d_2 (Conv2D)               (None, 9, 9, 32)     9248        max_pooling2d[0][0]              \n",
            "__________________________________________________________________________________________________\n",
            "conv2d_3 (Conv2D)               (None, 9, 9, 32)     9248        conv2d_2[0][0]                   \n",
            "__________________________________________________________________________________________________\n",
            "add (Add)                       (None, 9, 9, 32)     0           conv2d_3[0][0]                   \n",
            "                                                                 max_pooling2d[0][0]              \n",
            "__________________________________________________________________________________________________\n",
            "activation (Activation)         (None, 9, 9, 32)     0           add[0][0]                        \n",
            "__________________________________________________________________________________________________\n",
            "conv2d_4 (Conv2D)               (None, 9, 9, 32)     9248        activation[0][0]                 \n",
            "__________________________________________________________________________________________________\n",
            "conv2d_5 (Conv2D)               (None, 9, 9, 32)     9248        conv2d_4[0][0]                   \n",
            "__________________________________________________________________________________________________\n",
            "add_1 (Add)                     (None, 9, 9, 32)     0           conv2d_5[0][0]                   \n",
            "                                                                 activation[0][0]                 \n",
            "__________________________________________________________________________________________________\n",
            "activation_1 (Activation)       (None, 9, 9, 32)     0           add_1[0][0]                      \n",
            "__________________________________________________________________________________________________\n",
            "conv2d_6 (Conv2D)               (None, 9, 9, 32)     9248        activation_1[0][0]               \n",
            "__________________________________________________________________________________________________\n",
            "conv2d_7 (Conv2D)               (None, 9, 9, 32)     9248        conv2d_6[0][0]                   \n",
            "__________________________________________________________________________________________________\n",
            "add_2 (Add)                     (None, 9, 9, 32)     0           conv2d_7[0][0]                   \n",
            "                                                                 activation_1[0][0]               \n",
            "__________________________________________________________________________________________________\n",
            "activation_2 (Activation)       (None, 9, 9, 32)     0           add_2[0][0]                      \n",
            "__________________________________________________________________________________________________\n",
            "dropout (Dropout)               (None, 9, 9, 32)     0           activation_2[0][0]               \n",
            "__________________________________________________________________________________________________\n",
            "conv2d_8 (Conv2D)               (None, 9, 9, 32)     9248        dropout[0][0]                    \n",
            "__________________________________________________________________________________________________\n",
            "conv2d_9 (Conv2D)               (None, 9, 9, 32)     9248        conv2d_8[0][0]                   \n",
            "__________________________________________________________________________________________________\n",
            "add_3 (Add)                     (None, 9, 9, 32)     0           conv2d_9[0][0]                   \n",
            "                                                                 dropout[0][0]                    \n",
            "__________________________________________________________________________________________________\n",
            "activation_3 (Activation)       (None, 9, 9, 32)     0           add_3[0][0]                      \n",
            "__________________________________________________________________________________________________\n",
            "conv2d_10 (Conv2D)              (None, 9, 9, 32)     9248        activation_3[0][0]               \n",
            "__________________________________________________________________________________________________\n",
            "conv2d_11 (Conv2D)              (None, 9, 9, 32)     9248        conv2d_10[0][0]                  \n",
            "__________________________________________________________________________________________________\n",
            "add_4 (Add)                     (None, 9, 9, 32)     0           conv2d_11[0][0]                  \n",
            "                                                                 activation_3[0][0]               \n",
            "__________________________________________________________________________________________________\n",
            "activation_4 (Activation)       (None, 9, 9, 32)     0           add_4[0][0]                      \n",
            "__________________________________________________________________________________________________\n",
            "dropout_1 (Dropout)             (None, 9, 9, 32)     0           activation_4[0][0]               \n",
            "__________________________________________________________________________________________________\n",
            "conv2d_12 (Conv2D)              (None, 9, 9, 32)     9248        dropout_1[0][0]                  \n",
            "__________________________________________________________________________________________________\n",
            "conv2d_13 (Conv2D)              (None, 9, 9, 32)     9248        conv2d_12[0][0]                  \n",
            "__________________________________________________________________________________________________\n",
            "add_5 (Add)                     (None, 9, 9, 32)     0           conv2d_13[0][0]                  \n",
            "                                                                 dropout_1[0][0]                  \n",
            "__________________________________________________________________________________________________\n",
            "activation_5 (Activation)       (None, 9, 9, 32)     0           add_5[0][0]                      \n",
            "__________________________________________________________________________________________________\n",
            "conv2d_14 (Conv2D)              (None, 9, 9, 32)     9248        activation_5[0][0]               \n",
            "__________________________________________________________________________________________________\n",
            "conv2d_15 (Conv2D)              (None, 9, 9, 32)     9248        conv2d_14[0][0]                  \n",
            "__________________________________________________________________________________________________\n",
            "add_6 (Add)                     (None, 9, 9, 32)     0           conv2d_15[0][0]                  \n",
            "                                                                 activation_5[0][0]               \n",
            "__________________________________________________________________________________________________\n",
            "activation_6 (Activation)       (None, 9, 9, 32)     0           add_6[0][0]                      \n",
            "__________________________________________________________________________________________________\n",
            "dropout_2 (Dropout)             (None, 9, 9, 32)     0           activation_6[0][0]               \n",
            "__________________________________________________________________________________________________\n",
            "conv2d_16 (Conv2D)              (None, 7, 7, 32)     9248        dropout_2[0][0]                  \n",
            "__________________________________________________________________________________________________\n",
            "average_pooling2d (AveragePooli (None, 1, 1, 32)     0           conv2d_16[0][0]                  \n",
            "__________________________________________________________________________________________________\n",
            "flatten (Flatten)               (None, 32)           0           average_pooling2d[0][0]          \n",
            "__________________________________________________________________________________________________\n",
            "dense (Dense)                   (None, 256)          8448        flatten[0][0]                    \n",
            "__________________________________________________________________________________________________\n",
            "dense_1 (Dense)                 (None, 100)          25700       dense[0][0]                      \n",
            "==================================================================================================\n",
            "Total params: 183,012\n",
            "Trainable params: 183,012\n",
            "Non-trainable params: 0\n",
            "__________________________________________________________________________________________________\n"
          ],
          "name": "stdout"
        }
      ]
    },
    {
      "cell_type": "code",
      "metadata": {
        "id": "S28SBxZ--ygV",
        "outputId": "72cdd69f-63ba-4aac-8f44-2408338307a0",
        "colab": {
          "base_uri": "https://localhost:8080/",
          "height": 1000
        }
      },
      "source": [
        "%load_ext tensorboard\n",
        "tensor_board = tf.keras.callbacks.TensorBoard(log_dir='tensorboard',histogram_freq=1)\n",
        "res_net_model.compile(optimizer=keras.optimizers.SGD(lr=0.01, momentum=0.9),\n",
        "              loss='categorical_crossentropy',\n",
        "              metrics=['acc'])\n",
        "callback = tf.keras.callbacks.EarlyStopping(monitor='loss', patience=3,min_delta=0.005)\n",
        "model_checkpoint_callback = tf.keras.callbacks.ModelCheckpoint(\n",
        "    filepath='resnet_sgd_dropout.hdf5',\n",
        "    save_weights_only=True,\n",
        "    monitor='val_acc',\n",
        "    mode='max',\n",
        "    save_best_only=True)\n",
        "# res_net_model.fit(x_train,y_proc,batch_size=200,validation_data=(x_test,y_test_proc),epochs=50,callbacks=[callback,model_checkpoint_callback])\n",
        "output=res_net_model.fit_generator(datagen.flow(x_train,y_proc,batch_size = 200), epochs = 100, validation_data = (x_test,y_test_proc),callbacks = [tensor_board,callback,model_checkpoint_callback])"
      ],
      "execution_count": null,
      "outputs": [
        {
          "output_type": "stream",
          "text": [
            "WARNING:tensorflow:From <ipython-input-7-52a3d7cf0e20>:14: Model.fit_generator (from tensorflow.python.keras.engine.training) is deprecated and will be removed in a future version.\n",
            "Instructions for updating:\n",
            "Please use Model.fit, which supports generators.\n",
            "Epoch 1/100\n",
            "  1/250 [..............................] - ETA: 0s - loss: 4.6684 - acc: 0.0000e+00WARNING:tensorflow:From /usr/local/lib/python3.6/dist-packages/tensorflow/python/ops/summary_ops_v2.py:1277: stop (from tensorflow.python.eager.profiler) is deprecated and will be removed after 2020-07-01.\n",
            "Instructions for updating:\n",
            "use `tf.profiler.experimental.stop` instead.\n",
            "  2/250 [..............................] - ETA: 11s - loss: 4.6532 - acc: 0.0025   WARNING:tensorflow:Callbacks method `on_train_batch_end` is slow compared to the batch time (batch time: 0.0256s vs `on_train_batch_end` time: 0.0716s). Check your callbacks.\n",
            "250/250 [==============================] - 25s 100ms/step - loss: 4.3532 - acc: 0.0372 - val_loss: 4.0487 - val_acc: 0.0712\n",
            "Epoch 2/100\n",
            "250/250 [==============================] - 24s 98ms/step - loss: 3.8905 - acc: 0.0962 - val_loss: 3.6571 - val_acc: 0.1282\n",
            "Epoch 3/100\n",
            "250/250 [==============================] - 25s 99ms/step - loss: 3.6075 - acc: 0.1418 - val_loss: 3.4187 - val_acc: 0.1783\n",
            "Epoch 4/100\n",
            "250/250 [==============================] - 24s 95ms/step - loss: 3.3963 - acc: 0.1772 - val_loss: 3.3275 - val_acc: 0.1952\n",
            "Epoch 5/100\n",
            "250/250 [==============================] - 25s 99ms/step - loss: 3.2379 - acc: 0.2061 - val_loss: 3.1510 - val_acc: 0.2203\n",
            "Epoch 6/100\n",
            "250/250 [==============================] - 24s 97ms/step - loss: 3.1301 - acc: 0.2251 - val_loss: 3.1640 - val_acc: 0.2225\n",
            "Epoch 7/100\n",
            "250/250 [==============================] - 25s 98ms/step - loss: 3.0240 - acc: 0.2456 - val_loss: 2.9640 - val_acc: 0.2579\n",
            "Epoch 8/100\n",
            "250/250 [==============================] - 24s 98ms/step - loss: 2.9349 - acc: 0.2631 - val_loss: 2.9492 - val_acc: 0.2712\n",
            "Epoch 9/100\n",
            "250/250 [==============================] - 24s 97ms/step - loss: 2.8641 - acc: 0.2760 - val_loss: 2.8663 - val_acc: 0.2803\n",
            "Epoch 10/100\n",
            "250/250 [==============================] - 24s 97ms/step - loss: 2.7895 - acc: 0.2902 - val_loss: 2.7002 - val_acc: 0.3146\n",
            "Epoch 11/100\n",
            "250/250 [==============================] - 25s 99ms/step - loss: 2.7209 - acc: 0.3052 - val_loss: 2.6976 - val_acc: 0.3151\n",
            "Epoch 12/100\n",
            "250/250 [==============================] - 24s 97ms/step - loss: 2.6565 - acc: 0.3175 - val_loss: 2.6688 - val_acc: 0.3220\n",
            "Epoch 13/100\n",
            "250/250 [==============================] - 24s 97ms/step - loss: 2.6032 - acc: 0.3289 - val_loss: 2.5983 - val_acc: 0.3346\n",
            "Epoch 14/100\n",
            "250/250 [==============================] - 24s 96ms/step - loss: 2.5597 - acc: 0.3358 - val_loss: 2.6437 - val_acc: 0.3286\n",
            "Epoch 15/100\n",
            "250/250 [==============================] - 24s 98ms/step - loss: 2.5022 - acc: 0.3480 - val_loss: 2.5384 - val_acc: 0.3465\n",
            "Epoch 16/100\n",
            "250/250 [==============================] - 24s 98ms/step - loss: 2.4770 - acc: 0.3524 - val_loss: 2.4938 - val_acc: 0.3596\n",
            "Epoch 17/100\n",
            "250/250 [==============================] - 24s 97ms/step - loss: 2.4268 - acc: 0.3627 - val_loss: 2.4127 - val_acc: 0.3733\n",
            "Epoch 18/100\n",
            "250/250 [==============================] - 24s 97ms/step - loss: 2.3868 - acc: 0.3703 - val_loss: 2.4552 - val_acc: 0.3682\n",
            "Epoch 19/100\n",
            "250/250 [==============================] - 24s 97ms/step - loss: 2.3481 - acc: 0.3815 - val_loss: 2.4335 - val_acc: 0.3741\n",
            "Epoch 20/100\n",
            "250/250 [==============================] - 24s 96ms/step - loss: 2.3205 - acc: 0.3871 - val_loss: 2.4716 - val_acc: 0.3654\n",
            "Epoch 21/100\n",
            "250/250 [==============================] - 24s 97ms/step - loss: 2.2795 - acc: 0.3937 - val_loss: 2.3348 - val_acc: 0.3894\n",
            "Epoch 22/100\n",
            "250/250 [==============================] - 24s 96ms/step - loss: 2.2601 - acc: 0.3979 - val_loss: 2.3602 - val_acc: 0.3843\n",
            "Epoch 23/100\n",
            "250/250 [==============================] - 24s 97ms/step - loss: 2.2287 - acc: 0.4057 - val_loss: 2.3391 - val_acc: 0.3944\n",
            "Epoch 24/100\n",
            "250/250 [==============================] - 24s 95ms/step - loss: 2.2031 - acc: 0.4149 - val_loss: 2.2843 - val_acc: 0.4003\n",
            "Epoch 25/100\n",
            "250/250 [==============================] - 24s 97ms/step - loss: 2.1787 - acc: 0.4193 - val_loss: 2.3182 - val_acc: 0.3988\n",
            "Epoch 26/100\n",
            "250/250 [==============================] - 24s 96ms/step - loss: 2.1616 - acc: 0.4222 - val_loss: 2.2666 - val_acc: 0.4105\n",
            "Epoch 27/100\n",
            "250/250 [==============================] - 24s 97ms/step - loss: 2.1361 - acc: 0.4252 - val_loss: 2.2971 - val_acc: 0.4061\n",
            "Epoch 28/100\n",
            "250/250 [==============================] - 25s 98ms/step - loss: 2.1152 - acc: 0.4287 - val_loss: 2.2312 - val_acc: 0.4194\n",
            "Epoch 29/100\n",
            "250/250 [==============================] - 25s 100ms/step - loss: 2.1010 - acc: 0.4344 - val_loss: 2.1952 - val_acc: 0.4232\n",
            "Epoch 30/100\n",
            "250/250 [==============================] - 24s 97ms/step - loss: 2.0814 - acc: 0.4354 - val_loss: 2.1463 - val_acc: 0.4266\n",
            "Epoch 31/100\n",
            "250/250 [==============================] - 25s 98ms/step - loss: 2.0709 - acc: 0.4412 - val_loss: 2.1109 - val_acc: 0.4413\n",
            "Epoch 32/100\n",
            "250/250 [==============================] - 24s 98ms/step - loss: 2.0433 - acc: 0.4464 - val_loss: 2.1636 - val_acc: 0.4298\n",
            "Epoch 33/100\n",
            "250/250 [==============================] - 25s 98ms/step - loss: 2.0238 - acc: 0.4485 - val_loss: 2.1270 - val_acc: 0.4337\n",
            "Epoch 34/100\n",
            "250/250 [==============================] - 24s 97ms/step - loss: 2.0140 - acc: 0.4515 - val_loss: 2.1697 - val_acc: 0.4310\n",
            "Epoch 35/100\n",
            "250/250 [==============================] - 25s 99ms/step - loss: 2.0138 - acc: 0.4550 - val_loss: 2.2277 - val_acc: 0.4180\n",
            "Epoch 36/100\n",
            "250/250 [==============================] - 25s 100ms/step - loss: 1.9846 - acc: 0.4595 - val_loss: 2.0831 - val_acc: 0.4526\n",
            "Epoch 37/100\n",
            "250/250 [==============================] - 25s 98ms/step - loss: 1.9689 - acc: 0.4636 - val_loss: 2.1020 - val_acc: 0.4506\n",
            "Epoch 38/100\n",
            "250/250 [==============================] - 25s 99ms/step - loss: 1.9531 - acc: 0.4649 - val_loss: 2.0771 - val_acc: 0.4496\n",
            "Epoch 39/100\n",
            "250/250 [==============================] - 25s 98ms/step - loss: 1.9426 - acc: 0.4682 - val_loss: 2.0930 - val_acc: 0.4529\n",
            "Epoch 40/100\n",
            "250/250 [==============================] - 24s 97ms/step - loss: 1.9341 - acc: 0.4712 - val_loss: 2.1914 - val_acc: 0.4351\n",
            "Epoch 41/100\n",
            "250/250 [==============================] - 25s 101ms/step - loss: 1.9286 - acc: 0.4696 - val_loss: 2.0242 - val_acc: 0.4598\n",
            "Epoch 42/100\n",
            "250/250 [==============================] - 24s 96ms/step - loss: 1.9127 - acc: 0.4758 - val_loss: 2.0899 - val_acc: 0.4480\n",
            "Epoch 43/100\n",
            "250/250 [==============================] - 24s 98ms/step - loss: 1.9155 - acc: 0.4746 - val_loss: 2.1075 - val_acc: 0.4483\n",
            "Epoch 44/100\n",
            "250/250 [==============================] - 25s 99ms/step - loss: 1.8920 - acc: 0.4795 - val_loss: 2.1894 - val_acc: 0.4302\n",
            "Epoch 45/100\n",
            "250/250 [==============================] - 27s 107ms/step - loss: 1.8616 - acc: 0.4864 - val_loss: 2.1344 - val_acc: 0.4462\n",
            "Epoch 46/100\n",
            "250/250 [==============================] - 26s 102ms/step - loss: 1.8766 - acc: 0.4850 - val_loss: 2.0139 - val_acc: 0.4677\n",
            "Epoch 47/100\n",
            "250/250 [==============================] - 25s 100ms/step - loss: 1.8517 - acc: 0.4907 - val_loss: 2.1046 - val_acc: 0.4534\n",
            "Epoch 48/100\n",
            "250/250 [==============================] - 26s 103ms/step - loss: 1.8406 - acc: 0.4911 - val_loss: 2.1565 - val_acc: 0.4502\n",
            "Epoch 49/100\n",
            "250/250 [==============================] - 26s 103ms/step - loss: 1.8565 - acc: 0.4899 - val_loss: 1.9963 - val_acc: 0.4736\n",
            "Epoch 50/100\n",
            "250/250 [==============================] - 26s 104ms/step - loss: 1.8300 - acc: 0.4938 - val_loss: 2.1269 - val_acc: 0.4470\n",
            "Epoch 51/100\n",
            "250/250 [==============================] - 25s 101ms/step - loss: 1.8280 - acc: 0.4961 - val_loss: 2.1341 - val_acc: 0.4452\n",
            "Epoch 52/100\n",
            "250/250 [==============================] - 25s 98ms/step - loss: 1.8151 - acc: 0.4966 - val_loss: 2.0588 - val_acc: 0.4591\n",
            "Epoch 53/100\n",
            "250/250 [==============================] - 25s 101ms/step - loss: 1.8078 - acc: 0.5014 - val_loss: 2.0859 - val_acc: 0.4535\n",
            "Epoch 54/100\n",
            "250/250 [==============================] - 25s 102ms/step - loss: 1.8066 - acc: 0.5007 - val_loss: 2.0186 - val_acc: 0.4665\n",
            "Epoch 55/100\n",
            "250/250 [==============================] - 24s 98ms/step - loss: 1.8005 - acc: 0.5004 - val_loss: 2.0922 - val_acc: 0.4513\n",
            "Epoch 56/100\n",
            "250/250 [==============================] - 25s 99ms/step - loss: 1.7903 - acc: 0.5016 - val_loss: 1.9855 - val_acc: 0.4785\n",
            "Epoch 57/100\n",
            "250/250 [==============================] - 24s 97ms/step - loss: 1.7773 - acc: 0.5075 - val_loss: 1.9990 - val_acc: 0.4736\n",
            "Epoch 58/100\n",
            "250/250 [==============================] - 25s 98ms/step - loss: 1.7673 - acc: 0.5069 - val_loss: 2.1441 - val_acc: 0.4449\n",
            "Epoch 59/100\n",
            "250/250 [==============================] - 24s 97ms/step - loss: 1.7770 - acc: 0.5071 - val_loss: 2.0561 - val_acc: 0.4546\n",
            "Epoch 60/100\n",
            "250/250 [==============================] - 25s 99ms/step - loss: 1.7611 - acc: 0.5091 - val_loss: 2.0537 - val_acc: 0.4627\n",
            "Epoch 61/100\n",
            "250/250 [==============================] - 24s 96ms/step - loss: 1.7576 - acc: 0.5114 - val_loss: 2.0311 - val_acc: 0.4694\n",
            "Epoch 62/100\n",
            "250/250 [==============================] - 24s 98ms/step - loss: 1.7542 - acc: 0.5094 - val_loss: 2.0447 - val_acc: 0.4688\n",
            "Epoch 63/100\n",
            "250/250 [==============================] - 24s 98ms/step - loss: 1.7427 - acc: 0.5142 - val_loss: 1.9967 - val_acc: 0.4733\n",
            "Epoch 64/100\n",
            "250/250 [==============================] - 25s 99ms/step - loss: 1.7449 - acc: 0.5138 - val_loss: 2.0665 - val_acc: 0.4602\n",
            "Epoch 65/100\n",
            "250/250 [==============================] - 24s 96ms/step - loss: 1.7240 - acc: 0.5192 - val_loss: 2.0504 - val_acc: 0.4623\n",
            "Epoch 66/100\n",
            "250/250 [==============================] - 25s 100ms/step - loss: 1.7312 - acc: 0.5185 - val_loss: 1.9780 - val_acc: 0.4778\n",
            "Epoch 67/100\n",
            "250/250 [==============================] - 24s 97ms/step - loss: 1.7250 - acc: 0.5157 - val_loss: 2.0393 - val_acc: 0.4695\n",
            "Epoch 68/100\n",
            "250/250 [==============================] - 25s 99ms/step - loss: 1.7040 - acc: 0.5233 - val_loss: 2.0518 - val_acc: 0.4667\n",
            "Epoch 69/100\n",
            "250/250 [==============================] - 24s 97ms/step - loss: 1.7044 - acc: 0.5238 - val_loss: 2.0359 - val_acc: 0.4718\n",
            "Epoch 70/100\n",
            "250/250 [==============================] - 25s 100ms/step - loss: 1.7013 - acc: 0.5243 - val_loss: 2.0383 - val_acc: 0.4720\n",
            "Epoch 71/100\n",
            "250/250 [==============================] - 24s 97ms/step - loss: 1.6954 - acc: 0.5239 - val_loss: 2.0296 - val_acc: 0.4684\n",
            "Epoch 72/100\n",
            "250/250 [==============================] - 25s 99ms/step - loss: 1.6962 - acc: 0.5257 - val_loss: 1.9362 - val_acc: 0.4877\n",
            "Epoch 73/100\n",
            "250/250 [==============================] - 25s 98ms/step - loss: 1.7078 - acc: 0.5231 - val_loss: 2.0947 - val_acc: 0.4553\n",
            "Epoch 74/100\n",
            "250/250 [==============================] - 25s 98ms/step - loss: 1.6833 - acc: 0.5280 - val_loss: 1.9486 - val_acc: 0.4877\n",
            "Epoch 75/100\n",
            "250/250 [==============================] - 25s 100ms/step - loss: 1.6853 - acc: 0.5260 - val_loss: 2.1092 - val_acc: 0.4574\n",
            "Epoch 76/100\n",
            "250/250 [==============================] - 25s 99ms/step - loss: 1.6790 - acc: 0.5291 - val_loss: 2.0668 - val_acc: 0.4650\n",
            "Epoch 77/100\n",
            "250/250 [==============================] - 25s 100ms/step - loss: 1.6744 - acc: 0.5304 - val_loss: 2.0178 - val_acc: 0.4670\n",
            "Epoch 78/100\n",
            "250/250 [==============================] - 25s 100ms/step - loss: 1.6701 - acc: 0.5289 - val_loss: 2.0033 - val_acc: 0.4767\n",
            "Epoch 79/100\n",
            "250/250 [==============================] - 25s 101ms/step - loss: 1.6617 - acc: 0.5328 - val_loss: 2.0456 - val_acc: 0.4689\n",
            "Epoch 80/100\n",
            "250/250 [==============================] - 25s 100ms/step - loss: 1.6650 - acc: 0.5309 - val_loss: 1.9384 - val_acc: 0.4857\n",
            "Epoch 81/100\n",
            "250/250 [==============================] - 25s 102ms/step - loss: 1.6563 - acc: 0.5333 - val_loss: 2.0040 - val_acc: 0.4816\n",
            "Epoch 82/100\n",
            "250/250 [==============================] - 25s 102ms/step - loss: 1.6525 - acc: 0.5362 - val_loss: 1.9735 - val_acc: 0.4784\n",
            "Epoch 83/100\n",
            "250/250 [==============================] - 25s 102ms/step - loss: 1.6468 - acc: 0.5361 - val_loss: 2.0788 - val_acc: 0.4666\n",
            "Epoch 84/100\n",
            "250/250 [==============================] - 25s 100ms/step - loss: 1.6448 - acc: 0.5366 - val_loss: 2.0512 - val_acc: 0.4764\n",
            "Epoch 85/100\n",
            "250/250 [==============================] - 26s 103ms/step - loss: 1.6423 - acc: 0.5352 - val_loss: 1.9539 - val_acc: 0.4909\n",
            "Epoch 86/100\n",
            "250/250 [==============================] - 25s 101ms/step - loss: 1.6455 - acc: 0.5352 - val_loss: 1.9415 - val_acc: 0.4870\n"
          ],
          "name": "stdout"
        }
      ]
    },
    {
      "cell_type": "code",
      "metadata": {
        "id": "m_d-KrQu-_ap",
        "outputId": "5a82e24e-6c0c-40d5-adf7-af859d0c03e9",
        "colab": {
          "base_uri": "https://localhost:8080/",
          "height": 67
        }
      },
      "source": [
        "from sklearn.metrics import confusion_matrix, precision_score, recall_score, accuracy_score\n",
        "y_pred=res_net_model.predict(x_test)\n",
        "# tf.one_hot(y_pred)\n",
        "# y_pred=np.where(y_pred[0]=max(y_pred[0],1,0))\n",
        "y_pred_proc=np.zeros((10000,100))\n",
        "for i in range(0,10000):\n",
        "    y_pred_proc[i][np.argmax(y_pred[i])]=1\n",
        "print(\"Precision: \"+ str(precision_score(y_test_proc, y_pred_proc, average='weighted')))\n",
        "print(\"Recall: \"+ str(recall_score(y_test_proc, y_pred_proc, average='weighted')))\n",
        "print(\"Accuracy: \"+ str(accuracy_score(y_test_proc, y_pred_proc)))\n",
        "\n"
      ],
      "execution_count": null,
      "outputs": [
        {
          "output_type": "stream",
          "text": [
            "Precision: 0.5006765885551213\n",
            "Recall: 0.487\n",
            "Accuracy: 0.487\n"
          ],
          "name": "stdout"
        }
      ]
    },
    {
      "cell_type": "code",
      "metadata": {
        "id": "pqKHFBy4KjvA",
        "outputId": "c1e16da1-2c1b-462f-ebb3-8e42ba1b95f0",
        "colab": {
          "base_uri": "https://localhost:8080/",
          "height": 282
        }
      },
      "source": [
        "plt.plot(output.history['acc'])\n",
        "plt.plot(output.history['val_acc'])\n",
        "plt.legend(['Training Accuracy','Testing Accuracy'])"
      ],
      "execution_count": null,
      "outputs": [
        {
          "output_type": "execute_result",
          "data": {
            "text/plain": [
              "<matplotlib.legend.Legend at 0x7fe7577d5da0>"
            ]
          },
          "metadata": {
            "tags": []
          },
          "execution_count": 9
        },
        {
          "output_type": "display_data",
          "data": {
            "image/png": "[encoded data removed]",
            "text/plain": [
              "<Figure size 432x288 with 1 Axes>"
            ]
          },
          "metadata": {
            "tags": [],
            "needs_background": "light"
          }
        }
      ]
    },
    {
      "cell_type": "code",
      "metadata": {
        "id": "8rqO5LdHKmX5",
        "outputId": "af60761b-8901-4654-ae3b-093aedd50f0c",
        "colab": {
          "base_uri": "https://localhost:8080/",
          "height": 282
        }
      },
      "source": [
        "plt.plot(output.history['loss'])\n",
        "plt.plot(output.history['val_loss'])\n",
        "plt.legend(['Training loss','Testing loss'])\n"
      ],
      "execution_count": null,
      "outputs": [
        {
          "output_type": "execute_result",
          "data": {
            "text/plain": [
              "<matplotlib.legend.Legend at 0x7fe7572639b0>"
            ]
          },
          "metadata": {
            "tags": []
          },
          "execution_count": 10
        },
        {
          "output_type": "display_data",
          "data": {
            "image/png": "[encoded data removed]",
            "text/plain": [
              "<Figure size 432x288 with 1 Axes>"
            ]
          },
          "metadata": {
            "tags": [],
            "needs_background": "light"
          }
        }
      ]
    },
    {
      "cell_type": "code",
      "metadata": {
        "id": "y9uK6Li3So7t",
        "outputId": "eaa80cd5-79f1-4d44-dc0a-2f246a1fa041",
        "colab": {
          "base_uri": "https://localhost:8080/",
          "height": 101
        }
      },
      "source": [
        "import tensorflow as tf\n",
        "from tensorflow import keras\n",
        "from tensorflow.keras import layers\n",
        "import numpy as np\n",
        "import datetime as dt\n",
        "from keras.models import Sequential\n",
        "from keras.layers import Dense, Dropout, Flatten\n",
        "from keras.layers import Conv2D, MaxPooling2D,AveragePooling2D\n",
        "from keras import backend as K\n",
        "from keras.preprocessing.image import ImageDataGenerator\n",
        "from matplotlib import pyplot as plt\n",
        "\n",
        "(x_train, y_train), (x_test, y_test) = tf.keras.datasets.cifar100.load_data()\n",
        "\n",
        "y_proc=np.zeros((50000,100))\n",
        "for i in range(0,50000):\n",
        "    y_proc[i][y_train[i][0]]=1\n",
        "y_test_proc=np.zeros((10000,100))\n",
        "for i in range(0,10000):\n",
        "    y_test_proc[i][y_test[i][0]]=1\n",
        "y_proc.shape\n",
        "input_shape=(32,32,3)\n",
        "y_test_proc[0]\n",
        "x_train=x_train.astype('float')/255\n",
        "x_test=x_test.astype('float')/255\n",
        "\n",
        "\n",
        "inputs = keras.Input(shape=input_shape)\n",
        "x = layers.Conv2D(32, 3, activation='elu')(inputs)\n",
        "x = layers.Conv2D(32, 3, activation='elu')(x)\n",
        "x = layers.MaxPooling2D(3)(x)\n",
        "num_res_net_blocks = 5\n",
        "filters=32\n",
        "conv_size=3\n",
        "\n",
        "x_skip=x\n",
        "x = layers.Conv2D(filters, conv_size, activation='elu', padding='same')(x)\n",
        "x = layers.Conv2D(filters, conv_size, activation=None, padding='same')(x)\n",
        "x = layers.Add()([x, x_skip])\n",
        "# x = layers.MaxPool2D((3,3), strides=(1,1), padding='same')(x)\n",
        "x = layers.Activation('relu')(x)\n",
        "\n",
        "x_skip=x\n",
        "x = layers.Conv2D(filters, conv_size, activation='elu', padding='same')(x)\n",
        "x = layers.Conv2D(filters, conv_size, activation=None, padding='same')(x)\n",
        "x = layers.Add()([x, x_skip])\n",
        "# x = layers.MaxPool2D((3,3), strides=(1,1), padding='same')(x)\n",
        "x = layers.Activation('relu')(x)\n",
        "\n",
        "x_skip=x\n",
        "x = layers.Conv2D(filters, conv_size, activation='elu', padding='same')(x)\n",
        "x = layers.Conv2D(filters, conv_size, activation=None, padding='same')(x)\n",
        "x = layers.Add()([x, x_skip])\n",
        "# x = layers.MaxPool2D((3,3), strides=(1,1), padding='same')(x)\n",
        "x = layers.Activation('relu')(x)\n",
        "x=layers.Dropout(0.01)(x)\n",
        "# x = layers.Conv2D(64, 3, activation='elu')(x)\n",
        "\n",
        "x_skip=x\n",
        "x = layers.Conv2D(filters, conv_size, activation='elu', padding='same')(x)\n",
        "x = layers.Conv2D(filters, conv_size, activation=None, padding='same')(x)\n",
        "x = layers.Add()([x, x_skip])\n",
        "# x = layers.MaxPool2D((3,3), strides=(1,1), padding='same')(x)\n",
        "x = layers.Activation('relu')(x)\n",
        "\n",
        "x_skip=x\n",
        "x = layers.Conv2D(filters, conv_size, activation='elu', padding='same')(x)\n",
        "x = layers.Conv2D(filters, conv_size, activation=None, padding='same')(x)\n",
        "x = layers.Add()([x, x_skip])\n",
        "# x = layers.MaxPool2D((3,3), strides=(1,1), padding='same')(x)\n",
        "x = layers.Activation('relu')(x)\n",
        "\n",
        "x=layers.Dropout(0.01)(x)\n",
        "# x = layers.Conv2D(128, 3, activation='elu')(x)\n",
        "\n",
        "x_skip=x\n",
        "x = layers.Conv2D(filters, conv_size, activation='elu', padding='same')(x)\n",
        "x = layers.Conv2D(filters, conv_size, activation=None, padding='same')(x)\n",
        "x = layers.Add()([x, x_skip])\n",
        "# x = layers.MaxPool2D((3,3), strides=(1,1), padding='same')(x)\n",
        "x = layers.Activation('relu')(x)\n",
        "\n",
        "x_skip=x\n",
        "x = layers.Conv2D(filters, conv_size, activation='elu', padding='same')(x)\n",
        "x = layers.Conv2D(filters, conv_size, activation=None, padding='same')(x)\n",
        "x = layers.Add()([x, x_skip])\n",
        "# x = layers.MaxPool2D((3,3), strides=(1,1), padding='same')(x)\n",
        "x = layers.Activation('relu')(x)\n",
        "\n",
        "x=layers.Dropout(0.01)(x)\n",
        "\n",
        "x = layers.Conv2D(32, 3, activation='elu')(x)\n",
        "x = layers.AveragePooling2D(4)(x)\n",
        "x=layers.Flatten()(x)\n",
        "x = layers.Dense(256, activation='elu')(x)\n",
        "outputs = layers.Dense(100, activation='softmax')(x)\n",
        "\n",
        "res_net_model = keras.Model(inputs, outputs)\n",
        "\n",
        "res_net_model.load_weights('../weights/resnet_sgd_dropout.hdf5')\n",
        "\n",
        "from sklearn.metrics import confusion_matrix, precision_score, recall_score, accuracy_score\n",
        "y_pred=res_net_model.predict(x_test)\n",
        "# tf.one_hot(y_pred)\n",
        "# y_pred=np.where(y_pred[0]=max(y_pred[0],1,0))\n",
        "y_pred_proc=np.zeros((10000,100))\n",
        "for i in range(0,10000):\n",
        "    y_pred_proc[i][np.argmax(y_pred[i])]=1\n",
        "print(\"Precision: \"+ str(precision_score(y_test_proc, y_pred_proc, average='weighted')))\n",
        "print(\"Recall: \"+ str(recall_score(y_test_proc, y_pred_proc, average='weighted')))\n",
        "print(\"Accuracy: \"+ str(accuracy_score(y_test_proc, y_pred_proc)))\n",
        "\n"
      ],
      "execution_count": 1,
      "outputs": [
        {
          "output_type": "stream",
          "text": [
            "Downloading data from https://www.cs.toronto.edu/~kriz/cifar-100-python.tar.gz\n",
            "169009152/169001437 [==============================] - 2s 0us/step\n",
            "Precision: 0.5109500219394127\n",
            "Recall: 0.4909\n",
            "Accuracy: 0.4909\n"
          ],
          "name": "stdout"
        }
      ]
    }
  ]
}