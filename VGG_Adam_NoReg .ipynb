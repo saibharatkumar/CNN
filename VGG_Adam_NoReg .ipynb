{
  "nbformat": 4,
  "nbformat_minor": 0,
  "metadata": {
    "colab": {
      "name": "VGG_Adam_NoReg.ipynb",
      "provenance": [],
      "collapsed_sections": []
    },
    "kernelspec": {
      "name": "python3",
      "display_name": "Python 3"
    },
    "accelerator": "GPU"
  },
  "cells": [
    {
      "cell_type": "code",
      "metadata": {
        "id": "DHxExJHmHrOi"
      },
      "source": [
        "import tensorflow as tf\n",
        "from tensorflow import keras\n",
        "from tensorflow.keras import layers\n",
        "import numpy as np\n",
        "import datetime as dt\n",
        "from keras.models import Sequential\n",
        "from keras.layers import Dense, Dropout, Flatten\n",
        "from keras.layers import Conv2D, MaxPooling2D,Add,Activation\n",
        "from keras import backend as K\n",
        "import matplotlib.pyplot as plt\n",
        "from keras.preprocessing.image import ImageDataGenerator\n",
        "from sklearn.metrics import confusion_matrix, precision_score, recall_score, accuracy_score\n"
      ],
      "execution_count": null,
      "outputs": []
    },
    {
      "cell_type": "code",
      "metadata": {
        "id": "EdglliqVIpcH",
        "outputId": "3dc68d38-2615-4fdd-f6d1-f85a4d1cba0b",
        "colab": {
          "base_uri": "https://localhost:8080/",
          "height": 50
        }
      },
      "source": [
        "(x_train, y_train), (x_test, y_test) = tf.keras.datasets.cifar100.load_data()"
      ],
      "execution_count": null,
      "outputs": [
        {
          "output_type": "stream",
          "text": [
            "Downloading data from https://www.cs.toronto.edu/~kriz/cifar-100-python.tar.gz\n",
            "169009152/169001437 [==============================] - 4s 0us/step\n"
          ],
          "name": "stdout"
        }
      ]
    },
    {
      "cell_type": "code",
      "metadata": {
        "id": "3xOtuKNpIvmm",
        "outputId": "327e4f3c-a74f-4a17-f5e8-1ab4fb67c413",
        "colab": {
          "base_uri": "https://localhost:8080/",
          "height": 34
        }
      },
      "source": [
        "y_proc=np.zeros((50000,100))\n",
        "for i in range(0,50000):\n",
        "    y_proc[i][y_train[i][0]]=1\n",
        "y_test_proc=np.zeros((10000,100))\n",
        "for i in range(0,10000):\n",
        "    y_test_proc[i][y_test[i][0]]=1\n",
        "y_proc.shape\n",
        "input_shape=(32,32,3)\n",
        "y_test_proc[0]\n",
        "x_train=x_train.astype('float')/255\n",
        "x_test=x_test.astype('float')/255\n",
        "y_test_proc.shape"
      ],
      "execution_count": null,
      "outputs": [
        {
          "output_type": "execute_result",
          "data": {
            "text/plain": [
              "(10000, 100)"
            ]
          },
          "metadata": {
            "tags": []
          },
          "execution_count": 3
        }
      ]
    },
    {
      "cell_type": "code",
      "metadata": {
        "id": "kjNVHplzIxNh"
      },
      "source": [
        "datagen = ImageDataGenerator(\n",
        "    featurewise_center=False,  # set input mean to 0 over the dataset\n",
        "    samplewise_center=False,  # set each sample mean to 0\n",
        "    featurewise_std_normalization=False,  # divide inputs by std of the dataset\n",
        "    samplewise_std_normalization=False,  # divide each input by its std\n",
        "    zca_whitening=False,  # apply ZCA whitening\n",
        "    rotation_range=15,  # randomly rotate images in the range (degrees, 0 to 180)\n",
        "    width_shift_range=0.1,  # randomly shift images horizontally (fraction of total width)\n",
        "    height_shift_range=0.1,  # randomly shift images vertically (fraction of total height)\n",
        "    horizontal_flip=True,  # randomly flip images\n",
        "    vertical_flip=False)  # randomly flip images\n",
        "# (std, mean, and principal components if ZCA whitening is applied).\n",
        "datagen.fit(x_train)"
      ],
      "execution_count": null,
      "outputs": []
    },
    {
      "cell_type": "code",
      "metadata": {
        "id": "Bwee_Z5zIy4v"
      },
      "source": [
        "inputs = keras.Input(shape=input_shape)\n",
        "x = layers.Conv2D(32, 3, activation='relu')(inputs)\n",
        "x = layers.Conv2D(32, 3, activation='relu')(x)\n",
        "x = layers.MaxPool2D((3,3),strides=(1,1), padding='same')(x)\n",
        "x = layers.Conv2D(32, 3, activation='relu')(x)\n",
        "x = layers.Conv2D(32, 3, activation='relu')(x)\n",
        "x = layers.MaxPool2D((3,3),strides=(1,1), padding='same')(x)\n",
        "x = layers.Conv2D(64, 3, activation='relu')(x)\n",
        "x = layers.Conv2D(64, 3, activation='relu')(x)\n",
        "x = layers.Conv2D(64, 3, activation='relu')(x)\n",
        "x = layers.MaxPool2D((3,3),strides=(1,1), padding='same')(x)\n",
        "x = layers.Conv2D(64, 3, activation='relu')(x)\n",
        "x = layers.Conv2D(64, 3, activation='relu')(x)\n",
        "x = layers.Conv2D(64, 3, activation='relu')(x)\n",
        "x = layers.MaxPool2D((3,3),strides=(1,1), padding='same')(x)\n",
        "x = layers.Conv2D(128, 3, activation='relu')(x)\n",
        "x = layers.Conv2D(128, 3, activation='relu')(x)\n",
        "x = layers.Conv2D(128, 3, activation='relu')(x)\n",
        "x = layers.MaxPool2D((3,3),strides=(1,1), padding='same')(x)\n",
        "x=layers.Flatten()(x)\n",
        "\n",
        "x = layers.Dense(256, activation='relu')(x)\n",
        "x = layers.Dense(256, activation='relu')(x)\n",
        "x = layers.Dense(256, activation='relu')(x)\n",
        "\n",
        "outputs = layers.Dense(100, activation='softmax')(x)\n",
        "\n",
        "\n",
        "vgg_net_model = keras.Model(inputs, outputs)"
      ],
      "execution_count": null,
      "outputs": []
    },
    {
      "cell_type": "code",
      "metadata": {
        "id": "b8_otLGWKM43",
        "outputId": "bd1518b4-7247-4b15-f15a-93f993c9a6a1",
        "colab": {
          "base_uri": "https://localhost:8080/",
          "height": 958
        }
      },
      "source": [
        "vgg_net_model.summary()"
      ],
      "execution_count": null,
      "outputs": [
        {
          "output_type": "stream",
          "text": [
            "Model: \"functional_3\"\n",
            "_________________________________________________________________\n",
            "Layer (type)                 Output Shape              Param #   \n",
            "=================================================================\n",
            "input_2 (InputLayer)         [(None, 32, 32, 3)]       0         \n",
            "_________________________________________________________________\n",
            "conv2d_13 (Conv2D)           (None, 30, 30, 32)        896       \n",
            "_________________________________________________________________\n",
            "conv2d_14 (Conv2D)           (None, 28, 28, 32)        9248      \n",
            "_________________________________________________________________\n",
            "max_pooling2d_5 (MaxPooling2 (None, 28, 28, 32)        0         \n",
            "_________________________________________________________________\n",
            "conv2d_15 (Conv2D)           (None, 26, 26, 32)        9248      \n",
            "_________________________________________________________________\n",
            "conv2d_16 (Conv2D)           (None, 24, 24, 32)        9248      \n",
            "_________________________________________________________________\n",
            "max_pooling2d_6 (MaxPooling2 (None, 24, 24, 32)        0         \n",
            "_________________________________________________________________\n",
            "conv2d_17 (Conv2D)           (None, 22, 22, 64)        18496     \n",
            "_________________________________________________________________\n",
            "conv2d_18 (Conv2D)           (None, 20, 20, 64)        36928     \n",
            "_________________________________________________________________\n",
            "conv2d_19 (Conv2D)           (None, 18, 18, 64)        36928     \n",
            "_________________________________________________________________\n",
            "max_pooling2d_7 (MaxPooling2 (None, 18, 18, 64)        0         \n",
            "_________________________________________________________________\n",
            "conv2d_20 (Conv2D)           (None, 16, 16, 64)        36928     \n",
            "_________________________________________________________________\n",
            "conv2d_21 (Conv2D)           (None, 14, 14, 64)        36928     \n",
            "_________________________________________________________________\n",
            "conv2d_22 (Conv2D)           (None, 12, 12, 64)        36928     \n",
            "_________________________________________________________________\n",
            "max_pooling2d_8 (MaxPooling2 (None, 12, 12, 64)        0         \n",
            "_________________________________________________________________\n",
            "conv2d_23 (Conv2D)           (None, 10, 10, 128)       73856     \n",
            "_________________________________________________________________\n",
            "conv2d_24 (Conv2D)           (None, 8, 8, 128)         147584    \n",
            "_________________________________________________________________\n",
            "conv2d_25 (Conv2D)           (None, 6, 6, 128)         147584    \n",
            "_________________________________________________________________\n",
            "max_pooling2d_9 (MaxPooling2 (None, 6, 6, 128)         0         \n",
            "_________________________________________________________________\n",
            "flatten_1 (Flatten)          (None, 4608)              0         \n",
            "_________________________________________________________________\n",
            "dense_4 (Dense)              (None, 256)               1179904   \n",
            "_________________________________________________________________\n",
            "dense_5 (Dense)              (None, 256)               65792     \n",
            "_________________________________________________________________\n",
            "dense_6 (Dense)              (None, 256)               65792     \n",
            "_________________________________________________________________\n",
            "dense_7 (Dense)              (None, 100)               25700     \n",
            "=================================================================\n",
            "Total params: 1,937,988\n",
            "Trainable params: 1,937,988\n",
            "Non-trainable params: 0\n",
            "_________________________________________________________________\n"
          ],
          "name": "stdout"
        }
      ]
    },
    {
      "cell_type": "code",
      "metadata": {
        "id": "9iCKoHIdKQPm",
        "outputId": "88aa11af-823c-475e-8b87-3d1b5fdb9f74",
        "colab": {
          "base_uri": "https://localhost:8080/",
          "height": 1000
        }
      },
      "source": [
        "%load_ext tensorboard\n",
        "tensor_board = tf.keras.callbacks.TensorBoard(log_dir='tensorboard',histogram_freq=1)\n",
        "vgg_net_model.compile(optimizer=keras.optimizers.Adam(lr=0.0001,clipvalue=0.7,clipnorm=0.7),\n",
        "              loss='categorical_crossentropy',\n",
        "              metrics=['acc'])\n",
        "callback = tf.keras.callbacks.EarlyStopping(monitor='loss', patience=3,min_delta=0.0001)\n",
        "model_checkpoint_callback = tf.keras.callbacks.ModelCheckpoint(\n",
        "    filepath='vgg_adam_noreg.hdf5',\n",
        "    save_weights_only=True,\n",
        "    monitor='val_acc',\n",
        "    mode='max',\n",
        "    save_best_only=True)\n",
        "# vgg_net_model.fit(x_train,y_proc,batch_size=200,validation_data=(x_test,y_test_proc),epochs=50,callbacks=[callback,model_checkpoint_callback])\n",
        "output=vgg_net_model.fit_generator(datagen.flow(x_train,y_proc,batch_size = 200), epochs = 100, validation_data = (x_test,y_test_proc),callbacks = [tensor_board,callback,model_checkpoint_callback])"
      ],
      "execution_count": null,
      "outputs": [
        {
          "output_type": "stream",
          "text": [
            "The tensorboard extension is already loaded. To reload it, use:\n",
            "  %reload_ext tensorboard\n",
            "Epoch 1/100\n",
            "  2/250 [..............................] - ETA: 39s - loss: 2.5693 - acc: 0.3700WARNING:tensorflow:Callbacks method `on_train_batch_end` is slow compared to the batch time (batch time: 0.1233s vs `on_train_batch_end` time: 0.1930s). Check your callbacks.\n",
            "250/250 [==============================] - 34s 136ms/step - loss: 2.1526 - acc: 0.4249 - val_loss: 2.5525 - val_acc: 0.3625\n",
            "Epoch 2/100\n",
            "250/250 [==============================] - 34s 135ms/step - loss: 2.1340 - acc: 0.4248 - val_loss: 2.5862 - val_acc: 0.3537\n",
            "Epoch 3/100\n",
            "250/250 [==============================] - 34s 134ms/step - loss: 2.1260 - acc: 0.4303 - val_loss: 2.4865 - val_acc: 0.3723\n",
            "Epoch 4/100\n",
            "250/250 [==============================] - 34s 135ms/step - loss: 2.1148 - acc: 0.4293 - val_loss: 2.5532 - val_acc: 0.3550\n",
            "Epoch 5/100\n",
            "250/250 [==============================] - 33s 134ms/step - loss: 2.1128 - acc: 0.4296 - val_loss: 2.5724 - val_acc: 0.3552\n",
            "Epoch 6/100\n",
            "250/250 [==============================] - 34s 135ms/step - loss: 2.1083 - acc: 0.4334 - val_loss: 2.5894 - val_acc: 0.3505\n",
            "Epoch 7/100\n",
            "250/250 [==============================] - 34s 135ms/step - loss: 2.0991 - acc: 0.4350 - val_loss: 2.4977 - val_acc: 0.3724\n",
            "Epoch 8/100\n",
            "250/250 [==============================] - 34s 136ms/step - loss: 2.0985 - acc: 0.4349 - val_loss: 2.5582 - val_acc: 0.3544\n",
            "Epoch 9/100\n",
            "250/250 [==============================] - 34s 134ms/step - loss: 2.0928 - acc: 0.4347 - val_loss: 2.6255 - val_acc: 0.3580\n",
            "Epoch 10/100\n",
            "250/250 [==============================] - 33s 134ms/step - loss: 2.0971 - acc: 0.4339 - val_loss: 2.6297 - val_acc: 0.3472\n",
            "Epoch 11/100\n",
            "250/250 [==============================] - 33s 134ms/step - loss: 2.0914 - acc: 0.4366 - val_loss: 2.5823 - val_acc: 0.3565\n",
            "Epoch 12/100\n",
            "250/250 [==============================] - 33s 133ms/step - loss: 2.0790 - acc: 0.4407 - val_loss: 2.6599 - val_acc: 0.3412\n",
            "Epoch 13/100\n",
            "250/250 [==============================] - 33s 133ms/step - loss: 2.0708 - acc: 0.4416 - val_loss: 2.6000 - val_acc: 0.3656\n",
            "Epoch 14/100\n",
            "250/250 [==============================] - 34s 134ms/step - loss: 2.0727 - acc: 0.4407 - val_loss: 2.5354 - val_acc: 0.3690\n",
            "Epoch 15/100\n",
            "250/250 [==============================] - 34s 134ms/step - loss: 2.0654 - acc: 0.4438 - val_loss: 2.5207 - val_acc: 0.3705\n",
            "Epoch 16/100\n",
            "250/250 [==============================] - 33s 133ms/step - loss: 2.0633 - acc: 0.4410 - val_loss: 2.6504 - val_acc: 0.3521\n",
            "Epoch 17/100\n",
            "250/250 [==============================] - 34s 134ms/step - loss: 2.0648 - acc: 0.4435 - val_loss: 2.7344 - val_acc: 0.3357\n",
            "Epoch 18/100\n",
            "250/250 [==============================] - 33s 134ms/step - loss: 2.0559 - acc: 0.4444 - val_loss: 2.5670 - val_acc: 0.3600\n",
            "Epoch 19/100\n",
            "250/250 [==============================] - 33s 133ms/step - loss: 2.0427 - acc: 0.4476 - val_loss: 2.5818 - val_acc: 0.3662\n",
            "Epoch 20/100\n",
            "250/250 [==============================] - 33s 133ms/step - loss: 2.0528 - acc: 0.4438 - val_loss: 2.5413 - val_acc: 0.3686\n",
            "Epoch 21/100\n",
            "250/250 [==============================] - 33s 133ms/step - loss: 2.0404 - acc: 0.4491 - val_loss: 2.5760 - val_acc: 0.3588\n",
            "Epoch 22/100\n",
            "250/250 [==============================] - 34s 134ms/step - loss: 2.0454 - acc: 0.4481 - val_loss: 2.4283 - val_acc: 0.3810\n",
            "Epoch 23/100\n",
            "250/250 [==============================] - 33s 134ms/step - loss: 2.0321 - acc: 0.4493 - val_loss: 2.5241 - val_acc: 0.3670\n",
            "Epoch 24/100\n",
            "250/250 [==============================] - 33s 134ms/step - loss: 2.0343 - acc: 0.4453 - val_loss: 2.5465 - val_acc: 0.3650\n",
            "Epoch 25/100\n",
            "250/250 [==============================] - 34s 134ms/step - loss: 2.0295 - acc: 0.4470 - val_loss: 2.5218 - val_acc: 0.3691\n",
            "Epoch 26/100\n",
            "250/250 [==============================] - 33s 134ms/step - loss: 2.0050 - acc: 0.4551 - val_loss: 2.5809 - val_acc: 0.3601\n",
            "Epoch 27/100\n",
            "250/250 [==============================] - 33s 134ms/step - loss: 2.0134 - acc: 0.4537 - val_loss: 2.6154 - val_acc: 0.3572\n",
            "Epoch 28/100\n",
            "250/250 [==============================] - 33s 134ms/step - loss: 2.0029 - acc: 0.4552 - val_loss: 2.5251 - val_acc: 0.3690\n",
            "Epoch 29/100\n",
            "250/250 [==============================] - 33s 134ms/step - loss: 2.0016 - acc: 0.4546 - val_loss: 2.4916 - val_acc: 0.3772\n",
            "Epoch 30/100\n",
            "250/250 [==============================] - 33s 133ms/step - loss: 2.0017 - acc: 0.4556 - val_loss: 2.4885 - val_acc: 0.3818\n",
            "Epoch 31/100\n",
            "250/250 [==============================] - 33s 133ms/step - loss: 2.0017 - acc: 0.4554 - val_loss: 2.4834 - val_acc: 0.3777\n",
            "Epoch 32/100\n",
            "250/250 [==============================] - 33s 134ms/step - loss: 1.9897 - acc: 0.4585 - val_loss: 2.5205 - val_acc: 0.3671\n",
            "Epoch 33/100\n",
            "250/250 [==============================] - 33s 133ms/step - loss: 1.9940 - acc: 0.4577 - val_loss: 2.7749 - val_acc: 0.3421\n",
            "Epoch 34/100\n",
            "250/250 [==============================] - 33s 134ms/step - loss: 1.9852 - acc: 0.4609 - val_loss: 2.4891 - val_acc: 0.3848\n",
            "Epoch 35/100\n",
            "250/250 [==============================] - 33s 133ms/step - loss: 1.9794 - acc: 0.4593 - val_loss: 2.5861 - val_acc: 0.3576\n",
            "Epoch 36/100\n",
            "250/250 [==============================] - 34s 135ms/step - loss: 1.9810 - acc: 0.4606 - val_loss: 2.4386 - val_acc: 0.3857\n",
            "Epoch 37/100\n",
            "250/250 [==============================] - 33s 133ms/step - loss: 1.9745 - acc: 0.4612 - val_loss: 2.6522 - val_acc: 0.3517\n",
            "Epoch 38/100\n",
            "250/250 [==============================] - 33s 133ms/step - loss: 1.9755 - acc: 0.4609 - val_loss: 2.5131 - val_acc: 0.3748\n",
            "Epoch 39/100\n",
            "250/250 [==============================] - 33s 132ms/step - loss: 1.9592 - acc: 0.4650 - val_loss: 2.5843 - val_acc: 0.3681\n",
            "Epoch 40/100\n",
            "250/250 [==============================] - 33s 131ms/step - loss: 1.9626 - acc: 0.4618 - val_loss: 2.6086 - val_acc: 0.3630\n",
            "Epoch 41/100\n",
            "250/250 [==============================] - 33s 133ms/step - loss: 1.9617 - acc: 0.4627 - val_loss: 2.4827 - val_acc: 0.3823\n",
            "Epoch 42/100\n",
            "250/250 [==============================] - 33s 130ms/step - loss: 1.9568 - acc: 0.4652 - val_loss: 2.6471 - val_acc: 0.3565\n",
            "Epoch 43/100\n",
            "250/250 [==============================] - 33s 131ms/step - loss: 1.9512 - acc: 0.4660 - val_loss: 2.4775 - val_acc: 0.3820\n",
            "Epoch 44/100\n",
            "250/250 [==============================] - 33s 131ms/step - loss: 1.9457 - acc: 0.4683 - val_loss: 2.5710 - val_acc: 0.3574\n",
            "Epoch 45/100\n",
            "250/250 [==============================] - 32s 130ms/step - loss: 1.9467 - acc: 0.4679 - val_loss: 2.5157 - val_acc: 0.3743\n",
            "Epoch 46/100\n",
            "250/250 [==============================] - 33s 132ms/step - loss: 1.9305 - acc: 0.4719 - val_loss: 2.4215 - val_acc: 0.3956\n",
            "Epoch 47/100\n",
            "250/250 [==============================] - 33s 130ms/step - loss: 1.9343 - acc: 0.4702 - val_loss: 2.4200 - val_acc: 0.3867\n",
            "Epoch 48/100\n",
            "250/250 [==============================] - 33s 130ms/step - loss: 1.9296 - acc: 0.4710 - val_loss: 2.6201 - val_acc: 0.3572\n",
            "Epoch 49/100\n",
            "250/250 [==============================] - 32s 130ms/step - loss: 1.9246 - acc: 0.4734 - val_loss: 2.5372 - val_acc: 0.3835\n",
            "Epoch 50/100\n",
            "250/250 [==============================] - 32s 130ms/step - loss: 1.9284 - acc: 0.4706 - val_loss: 2.4624 - val_acc: 0.3883\n",
            "Epoch 51/100\n",
            "250/250 [==============================] - 32s 129ms/step - loss: 1.9337 - acc: 0.4692 - val_loss: 2.5439 - val_acc: 0.3707\n",
            "Epoch 52/100\n",
            "250/250 [==============================] - 32s 129ms/step - loss: 1.9220 - acc: 0.4726 - val_loss: 2.5277 - val_acc: 0.3767\n",
            "Epoch 53/100\n",
            "250/250 [==============================] - 32s 130ms/step - loss: 1.9151 - acc: 0.4757 - val_loss: 2.5050 - val_acc: 0.3743\n",
            "Epoch 54/100\n",
            "250/250 [==============================] - 32s 130ms/step - loss: 1.9131 - acc: 0.4748 - val_loss: 2.5109 - val_acc: 0.3786\n",
            "Epoch 55/100\n",
            "250/250 [==============================] - 33s 130ms/step - loss: 1.9059 - acc: 0.4754 - val_loss: 2.6361 - val_acc: 0.3588\n",
            "Epoch 56/100\n",
            "250/250 [==============================] - 33s 131ms/step - loss: 1.9000 - acc: 0.4757 - val_loss: 2.5191 - val_acc: 0.3831\n",
            "Epoch 57/100\n",
            "250/250 [==============================] - 33s 130ms/step - loss: 1.8979 - acc: 0.4783 - val_loss: 2.6269 - val_acc: 0.3603\n",
            "Epoch 58/100\n",
            "250/250 [==============================] - 33s 131ms/step - loss: 1.8954 - acc: 0.4794 - val_loss: 2.5203 - val_acc: 0.3765\n",
            "Epoch 59/100\n",
            "250/250 [==============================] - 33s 131ms/step - loss: 1.8879 - acc: 0.4828 - val_loss: 2.4879 - val_acc: 0.3819\n",
            "Epoch 60/100\n",
            "250/250 [==============================] - 33s 131ms/step - loss: 1.8781 - acc: 0.4842 - val_loss: 2.4663 - val_acc: 0.3875\n",
            "Epoch 61/100\n",
            "250/250 [==============================] - 33s 131ms/step - loss: 1.8879 - acc: 0.4811 - val_loss: 2.5078 - val_acc: 0.3733\n",
            "Epoch 62/100\n",
            "250/250 [==============================] - 33s 130ms/step - loss: 1.8895 - acc: 0.4808 - val_loss: 2.6241 - val_acc: 0.3593\n",
            "Epoch 63/100\n",
            "250/250 [==============================] - 33s 131ms/step - loss: 1.8744 - acc: 0.4872 - val_loss: 2.6372 - val_acc: 0.3662\n",
            "Epoch 64/100\n",
            "250/250 [==============================] - 33s 131ms/step - loss: 1.8751 - acc: 0.4865 - val_loss: 2.5183 - val_acc: 0.3765\n",
            "Epoch 65/100\n",
            "250/250 [==============================] - 33s 131ms/step - loss: 1.8703 - acc: 0.4856 - val_loss: 2.5376 - val_acc: 0.3717\n",
            "Epoch 66/100\n",
            "250/250 [==============================] - 33s 131ms/step - loss: 1.8694 - acc: 0.4854 - val_loss: 2.5066 - val_acc: 0.3827\n",
            "Epoch 67/100\n",
            "250/250 [==============================] - 33s 131ms/step - loss: 1.8639 - acc: 0.4878 - val_loss: 2.5572 - val_acc: 0.3716\n",
            "Epoch 68/100\n",
            "250/250 [==============================] - 32s 129ms/step - loss: 1.8588 - acc: 0.4859 - val_loss: 2.5011 - val_acc: 0.3880\n",
            "Epoch 69/100\n",
            "250/250 [==============================] - 32s 129ms/step - loss: 1.8580 - acc: 0.4862 - val_loss: 2.5441 - val_acc: 0.3780\n",
            "Epoch 70/100\n",
            "250/250 [==============================] - 32s 129ms/step - loss: 1.8538 - acc: 0.4880 - val_loss: 2.5784 - val_acc: 0.3767\n",
            "Epoch 71/100\n",
            "250/250 [==============================] - 33s 133ms/step - loss: 1.8482 - acc: 0.4911 - val_loss: 2.4906 - val_acc: 0.3832\n",
            "Epoch 72/100\n",
            "250/250 [==============================] - 34s 135ms/step - loss: 1.8477 - acc: 0.4890 - val_loss: 2.5267 - val_acc: 0.3843\n",
            "Epoch 73/100\n",
            "250/250 [==============================] - 33s 134ms/step - loss: 1.8475 - acc: 0.4915 - val_loss: 2.5999 - val_acc: 0.3664\n",
            "Epoch 74/100\n",
            "250/250 [==============================] - 33s 133ms/step - loss: 1.8434 - acc: 0.4897 - val_loss: 2.4456 - val_acc: 0.3965\n",
            "Epoch 75/100\n",
            "250/250 [==============================] - 33s 132ms/step - loss: 1.8372 - acc: 0.4914 - val_loss: 2.5648 - val_acc: 0.3781\n",
            "Epoch 76/100\n",
            "250/250 [==============================] - 33s 132ms/step - loss: 1.8338 - acc: 0.4925 - val_loss: 2.6418 - val_acc: 0.3688\n",
            "Epoch 77/100\n",
            "250/250 [==============================] - 33s 132ms/step - loss: 1.8254 - acc: 0.4951 - val_loss: 2.5633 - val_acc: 0.3738\n",
            "Epoch 78/100\n",
            "250/250 [==============================] - 33s 132ms/step - loss: 1.8238 - acc: 0.4938 - val_loss: 2.4517 - val_acc: 0.3906\n",
            "Epoch 79/100\n",
            "250/250 [==============================] - 33s 131ms/step - loss: 1.8281 - acc: 0.4950 - val_loss: 2.4177 - val_acc: 0.4000\n",
            "Epoch 80/100\n",
            "250/250 [==============================] - 33s 133ms/step - loss: 1.8315 - acc: 0.4935 - val_loss: 2.4853 - val_acc: 0.3890\n",
            "Epoch 81/100\n",
            "250/250 [==============================] - 33s 132ms/step - loss: 1.8192 - acc: 0.4977 - val_loss: 2.5500 - val_acc: 0.3752\n",
            "Epoch 82/100\n",
            "250/250 [==============================] - 33s 132ms/step - loss: 1.8123 - acc: 0.4996 - val_loss: 2.4575 - val_acc: 0.3881\n",
            "Epoch 83/100\n",
            "250/250 [==============================] - 33s 133ms/step - loss: 1.8088 - acc: 0.4987 - val_loss: 2.4321 - val_acc: 0.3986\n",
            "Epoch 84/100\n",
            "250/250 [==============================] - 33s 133ms/step - loss: 1.8072 - acc: 0.4974 - val_loss: 2.5501 - val_acc: 0.3768\n",
            "Epoch 85/100\n",
            "250/250 [==============================] - 33s 132ms/step - loss: 1.7982 - acc: 0.4986 - val_loss: 2.5252 - val_acc: 0.3812\n",
            "Epoch 86/100\n",
            "250/250 [==============================] - 33s 132ms/step - loss: 1.8104 - acc: 0.4941 - val_loss: 2.5917 - val_acc: 0.3728\n",
            "Epoch 87/100\n",
            "250/250 [==============================] - 33s 132ms/step - loss: 1.7957 - acc: 0.5026 - val_loss: 2.4737 - val_acc: 0.3929\n",
            "Epoch 88/100\n",
            "250/250 [==============================] - 33s 133ms/step - loss: 1.8022 - acc: 0.4983 - val_loss: 2.4459 - val_acc: 0.3884\n",
            "Epoch 89/100\n",
            "250/250 [==============================] - 33s 132ms/step - loss: 1.7922 - acc: 0.5041 - val_loss: 2.5079 - val_acc: 0.3862\n",
            "Epoch 90/100\n",
            "250/250 [==============================] - 33s 131ms/step - loss: 1.7959 - acc: 0.5011 - val_loss: 2.6272 - val_acc: 0.3689\n",
            "Epoch 91/100\n",
            "250/250 [==============================] - 33s 131ms/step - loss: 1.7946 - acc: 0.5027 - val_loss: 2.5420 - val_acc: 0.3805\n",
            "Epoch 92/100\n",
            "250/250 [==============================] - 33s 132ms/step - loss: 1.7829 - acc: 0.5044 - val_loss: 2.5443 - val_acc: 0.3815\n",
            "Epoch 93/100\n",
            "250/250 [==============================] - 33s 133ms/step - loss: 1.7850 - acc: 0.5062 - val_loss: 2.5868 - val_acc: 0.3733\n",
            "Epoch 94/100\n",
            "250/250 [==============================] - 33s 132ms/step - loss: 1.7753 - acc: 0.5056 - val_loss: 2.4912 - val_acc: 0.3899\n",
            "Epoch 95/100\n",
            "250/250 [==============================] - 33s 132ms/step - loss: 1.7734 - acc: 0.5068 - val_loss: 2.5617 - val_acc: 0.3757\n",
            "Epoch 96/100\n",
            "250/250 [==============================] - 33s 133ms/step - loss: 1.7672 - acc: 0.5078 - val_loss: 2.5260 - val_acc: 0.3869\n",
            "Epoch 97/100\n",
            "250/250 [==============================] - 33s 131ms/step - loss: 1.7620 - acc: 0.5092 - val_loss: 2.6617 - val_acc: 0.3543\n",
            "Epoch 98/100\n",
            "250/250 [==============================] - 33s 132ms/step - loss: 1.7617 - acc: 0.5118 - val_loss: 2.5468 - val_acc: 0.3787\n",
            "Epoch 99/100\n",
            "250/250 [==============================] - 33s 131ms/step - loss: 1.7648 - acc: 0.5086 - val_loss: 2.6118 - val_acc: 0.3740\n",
            "Epoch 100/100\n",
            "250/250 [==============================] - 33s 131ms/step - loss: 1.7611 - acc: 0.5090 - val_loss: 2.4707 - val_acc: 0.3973\n"
          ],
          "name": "stdout"
        }
      ]
    },
    {
      "cell_type": "code",
      "metadata": {
        "id": "JTEGhOaJKnB5",
        "outputId": "ddbb7260-938f-49be-b793-72ec74e42aa2",
        "colab": {
          "base_uri": "https://localhost:8080/",
          "height": 67
        }
      },
      "source": [
        "\n",
        "y_pred=vgg_net_model.predict(x_test)\n",
        "# tf.one_hot(y_pred)\n",
        "# y_pred=np.where(y_pred[0]=max(y_pred[0],1,0))\n",
        "y_pred_proc=np.zeros((10000,100))\n",
        "for i in range(0,10000):\n",
        "    y_pred_proc[i][np.argmax(y_pred[i])]=1\n",
        "print(\"Precision: \"+ str(precision_score(y_test_proc, y_pred_proc, average='weighted')))\n",
        "print(\"Recall: \"+ str(recall_score(y_test_proc, y_pred_proc, average='weighted')))\n",
        "print(\"Accuracy: \"+ str(accuracy_score(y_test_proc, y_pred_proc)))"
      ],
      "execution_count": null,
      "outputs": [
        {
          "output_type": "stream",
          "text": [
            "Precision: 0.41986625512164116\n",
            "Recall: 0.3973\n",
            "Accuracy: 0.3973\n"
          ],
          "name": "stdout"
        }
      ]
    },
    {
      "cell_type": "code",
      "metadata": {
        "id": "seiMcUtKgNsh",
        "outputId": "4ed07bb8-a2c7-4331-b661-254f782d4053",
        "colab": {
          "base_uri": "https://localhost:8080/",
          "height": 282
        }
      },
      "source": [
        "plt.plot(output.history['acc'])\n",
        "plt.plot(output.history['val_acc'])\n",
        "plt.legend(['Training Accuracy','Testing Accuracy'])\n"
      ],
      "execution_count": null,
      "outputs": [
        {
          "output_type": "execute_result",
          "data": {
            "text/plain": [
              "<matplotlib.legend.Legend at 0x7fb61d49f0f0>"
            ]
          },
          "metadata": {
            "tags": []
          },
          "execution_count": 15
        },
        {
          "output_type": "display_data",
          "data": {
            "image/png": "[encoded data removed]",
            "text/plain": [
              "<Figure size 432x288 with 1 Axes>"
            ]
          },
          "metadata": {
            "tags": [],
            "needs_background": "light"
          }
        }
      ]
    },
    {
      "cell_type": "code",
      "metadata": {
        "id": "uLY3-wt-gP96",
        "outputId": "064ced90-8652-4481-a845-93e0c80ce8f2",
        "colab": {
          "base_uri": "https://localhost:8080/",
          "height": 282
        }
      },
      "source": [
        "plt.plot(output.history['loss'])\n",
        "plt.plot(output.history['val_loss'])\n",
        "plt.legend(['Training loss','Testing loss'])"
      ],
      "execution_count": null,
      "outputs": [
        {
          "output_type": "execute_result",
          "data": {
            "text/plain": [
              "<matplotlib.legend.Legend at 0x7fb61cf70c50>"
            ]
          },
          "metadata": {
            "tags": []
          },
          "execution_count": 16
        },
        {
          "output_type": "display_data",
          "data": {
            "image/png": "[encoded data removed]",
            "text/plain": [
              "<Figure size 432x288 with 1 Axes>"
            ]
          },
          "metadata": {
            "tags": [],
            "needs_background": "light"
          }
        }
      ]
    },
    {
      "cell_type": "code",
      "metadata": {
        "id": "b0RuJPDdgSBs",
        "outputId": "ccc62780-1623-40ad-b44b-6e6460199515",
        "colab": {
          "base_uri": "https://localhost:8080/",
          "height": 101
        }
      },
      "source": [
        "import tensorflow as tf\n",
        "from tensorflow import keras\n",
        "from tensorflow.keras import layers\n",
        "import numpy as np\n",
        "import datetime as dt\n",
        "from keras.models import Sequential\n",
        "from keras.layers import Dense, Dropout, Flatten\n",
        "from keras.layers import Conv2D, MaxPooling2D,Add,Activation\n",
        "from keras import backend as K\n",
        "import matplotlib.pyplot as plt\n",
        "from keras.preprocessing.image import ImageDataGenerator\n",
        "from sklearn.metrics import confusion_matrix, precision_score, recall_score, accuracy_score\n",
        "\n",
        "(x_train, y_train), (x_test, y_test) = tf.keras.datasets.cifar100.load_data()\n",
        "\n",
        "y_proc=np.zeros((50000,100))\n",
        "for i in range(0,50000):\n",
        "    y_proc[i][y_train[i][0]]=1\n",
        "y_test_proc=np.zeros((10000,100))\n",
        "for i in range(0,10000):\n",
        "    y_test_proc[i][y_test[i][0]]=1\n",
        "y_proc.shape\n",
        "input_shape=(32,32,3)\n",
        "y_test_proc[0]\n",
        "x_train=x_train.astype('float')/255\n",
        "x_test=x_test.astype('float')/255\n",
        "y_test_proc.shape\n",
        "\n",
        "inputs = keras.Input(shape=input_shape)\n",
        "x = layers.Conv2D(32, 3, activation='relu')(inputs)\n",
        "x = layers.Conv2D(32, 3, activation='relu')(x)\n",
        "x = layers.MaxPool2D((3,3),strides=(1,1), padding='same')(x)\n",
        "x = layers.Conv2D(32, 3, activation='relu')(x)\n",
        "x = layers.Conv2D(32, 3, activation='relu')(x)\n",
        "x = layers.MaxPool2D((3,3),strides=(1,1), padding='same')(x)\n",
        "x = layers.Conv2D(64, 3, activation='relu')(x)\n",
        "x = layers.Conv2D(64, 3, activation='relu')(x)\n",
        "x = layers.Conv2D(64, 3, activation='relu')(x)\n",
        "x = layers.MaxPool2D((3,3),strides=(1,1), padding='same')(x)\n",
        "x = layers.Conv2D(64, 3, activation='relu')(x)\n",
        "x = layers.Conv2D(64, 3, activation='relu')(x)\n",
        "x = layers.Conv2D(64, 3, activation='relu')(x)\n",
        "x = layers.MaxPool2D((3,3),strides=(1,1), padding='same')(x)\n",
        "x = layers.Conv2D(128, 3, activation='relu')(x)\n",
        "x = layers.Conv2D(128, 3, activation='relu')(x)\n",
        "x = layers.Conv2D(128, 3, activation='relu')(x)\n",
        "x = layers.MaxPool2D((3,3),strides=(1,1), padding='same')(x)\n",
        "x=layers.Flatten()(x)\n",
        "\n",
        "x = layers.Dense(256, activation='relu')(x)\n",
        "x = layers.Dense(256, activation='relu')(x)\n",
        "x = layers.Dense(256, activation='relu')(x)\n",
        "\n",
        "outputs = layers.Dense(100, activation='softmax')(x)\n",
        "\n",
        "\n",
        "vgg_net_model = keras.Model(inputs, outputs)\n",
        "\n",
        "vgg_net_model.load_weights('../weights/vgg_adam_noreg.hdf5')\n",
        "\n",
        "\n",
        "y_pred=vgg_net_model.predict(x_test)\n",
        "# tf.one_hot(y_pred)\n",
        "# y_pred=np.where(y_pred[0]=max(y_pred[0],1,0))\n",
        "y_pred_proc=np.zeros((10000,100))\n",
        "for i in range(0,10000):\n",
        "    y_pred_proc[i][np.argmax(y_pred[i])]=1\n",
        "print(\"Precision: \"+ str(precision_score(y_test_proc, y_pred_proc, average='weighted')))\n",
        "print(\"Recall: \"+ str(recall_score(y_test_proc, y_pred_proc, average='weighted')))\n",
        "print(\"Accuracy: \"+ str(accuracy_score(y_test_proc, y_pred_proc)))"
      ],
      "execution_count": 1,
      "outputs": [
        {
          "output_type": "stream",
          "text": [
            "Downloading data from https://www.cs.toronto.edu/~kriz/cifar-100-python.tar.gz\n",
            "169009152/169001437 [==============================] - 4s 0us/step\n",
            "Precision: 0.41381561376338094\n",
            "Recall: 0.4\n",
            "Accuracy: 0.4\n"
          ],
          "name": "stdout"
        }
      ]
    }
  ]
}