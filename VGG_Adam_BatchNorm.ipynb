{
  "nbformat": 4,
  "nbformat_minor": 0,
  "metadata": {
    "colab": {
      "name": "VGG_Adam_BatchNorm.ipynb",
      "provenance": [],
      "collapsed_sections": []
    },
    "kernelspec": {
      "name": "python3",
      "display_name": "Python 3"
    },
    "accelerator": "GPU"
  },
  "cells": [
    {
      "cell_type": "code",
      "metadata": {
        "id": "DHxExJHmHrOi"
      },
      "source": [
        "import tensorflow as tf\n",
        "from tensorflow import keras\n",
        "from tensorflow.keras import layers\n",
        "import numpy as np\n",
        "import datetime as dt\n",
        "from keras.models import Sequential\n",
        "from keras.layers import Dense, Dropout, Flatten\n",
        "from keras.layers import Conv2D, MaxPooling2D,Add,Activation\n",
        "from keras import backend as K\n",
        "import matplotlib.pyplot as plt\n",
        "from keras.preprocessing.image import ImageDataGenerator\n",
        "from sklearn.metrics import confusion_matrix, precision_score, recall_score, accuracy_score\n"
      ],
      "execution_count": null,
      "outputs": []
    },
    {
      "cell_type": "code",
      "metadata": {
        "id": "EdglliqVIpcH",
        "outputId": "48086c47-864f-404d-9d42-803ed21221e8",
        "colab": {
          "base_uri": "https://localhost:8080/",
          "height": 50
        }
      },
      "source": [
        "(x_train, y_train), (x_test, y_test) = tf.keras.datasets.cifar100.load_data()"
      ],
      "execution_count": null,
      "outputs": [
        {
          "output_type": "stream",
          "text": [
            "Downloading data from https://www.cs.toronto.edu/~kriz/cifar-100-python.tar.gz\n",
            "169009152/169001437 [==============================] - 4s 0us/step\n"
          ],
          "name": "stdout"
        }
      ]
    },
    {
      "cell_type": "code",
      "metadata": {
        "id": "3xOtuKNpIvmm",
        "outputId": "e1a3787f-fd1a-4f68-fba0-764a9d543e6e",
        "colab": {
          "base_uri": "https://localhost:8080/",
          "height": 34
        }
      },
      "source": [
        "y_proc=np.zeros((50000,100))\n",
        "for i in range(0,50000):\n",
        "    y_proc[i][y_train[i][0]]=1\n",
        "y_test_proc=np.zeros((10000,100))\n",
        "for i in range(0,10000):\n",
        "    y_test_proc[i][y_test[i][0]]=1\n",
        "y_proc.shape\n",
        "input_shape=(32,32,3)\n",
        "y_test_proc[0]\n",
        "x_train=x_train.astype('float')/255\n",
        "x_test=x_test.astype('float')/255\n",
        "y_test_proc.shape"
      ],
      "execution_count": null,
      "outputs": [
        {
          "output_type": "execute_result",
          "data": {
            "text/plain": [
              "(10000, 100)"
            ]
          },
          "metadata": {
            "tags": []
          },
          "execution_count": 3
        }
      ]
    },
    {
      "cell_type": "code",
      "metadata": {
        "id": "kjNVHplzIxNh"
      },
      "source": [
        "datagen = ImageDataGenerator(\n",
        "    featurewise_center=False,  # set input mean to 0 over the dataset\n",
        "    samplewise_center=False,  # set each sample mean to 0\n",
        "    featurewise_std_normalization=False,  # divide inputs by std of the dataset\n",
        "    samplewise_std_normalization=False,  # divide each input by its std\n",
        "    zca_whitening=False,  # apply ZCA whitening\n",
        "    rotation_range=15,  # randomly rotate images in the range (degrees, 0 to 180)\n",
        "    width_shift_range=0.1,  # randomly shift images horizontally (fraction of total width)\n",
        "    height_shift_range=0.1,  # randomly shift images vertically (fraction of total height)\n",
        "    horizontal_flip=True,  # randomly flip images\n",
        "    vertical_flip=False)  # randomly flip images\n",
        "# (std, mean, and principal components if ZCA whitening is applied).\n",
        "datagen.fit(x_train)"
      ],
      "execution_count": null,
      "outputs": []
    },
    {
      "cell_type": "code",
      "metadata": {
        "id": "Bwee_Z5zIy4v"
      },
      "source": [
        "inputs = keras.Input(shape=input_shape)\n",
        "x = layers.Conv2D(32, 3, activation='relu')(inputs)\n",
        "x = layers.Conv2D(32, 3, activation='relu')(x)\n",
        "x=layers.BatchNormalization()(x)\n",
        "x = layers.MaxPool2D((3,3),strides=(1,1), padding='same')(x)\n",
        "x = layers.Conv2D(32, 3, activation='relu')(x)\n",
        "x = layers.Conv2D(32, 3, activation='relu')(x)\n",
        "x = layers.MaxPool2D((3,3),strides=(1,1), padding='same')(x)\n",
        "x = layers.Conv2D(64, 3, activation='relu')(x)\n",
        "x = layers.Conv2D(64, 3, activation='relu')(x)\n",
        "x = layers.Conv2D(64, 3, activation='relu')(x)\n",
        "x=layers.BatchNormalization()(x)\n",
        "x = layers.MaxPool2D((3,3),strides=(1,1), padding='same')(x)\n",
        "x = layers.Conv2D(64, 3, activation='relu')(x)\n",
        "x = layers.Conv2D(64, 3, activation='relu')(x)\n",
        "x = layers.Conv2D(64, 3, activation='relu')(x)\n",
        "x=layers.BatchNormalization()(x)\n",
        "x = layers.MaxPool2D((3,3),strides=(1,1), padding='same')(x)\n",
        "x = layers.Conv2D(128, 3, activation='relu')(x)\n",
        "x = layers.Conv2D(128, 3, activation='relu')(x)\n",
        "x = layers.Conv2D(128, 3, activation='relu')(x)\n",
        "x=layers.BatchNormalization()(x)\n",
        "x = layers.MaxPool2D((3,3),strides=(1,1), padding='same')(x)\n",
        "x=layers.Flatten()(x)\n",
        "\n",
        "x = layers.Dense(256, activation='relu')(x)\n",
        "x = layers.Dense(256, activation='relu')(x)\n",
        "x = layers.Dense(256, activation='relu')(x)\n",
        "\n",
        "outputs = layers.Dense(100, activation='softmax')(x)\n",
        "\n",
        "\n",
        "vgg_net_model = keras.Model(inputs, outputs)"
      ],
      "execution_count": null,
      "outputs": []
    },
    {
      "cell_type": "code",
      "metadata": {
        "id": "b8_otLGWKM43",
        "outputId": "3f29d1d4-f6da-4126-c6c8-e94eb6f88828",
        "colab": {
          "base_uri": "https://localhost:8080/",
          "height": 1000
        }
      },
      "source": [
        "vgg_net_model.summary()"
      ],
      "execution_count": null,
      "outputs": [
        {
          "output_type": "stream",
          "text": [
            "Model: \"functional_1\"\n",
            "_________________________________________________________________\n",
            "Layer (type)                 Output Shape              Param #   \n",
            "=================================================================\n",
            "input_1 (InputLayer)         [(None, 32, 32, 3)]       0         \n",
            "_________________________________________________________________\n",
            "conv2d (Conv2D)              (None, 30, 30, 32)        896       \n",
            "_________________________________________________________________\n",
            "conv2d_1 (Conv2D)            (None, 28, 28, 32)        9248      \n",
            "_________________________________________________________________\n",
            "batch_normalization (BatchNo (None, 28, 28, 32)        128       \n",
            "_________________________________________________________________\n",
            "max_pooling2d (MaxPooling2D) (None, 28, 28, 32)        0         \n",
            "_________________________________________________________________\n",
            "conv2d_2 (Conv2D)            (None, 26, 26, 32)        9248      \n",
            "_________________________________________________________________\n",
            "conv2d_3 (Conv2D)            (None, 24, 24, 32)        9248      \n",
            "_________________________________________________________________\n",
            "max_pooling2d_1 (MaxPooling2 (None, 24, 24, 32)        0         \n",
            "_________________________________________________________________\n",
            "conv2d_4 (Conv2D)            (None, 22, 22, 64)        18496     \n",
            "_________________________________________________________________\n",
            "conv2d_5 (Conv2D)            (None, 20, 20, 64)        36928     \n",
            "_________________________________________________________________\n",
            "conv2d_6 (Conv2D)            (None, 18, 18, 64)        36928     \n",
            "_________________________________________________________________\n",
            "batch_normalization_1 (Batch (None, 18, 18, 64)        256       \n",
            "_________________________________________________________________\n",
            "max_pooling2d_2 (MaxPooling2 (None, 18, 18, 64)        0         \n",
            "_________________________________________________________________\n",
            "conv2d_7 (Conv2D)            (None, 16, 16, 64)        36928     \n",
            "_________________________________________________________________\n",
            "conv2d_8 (Conv2D)            (None, 14, 14, 64)        36928     \n",
            "_________________________________________________________________\n",
            "conv2d_9 (Conv2D)            (None, 12, 12, 64)        36928     \n",
            "_________________________________________________________________\n",
            "batch_normalization_2 (Batch (None, 12, 12, 64)        256       \n",
            "_________________________________________________________________\n",
            "max_pooling2d_3 (MaxPooling2 (None, 12, 12, 64)        0         \n",
            "_________________________________________________________________\n",
            "conv2d_10 (Conv2D)           (None, 10, 10, 128)       73856     \n",
            "_________________________________________________________________\n",
            "conv2d_11 (Conv2D)           (None, 8, 8, 128)         147584    \n",
            "_________________________________________________________________\n",
            "conv2d_12 (Conv2D)           (None, 6, 6, 128)         147584    \n",
            "_________________________________________________________________\n",
            "batch_normalization_3 (Batch (None, 6, 6, 128)         512       \n",
            "_________________________________________________________________\n",
            "max_pooling2d_4 (MaxPooling2 (None, 6, 6, 128)         0         \n",
            "_________________________________________________________________\n",
            "flatten (Flatten)            (None, 4608)              0         \n",
            "_________________________________________________________________\n",
            "dense (Dense)                (None, 256)               1179904   \n",
            "_________________________________________________________________\n",
            "dense_1 (Dense)              (None, 256)               65792     \n",
            "_________________________________________________________________\n",
            "dense_2 (Dense)              (None, 256)               65792     \n",
            "_________________________________________________________________\n",
            "dense_3 (Dense)              (None, 100)               25700     \n",
            "=================================================================\n",
            "Total params: 1,939,140\n",
            "Trainable params: 1,938,564\n",
            "Non-trainable params: 576\n",
            "_________________________________________________________________\n"
          ],
          "name": "stdout"
        }
      ]
    },
    {
      "cell_type": "code",
      "metadata": {
        "id": "9iCKoHIdKQPm",
        "outputId": "ae4dabda-5915-4161-93bb-98936a26c1cb",
        "colab": {
          "base_uri": "https://localhost:8080/",
          "height": 1000
        }
      },
      "source": [
        "%load_ext tensorboard\n",
        "tensor_board = tf.keras.callbacks.TensorBoard(log_dir='tensorboard',histogram_freq=1)\n",
        "vgg_net_model.compile(optimizer=keras.optimizers.Adam(lr=0.0001,clipvalue=0.7,clipnorm=0.7),\n",
        "              loss='categorical_crossentropy',\n",
        "              metrics=['acc'])\n",
        "callback = tf.keras.callbacks.EarlyStopping(monitor='loss', patience=3,min_delta=0.0001)\n",
        "model_checkpoint_callback = tf.keras.callbacks.ModelCheckpoint(\n",
        "    filepath='vgg_adam_batchnorm.hdf5',\n",
        "    save_weights_only=True,\n",
        "    monitor='val_acc',\n",
        "    mode='max',\n",
        "    save_best_only=True)\n",
        "# vgg_net_model.fit(x_train,y_proc,batch_size=200,validation_data=(x_test,y_test_proc),epochs=50,callbacks=[callback,model_checkpoint_callback])\n",
        "output=vgg_net_model.fit_generator(datagen.flow(x_train,y_proc,batch_size = 200), epochs = 100, validation_data = (x_test,y_test_proc),callbacks = [tensor_board,callback,model_checkpoint_callback])"
      ],
      "execution_count": null,
      "outputs": [
        {
          "output_type": "stream",
          "text": [
            "The tensorboard extension is already loaded. To reload it, use:\n",
            "  %reload_ext tensorboard\n",
            "Epoch 1/100\n",
            "  2/250 [..............................] - ETA: 30s - loss: 4.6201 - acc: 0.0100WARNING:tensorflow:Callbacks method `on_train_batch_end` is slow compared to the batch time (batch time: 0.0689s vs `on_train_batch_end` time: 0.1709s). Check your callbacks.\n",
            "250/250 [==============================] - 26s 106ms/step - loss: 4.2157 - acc: 0.0716 - val_loss: 4.8857 - val_acc: 0.0100\n",
            "Epoch 2/100\n",
            "250/250 [==============================] - 26s 104ms/step - loss: 3.8143 - acc: 0.1215 - val_loss: 4.3406 - val_acc: 0.0589\n",
            "Epoch 3/100\n",
            "250/250 [==============================] - 26s 106ms/step - loss: 3.6165 - acc: 0.1533 - val_loss: 3.6005 - val_acc: 0.1567\n",
            "Epoch 4/100\n",
            "250/250 [==============================] - 27s 106ms/step - loss: 3.4923 - acc: 0.1736 - val_loss: 3.5097 - val_acc: 0.1706\n",
            "Epoch 5/100\n",
            "250/250 [==============================] - 27s 106ms/step - loss: 3.3886 - acc: 0.1909 - val_loss: 3.6534 - val_acc: 0.1557\n",
            "Epoch 6/100\n",
            "250/250 [==============================] - 26s 106ms/step - loss: 3.2955 - acc: 0.2039 - val_loss: 3.5674 - val_acc: 0.1747\n",
            "Epoch 7/100\n",
            "250/250 [==============================] - 26s 105ms/step - loss: 3.2268 - acc: 0.2173 - val_loss: 3.5250 - val_acc: 0.1806\n",
            "Epoch 8/100\n",
            "250/250 [==============================] - 26s 106ms/step - loss: 3.1454 - acc: 0.2344 - val_loss: 3.4491 - val_acc: 0.1911\n",
            "Epoch 9/100\n",
            "250/250 [==============================] - 27s 107ms/step - loss: 3.0909 - acc: 0.2426 - val_loss: 3.3297 - val_acc: 0.2128\n",
            "Epoch 10/100\n",
            "250/250 [==============================] - 27s 107ms/step - loss: 3.0387 - acc: 0.2525 - val_loss: 3.4838 - val_acc: 0.1901\n",
            "Epoch 11/100\n",
            "250/250 [==============================] - 27s 107ms/step - loss: 2.9899 - acc: 0.2605 - val_loss: 3.1634 - val_acc: 0.2312\n",
            "Epoch 12/100\n",
            "250/250 [==============================] - 27s 106ms/step - loss: 2.9439 - acc: 0.2675 - val_loss: 3.2259 - val_acc: 0.2285\n",
            "Epoch 13/100\n",
            "250/250 [==============================] - 27s 106ms/step - loss: 2.8927 - acc: 0.2810 - val_loss: 3.0308 - val_acc: 0.2599\n",
            "Epoch 14/100\n",
            "250/250 [==============================] - 27s 108ms/step - loss: 2.8655 - acc: 0.2843 - val_loss: 3.1420 - val_acc: 0.2450\n",
            "Epoch 15/100\n",
            "250/250 [==============================] - 26s 106ms/step - loss: 2.8201 - acc: 0.2935 - val_loss: 3.0233 - val_acc: 0.2693\n",
            "Epoch 16/100\n",
            "250/250 [==============================] - 27s 106ms/step - loss: 2.7783 - acc: 0.3017 - val_loss: 3.3072 - val_acc: 0.2354\n",
            "Epoch 17/100\n",
            "250/250 [==============================] - 27s 107ms/step - loss: 2.7355 - acc: 0.3086 - val_loss: 3.0599 - val_acc: 0.2596\n",
            "Epoch 18/100\n",
            "250/250 [==============================] - 26s 106ms/step - loss: 2.7094 - acc: 0.3163 - val_loss: 3.0450 - val_acc: 0.2684\n",
            "Epoch 19/100\n",
            "250/250 [==============================] - 27s 107ms/step - loss: 2.6688 - acc: 0.3207 - val_loss: 2.8946 - val_acc: 0.2865\n",
            "Epoch 20/100\n",
            "250/250 [==============================] - 27s 107ms/step - loss: 2.6305 - acc: 0.3308 - val_loss: 2.8861 - val_acc: 0.2972\n",
            "Epoch 21/100\n",
            "250/250 [==============================] - 27s 107ms/step - loss: 2.6108 - acc: 0.3332 - val_loss: 3.0681 - val_acc: 0.2725\n",
            "Epoch 22/100\n",
            "250/250 [==============================] - 27s 106ms/step - loss: 2.5812 - acc: 0.3420 - val_loss: 2.8728 - val_acc: 0.2968\n",
            "Epoch 23/100\n",
            "250/250 [==============================] - 27s 106ms/step - loss: 2.5525 - acc: 0.3471 - val_loss: 2.9193 - val_acc: 0.2932\n",
            "Epoch 24/100\n",
            "250/250 [==============================] - 27s 106ms/step - loss: 2.5295 - acc: 0.3480 - val_loss: 3.1372 - val_acc: 0.2671\n",
            "Epoch 25/100\n",
            "250/250 [==============================] - 27s 107ms/step - loss: 2.5004 - acc: 0.3575 - val_loss: 3.0132 - val_acc: 0.2804\n",
            "Epoch 26/100\n",
            "250/250 [==============================] - 27s 107ms/step - loss: 2.4825 - acc: 0.3618 - val_loss: 2.7678 - val_acc: 0.3153\n",
            "Epoch 27/100\n",
            "250/250 [==============================] - 27s 106ms/step - loss: 2.4474 - acc: 0.3674 - val_loss: 2.7807 - val_acc: 0.3198\n",
            "Epoch 28/100\n",
            "250/250 [==============================] - 27s 107ms/step - loss: 2.4353 - acc: 0.3690 - val_loss: 2.6843 - val_acc: 0.3340\n",
            "Epoch 29/100\n",
            "250/250 [==============================] - 26s 106ms/step - loss: 2.4076 - acc: 0.3765 - val_loss: 2.9253 - val_acc: 0.3041\n",
            "Epoch 30/100\n",
            "250/250 [==============================] - 26s 105ms/step - loss: 2.3810 - acc: 0.3794 - val_loss: 2.8424 - val_acc: 0.3095\n",
            "Epoch 31/100\n",
            "250/250 [==============================] - 26s 105ms/step - loss: 2.3611 - acc: 0.3869 - val_loss: 2.6767 - val_acc: 0.3377\n",
            "Epoch 32/100\n",
            "250/250 [==============================] - 26s 105ms/step - loss: 2.3412 - acc: 0.3901 - val_loss: 2.8028 - val_acc: 0.3089\n",
            "Epoch 33/100\n",
            "250/250 [==============================] - 26s 104ms/step - loss: 2.3259 - acc: 0.3949 - val_loss: 2.7742 - val_acc: 0.3282\n",
            "Epoch 34/100\n",
            "250/250 [==============================] - 26s 103ms/step - loss: 2.3049 - acc: 0.3979 - val_loss: 2.9308 - val_acc: 0.3030\n",
            "Epoch 35/100\n",
            "250/250 [==============================] - 26s 104ms/step - loss: 2.2770 - acc: 0.4055 - val_loss: 2.9932 - val_acc: 0.2953\n",
            "Epoch 36/100\n",
            "250/250 [==============================] - 26s 103ms/step - loss: 2.2662 - acc: 0.4062 - val_loss: 2.7339 - val_acc: 0.3311\n",
            "Epoch 37/100\n",
            "250/250 [==============================] - 26s 102ms/step - loss: 2.2326 - acc: 0.4139 - val_loss: 2.8835 - val_acc: 0.3162\n",
            "Epoch 38/100\n",
            "250/250 [==============================] - 26s 102ms/step - loss: 2.2271 - acc: 0.4135 - val_loss: 2.6645 - val_acc: 0.3408\n",
            "Epoch 39/100\n",
            "250/250 [==============================] - 25s 102ms/step - loss: 2.2013 - acc: 0.4176 - val_loss: 2.7296 - val_acc: 0.3402\n",
            "Epoch 40/100\n",
            "250/250 [==============================] - 25s 101ms/step - loss: 2.1854 - acc: 0.4200 - val_loss: 2.7484 - val_acc: 0.3298\n",
            "Epoch 41/100\n",
            "250/250 [==============================] - 26s 103ms/step - loss: 2.1682 - acc: 0.4250 - val_loss: 2.6985 - val_acc: 0.3421\n",
            "Epoch 42/100\n",
            "250/250 [==============================] - 26s 102ms/step - loss: 2.1590 - acc: 0.4264 - val_loss: 2.5810 - val_acc: 0.3562\n",
            "Epoch 43/100\n",
            "250/250 [==============================] - 25s 102ms/step - loss: 2.1478 - acc: 0.4299 - val_loss: 2.8584 - val_acc: 0.3208\n",
            "Epoch 44/100\n",
            "250/250 [==============================] - 26s 103ms/step - loss: 2.1328 - acc: 0.4349 - val_loss: 2.6914 - val_acc: 0.3479\n",
            "Epoch 45/100\n",
            "250/250 [==============================] - 27s 106ms/step - loss: 2.1076 - acc: 0.4402 - val_loss: 2.7926 - val_acc: 0.3286\n",
            "Epoch 46/100\n",
            "250/250 [==============================] - 26s 105ms/step - loss: 2.0973 - acc: 0.4410 - val_loss: 2.5458 - val_acc: 0.3651\n",
            "Epoch 47/100\n",
            "250/250 [==============================] - 26s 105ms/step - loss: 2.0806 - acc: 0.4462 - val_loss: 2.8057 - val_acc: 0.3329\n",
            "Epoch 48/100\n",
            "250/250 [==============================] - 26s 103ms/step - loss: 2.0686 - acc: 0.4466 - val_loss: 2.6241 - val_acc: 0.3580\n",
            "Epoch 49/100\n",
            "250/250 [==============================] - 26s 104ms/step - loss: 2.0541 - acc: 0.4504 - val_loss: 2.8227 - val_acc: 0.3230\n",
            "Epoch 50/100\n",
            "250/250 [==============================] - 26s 104ms/step - loss: 2.0499 - acc: 0.4500 - val_loss: 2.7539 - val_acc: 0.3401\n",
            "Epoch 51/100\n",
            "250/250 [==============================] - 26s 103ms/step - loss: 2.0309 - acc: 0.4527 - val_loss: 2.6992 - val_acc: 0.3424\n",
            "Epoch 52/100\n",
            "250/250 [==============================] - 26s 103ms/step - loss: 2.0178 - acc: 0.4567 - val_loss: 2.6621 - val_acc: 0.3577\n",
            "Epoch 53/100\n",
            "250/250 [==============================] - 25s 102ms/step - loss: 2.0007 - acc: 0.4624 - val_loss: 2.7287 - val_acc: 0.3427\n",
            "Epoch 54/100\n",
            "250/250 [==============================] - 26s 103ms/step - loss: 1.9852 - acc: 0.4671 - val_loss: 2.5486 - val_acc: 0.3709\n",
            "Epoch 55/100\n",
            "250/250 [==============================] - 26s 102ms/step - loss: 1.9780 - acc: 0.4682 - val_loss: 2.8120 - val_acc: 0.3323\n",
            "Epoch 56/100\n",
            "250/250 [==============================] - 25s 102ms/step - loss: 1.9605 - acc: 0.4714 - val_loss: 2.5872 - val_acc: 0.3635\n",
            "Epoch 57/100\n",
            "250/250 [==============================] - 26s 103ms/step - loss: 1.9505 - acc: 0.4761 - val_loss: 2.4792 - val_acc: 0.3834\n",
            "Epoch 58/100\n",
            "250/250 [==============================] - 25s 102ms/step - loss: 1.9386 - acc: 0.4760 - val_loss: 2.6888 - val_acc: 0.3561\n",
            "Epoch 59/100\n",
            "250/250 [==============================] - 26s 103ms/step - loss: 1.9293 - acc: 0.4762 - val_loss: 2.9102 - val_acc: 0.3287\n",
            "Epoch 60/100\n",
            "250/250 [==============================] - 26s 103ms/step - loss: 1.9189 - acc: 0.4823 - val_loss: 2.8934 - val_acc: 0.3295\n",
            "Epoch 61/100\n",
            "250/250 [==============================] - 26s 102ms/step - loss: 1.8995 - acc: 0.4823 - val_loss: 2.6012 - val_acc: 0.3730\n",
            "Epoch 62/100\n",
            "250/250 [==============================] - 26s 102ms/step - loss: 1.8897 - acc: 0.4854 - val_loss: 2.7870 - val_acc: 0.3479\n",
            "Epoch 63/100\n",
            "250/250 [==============================] - 26s 103ms/step - loss: 1.8847 - acc: 0.4857 - val_loss: 2.4920 - val_acc: 0.3799\n",
            "Epoch 64/100\n",
            "250/250 [==============================] - 26s 103ms/step - loss: 1.8735 - acc: 0.4897 - val_loss: 2.6042 - val_acc: 0.3698\n",
            "Epoch 65/100\n",
            "250/250 [==============================] - 26s 103ms/step - loss: 1.8679 - acc: 0.4919 - val_loss: 2.5631 - val_acc: 0.3662\n",
            "Epoch 66/100\n",
            "250/250 [==============================] - 26s 103ms/step - loss: 1.8468 - acc: 0.4981 - val_loss: 2.6802 - val_acc: 0.3563\n",
            "Epoch 67/100\n",
            "250/250 [==============================] - 26s 102ms/step - loss: 1.8412 - acc: 0.4962 - val_loss: 2.6944 - val_acc: 0.3640\n",
            "Epoch 68/100\n",
            "250/250 [==============================] - 26s 103ms/step - loss: 1.8330 - acc: 0.4981 - val_loss: 2.6140 - val_acc: 0.3695\n",
            "Epoch 69/100\n",
            "250/250 [==============================] - 26s 103ms/step - loss: 1.8194 - acc: 0.5013 - val_loss: 2.4531 - val_acc: 0.3920\n",
            "Epoch 70/100\n",
            "250/250 [==============================] - 25s 102ms/step - loss: 1.8164 - acc: 0.5003 - val_loss: 2.5315 - val_acc: 0.3777\n",
            "Epoch 71/100\n",
            "250/250 [==============================] - 25s 101ms/step - loss: 1.8040 - acc: 0.5062 - val_loss: 2.6097 - val_acc: 0.3716\n",
            "Epoch 72/100\n",
            "250/250 [==============================] - 26s 102ms/step - loss: 1.7953 - acc: 0.5075 - val_loss: 2.4762 - val_acc: 0.3890\n",
            "Epoch 73/100\n",
            "250/250 [==============================] - 26s 103ms/step - loss: 1.7865 - acc: 0.5107 - val_loss: 2.6442 - val_acc: 0.3679\n",
            "Epoch 74/100\n",
            "250/250 [==============================] - 26s 102ms/step - loss: 1.7772 - acc: 0.5109 - val_loss: 2.7029 - val_acc: 0.3666\n",
            "Epoch 75/100\n",
            "250/250 [==============================] - 25s 102ms/step - loss: 1.7594 - acc: 0.5170 - val_loss: 2.6690 - val_acc: 0.3727\n",
            "Epoch 76/100\n",
            "250/250 [==============================] - 26s 103ms/step - loss: 1.7500 - acc: 0.5200 - val_loss: 2.5608 - val_acc: 0.3818\n",
            "Epoch 77/100\n",
            "250/250 [==============================] - 26s 103ms/step - loss: 1.7412 - acc: 0.5205 - val_loss: 2.4323 - val_acc: 0.4014\n",
            "Epoch 78/100\n",
            "250/250 [==============================] - 26s 103ms/step - loss: 1.7387 - acc: 0.5204 - val_loss: 2.7021 - val_acc: 0.3615\n",
            "Epoch 79/100\n",
            "250/250 [==============================] - 26s 102ms/step - loss: 1.7338 - acc: 0.5200 - val_loss: 2.6298 - val_acc: 0.3808\n",
            "Epoch 80/100\n",
            "250/250 [==============================] - 27s 107ms/step - loss: 1.7275 - acc: 0.5226 - val_loss: 2.8937 - val_acc: 0.3438\n",
            "Epoch 81/100\n",
            "250/250 [==============================] - 28s 111ms/step - loss: 1.7140 - acc: 0.5268 - val_loss: 2.4734 - val_acc: 0.3968\n",
            "Epoch 82/100\n",
            "250/250 [==============================] - 28s 110ms/step - loss: 1.6980 - acc: 0.5321 - val_loss: 2.6017 - val_acc: 0.3658\n",
            "Epoch 83/100\n",
            "250/250 [==============================] - 27s 110ms/step - loss: 1.6979 - acc: 0.5321 - val_loss: 2.7363 - val_acc: 0.3566\n",
            "Epoch 84/100\n",
            "250/250 [==============================] - 27s 109ms/step - loss: 1.6798 - acc: 0.5318 - val_loss: 2.6027 - val_acc: 0.3727\n",
            "Epoch 85/100\n",
            "250/250 [==============================] - 27s 109ms/step - loss: 1.6818 - acc: 0.5343 - val_loss: 2.6357 - val_acc: 0.3797\n",
            "Epoch 86/100\n",
            "250/250 [==============================] - 27s 109ms/step - loss: 1.6618 - acc: 0.5397 - val_loss: 2.6597 - val_acc: 0.3741\n",
            "Epoch 87/100\n",
            "250/250 [==============================] - 27s 108ms/step - loss: 1.6592 - acc: 0.5381 - val_loss: 2.8936 - val_acc: 0.3491\n",
            "Epoch 88/100\n",
            "250/250 [==============================] - 27s 107ms/step - loss: 1.6508 - acc: 0.5398 - val_loss: 2.6694 - val_acc: 0.3698\n",
            "Epoch 89/100\n",
            "250/250 [==============================] - 27s 107ms/step - loss: 1.6460 - acc: 0.5436 - val_loss: 2.6118 - val_acc: 0.3743\n",
            "Epoch 90/100\n",
            "250/250 [==============================] - 27s 107ms/step - loss: 1.6505 - acc: 0.5384 - val_loss: 2.5600 - val_acc: 0.3934\n",
            "Epoch 91/100\n",
            "250/250 [==============================] - 27s 109ms/step - loss: 1.6265 - acc: 0.5465 - val_loss: 2.5595 - val_acc: 0.3872\n",
            "Epoch 92/100\n",
            "250/250 [==============================] - 27s 107ms/step - loss: 1.6178 - acc: 0.5502 - val_loss: 2.5991 - val_acc: 0.3938\n",
            "Epoch 93/100\n",
            "250/250 [==============================] - 27s 107ms/step - loss: 1.6180 - acc: 0.5485 - val_loss: 2.5339 - val_acc: 0.3901\n",
            "Epoch 94/100\n",
            "250/250 [==============================] - 27s 106ms/step - loss: 1.6107 - acc: 0.5476 - val_loss: 2.4937 - val_acc: 0.4049\n",
            "Epoch 95/100\n",
            "250/250 [==============================] - 27s 107ms/step - loss: 1.5983 - acc: 0.5527 - val_loss: 2.7279 - val_acc: 0.3645\n",
            "Epoch 96/100\n",
            "250/250 [==============================] - 26s 105ms/step - loss: 1.5897 - acc: 0.5548 - val_loss: 2.7867 - val_acc: 0.3637\n",
            "Epoch 97/100\n",
            "250/250 [==============================] - 26s 105ms/step - loss: 1.5830 - acc: 0.5559 - val_loss: 2.4618 - val_acc: 0.4136\n",
            "Epoch 98/100\n",
            "250/250 [==============================] - 26s 105ms/step - loss: 1.5820 - acc: 0.5553 - val_loss: 2.4895 - val_acc: 0.4058\n",
            "Epoch 99/100\n",
            "250/250 [==============================] - 26s 103ms/step - loss: 1.5786 - acc: 0.5582 - val_loss: 2.5285 - val_acc: 0.3926\n",
            "Epoch 100/100\n",
            "250/250 [==============================] - 26s 104ms/step - loss: 1.5613 - acc: 0.5611 - val_loss: 2.9737 - val_acc: 0.3510\n"
          ],
          "name": "stdout"
        }
      ]
    },
    {
      "cell_type": "code",
      "metadata": {
        "id": "JTEGhOaJKnB5",
        "outputId": "76bebd94-d0a5-4ea1-d466-85c53cc7fb1d",
        "colab": {
          "base_uri": "https://localhost:8080/",
          "height": 67
        }
      },
      "source": [
        "\n",
        "y_pred=vgg_net_model.predict(x_test)\n",
        "# tf.one_hot(y_pred)\n",
        "# y_pred=np.where(y_pred[0]=max(y_pred[0],1,0))\n",
        "y_pred_proc=np.zeros((10000,100))\n",
        "for i in range(0,10000):\n",
        "    y_pred_proc[i][np.argmax(y_pred[i])]=1\n",
        "print(\"Precision: \"+ str(precision_score(y_test_proc, y_pred_proc, average='weighted')))\n",
        "print(\"Recall: \"+ str(recall_score(y_test_proc, y_pred_proc, average='weighted')))\n",
        "print(\"Accuracy: \"+ str(accuracy_score(y_test_proc, y_pred_proc)))"
      ],
      "execution_count": null,
      "outputs": [
        {
          "output_type": "stream",
          "text": [
            "Precision: 0.3975223784381574\n",
            "Recall: 0.351\n",
            "Accuracy: 0.351\n"
          ],
          "name": "stdout"
        }
      ]
    },
    {
      "cell_type": "code",
      "metadata": {
        "id": "pFrUe9Qagy35",
        "outputId": "f9a782e2-e7d6-42e9-8b5d-4594eca76dd3",
        "colab": {
          "base_uri": "https://localhost:8080/",
          "height": 282
        }
      },
      "source": [
        "plt.plot(output.history['acc'])\n",
        "plt.plot(output.history['val_acc'])\n",
        "plt.legend(['Training Accuracy','Testing Accuracy'])\n"
      ],
      "execution_count": null,
      "outputs": [
        {
          "output_type": "execute_result",
          "data": {
            "text/plain": [
              "<matplotlib.legend.Legend at 0x7fbef8fffe10>"
            ]
          },
          "metadata": {
            "tags": []
          },
          "execution_count": 11
        },
        {
          "output_type": "display_data",
          "data": {
            "image/png": "[encoded data removed]",
            "text/plain": [
              "<Figure size 432x288 with 1 Axes>"
            ]
          },
          "metadata": {
            "tags": [],
            "needs_background": "light"
          }
        }
      ]
    },
    {
      "cell_type": "code",
      "metadata": {
        "id": "KzF-xsTog0p3",
        "outputId": "ad23c236-c04f-41c4-8898-20a95f768b23",
        "colab": {
          "base_uri": "https://localhost:8080/",
          "height": 283
        }
      },
      "source": [
        "plt.plot(output.history['loss'])\n",
        "plt.plot(output.history['val_loss'])\n",
        "plt.legend(['Training loss','Testing loss'])"
      ],
      "execution_count": null,
      "outputs": [
        {
          "output_type": "execute_result",
          "data": {
            "text/plain": [
              "<matplotlib.legend.Legend at 0x7fbef8a1d940>"
            ]
          },
          "metadata": {
            "tags": []
          },
          "execution_count": 12
        },
        {
          "output_type": "display_data",
          "data": {
            "image/png": "[encoded data removed]",
            "text/plain": [
              "<Figure size 432x288 with 1 Axes>"
            ]
          },
          "metadata": {
            "tags": [],
            "needs_background": "light"
          }
        }
      ]
    },
    {
      "cell_type": "code",
      "metadata": {
        "id": "eIEeDeYtg3cv",
        "outputId": "cc1bf734-dbfb-4f1d-a162-f29a5ffefcd4",
        "colab": {
          "base_uri": "https://localhost:8080/",
          "height": 101
        }
      },
      "source": [
        "import tensorflow as tf\n",
        "from tensorflow import keras\n",
        "from tensorflow.keras import layers\n",
        "import numpy as np\n",
        "import datetime as dt\n",
        "from keras.models import Sequential\n",
        "from keras.layers import Dense, Dropout, Flatten\n",
        "from keras.layers import Conv2D, MaxPooling2D,Add,Activation\n",
        "from keras import backend as K\n",
        "import matplotlib.pyplot as plt\n",
        "from keras.preprocessing.image import ImageDataGenerator\n",
        "from sklearn.metrics import confusion_matrix, precision_score, recall_score, accuracy_score\n",
        "\n",
        "(x_train, y_train), (x_test, y_test) = tf.keras.datasets.cifar100.load_data()\n",
        "\n",
        "y_proc=np.zeros((50000,100))\n",
        "for i in range(0,50000):\n",
        "    y_proc[i][y_train[i][0]]=1\n",
        "y_test_proc=np.zeros((10000,100))\n",
        "for i in range(0,10000):\n",
        "    y_test_proc[i][y_test[i][0]]=1\n",
        "y_proc.shape\n",
        "input_shape=(32,32,3)\n",
        "y_test_proc[0]\n",
        "x_train=x_train.astype('float')/255\n",
        "x_test=x_test.astype('float')/255\n",
        "y_test_proc.shape\n",
        "\n",
        "inputs = keras.Input(shape=input_shape)\n",
        "x = layers.Conv2D(32, 3, activation='relu')(inputs)\n",
        "x = layers.Conv2D(32, 3, activation='relu')(x)\n",
        "x=layers.BatchNormalization()(x)\n",
        "x = layers.MaxPool2D((3,3),strides=(1,1), padding='same')(x)\n",
        "x = layers.Conv2D(32, 3, activation='relu')(x)\n",
        "x = layers.Conv2D(32, 3, activation='relu')(x)\n",
        "x = layers.MaxPool2D((3,3),strides=(1,1), padding='same')(x)\n",
        "x = layers.Conv2D(64, 3, activation='relu')(x)\n",
        "x = layers.Conv2D(64, 3, activation='relu')(x)\n",
        "x = layers.Conv2D(64, 3, activation='relu')(x)\n",
        "x=layers.BatchNormalization()(x)\n",
        "x = layers.MaxPool2D((3,3),strides=(1,1), padding='same')(x)\n",
        "x = layers.Conv2D(64, 3, activation='relu')(x)\n",
        "x = layers.Conv2D(64, 3, activation='relu')(x)\n",
        "x = layers.Conv2D(64, 3, activation='relu')(x)\n",
        "x=layers.BatchNormalization()(x)\n",
        "x = layers.MaxPool2D((3,3),strides=(1,1), padding='same')(x)\n",
        "x = layers.Conv2D(128, 3, activation='relu')(x)\n",
        "x = layers.Conv2D(128, 3, activation='relu')(x)\n",
        "x = layers.Conv2D(128, 3, activation='relu')(x)\n",
        "x=layers.BatchNormalization()(x)\n",
        "x = layers.MaxPool2D((3,3),strides=(1,1), padding='same')(x)\n",
        "x=layers.Flatten()(x)\n",
        "\n",
        "x = layers.Dense(256, activation='relu')(x)\n",
        "x = layers.Dense(256, activation='relu')(x)\n",
        "x = layers.Dense(256, activation='relu')(x)\n",
        "\n",
        "outputs = layers.Dense(100, activation='softmax')(x)\n",
        "\n",
        "\n",
        "vgg_net_model = keras.Model(inputs, outputs)\n",
        "\n",
        "vgg_net_model.load_weights('../weights/vgg_adam_batchnorm.hdf5')\n",
        "\n",
        "\n",
        "y_pred=vgg_net_model.predict(x_test)\n",
        "# tf.one_hot(y_pred)\n",
        "# y_pred=np.where(y_pred[0]=max(y_pred[0],1,0))\n",
        "y_pred_proc=np.zeros((10000,100))\n",
        "for i in range(0,10000):\n",
        "    y_pred_proc[i][np.argmax(y_pred[i])]=1\n",
        "print(\"Precision: \"+ str(precision_score(y_test_proc, y_pred_proc, average='weighted')))\n",
        "print(\"Recall: \"+ str(recall_score(y_test_proc, y_pred_proc, average='weighted')))\n",
        "print(\"Accuracy: \"+ str(accuracy_score(y_test_proc, y_pred_proc)))"
      ],
      "execution_count": 1,
      "outputs": [
        {
          "output_type": "stream",
          "text": [
            "Downloading data from https://www.cs.toronto.edu/~kriz/cifar-100-python.tar.gz\n",
            "169009152/169001437 [==============================] - 4s 0us/step\n",
            "Precision: 0.43013235578277237\n",
            "Recall: 0.4136\n",
            "Accuracy: 0.4136\n"
          ],
          "name": "stdout"
        }
      ]
    }
  ]
}