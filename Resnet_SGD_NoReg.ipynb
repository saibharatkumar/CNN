{
  "nbformat": 4,
  "nbformat_minor": 0,
  "metadata": {
    "colab": {
      "name": "Resnet_SGD_NoReg.ipynb",
      "provenance": [],
      "collapsed_sections": []
    },
    "kernelspec": {
      "name": "python3",
      "display_name": "Python 3"
    },
    "accelerator": "GPU"
  },
  "cells": [
    {
      "cell_type": "code",
      "metadata": {
        "id": "fzrI980pbl2Q"
      },
      "source": [
        "import tensorflow as tf\n",
        "from tensorflow import keras\n",
        "from tensorflow.keras import layers\n",
        "import numpy as np\n",
        "import datetime as dt\n",
        "from keras.models import Sequential\n",
        "from keras.layers import Dense, Dropout, Flatten\n",
        "from keras.layers import Conv2D, MaxPooling2D,AveragePooling2D\n",
        "from keras import backend as K\n",
        "from keras.preprocessing.image import ImageDataGenerator\n",
        "from matplotlib import pyplot as plt"
      ],
      "execution_count": null,
      "outputs": []
    },
    {
      "cell_type": "code",
      "metadata": {
        "id": "wmu8WDJDbsr4"
      },
      "source": [
        "(x_train, y_train), (x_test, y_test) = tf.keras.datasets.cifar100.load_data()"
      ],
      "execution_count": null,
      "outputs": []
    },
    {
      "cell_type": "code",
      "metadata": {
        "id": "GmNRcsXybvvs"
      },
      "source": [
        "y_proc=np.zeros((50000,100))\n",
        "for i in range(0,50000):\n",
        "    y_proc[i][y_train[i][0]]=1\n",
        "y_test_proc=np.zeros((10000,100))\n",
        "for i in range(0,10000):\n",
        "    y_test_proc[i][y_test[i][0]]=1\n",
        "y_proc.shape\n",
        "input_shape=(32,32,3)\n",
        "y_test_proc[0]\n",
        "x_train=x_train.astype('float')/255\n",
        "x_test=x_test.astype('float')/255"
      ],
      "execution_count": null,
      "outputs": []
    },
    {
      "cell_type": "code",
      "metadata": {
        "id": "BRgQHqgYcRW-"
      },
      "source": [
        "datagen = ImageDataGenerator(\n",
        "    featurewise_center=False,  # set input mean to 0 over the dataset\n",
        "    samplewise_center=False,  # set each sample mean to 0\n",
        "    featurewise_std_normalization=False,  # divide inputs by std of the dataset\n",
        "    samplewise_std_normalization=False,  # divide each input by its std\n",
        "    zca_whitening=False,  # apply ZCA whitening\n",
        "    rotation_range=15,  # randomly rotate images in the range (degrees, 0 to 180)\n",
        "    width_shift_range=0.1,  # randomly shift images horizontally (fraction of total width)\n",
        "    height_shift_range=0.1,  # randomly shift images vertically (fraction of total height)\n",
        "    horizontal_flip=True,  # randomly flip images\n",
        "    vertical_flip=False)  # randomly flip images\n",
        "# (std, mean, and principal components if ZCA whitening is applied).\n",
        "datagen.fit(x_train)"
      ],
      "execution_count": null,
      "outputs": []
    },
    {
      "cell_type": "code",
      "metadata": {
        "id": "yr-TY5HybzLz"
      },
      "source": [
        "def res_net_block(input_data, filters, conv_size):\n",
        "  x = layers.Conv2D(filters, conv_size, activation='relu', padding='same')(input_data)\n",
        "  x = layers.Conv2D(filters, conv_size, activation=None, padding='same')(x)\n",
        "  x = layers.Add()([x, input_data])\n",
        "  x = layers.Activation('relu')(x)\n",
        "  return x"
      ],
      "execution_count": null,
      "outputs": []
    },
    {
      "cell_type": "code",
      "metadata": {
        "id": "UQuO3ImFb2C_"
      },
      "source": [
        "inputs = keras.Input(shape=input_shape)\n",
        "x = layers.Conv2D(32, 3, activation='elu')(inputs)\n",
        "x = layers.Conv2D(32, 3, activation='elu')(x)\n",
        "x = layers.MaxPooling2D(3)(x)\n",
        "num_res_net_blocks = 5\n",
        "filters=32\n",
        "conv_size=3\n",
        "\n",
        "x_skip=x\n",
        "x = layers.Conv2D(filters, conv_size, activation='elu', padding='same')(x)\n",
        "x = layers.Conv2D(filters, conv_size, activation=None, padding='same')(x)\n",
        "x = layers.Add()([x, x_skip])\n",
        "# x = layers.MaxPool2D((3,3), strides=(1,1), padding='same')(x)\n",
        "x = layers.Activation('relu')(x)\n",
        "\n",
        "x_skip=x\n",
        "x = layers.Conv2D(filters, conv_size, activation='elu', padding='same')(x)\n",
        "x = layers.Conv2D(filters, conv_size, activation=None, padding='same')(x)\n",
        "x = layers.Add()([x, x_skip])\n",
        "# x = layers.MaxPool2D((3,3), strides=(1,1), padding='same')(x)\n",
        "x = layers.Activation('relu')(x)\n",
        "\n",
        "x_skip=x\n",
        "x = layers.Conv2D(filters, conv_size, activation='elu', padding='same')(x)\n",
        "x = layers.Conv2D(filters, conv_size, activation=None, padding='same')(x)\n",
        "x = layers.Add()([x, x_skip])\n",
        "# x = layers.MaxPool2D((3,3), strides=(1,1), padding='same')(x)\n",
        "x = layers.Activation('relu')(x)\n",
        "\n",
        "# x = layers.Conv2D(64, 3, activation='elu')(x)\n",
        "\n",
        "x_skip=x\n",
        "x = layers.Conv2D(filters, conv_size, activation='elu', padding='same')(x)\n",
        "x = layers.Conv2D(filters, conv_size, activation=None, padding='same')(x)\n",
        "x = layers.Add()([x, x_skip])\n",
        "# x = layers.MaxPool2D((3,3), strides=(1,1), padding='same')(x)\n",
        "x = layers.Activation('relu')(x)\n",
        "\n",
        "x_skip=x\n",
        "x = layers.Conv2D(filters, conv_size, activation='elu', padding='same')(x)\n",
        "x = layers.Conv2D(filters, conv_size, activation=None, padding='same')(x)\n",
        "x = layers.Add()([x, x_skip])\n",
        "# x = layers.MaxPool2D((3,3), strides=(1,1), padding='same')(x)\n",
        "x = layers.Activation('relu')(x)\n",
        "\n",
        "# x = layers.Conv2D(128, 3, activation='elu')(x)\n",
        "\n",
        "x_skip=x\n",
        "x = layers.Conv2D(filters, conv_size, activation='elu', padding='same')(x)\n",
        "x = layers.Conv2D(filters, conv_size, activation=None, padding='same')(x)\n",
        "x = layers.Add()([x, x_skip])\n",
        "# x = layers.MaxPool2D((3,3), strides=(1,1), padding='same')(x)\n",
        "x = layers.Activation('relu')(x)\n",
        "\n",
        "x_skip=x\n",
        "x = layers.Conv2D(filters, conv_size, activation='elu', padding='same')(x)\n",
        "x = layers.Conv2D(filters, conv_size, activation=None, padding='same')(x)\n",
        "x = layers.Add()([x, x_skip])\n",
        "# x = layers.MaxPool2D((3,3), strides=(1,1), padding='same')(x)\n",
        "x = layers.Activation('relu')(x)\n",
        "\n",
        "\n",
        "x = layers.Conv2D(32, 3, activation='elu')(x)\n",
        "x = layers.AveragePooling2D(4)(x)\n",
        "x=layers.Flatten()(x)\n",
        "x = layers.Dense(256, activation='elu')(x)\n",
        "outputs = layers.Dense(100, activation='softmax')(x)\n",
        "\n",
        "res_net_model = keras.Model(inputs, outputs)"
      ],
      "execution_count": null,
      "outputs": []
    },
    {
      "cell_type": "code",
      "metadata": {
        "id": "_G68S7qlb4EW",
        "outputId": "dbcf3032-4cab-4235-bb7d-9bfa5164535c",
        "colab": {
          "base_uri": "https://localhost:8080/",
          "height": 1000
        }
      },
      "source": [
        "res_net_model.summary()"
      ],
      "execution_count": null,
      "outputs": [
        {
          "output_type": "stream",
          "text": [
            "Model: \"functional_5\"\n",
            "__________________________________________________________________________________________________\n",
            "Layer (type)                    Output Shape         Param #     Connected to                     \n",
            "==================================================================================================\n",
            "input_3 (InputLayer)            [(None, 32, 32, 3)]  0                                            \n",
            "__________________________________________________________________________________________________\n",
            "conv2d_34 (Conv2D)              (None, 30, 30, 32)   896         input_3[0][0]                    \n",
            "__________________________________________________________________________________________________\n",
            "conv2d_35 (Conv2D)              (None, 28, 28, 32)   9248        conv2d_34[0][0]                  \n",
            "__________________________________________________________________________________________________\n",
            "max_pooling2d_2 (MaxPooling2D)  (None, 9, 9, 32)     0           conv2d_35[0][0]                  \n",
            "__________________________________________________________________________________________________\n",
            "conv2d_36 (Conv2D)              (None, 9, 9, 32)     9248        max_pooling2d_2[0][0]            \n",
            "__________________________________________________________________________________________________\n",
            "conv2d_37 (Conv2D)              (None, 9, 9, 32)     9248        conv2d_36[0][0]                  \n",
            "__________________________________________________________________________________________________\n",
            "add_14 (Add)                    (None, 9, 9, 32)     0           conv2d_37[0][0]                  \n",
            "                                                                 max_pooling2d_2[0][0]            \n",
            "__________________________________________________________________________________________________\n",
            "activation_14 (Activation)      (None, 9, 9, 32)     0           add_14[0][0]                     \n",
            "__________________________________________________________________________________________________\n",
            "conv2d_38 (Conv2D)              (None, 9, 9, 32)     9248        activation_14[0][0]              \n",
            "__________________________________________________________________________________________________\n",
            "conv2d_39 (Conv2D)              (None, 9, 9, 32)     9248        conv2d_38[0][0]                  \n",
            "__________________________________________________________________________________________________\n",
            "add_15 (Add)                    (None, 9, 9, 32)     0           conv2d_39[0][0]                  \n",
            "                                                                 activation_14[0][0]              \n",
            "__________________________________________________________________________________________________\n",
            "activation_15 (Activation)      (None, 9, 9, 32)     0           add_15[0][0]                     \n",
            "__________________________________________________________________________________________________\n",
            "conv2d_40 (Conv2D)              (None, 9, 9, 32)     9248        activation_15[0][0]              \n",
            "__________________________________________________________________________________________________\n",
            "conv2d_41 (Conv2D)              (None, 9, 9, 32)     9248        conv2d_40[0][0]                  \n",
            "__________________________________________________________________________________________________\n",
            "add_16 (Add)                    (None, 9, 9, 32)     0           conv2d_41[0][0]                  \n",
            "                                                                 activation_15[0][0]              \n",
            "__________________________________________________________________________________________________\n",
            "activation_16 (Activation)      (None, 9, 9, 32)     0           add_16[0][0]                     \n",
            "__________________________________________________________________________________________________\n",
            "conv2d_42 (Conv2D)              (None, 9, 9, 32)     9248        activation_16[0][0]              \n",
            "__________________________________________________________________________________________________\n",
            "conv2d_43 (Conv2D)              (None, 9, 9, 32)     9248        conv2d_42[0][0]                  \n",
            "__________________________________________________________________________________________________\n",
            "add_17 (Add)                    (None, 9, 9, 32)     0           conv2d_43[0][0]                  \n",
            "                                                                 activation_16[0][0]              \n",
            "__________________________________________________________________________________________________\n",
            "activation_17 (Activation)      (None, 9, 9, 32)     0           add_17[0][0]                     \n",
            "__________________________________________________________________________________________________\n",
            "conv2d_44 (Conv2D)              (None, 9, 9, 32)     9248        activation_17[0][0]              \n",
            "__________________________________________________________________________________________________\n",
            "conv2d_45 (Conv2D)              (None, 9, 9, 32)     9248        conv2d_44[0][0]                  \n",
            "__________________________________________________________________________________________________\n",
            "add_18 (Add)                    (None, 9, 9, 32)     0           conv2d_45[0][0]                  \n",
            "                                                                 activation_17[0][0]              \n",
            "__________________________________________________________________________________________________\n",
            "activation_18 (Activation)      (None, 9, 9, 32)     0           add_18[0][0]                     \n",
            "__________________________________________________________________________________________________\n",
            "conv2d_46 (Conv2D)              (None, 9, 9, 32)     9248        activation_18[0][0]              \n",
            "__________________________________________________________________________________________________\n",
            "conv2d_47 (Conv2D)              (None, 9, 9, 32)     9248        conv2d_46[0][0]                  \n",
            "__________________________________________________________________________________________________\n",
            "add_19 (Add)                    (None, 9, 9, 32)     0           conv2d_47[0][0]                  \n",
            "                                                                 activation_18[0][0]              \n",
            "__________________________________________________________________________________________________\n",
            "activation_19 (Activation)      (None, 9, 9, 32)     0           add_19[0][0]                     \n",
            "__________________________________________________________________________________________________\n",
            "conv2d_48 (Conv2D)              (None, 9, 9, 32)     9248        activation_19[0][0]              \n",
            "__________________________________________________________________________________________________\n",
            "conv2d_49 (Conv2D)              (None, 9, 9, 32)     9248        conv2d_48[0][0]                  \n",
            "__________________________________________________________________________________________________\n",
            "add_20 (Add)                    (None, 9, 9, 32)     0           conv2d_49[0][0]                  \n",
            "                                                                 activation_19[0][0]              \n",
            "__________________________________________________________________________________________________\n",
            "activation_20 (Activation)      (None, 9, 9, 32)     0           add_20[0][0]                     \n",
            "__________________________________________________________________________________________________\n",
            "conv2d_50 (Conv2D)              (None, 7, 7, 32)     9248        activation_20[0][0]              \n",
            "__________________________________________________________________________________________________\n",
            "average_pooling2d_2 (AveragePoo (None, 1, 1, 32)     0           conv2d_50[0][0]                  \n",
            "__________________________________________________________________________________________________\n",
            "flatten_2 (Flatten)             (None, 32)           0           average_pooling2d_2[0][0]        \n",
            "__________________________________________________________________________________________________\n",
            "dense_4 (Dense)                 (None, 256)          8448        flatten_2[0][0]                  \n",
            "__________________________________________________________________________________________________\n",
            "dense_5 (Dense)                 (None, 100)          25700       dense_4[0][0]                    \n",
            "==================================================================================================\n",
            "Total params: 183,012\n",
            "Trainable params: 183,012\n",
            "Non-trainable params: 0\n",
            "__________________________________________________________________________________________________\n"
          ],
          "name": "stdout"
        }
      ]
    },
    {
      "cell_type": "code",
      "metadata": {
        "id": "kn-6yMx2cFEa",
        "outputId": "48ff385f-9757-4fd3-c7de-9f1b6e914f42",
        "colab": {
          "base_uri": "https://localhost:8080/",
          "height": 1000
        }
      },
      "source": [
        "%load_ext tensorboard\n",
        "tensor_board = tf.keras.callbacks.TensorBoard(log_dir='tensorboard',histogram_freq=1)\n",
        "res_net_model.compile(optimizer=keras.optimizers.SGD(lr=0.01, momentum=0.9),\n",
        "              loss='categorical_crossentropy',\n",
        "              metrics=['acc'])\n",
        "callback = tf.keras.callbacks.EarlyStopping(monitor='loss', patience=3,min_delta=0.005)\n",
        "model_checkpoint_callback = tf.keras.callbacks.ModelCheckpoint(\n",
        "    filepath='resnet_sgd_noreg.hdf5',\n",
        "    save_weights_only=True,\n",
        "    monitor='val_acc',\n",
        "    mode='max',\n",
        "    save_best_only=True)\n",
        "# res_net_model.fit(x_train,y_proc,batch_size=200,validation_data=(x_test,y_test_proc),epochs=50,callbacks=[callback,model_checkpoint_callback])\n",
        "output=res_net_model.fit_generator(datagen.flow(x_train,y_proc,batch_size = 200), epochs = 100, validation_data = (x_test,y_test_proc),callbacks = [tensor_board,callback,model_checkpoint_callback])"
      ],
      "execution_count": null,
      "outputs": [
        {
          "output_type": "stream",
          "text": [
            "Epoch 1/100\n",
            "  1/250 [..............................] - ETA: 0s - loss: 4.6115 - acc: 0.0200WARNING:tensorflow:From /usr/local/lib/python3.6/dist-packages/tensorflow/python/ops/summary_ops_v2.py:1277: stop (from tensorflow.python.eager.profiler) is deprecated and will be removed after 2020-07-01.\n",
            "Instructions for updating:\n",
            "use `tf.profiler.experimental.stop` instead.\n",
            "250/250 [==============================] - 24s 98ms/step - loss: 4.4343 - acc: 0.0285 - val_loss: 4.0714 - val_acc: 0.0715\n",
            "Epoch 2/100\n",
            "250/250 [==============================] - 24s 95ms/step - loss: 3.9138 - acc: 0.0889 - val_loss: 3.8455 - val_acc: 0.1020\n",
            "Epoch 3/100\n",
            "250/250 [==============================] - 23s 94ms/step - loss: 3.6640 - acc: 0.1293 - val_loss: 3.5985 - val_acc: 0.1409\n",
            "Epoch 4/100\n",
            "250/250 [==============================] - 23s 94ms/step - loss: 3.4513 - acc: 0.1643 - val_loss: 3.3488 - val_acc: 0.1867\n",
            "Epoch 5/100\n",
            "250/250 [==============================] - 23s 94ms/step - loss: 3.3091 - acc: 0.1928 - val_loss: 3.1906 - val_acc: 0.2137\n",
            "Epoch 6/100\n",
            "250/250 [==============================] - 23s 93ms/step - loss: 3.1851 - acc: 0.2145 - val_loss: 3.1723 - val_acc: 0.2204\n",
            "Epoch 7/100\n",
            "250/250 [==============================] - 23s 94ms/step - loss: 3.0720 - acc: 0.2344 - val_loss: 3.0310 - val_acc: 0.2419\n",
            "Epoch 8/100\n",
            "250/250 [==============================] - 24s 94ms/step - loss: 2.9858 - acc: 0.2518 - val_loss: 2.9342 - val_acc: 0.2566\n",
            "Epoch 9/100\n",
            "250/250 [==============================] - 24s 94ms/step - loss: 2.8999 - acc: 0.2691 - val_loss: 2.8439 - val_acc: 0.2827\n",
            "Epoch 10/100\n",
            "250/250 [==============================] - 23s 93ms/step - loss: 2.8260 - acc: 0.2817 - val_loss: 2.8191 - val_acc: 0.2949\n",
            "Epoch 11/100\n",
            "250/250 [==============================] - 23s 94ms/step - loss: 2.7601 - acc: 0.2960 - val_loss: 2.7148 - val_acc: 0.3102\n",
            "Epoch 12/100\n",
            "250/250 [==============================] - 23s 93ms/step - loss: 2.7069 - acc: 0.3051 - val_loss: 2.6629 - val_acc: 0.3193\n",
            "Epoch 13/100\n",
            "250/250 [==============================] - 23s 93ms/step - loss: 2.6412 - acc: 0.3197 - val_loss: 2.6086 - val_acc: 0.3357\n",
            "Epoch 14/100\n",
            "250/250 [==============================] - 23s 92ms/step - loss: 2.5819 - acc: 0.3320 - val_loss: 2.6099 - val_acc: 0.3320\n",
            "Epoch 15/100\n",
            "250/250 [==============================] - 23s 94ms/step - loss: 2.5408 - acc: 0.3410 - val_loss: 2.4718 - val_acc: 0.3582\n",
            "Epoch 16/100\n",
            "250/250 [==============================] - 23s 93ms/step - loss: 2.4823 - acc: 0.3524 - val_loss: 2.4771 - val_acc: 0.3565\n",
            "Epoch 17/100\n",
            "250/250 [==============================] - 23s 94ms/step - loss: 2.4367 - acc: 0.3642 - val_loss: 2.4451 - val_acc: 0.3641\n",
            "Epoch 18/100\n",
            "250/250 [==============================] - 23s 93ms/step - loss: 2.4102 - acc: 0.3683 - val_loss: 2.4841 - val_acc: 0.3621\n",
            "Epoch 19/100\n",
            "250/250 [==============================] - 23s 94ms/step - loss: 2.3703 - acc: 0.3767 - val_loss: 2.5327 - val_acc: 0.3506\n",
            "Epoch 20/100\n",
            "250/250 [==============================] - 23s 93ms/step - loss: 2.3343 - acc: 0.3822 - val_loss: 2.4880 - val_acc: 0.3607\n",
            "Epoch 21/100\n",
            "250/250 [==============================] - 24s 96ms/step - loss: 2.2946 - acc: 0.3928 - val_loss: 2.3571 - val_acc: 0.3837\n",
            "Epoch 22/100\n",
            "250/250 [==============================] - 24s 95ms/step - loss: 2.2742 - acc: 0.3977 - val_loss: 2.3732 - val_acc: 0.3808\n",
            "Epoch 23/100\n",
            "250/250 [==============================] - 23s 93ms/step - loss: 2.2325 - acc: 0.4062 - val_loss: 2.2883 - val_acc: 0.3971\n",
            "Epoch 24/100\n",
            "250/250 [==============================] - 24s 96ms/step - loss: 2.2012 - acc: 0.4115 - val_loss: 2.3228 - val_acc: 0.3996\n",
            "Epoch 25/100\n",
            "250/250 [==============================] - 24s 95ms/step - loss: 2.1833 - acc: 0.4168 - val_loss: 2.2614 - val_acc: 0.4092\n",
            "Epoch 26/100\n",
            "250/250 [==============================] - 24s 95ms/step - loss: 2.1655 - acc: 0.4208 - val_loss: 2.3091 - val_acc: 0.3957\n",
            "Epoch 27/100\n",
            "250/250 [==============================] - 24s 95ms/step - loss: 2.1306 - acc: 0.4290 - val_loss: 2.3297 - val_acc: 0.3928\n",
            "Epoch 28/100\n",
            "250/250 [==============================] - 24s 94ms/step - loss: 2.1167 - acc: 0.4291 - val_loss: 2.2318 - val_acc: 0.4119\n",
            "Epoch 29/100\n",
            "250/250 [==============================] - 24s 95ms/step - loss: 2.0977 - acc: 0.4343 - val_loss: 2.2299 - val_acc: 0.4160\n",
            "Epoch 30/100\n",
            "250/250 [==============================] - 24s 95ms/step - loss: 2.0776 - acc: 0.4395 - val_loss: 2.1725 - val_acc: 0.4329\n",
            "Epoch 31/100\n",
            "250/250 [==============================] - 24s 94ms/step - loss: 2.0602 - acc: 0.4437 - val_loss: 2.2428 - val_acc: 0.4121\n",
            "Epoch 32/100\n",
            "250/250 [==============================] - 24s 95ms/step - loss: 2.0505 - acc: 0.4468 - val_loss: 2.2454 - val_acc: 0.4147\n",
            "Epoch 33/100\n",
            "250/250 [==============================] - 24s 95ms/step - loss: 2.0140 - acc: 0.4516 - val_loss: 2.2869 - val_acc: 0.4186\n",
            "Epoch 34/100\n",
            "250/250 [==============================] - 24s 96ms/step - loss: 2.0066 - acc: 0.4550 - val_loss: 2.1071 - val_acc: 0.4403\n",
            "Epoch 35/100\n",
            "250/250 [==============================] - 24s 95ms/step - loss: 1.9948 - acc: 0.4561 - val_loss: 2.1853 - val_acc: 0.4298\n",
            "Epoch 36/100\n",
            "250/250 [==============================] - 24s 96ms/step - loss: 1.9838 - acc: 0.4576 - val_loss: 2.1720 - val_acc: 0.4274\n",
            "Epoch 37/100\n",
            "250/250 [==============================] - 24s 95ms/step - loss: 1.9615 - acc: 0.4639 - val_loss: 2.1673 - val_acc: 0.4354\n",
            "Epoch 38/100\n",
            "250/250 [==============================] - 24s 95ms/step - loss: 1.9524 - acc: 0.4663 - val_loss: 2.1528 - val_acc: 0.4341\n",
            "Epoch 39/100\n",
            "250/250 [==============================] - 24s 95ms/step - loss: 1.9343 - acc: 0.4723 - val_loss: 2.1716 - val_acc: 0.4290\n",
            "Epoch 40/100\n",
            "250/250 [==============================] - 24s 95ms/step - loss: 1.9301 - acc: 0.4709 - val_loss: 2.1166 - val_acc: 0.4420\n",
            "Epoch 41/100\n",
            "250/250 [==============================] - 24s 94ms/step - loss: 1.9149 - acc: 0.4773 - val_loss: 2.0648 - val_acc: 0.4510\n",
            "Epoch 42/100\n",
            "250/250 [==============================] - 24s 94ms/step - loss: 1.8976 - acc: 0.4786 - val_loss: 2.0802 - val_acc: 0.4514\n",
            "Epoch 43/100\n",
            "250/250 [==============================] - 24s 95ms/step - loss: 1.8943 - acc: 0.4811 - val_loss: 2.0648 - val_acc: 0.4480\n",
            "Epoch 44/100\n",
            "250/250 [==============================] - 23s 94ms/step - loss: 1.8774 - acc: 0.4841 - val_loss: 2.0915 - val_acc: 0.4511\n",
            "Epoch 45/100\n",
            "250/250 [==============================] - 24s 94ms/step - loss: 1.8800 - acc: 0.4845 - val_loss: 2.0173 - val_acc: 0.4624\n",
            "Epoch 46/100\n",
            "250/250 [==============================] - 24s 95ms/step - loss: 1.8557 - acc: 0.4879 - val_loss: 2.0892 - val_acc: 0.4526\n",
            "Epoch 47/100\n",
            "250/250 [==============================] - 24s 96ms/step - loss: 1.8592 - acc: 0.4836 - val_loss: 2.1143 - val_acc: 0.4516\n",
            "Epoch 48/100\n",
            "250/250 [==============================] - 23s 94ms/step - loss: 1.8465 - acc: 0.4896 - val_loss: 2.0606 - val_acc: 0.4598\n",
            "Epoch 49/100\n",
            "250/250 [==============================] - 24s 94ms/step - loss: 1.8333 - acc: 0.4933 - val_loss: 2.0645 - val_acc: 0.4570\n",
            "Epoch 50/100\n",
            "250/250 [==============================] - 24s 94ms/step - loss: 1.8263 - acc: 0.4953 - val_loss: 2.0449 - val_acc: 0.4593\n",
            "Epoch 51/100\n",
            "250/250 [==============================] - 23s 94ms/step - loss: 1.8063 - acc: 0.4972 - val_loss: 2.1425 - val_acc: 0.4469\n",
            "Epoch 52/100\n",
            "250/250 [==============================] - 24s 95ms/step - loss: 1.8104 - acc: 0.4982 - val_loss: 2.0271 - val_acc: 0.4618\n",
            "Epoch 53/100\n",
            "250/250 [==============================] - 24s 95ms/step - loss: 1.8073 - acc: 0.4984 - val_loss: 2.0306 - val_acc: 0.4558\n",
            "Epoch 54/100\n",
            "250/250 [==============================] - 24s 95ms/step - loss: 1.7940 - acc: 0.5028 - val_loss: 2.0218 - val_acc: 0.4615\n",
            "Epoch 55/100\n",
            "250/250 [==============================] - 24s 95ms/step - loss: 1.7953 - acc: 0.5038 - val_loss: 2.0574 - val_acc: 0.4655\n",
            "Epoch 56/100\n",
            "250/250 [==============================] - 24s 95ms/step - loss: 1.7737 - acc: 0.5078 - val_loss: 1.9519 - val_acc: 0.4803\n",
            "Epoch 57/100\n",
            "250/250 [==============================] - 24s 95ms/step - loss: 1.7629 - acc: 0.5102 - val_loss: 2.1443 - val_acc: 0.4466\n",
            "Epoch 58/100\n",
            "250/250 [==============================] - 23s 93ms/step - loss: 1.7642 - acc: 0.5114 - val_loss: 2.0564 - val_acc: 0.4626\n",
            "Epoch 59/100\n",
            "250/250 [==============================] - 24s 94ms/step - loss: 1.7553 - acc: 0.5094 - val_loss: 1.9973 - val_acc: 0.4724\n",
            "Epoch 60/100\n",
            "250/250 [==============================] - 24s 95ms/step - loss: 1.7594 - acc: 0.5106 - val_loss: 2.1259 - val_acc: 0.4508\n",
            "Epoch 61/100\n",
            "250/250 [==============================] - 24s 94ms/step - loss: 1.7392 - acc: 0.5175 - val_loss: 2.0682 - val_acc: 0.4630\n",
            "Epoch 62/100\n",
            "250/250 [==============================] - 23s 94ms/step - loss: 1.7446 - acc: 0.5163 - val_loss: 1.9876 - val_acc: 0.4720\n",
            "Epoch 63/100\n",
            "250/250 [==============================] - 24s 95ms/step - loss: 1.7341 - acc: 0.5142 - val_loss: 1.9837 - val_acc: 0.4694\n",
            "Epoch 64/100\n",
            "250/250 [==============================] - 23s 93ms/step - loss: 1.7281 - acc: 0.5186 - val_loss: 1.9803 - val_acc: 0.4739\n",
            "Epoch 65/100\n",
            "250/250 [==============================] - 23s 94ms/step - loss: 1.7170 - acc: 0.5187 - val_loss: 1.9864 - val_acc: 0.4746\n",
            "Epoch 66/100\n",
            "250/250 [==============================] - 24s 94ms/step - loss: 1.7265 - acc: 0.5174 - val_loss: 2.0511 - val_acc: 0.4661\n",
            "Epoch 67/100\n",
            "250/250 [==============================] - 24s 94ms/step - loss: 1.7094 - acc: 0.5215 - val_loss: 2.0733 - val_acc: 0.4605\n",
            "Epoch 68/100\n",
            "250/250 [==============================] - 23s 94ms/step - loss: 1.7093 - acc: 0.5219 - val_loss: 2.0056 - val_acc: 0.4721\n",
            "Epoch 69/100\n",
            "250/250 [==============================] - 23s 94ms/step - loss: 1.6994 - acc: 0.5240 - val_loss: 2.0520 - val_acc: 0.4595\n",
            "Epoch 70/100\n",
            "250/250 [==============================] - 24s 94ms/step - loss: 1.6997 - acc: 0.5242 - val_loss: 2.0306 - val_acc: 0.4732\n",
            "Epoch 71/100\n",
            "250/250 [==============================] - 23s 94ms/step - loss: 1.6908 - acc: 0.5278 - val_loss: 2.0053 - val_acc: 0.4762\n",
            "Epoch 72/100\n",
            "250/250 [==============================] - 23s 94ms/step - loss: 1.6900 - acc: 0.5258 - val_loss: 2.0199 - val_acc: 0.4674\n",
            "Epoch 73/100\n",
            "250/250 [==============================] - 24s 95ms/step - loss: 1.6760 - acc: 0.5291 - val_loss: 2.0245 - val_acc: 0.4647\n",
            "Epoch 74/100\n",
            "250/250 [==============================] - 24s 95ms/step - loss: 1.6685 - acc: 0.5329 - val_loss: 2.1023 - val_acc: 0.4529\n",
            "Epoch 75/100\n",
            "250/250 [==============================] - 23s 94ms/step - loss: 1.6632 - acc: 0.5318 - val_loss: 2.0846 - val_acc: 0.4578\n",
            "Epoch 76/100\n",
            "250/250 [==============================] - 23s 94ms/step - loss: 1.6623 - acc: 0.5340 - val_loss: 1.9595 - val_acc: 0.4806\n",
            "Epoch 77/100\n",
            "250/250 [==============================] - 24s 94ms/step - loss: 1.6668 - acc: 0.5312 - val_loss: 2.0030 - val_acc: 0.4687\n",
            "Epoch 78/100\n",
            "250/250 [==============================] - 23s 94ms/step - loss: 1.6538 - acc: 0.5346 - val_loss: 2.0501 - val_acc: 0.4628\n",
            "Epoch 79/100\n",
            "250/250 [==============================] - 23s 93ms/step - loss: 1.6537 - acc: 0.5344 - val_loss: 2.0080 - val_acc: 0.4676\n",
            "Epoch 80/100\n",
            "250/250 [==============================] - 24s 94ms/step - loss: 1.6460 - acc: 0.5348 - val_loss: 2.0578 - val_acc: 0.4645\n",
            "Epoch 81/100\n",
            "250/250 [==============================] - 23s 93ms/step - loss: 1.6457 - acc: 0.5352 - val_loss: 2.0407 - val_acc: 0.4666\n",
            "Epoch 82/100\n",
            "250/250 [==============================] - 24s 94ms/step - loss: 1.6448 - acc: 0.5354 - val_loss: 1.9776 - val_acc: 0.4798\n",
            "Epoch 83/100\n",
            "250/250 [==============================] - 23s 94ms/step - loss: 1.6334 - acc: 0.5406 - val_loss: 2.0749 - val_acc: 0.4660\n",
            "Epoch 84/100\n",
            "250/250 [==============================] - 23s 94ms/step - loss: 1.6276 - acc: 0.5412 - val_loss: 2.0577 - val_acc: 0.4688\n",
            "Epoch 85/100\n",
            "250/250 [==============================] - 23s 94ms/step - loss: 1.6268 - acc: 0.5419 - val_loss: 2.1185 - val_acc: 0.4583\n",
            "Epoch 86/100\n",
            "250/250 [==============================] - 24s 95ms/step - loss: 1.6183 - acc: 0.5420 - val_loss: 2.0695 - val_acc: 0.4696\n",
            "Epoch 87/100\n",
            "250/250 [==============================] - 24s 96ms/step - loss: 1.6313 - acc: 0.5405 - val_loss: 1.9748 - val_acc: 0.4881\n",
            "Epoch 88/100\n",
            "250/250 [==============================] - 23s 94ms/step - loss: 1.6356 - acc: 0.5373 - val_loss: 2.0513 - val_acc: 0.4749\n",
            "Epoch 89/100\n",
            "250/250 [==============================] - 23s 93ms/step - loss: 1.6196 - acc: 0.5437 - val_loss: 2.0342 - val_acc: 0.4725\n"
          ],
          "name": "stdout"
        }
      ]
    },
    {
      "cell_type": "code",
      "metadata": {
        "id": "X3s1P5z-ctjz",
        "outputId": "f80f728b-ee7e-4802-df9b-b95ac14b76f2",
        "colab": {
          "base_uri": "https://localhost:8080/",
          "height": 67
        }
      },
      "source": [
        "from sklearn.metrics import confusion_matrix, precision_score, recall_score, accuracy_score\n",
        "y_pred=res_net_model.predict(x_test)\n",
        "# tf.one_hot(y_pred)\n",
        "# y_pred=np.where(y_pred[0]=max(y_pred[0],1,0))\n",
        "y_pred_proc=np.zeros((10000,100))\n",
        "for i in range(0,10000):\n",
        "    y_pred_proc[i][np.argmax(y_pred[i])]=1\n",
        "print(\"Precision: \"+ str(precision_score(y_test_proc, y_pred_proc, average='weighted')))\n",
        "print(\"Recall: \"+ str(recall_score(y_test_proc, y_pred_proc, average='weighted')))\n",
        "print(\"Accuracy: \"+ str(accuracy_score(y_test_proc, y_pred_proc)))\n",
        "\n"
      ],
      "execution_count": null,
      "outputs": [
        {
          "output_type": "stream",
          "text": [
            "Precision: 0.5056111296328302\n",
            "Recall: 0.4725\n",
            "Accuracy: 0.4725\n"
          ],
          "name": "stdout"
        }
      ]
    },
    {
      "cell_type": "code",
      "metadata": {
        "id": "3p_w7iYF7pTP",
        "outputId": "bcfc76a1-360d-45a1-aa0c-289731be3b42",
        "colab": {
          "base_uri": "https://localhost:8080/",
          "height": 282
        }
      },
      "source": [
        "plt.plot(output.history['acc'])\n",
        "plt.plot(output.history['val_acc'])\n",
        "plt.legend(['Training Accuracy','Testing Accuracy'])"
      ],
      "execution_count": null,
      "outputs": [
        {
          "output_type": "execute_result",
          "data": {
            "text/plain": [
              "<matplotlib.legend.Legend at 0x7ff7d8007358>"
            ]
          },
          "metadata": {
            "tags": []
          },
          "execution_count": 27
        },
        {
          "output_type": "display_data",
          "data": {
            "image/png": "[encoded data removed]",
            "text/plain": [
              "<Figure size 432x288 with 1 Axes>"
            ]
          },
          "metadata": {
            "tags": [],
            "needs_background": "light"
          }
        }
      ]
    },
    {
      "cell_type": "code",
      "metadata": {
        "id": "IuPweL-m3997",
        "outputId": "c3bcbe0f-d2ff-4382-fa5a-98e42ea80e51",
        "colab": {
          "base_uri": "https://localhost:8080/",
          "height": 282
        }
      },
      "source": [
        "plt.plot(output.history['loss'])\n",
        "plt.plot(output.history['val_loss'])\n",
        "plt.legend(['Training loss','Testing loss'])"
      ],
      "execution_count": null,
      "outputs": [
        {
          "output_type": "execute_result",
          "data": {
            "text/plain": [
              "<matplotlib.legend.Legend at 0x7ff7d7f62f28>"
            ]
          },
          "metadata": {
            "tags": []
          },
          "execution_count": 28
        },
        {
          "output_type": "display_data",
          "data": {
            "image/png": "[encoded data removed]",
            "text/plain": [
              "<Figure size 432x288 with 1 Axes>"
            ]
          },
          "metadata": {
            "tags": [],
            "needs_background": "light"
          }
        }
      ]
    },
    {
      "cell_type": "code",
      "metadata": {
        "id": "3hhqIoLTgdqS",
        "outputId": "0b12abaa-fbdc-4f28-88e5-dbdf71011e80",
        "colab": {
          "base_uri": "https://localhost:8080/",
          "height": 101
        }
      },
      "source": [
        "import tensorflow as tf\n",
        "from tensorflow import keras\n",
        "from tensorflow.keras import layers\n",
        "import numpy as np\n",
        "import datetime as dt\n",
        "from keras.models import Sequential\n",
        "from keras.layers import Dense, Dropout, Flatten\n",
        "from keras.layers import Conv2D, MaxPooling2D,AveragePooling2D\n",
        "from keras import backend as K\n",
        "from keras.preprocessing.image import ImageDataGenerator\n",
        "from matplotlib import pyplot as plt\n",
        "\n",
        "(x_train, y_train), (x_test, y_test) = tf.keras.datasets.cifar100.load_data()\n",
        "\n",
        "y_proc=np.zeros((50000,100))\n",
        "for i in range(0,50000):\n",
        "    y_proc[i][y_train[i][0]]=1\n",
        "y_test_proc=np.zeros((10000,100))\n",
        "for i in range(0,10000):\n",
        "    y_test_proc[i][y_test[i][0]]=1\n",
        "y_proc.shape\n",
        "input_shape=(32,32,3)\n",
        "y_test_proc[0]\n",
        "x_train=x_train.astype('float')/255\n",
        "x_test=x_test.astype('float')/255\n",
        "\n",
        "inputs = keras.Input(shape=input_shape)\n",
        "x = layers.Conv2D(32, 3, activation='elu')(inputs)\n",
        "x = layers.Conv2D(32, 3, activation='elu')(x)\n",
        "x = layers.MaxPooling2D(3)(x)\n",
        "num_res_net_blocks = 5\n",
        "filters=32\n",
        "conv_size=3\n",
        "\n",
        "x_skip=x\n",
        "x = layers.Conv2D(filters, conv_size, activation='elu', padding='same')(x)\n",
        "x = layers.Conv2D(filters, conv_size, activation=None, padding='same')(x)\n",
        "x = layers.Add()([x, x_skip])\n",
        "# x = layers.MaxPool2D((3,3), strides=(1,1), padding='same')(x)\n",
        "x = layers.Activation('relu')(x)\n",
        "\n",
        "x_skip=x\n",
        "x = layers.Conv2D(filters, conv_size, activation='elu', padding='same')(x)\n",
        "x = layers.Conv2D(filters, conv_size, activation=None, padding='same')(x)\n",
        "x = layers.Add()([x, x_skip])\n",
        "# x = layers.MaxPool2D((3,3), strides=(1,1), padding='same')(x)\n",
        "x = layers.Activation('relu')(x)\n",
        "\n",
        "x_skip=x\n",
        "x = layers.Conv2D(filters, conv_size, activation='elu', padding='same')(x)\n",
        "x = layers.Conv2D(filters, conv_size, activation=None, padding='same')(x)\n",
        "x = layers.Add()([x, x_skip])\n",
        "# x = layers.MaxPool2D((3,3), strides=(1,1), padding='same')(x)\n",
        "x = layers.Activation('relu')(x)\n",
        "\n",
        "# x = layers.Conv2D(64, 3, activation='elu')(x)\n",
        "\n",
        "x_skip=x\n",
        "x = layers.Conv2D(filters, conv_size, activation='elu', padding='same')(x)\n",
        "x = layers.Conv2D(filters, conv_size, activation=None, padding='same')(x)\n",
        "x = layers.Add()([x, x_skip])\n",
        "# x = layers.MaxPool2D((3,3), strides=(1,1), padding='same')(x)\n",
        "x = layers.Activation('relu')(x)\n",
        "\n",
        "x_skip=x\n",
        "x = layers.Conv2D(filters, conv_size, activation='elu', padding='same')(x)\n",
        "x = layers.Conv2D(filters, conv_size, activation=None, padding='same')(x)\n",
        "x = layers.Add()([x, x_skip])\n",
        "# x = layers.MaxPool2D((3,3), strides=(1,1), padding='same')(x)\n",
        "x = layers.Activation('relu')(x)\n",
        "\n",
        "# x = layers.Conv2D(128, 3, activation='elu')(x)\n",
        "\n",
        "x_skip=x\n",
        "x = layers.Conv2D(filters, conv_size, activation='elu', padding='same')(x)\n",
        "x = layers.Conv2D(filters, conv_size, activation=None, padding='same')(x)\n",
        "x = layers.Add()([x, x_skip])\n",
        "# x = layers.MaxPool2D((3,3), strides=(1,1), padding='same')(x)\n",
        "x = layers.Activation('relu')(x)\n",
        "\n",
        "x_skip=x\n",
        "x = layers.Conv2D(filters, conv_size, activation='elu', padding='same')(x)\n",
        "x = layers.Conv2D(filters, conv_size, activation=None, padding='same')(x)\n",
        "x = layers.Add()([x, x_skip])\n",
        "# x = layers.MaxPool2D((3,3), strides=(1,1), padding='same')(x)\n",
        "x = layers.Activation('relu')(x)\n",
        "\n",
        "\n",
        "x = layers.Conv2D(32, 3, activation='elu')(x)\n",
        "x = layers.AveragePooling2D(4)(x)\n",
        "x=layers.Flatten()(x)\n",
        "x = layers.Dense(256, activation='elu')(x)\n",
        "outputs = layers.Dense(100, activation='softmax')(x)\n",
        "\n",
        "res_net_model = keras.Model(inputs, outputs)\n",
        "\n",
        "res_net_model.load_weights('../weights/resnet_sgd_noreg.hdf5')\n",
        "\n",
        "from sklearn.metrics import confusion_matrix, precision_score, recall_score, accuracy_score\n",
        "y_pred=res_net_model.predict(x_test)\n",
        "# tf.one_hot(y_pred)\n",
        "# y_pred=np.where(y_pred[0]=max(y_pred[0],1,0))\n",
        "y_pred_proc=np.zeros((10000,100))\n",
        "for i in range(0,10000):\n",
        "    y_pred_proc[i][np.argmax(y_pred[i])]=1\n",
        "print(\"Precision: \"+ str(precision_score(y_test_proc, y_pred_proc, average='weighted')))\n",
        "print(\"Recall: \"+ str(recall_score(y_test_proc, y_pred_proc, average='weighted')))\n",
        "print(\"Accuracy: \"+ str(accuracy_score(y_test_proc, y_pred_proc)))\n",
        "\n"
      ],
      "execution_count": 1,
      "outputs": [
        {
          "output_type": "stream",
          "text": [
            "Downloading data from https://www.cs.toronto.edu/~kriz/cifar-100-python.tar.gz\n",
            "169009152/169001437 [==============================] - 4s 0us/step\n",
            "Precision: 0.503263655096167\n",
            "Recall: 0.4881\n",
            "Accuracy: 0.4881\n"
          ],
          "name": "stdout"
        }
      ]
    }
  ]
}