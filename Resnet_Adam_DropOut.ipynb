{
  "nbformat": 4,
  "nbformat_minor": 0,
  "metadata": {
    "colab": {
      "name": "Res_Adam_DropOut.ipynb",
      "provenance": [],
      "collapsed_sections": []
    },
    "kernelspec": {
      "name": "python3",
      "display_name": "Python 3"
    },
    "accelerator": "GPU"
  },
  "cells": [
    {
      "cell_type": "code",
      "metadata": {
        "id": "cov2gWkFek2V"
      },
      "source": [
        "import tensorflow as tf\n",
        "from tensorflow import keras\n",
        "from tensorflow.keras import layers\n",
        "import numpy as np\n",
        "import datetime as dt\n",
        "from keras.models import Sequential\n",
        "from keras.layers import Dense, Dropout, Flatten\n",
        "from keras.layers import Conv2D, MaxPooling2D,Add,Activation\n",
        "from keras import backend as K\n",
        "import matplotlib.pyplot as plt\n",
        "from keras.preprocessing.image import ImageDataGenerator\n",
        "from sklearn.metrics import confusion_matrix, precision_score, recall_score, accuracy_score\n"
      ],
      "execution_count": null,
      "outputs": []
    },
    {
      "cell_type": "code",
      "metadata": {
        "id": "QkbkfertepHy",
        "outputId": "8618eecc-1a7c-4044-b1d7-f13601cc092e",
        "colab": {
          "base_uri": "https://localhost:8080/",
          "height": 50
        }
      },
      "source": [
        "(x_train, y_train), (x_test, y_test) = tf.keras.datasets.cifar100.load_data()"
      ],
      "execution_count": null,
      "outputs": [
        {
          "output_type": "stream",
          "text": [
            "Downloading data from https://www.cs.toronto.edu/~kriz/cifar-100-python.tar.gz\n",
            "169009152/169001437 [==============================] - 30s 0us/step\n"
          ],
          "name": "stdout"
        }
      ]
    },
    {
      "cell_type": "code",
      "metadata": {
        "id": "tHllF82ZeraG"
      },
      "source": [
        "y_proc=np.zeros((50000,100))\n",
        "for i in range(0,50000):\n",
        "    y_proc[i][y_train[i][0]]=1\n",
        "y_test_proc=np.zeros((10000,100))\n",
        "for i in range(0,10000):\n",
        "    y_test_proc[i][y_test[i][0]]=1\n",
        "y_proc.shape\n",
        "input_shape=(32,32,3)"
      ],
      "execution_count": null,
      "outputs": []
    },
    {
      "cell_type": "code",
      "metadata": {
        "id": "Ls6ZdF1JJOhv"
      },
      "source": [
        "datagen = ImageDataGenerator(\n",
        "    featurewise_center=False,  # set input mean to 0 over the dataset\n",
        "    samplewise_center=False,  # set each sample mean to 0\n",
        "    featurewise_std_normalization=False,  # divide inputs by std of the dataset\n",
        "    samplewise_std_normalization=False,  # divide each input by its std\n",
        "    zca_whitening=False,  # apply ZCA whitening\n",
        "    rotation_range=15,  # randomly rotate images in the range (degrees, 0 to 180)\n",
        "    width_shift_range=0.1,  # randomly shift images horizontally (fraction of total width)\n",
        "    height_shift_range=0.1,  # randomly shift images vertically (fraction of total height)\n",
        "    horizontal_flip=True,  # randomly flip images\n",
        "    vertical_flip=False)  # randomly flip images\n",
        "# (std, mean, and principal components if ZCA whitening is applied).\n",
        "datagen.fit(x_train)"
      ],
      "execution_count": null,
      "outputs": []
    },
    {
      "cell_type": "code",
      "metadata": {
        "id": "7tl9jLt1eukr"
      },
      "source": [
        "def res_net_block(input_data, filters, conv_size):\n",
        "  x = layers.Conv2D(filters, conv_size, activation='relu', padding='same')(input_data)\n",
        "  x = layers.Conv2D(filters, conv_size, activation=None, padding='same')(x)\n",
        "  x = layers.Add()([x, input_data])\n",
        "  x = layers.Activation('relu')(x)\n",
        "  return x"
      ],
      "execution_count": null,
      "outputs": []
    },
    {
      "cell_type": "code",
      "metadata": {
        "id": "j0AmK7COexOW"
      },
      "source": [
        "inputs = keras.Input(shape=input_shape)\n",
        "x = layers.Conv2D(32, 3, activation='relu')(inputs)\n",
        "x = layers.Conv2D(32, 3, activation='relu')(x)\n",
        "x = layers.MaxPooling2D(3)(x)\n",
        "num_res_net_blocks = 5\n",
        "filters=32\n",
        "conv_size=3\n",
        "\n",
        "x_skip=x\n",
        "x = layers.Conv2D(32, conv_size, activation='relu', padding='same')(x)\n",
        "\n",
        "x = layers.Add()([x, x_skip])\n",
        "# x = layers.MaxPool2D((3,3), strides=(1,1), padding='same')(x)\n",
        "x = layers.Activation('relu')(x)\n",
        "\n",
        "x_skip=x\n",
        "x = layers.Conv2D(filters, conv_size, activation='relu', padding='same')(x)\n",
        "x = layers.Conv2D(filters, conv_size, activation=None, padding='same')(x)\n",
        "x = layers.Add()([x, x_skip])\n",
        "# x = layers.MaxPool2D((3,3), strides=(1,1), padding='same')(x)\n",
        "x = layers.Activation('relu')(x)\n",
        "x=layers.Dropout(0.01)(x)\n",
        "\n",
        "x_skip=x\n",
        "x = layers.Conv2D(32, conv_size, activation='relu', padding='same')(x)\n",
        "x = layers.Conv2D(32, conv_size, activation=None, padding='same')(x)\n",
        "x = layers.Add()([x, x_skip])\n",
        "# x = layers.MaxPool2D((3,3), strides=(1,1), padding='same')(x)\n",
        "x = layers.Activation('relu')(x)\n",
        "\n",
        "x = layers.Conv2D(64, conv_size, activation=None, padding='same')(x)\n",
        "\n",
        "x_skip=x\n",
        "x = layers.Conv2D(64, conv_size, activation='relu', padding='same')(x)\n",
        "x = layers.Conv2D(64, conv_size, activation=None, padding='same')(x)\n",
        "x = layers.Add()([x, x_skip])\n",
        "# x = layers.MaxPool2D((3,3), strides=(1,1), padding='same')(x)\n",
        "x = layers.Activation('relu')(x)\n",
        "\n",
        "x_skip=x\n",
        "x = layers.Conv2D(64, conv_size, activation='relu', padding='same')(x)\n",
        "x = layers.Conv2D(64, conv_size, activation=None, padding='same')(x)\n",
        "x = layers.Add()([x, x_skip])\n",
        "# x = layers.MaxPool2D((3,3), strides=(1,1), padding='same')(x)\n",
        "x = layers.Activation('relu')(x)\n",
        "x=layers.Dropout(0.01)(x)\n",
        "x = layers.Conv2D(128, conv_size, activation=None, padding='same')(x)\n",
        "\n",
        "x_skip=x\n",
        "x = layers.Conv2D(128, conv_size, activation='relu', padding='same')(x)\n",
        "x = layers.Conv2D(128, conv_size, activation=None, padding='same')(x)\n",
        "x = layers.Add()([x, x_skip])\n",
        "# x = layers.MaxPool2D((3,3), strides=(1,1), padding='same')(x)\n",
        "x = layers.Activation('relu')(x)\n",
        "\n",
        "x_skip=x\n",
        "x = layers.Conv2D(128, conv_size, activation='relu', padding='same')(x)\n",
        "x = layers.Conv2D(128, conv_size, activation=None, padding='same')(x)\n",
        "x = layers.Add()([x, x_skip])\n",
        "# x = layers.MaxPool2D((3,3), strides=(1,1), padding='same')(x)\n",
        "x = layers.Activation('relu')(x)\n",
        "x=layers.Dropout(0.01)(x)\n",
        "\n",
        "x = layers.Conv2D(256, 3, activation='relu')(x)\n",
        "x = layers.Conv2D(256, 3, activation='relu')(x)\n",
        "x = layers.AveragePooling2D(4)(x)\n",
        "x=layers.Flatten()(x)\n",
        "x = layers.Dense(256, activation='relu')(x)\n",
        "outputs = layers.Dense(100, activation='softmax')(x)\n",
        "\n",
        "res_net_model = keras.Model(inputs, outputs)"
      ],
      "execution_count": null,
      "outputs": []
    },
    {
      "cell_type": "code",
      "metadata": {
        "id": "IV-TLwnbfAd9",
        "outputId": "64819476-f10e-43c0-c7a6-526feb54b2eb",
        "colab": {
          "base_uri": "https://localhost:8080/",
          "height": 1000
        }
      },
      "source": [
        "res_net_model.summary()"
      ],
      "execution_count": null,
      "outputs": [
        {
          "output_type": "stream",
          "text": [
            "Model: \"functional_1\"\n",
            "__________________________________________________________________________________________________\n",
            "Layer (type)                    Output Shape         Param #     Connected to                     \n",
            "==================================================================================================\n",
            "input_1 (InputLayer)            [(None, 32, 32, 3)]  0                                            \n",
            "__________________________________________________________________________________________________\n",
            "conv2d (Conv2D)                 (None, 30, 30, 32)   896         input_1[0][0]                    \n",
            "__________________________________________________________________________________________________\n",
            "conv2d_1 (Conv2D)               (None, 28, 28, 32)   9248        conv2d[0][0]                     \n",
            "__________________________________________________________________________________________________\n",
            "max_pooling2d (MaxPooling2D)    (None, 9, 9, 32)     0           conv2d_1[0][0]                   \n",
            "__________________________________________________________________________________________________\n",
            "conv2d_2 (Conv2D)               (None, 9, 9, 32)     9248        max_pooling2d[0][0]              \n",
            "__________________________________________________________________________________________________\n",
            "add (Add)                       (None, 9, 9, 32)     0           conv2d_2[0][0]                   \n",
            "                                                                 max_pooling2d[0][0]              \n",
            "__________________________________________________________________________________________________\n",
            "activation (Activation)         (None, 9, 9, 32)     0           add[0][0]                        \n",
            "__________________________________________________________________________________________________\n",
            "conv2d_3 (Conv2D)               (None, 9, 9, 32)     9248        activation[0][0]                 \n",
            "__________________________________________________________________________________________________\n",
            "conv2d_4 (Conv2D)               (None, 9, 9, 32)     9248        conv2d_3[0][0]                   \n",
            "__________________________________________________________________________________________________\n",
            "add_1 (Add)                     (None, 9, 9, 32)     0           conv2d_4[0][0]                   \n",
            "                                                                 activation[0][0]                 \n",
            "__________________________________________________________________________________________________\n",
            "activation_1 (Activation)       (None, 9, 9, 32)     0           add_1[0][0]                      \n",
            "__________________________________________________________________________________________________\n",
            "dropout (Dropout)               (None, 9, 9, 32)     0           activation_1[0][0]               \n",
            "__________________________________________________________________________________________________\n",
            "conv2d_5 (Conv2D)               (None, 9, 9, 32)     9248        dropout[0][0]                    \n",
            "__________________________________________________________________________________________________\n",
            "conv2d_6 (Conv2D)               (None, 9, 9, 32)     9248        conv2d_5[0][0]                   \n",
            "__________________________________________________________________________________________________\n",
            "add_2 (Add)                     (None, 9, 9, 32)     0           conv2d_6[0][0]                   \n",
            "                                                                 dropout[0][0]                    \n",
            "__________________________________________________________________________________________________\n",
            "activation_2 (Activation)       (None, 9, 9, 32)     0           add_2[0][0]                      \n",
            "__________________________________________________________________________________________________\n",
            "conv2d_7 (Conv2D)               (None, 9, 9, 64)     18496       activation_2[0][0]               \n",
            "__________________________________________________________________________________________________\n",
            "conv2d_8 (Conv2D)               (None, 9, 9, 64)     36928       conv2d_7[0][0]                   \n",
            "__________________________________________________________________________________________________\n",
            "conv2d_9 (Conv2D)               (None, 9, 9, 64)     36928       conv2d_8[0][0]                   \n",
            "__________________________________________________________________________________________________\n",
            "add_3 (Add)                     (None, 9, 9, 64)     0           conv2d_9[0][0]                   \n",
            "                                                                 conv2d_7[0][0]                   \n",
            "__________________________________________________________________________________________________\n",
            "activation_3 (Activation)       (None, 9, 9, 64)     0           add_3[0][0]                      \n",
            "__________________________________________________________________________________________________\n",
            "conv2d_10 (Conv2D)              (None, 9, 9, 64)     36928       activation_3[0][0]               \n",
            "__________________________________________________________________________________________________\n",
            "conv2d_11 (Conv2D)              (None, 9, 9, 64)     36928       conv2d_10[0][0]                  \n",
            "__________________________________________________________________________________________________\n",
            "add_4 (Add)                     (None, 9, 9, 64)     0           conv2d_11[0][0]                  \n",
            "                                                                 activation_3[0][0]               \n",
            "__________________________________________________________________________________________________\n",
            "activation_4 (Activation)       (None, 9, 9, 64)     0           add_4[0][0]                      \n",
            "__________________________________________________________________________________________________\n",
            "dropout_1 (Dropout)             (None, 9, 9, 64)     0           activation_4[0][0]               \n",
            "__________________________________________________________________________________________________\n",
            "conv2d_12 (Conv2D)              (None, 9, 9, 128)    73856       dropout_1[0][0]                  \n",
            "__________________________________________________________________________________________________\n",
            "conv2d_13 (Conv2D)              (None, 9, 9, 128)    147584      conv2d_12[0][0]                  \n",
            "__________________________________________________________________________________________________\n",
            "conv2d_14 (Conv2D)              (None, 9, 9, 128)    147584      conv2d_13[0][0]                  \n",
            "__________________________________________________________________________________________________\n",
            "add_5 (Add)                     (None, 9, 9, 128)    0           conv2d_14[0][0]                  \n",
            "                                                                 conv2d_12[0][0]                  \n",
            "__________________________________________________________________________________________________\n",
            "activation_5 (Activation)       (None, 9, 9, 128)    0           add_5[0][0]                      \n",
            "__________________________________________________________________________________________________\n",
            "conv2d_15 (Conv2D)              (None, 9, 9, 128)    147584      activation_5[0][0]               \n",
            "__________________________________________________________________________________________________\n",
            "conv2d_16 (Conv2D)              (None, 9, 9, 128)    147584      conv2d_15[0][0]                  \n",
            "__________________________________________________________________________________________________\n",
            "add_6 (Add)                     (None, 9, 9, 128)    0           conv2d_16[0][0]                  \n",
            "                                                                 activation_5[0][0]               \n",
            "__________________________________________________________________________________________________\n",
            "activation_6 (Activation)       (None, 9, 9, 128)    0           add_6[0][0]                      \n",
            "__________________________________________________________________________________________________\n",
            "dropout_2 (Dropout)             (None, 9, 9, 128)    0           activation_6[0][0]               \n",
            "__________________________________________________________________________________________________\n",
            "conv2d_17 (Conv2D)              (None, 7, 7, 256)    295168      dropout_2[0][0]                  \n",
            "__________________________________________________________________________________________________\n",
            "conv2d_18 (Conv2D)              (None, 5, 5, 256)    590080      conv2d_17[0][0]                  \n",
            "__________________________________________________________________________________________________\n",
            "average_pooling2d (AveragePooli (None, 1, 1, 256)    0           conv2d_18[0][0]                  \n",
            "__________________________________________________________________________________________________\n",
            "flatten (Flatten)               (None, 256)          0           average_pooling2d[0][0]          \n",
            "__________________________________________________________________________________________________\n",
            "dense (Dense)                   (None, 256)          65792       flatten[0][0]                    \n",
            "__________________________________________________________________________________________________\n",
            "dense_1 (Dense)                 (None, 100)          25700       dense[0][0]                      \n",
            "==================================================================================================\n",
            "Total params: 1,863,524\n",
            "Trainable params: 1,863,524\n",
            "Non-trainable params: 0\n",
            "__________________________________________________________________________________________________\n"
          ],
          "name": "stdout"
        }
      ]
    },
    {
      "cell_type": "code",
      "metadata": {
        "id": "5HDKfZs8fCys",
        "outputId": "1eb6d12a-6fc5-442f-9887-79aabb6be1ad",
        "colab": {
          "base_uri": "https://localhost:8080/",
          "height": 1000
        }
      },
      "source": [
        "%load_ext tensorboard\n",
        "tensor_board = tf.keras.callbacks.TensorBoard(log_dir='tensorboard',histogram_freq=1)\n",
        "res_net_model.compile(optimizer=keras.optimizers.Adam(lr=0.001),\n",
        "              loss='categorical_crossentropy',\n",
        "              metrics=['acc'])\n",
        "callback = tf.keras.callbacks.EarlyStopping(monitor='loss', patience=3,min_delta=0.00000001)\n",
        "model_checkpoint_callback = tf.keras.callbacks.ModelCheckpoint(\n",
        "    filepath='resnet_adam_dropout.hdf5',\n",
        "    save_weights_only=True,\n",
        "    monitor='val_acc',\n",
        "    mode='max',\n",
        "    save_best_only=True)\n",
        "# res_net_model.fit(x_train,y_proc,batch_size=128,validation_data=(x_test,y_test_proc),epochs=100,callbacks=[callback,model_checkpoint_callback])\n",
        "output=res_net_model.fit_generator(datagen.flow(x_train,y_proc,batch_size = 200), epochs = 100, validation_data = (x_test,y_test_proc),callbacks = [tensor_board,callback,model_checkpoint_callback])"
      ],
      "execution_count": null,
      "outputs": [
        {
          "output_type": "stream",
          "text": [
            "WARNING:tensorflow:From <ipython-input-8-4cd443a14078>:14: Model.fit_generator (from tensorflow.python.keras.engine.training) is deprecated and will be removed in a future version.\n",
            "Instructions for updating:\n",
            "Please use Model.fit, which supports generators.\n",
            "Epoch 1/100\n",
            "  1/250 [..............................] - ETA: 0s - loss: 23.9895 - acc: 0.0100WARNING:tensorflow:From /usr/local/lib/python3.6/dist-packages/tensorflow/python/ops/summary_ops_v2.py:1277: stop (from tensorflow.python.eager.profiler) is deprecated and will be removed after 2020-07-01.\n",
            "Instructions for updating:\n",
            "use `tf.profiler.experimental.stop` instead.\n",
            "  2/250 [..............................] - ETA: 13s - loss: 32.3809 - acc: 0.0150WARNING:tensorflow:Callbacks method `on_train_batch_end` is slow compared to the batch time (batch time: 0.0275s vs `on_train_batch_end` time: 0.0838s). Check your callbacks.\n",
            "250/250 [==============================] - 25s 101ms/step - loss: 4.7704 - acc: 0.0188 - val_loss: 4.2422 - val_acc: 0.0420\n",
            "Epoch 2/100\n",
            "250/250 [==============================] - 25s 99ms/step - loss: 4.0954 - acc: 0.0599 - val_loss: 3.9033 - val_acc: 0.0906\n",
            "Epoch 3/100\n",
            "250/250 [==============================] - 25s 99ms/step - loss: 3.8120 - acc: 0.1033 - val_loss: 3.6320 - val_acc: 0.1323\n",
            "Epoch 4/100\n",
            "250/250 [==============================] - 25s 99ms/step - loss: 3.5394 - acc: 0.1504 - val_loss: 3.3242 - val_acc: 0.1892\n",
            "Epoch 5/100\n",
            "250/250 [==============================] - 25s 101ms/step - loss: 3.3331 - acc: 0.1878 - val_loss: 3.1680 - val_acc: 0.2287\n",
            "Epoch 6/100\n",
            "250/250 [==============================] - 25s 99ms/step - loss: 3.1519 - acc: 0.2216 - val_loss: 3.0046 - val_acc: 0.2607\n",
            "Epoch 7/100\n",
            "250/250 [==============================] - 25s 101ms/step - loss: 2.9981 - acc: 0.2519 - val_loss: 2.8896 - val_acc: 0.2786\n",
            "Epoch 8/100\n",
            "250/250 [==============================] - 25s 99ms/step - loss: 2.8761 - acc: 0.2768 - val_loss: 2.8469 - val_acc: 0.2961\n",
            "Epoch 9/100\n",
            "250/250 [==============================] - 25s 99ms/step - loss: 2.7681 - acc: 0.2972 - val_loss: 2.7032 - val_acc: 0.3214\n",
            "Epoch 10/100\n",
            "250/250 [==============================] - 25s 99ms/step - loss: 2.6650 - acc: 0.3188 - val_loss: 2.6471 - val_acc: 0.3319\n",
            "Epoch 11/100\n",
            "250/250 [==============================] - 25s 99ms/step - loss: 2.5870 - acc: 0.3339 - val_loss: 2.5747 - val_acc: 0.3435\n",
            "Epoch 12/100\n",
            "250/250 [==============================] - 25s 99ms/step - loss: 2.5115 - acc: 0.3503 - val_loss: 2.5172 - val_acc: 0.3637\n",
            "Epoch 13/100\n",
            "250/250 [==============================] - 25s 100ms/step - loss: 2.4270 - acc: 0.3653 - val_loss: 2.4313 - val_acc: 0.3803\n",
            "Epoch 14/100\n",
            "250/250 [==============================] - 25s 99ms/step - loss: 2.3722 - acc: 0.3802 - val_loss: 2.5009 - val_acc: 0.3629\n",
            "Epoch 15/100\n",
            "250/250 [==============================] - 25s 99ms/step - loss: 2.3087 - acc: 0.3917 - val_loss: 2.3535 - val_acc: 0.3951\n",
            "Epoch 16/100\n",
            "250/250 [==============================] - 25s 100ms/step - loss: 2.2604 - acc: 0.4024 - val_loss: 2.4179 - val_acc: 0.3865\n",
            "Epoch 17/100\n",
            "250/250 [==============================] - 25s 100ms/step - loss: 2.2076 - acc: 0.4130 - val_loss: 2.3360 - val_acc: 0.4124\n",
            "Epoch 18/100\n",
            "250/250 [==============================] - 25s 101ms/step - loss: 2.1560 - acc: 0.4275 - val_loss: 2.1785 - val_acc: 0.4294\n",
            "Epoch 19/100\n",
            "250/250 [==============================] - 25s 101ms/step - loss: 2.1047 - acc: 0.4359 - val_loss: 2.1836 - val_acc: 0.4355\n",
            "Epoch 20/100\n",
            "250/250 [==============================] - 25s 100ms/step - loss: 2.0636 - acc: 0.4454 - val_loss: 2.1715 - val_acc: 0.4361\n",
            "Epoch 21/100\n",
            "250/250 [==============================] - 25s 100ms/step - loss: 2.0356 - acc: 0.4546 - val_loss: 2.1386 - val_acc: 0.4453\n",
            "Epoch 22/100\n",
            "250/250 [==============================] - 25s 99ms/step - loss: 1.9736 - acc: 0.4666 - val_loss: 2.2146 - val_acc: 0.4297\n",
            "Epoch 23/100\n",
            "250/250 [==============================] - 25s 99ms/step - loss: 1.9521 - acc: 0.4728 - val_loss: 2.1287 - val_acc: 0.4502\n",
            "Epoch 24/100\n",
            "250/250 [==============================] - 25s 100ms/step - loss: 1.9188 - acc: 0.4797 - val_loss: 2.1099 - val_acc: 0.4519\n",
            "Epoch 25/100\n",
            "250/250 [==============================] - 25s 99ms/step - loss: 1.8749 - acc: 0.4894 - val_loss: 2.1890 - val_acc: 0.4446\n",
            "Epoch 26/100\n",
            "250/250 [==============================] - 25s 99ms/step - loss: 1.8553 - acc: 0.4952 - val_loss: 2.1089 - val_acc: 0.4584\n",
            "Epoch 27/100\n",
            "250/250 [==============================] - 25s 100ms/step - loss: 1.8262 - acc: 0.5023 - val_loss: 2.0768 - val_acc: 0.4654\n",
            "Epoch 28/100\n",
            "250/250 [==============================] - 25s 99ms/step - loss: 1.7992 - acc: 0.5072 - val_loss: 2.1309 - val_acc: 0.4567\n",
            "Epoch 29/100\n",
            "250/250 [==============================] - 25s 99ms/step - loss: 1.7754 - acc: 0.5136 - val_loss: 2.1257 - val_acc: 0.4511\n",
            "Epoch 30/100\n",
            "250/250 [==============================] - 25s 100ms/step - loss: 1.7526 - acc: 0.5185 - val_loss: 1.9972 - val_acc: 0.4753\n",
            "Epoch 31/100\n",
            "250/250 [==============================] - 25s 100ms/step - loss: 1.7159 - acc: 0.5266 - val_loss: 2.0341 - val_acc: 0.4790\n",
            "Epoch 32/100\n",
            "250/250 [==============================] - 25s 101ms/step - loss: 1.6957 - acc: 0.5317 - val_loss: 2.0729 - val_acc: 0.4765\n",
            "Epoch 33/100\n",
            "250/250 [==============================] - 25s 99ms/step - loss: 1.6814 - acc: 0.5346 - val_loss: 2.0287 - val_acc: 0.4870\n",
            "Epoch 34/100\n",
            "250/250 [==============================] - 25s 100ms/step - loss: 1.6523 - acc: 0.5409 - val_loss: 2.0632 - val_acc: 0.4835\n",
            "Epoch 35/100\n",
            "250/250 [==============================] - 25s 100ms/step - loss: 1.6351 - acc: 0.5461 - val_loss: 1.9287 - val_acc: 0.5010\n",
            "Epoch 36/100\n",
            "250/250 [==============================] - 25s 99ms/step - loss: 1.6168 - acc: 0.5498 - val_loss: 2.0512 - val_acc: 0.4868\n",
            "Epoch 37/100\n",
            "250/250 [==============================] - 25s 100ms/step - loss: 1.5967 - acc: 0.5553 - val_loss: 2.0224 - val_acc: 0.4854\n",
            "Epoch 38/100\n",
            "250/250 [==============================] - 25s 99ms/step - loss: 1.5668 - acc: 0.5623 - val_loss: 2.0692 - val_acc: 0.4759\n",
            "Epoch 39/100\n",
            "250/250 [==============================] - 25s 99ms/step - loss: 1.5640 - acc: 0.5607 - val_loss: 1.9802 - val_acc: 0.5083\n",
            "Epoch 40/100\n",
            "250/250 [==============================] - 25s 100ms/step - loss: 1.5375 - acc: 0.5701 - val_loss: 2.0655 - val_acc: 0.4942\n",
            "Epoch 41/100\n",
            "250/250 [==============================] - 25s 99ms/step - loss: 1.5202 - acc: 0.5711 - val_loss: 2.1074 - val_acc: 0.4760\n",
            "Epoch 42/100\n",
            "250/250 [==============================] - 25s 99ms/step - loss: 1.5135 - acc: 0.5773 - val_loss: 2.0058 - val_acc: 0.4953\n",
            "Epoch 43/100\n",
            "250/250 [==============================] - 25s 100ms/step - loss: 1.4841 - acc: 0.5830 - val_loss: 2.0645 - val_acc: 0.4973\n",
            "Epoch 44/100\n",
            "250/250 [==============================] - 25s 101ms/step - loss: 1.4678 - acc: 0.5884 - val_loss: 2.0266 - val_acc: 0.4974\n",
            "Epoch 45/100\n",
            "250/250 [==============================] - 25s 99ms/step - loss: 1.4682 - acc: 0.5856 - val_loss: 1.9839 - val_acc: 0.5047\n",
            "Epoch 46/100\n",
            "250/250 [==============================] - 25s 100ms/step - loss: 1.4407 - acc: 0.5946 - val_loss: 2.0346 - val_acc: 0.4904\n",
            "Epoch 47/100\n",
            "250/250 [==============================] - 25s 100ms/step - loss: 1.4161 - acc: 0.5984 - val_loss: 2.0640 - val_acc: 0.4809\n",
            "Epoch 48/100\n",
            "250/250 [==============================] - 25s 99ms/step - loss: 1.4205 - acc: 0.5971 - val_loss: 2.0416 - val_acc: 0.5022\n",
            "Epoch 49/100\n",
            "250/250 [==============================] - 25s 99ms/step - loss: 1.4011 - acc: 0.6031 - val_loss: 2.0415 - val_acc: 0.5008\n",
            "Epoch 50/100\n",
            "250/250 [==============================] - 25s 100ms/step - loss: 1.3905 - acc: 0.6057 - val_loss: 1.9507 - val_acc: 0.5134\n",
            "Epoch 51/100\n",
            "250/250 [==============================] - 25s 99ms/step - loss: 1.3703 - acc: 0.6092 - val_loss: 2.0741 - val_acc: 0.4914\n",
            "Epoch 52/100\n",
            "250/250 [==============================] - 25s 99ms/step - loss: 1.3739 - acc: 0.6094 - val_loss: 2.0859 - val_acc: 0.4929\n",
            "Epoch 53/100\n",
            "250/250 [==============================] - 25s 102ms/step - loss: 1.3636 - acc: 0.6128 - val_loss: 2.0680 - val_acc: 0.4972\n",
            "Epoch 54/100\n",
            "250/250 [==============================] - 25s 101ms/step - loss: 1.3336 - acc: 0.6173 - val_loss: 1.9880 - val_acc: 0.5071\n",
            "Epoch 55/100\n",
            "250/250 [==============================] - 25s 100ms/step - loss: 1.3232 - acc: 0.6211 - val_loss: 1.9463 - val_acc: 0.5190\n",
            "Epoch 56/100\n",
            "250/250 [==============================] - 25s 101ms/step - loss: 1.3147 - acc: 0.6229 - val_loss: 2.1710 - val_acc: 0.4976\n",
            "Epoch 57/100\n",
            "250/250 [==============================] - 25s 102ms/step - loss: 1.3037 - acc: 0.6264 - val_loss: 2.0702 - val_acc: 0.4945\n",
            "Epoch 58/100\n",
            "250/250 [==============================] - 25s 99ms/step - loss: 1.2922 - acc: 0.6312 - val_loss: 2.0881 - val_acc: 0.5057\n",
            "Epoch 59/100\n",
            "250/250 [==============================] - 25s 100ms/step - loss: 1.2936 - acc: 0.6282 - val_loss: 2.0248 - val_acc: 0.5084\n",
            "Epoch 60/100\n",
            "250/250 [==============================] - 25s 100ms/step - loss: 1.2808 - acc: 0.6330 - val_loss: 2.0007 - val_acc: 0.5079\n",
            "Epoch 61/100\n",
            "250/250 [==============================] - 25s 99ms/step - loss: 1.2714 - acc: 0.6349 - val_loss: 1.9702 - val_acc: 0.5112\n",
            "Epoch 62/100\n",
            "250/250 [==============================] - 25s 99ms/step - loss: 1.2425 - acc: 0.6426 - val_loss: 2.0106 - val_acc: 0.5148\n",
            "Epoch 63/100\n",
            "250/250 [==============================] - 25s 101ms/step - loss: 1.2426 - acc: 0.6423 - val_loss: 2.0334 - val_acc: 0.5149\n",
            "Epoch 64/100\n",
            "250/250 [==============================] - 25s 99ms/step - loss: 1.2403 - acc: 0.6424 - val_loss: 2.0688 - val_acc: 0.5008\n",
            "Epoch 65/100\n",
            "250/250 [==============================] - 25s 99ms/step - loss: 1.2410 - acc: 0.6428 - val_loss: 2.1297 - val_acc: 0.4954\n",
            "Epoch 66/100\n",
            "250/250 [==============================] - 25s 100ms/step - loss: 1.2262 - acc: 0.6486 - val_loss: 2.0185 - val_acc: 0.5179\n",
            "Epoch 67/100\n",
            "250/250 [==============================] - 25s 99ms/step - loss: 1.2136 - acc: 0.6505 - val_loss: 2.1025 - val_acc: 0.5008\n",
            "Epoch 68/100\n",
            "250/250 [==============================] - 25s 100ms/step - loss: 1.1991 - acc: 0.6539 - val_loss: 2.0390 - val_acc: 0.5091\n",
            "Epoch 69/100\n",
            "250/250 [==============================] - 26s 103ms/step - loss: 1.1955 - acc: 0.6547 - val_loss: 2.0535 - val_acc: 0.5165\n",
            "Epoch 70/100\n",
            "250/250 [==============================] - 25s 100ms/step - loss: 1.1827 - acc: 0.6557 - val_loss: 2.0564 - val_acc: 0.5207\n",
            "Epoch 71/100\n",
            "250/250 [==============================] - 25s 99ms/step - loss: 1.1813 - acc: 0.6584 - val_loss: 2.1232 - val_acc: 0.5016\n",
            "Epoch 72/100\n",
            "250/250 [==============================] - 25s 100ms/step - loss: 1.1652 - acc: 0.6615 - val_loss: 2.0907 - val_acc: 0.5116\n",
            "Epoch 73/100\n",
            "250/250 [==============================] - 25s 100ms/step - loss: 1.1585 - acc: 0.6649 - val_loss: 2.0913 - val_acc: 0.5053\n",
            "Epoch 74/100\n",
            "250/250 [==============================] - 25s 100ms/step - loss: 1.1794 - acc: 0.6582 - val_loss: 2.1265 - val_acc: 0.5090\n",
            "Epoch 75/100\n",
            "250/250 [==============================] - 25s 100ms/step - loss: 1.1501 - acc: 0.6653 - val_loss: 2.1188 - val_acc: 0.5098\n",
            "Epoch 76/100\n",
            "250/250 [==============================] - 25s 100ms/step - loss: 1.1401 - acc: 0.6695 - val_loss: 2.1281 - val_acc: 0.5102\n",
            "Epoch 77/100\n",
            "250/250 [==============================] - 25s 99ms/step - loss: 1.1273 - acc: 0.6698 - val_loss: 2.1219 - val_acc: 0.5095\n",
            "Epoch 78/100\n",
            "250/250 [==============================] - 25s 101ms/step - loss: 1.1395 - acc: 0.6670 - val_loss: 2.0969 - val_acc: 0.5113\n",
            "Epoch 79/100\n",
            "250/250 [==============================] - 25s 101ms/step - loss: 1.1154 - acc: 0.6753 - val_loss: 2.1398 - val_acc: 0.5100\n",
            "Epoch 80/100\n",
            "250/250 [==============================] - 25s 100ms/step - loss: 1.1204 - acc: 0.6730 - val_loss: 2.1729 - val_acc: 0.5131\n",
            "Epoch 81/100\n",
            "250/250 [==============================] - 25s 101ms/step - loss: 1.0989 - acc: 0.6775 - val_loss: 2.1577 - val_acc: 0.5078\n",
            "Epoch 82/100\n",
            "250/250 [==============================] - 25s 102ms/step - loss: 1.1012 - acc: 0.6796 - val_loss: 2.0931 - val_acc: 0.5252\n",
            "Epoch 83/100\n",
            "250/250 [==============================] - 25s 100ms/step - loss: 1.0845 - acc: 0.6828 - val_loss: 2.2963 - val_acc: 0.5030\n",
            "Epoch 84/100\n",
            "250/250 [==============================] - 25s 99ms/step - loss: 1.0807 - acc: 0.6832 - val_loss: 2.1669 - val_acc: 0.5207\n",
            "Epoch 85/100\n",
            "250/250 [==============================] - 25s 101ms/step - loss: 1.0802 - acc: 0.6833 - val_loss: 2.2794 - val_acc: 0.5045\n",
            "Epoch 86/100\n",
            "250/250 [==============================] - 25s 100ms/step - loss: 1.0679 - acc: 0.6869 - val_loss: 2.1190 - val_acc: 0.5253\n",
            "Epoch 87/100\n",
            "250/250 [==============================] - 25s 100ms/step - loss: 1.0653 - acc: 0.6860 - val_loss: 2.2662 - val_acc: 0.5102\n",
            "Epoch 88/100\n",
            "250/250 [==============================] - 25s 100ms/step - loss: 1.0634 - acc: 0.6866 - val_loss: 2.1205 - val_acc: 0.5280\n",
            "Epoch 89/100\n",
            "250/250 [==============================] - 25s 100ms/step - loss: 1.0485 - acc: 0.6929 - val_loss: 2.1525 - val_acc: 0.5077\n",
            "Epoch 90/100\n",
            "250/250 [==============================] - 25s 100ms/step - loss: 1.0426 - acc: 0.6928 - val_loss: 2.1891 - val_acc: 0.5156\n",
            "Epoch 91/100\n",
            "250/250 [==============================] - 25s 100ms/step - loss: 1.0511 - acc: 0.6916 - val_loss: 2.2234 - val_acc: 0.5117\n",
            "Epoch 92/100\n",
            "250/250 [==============================] - 25s 101ms/step - loss: 1.0267 - acc: 0.6978 - val_loss: 2.0765 - val_acc: 0.5283\n",
            "Epoch 93/100\n",
            "250/250 [==============================] - 25s 101ms/step - loss: 1.0349 - acc: 0.6976 - val_loss: 2.1599 - val_acc: 0.5234\n",
            "Epoch 94/100\n",
            "250/250 [==============================] - 25s 102ms/step - loss: 1.0337 - acc: 0.6952 - val_loss: 2.1273 - val_acc: 0.5258\n",
            "Epoch 95/100\n",
            "250/250 [==============================] - 25s 101ms/step - loss: 1.0370 - acc: 0.6942 - val_loss: 2.3147 - val_acc: 0.5025\n"
          ],
          "name": "stdout"
        }
      ]
    },
    {
      "cell_type": "code",
      "metadata": {
        "id": "jw9OFXnjfHCy",
        "outputId": "a6118c7d-e298-4d58-c050-ee3b025e9264",
        "colab": {
          "base_uri": "https://localhost:8080/",
          "height": 67
        }
      },
      "source": [
        "\n",
        "y_pred=res_net_model.predict(x_test)\n",
        "# tf.one_hot(y_pred)\n",
        "# y_pred=np.where(y_pred[0]=max(y_pred[0],1,0))\n",
        "y_pred_proc=np.zeros((10000,100))\n",
        "for i in range(0,10000):\n",
        "    y_pred_proc[i][np.argmax(y_pred[i])]=1\n",
        "print(\"Precision: \"+ str(precision_score(y_test_proc, y_pred_proc, average='weighted')))\n",
        "print(\"Recall: \"+ str(recall_score(y_test_proc, y_pred_proc, average='weighted')))\n",
        "print(\"Accuracy: \"+ str(accuracy_score(y_test_proc, y_pred_proc)))"
      ],
      "execution_count": null,
      "outputs": [
        {
          "output_type": "stream",
          "text": [
            "Precision: 0.5310182272184288\n",
            "Recall: 0.5025\n",
            "Accuracy: 0.5025\n"
          ],
          "name": "stdout"
        }
      ]
    },
    {
      "cell_type": "code",
      "metadata": {
        "id": "VP-vRlRCJn3v",
        "outputId": "0a2973c3-4cd5-4248-a5f0-c0b92fef6bb3",
        "colab": {
          "base_uri": "https://localhost:8080/",
          "height": 282
        }
      },
      "source": [
        "plt.plot(output.history['acc'])\n",
        "plt.plot(output.history['val_acc'])\n",
        "plt.legend(['Training Accuracy','Testing Accuracy'])\n"
      ],
      "execution_count": null,
      "outputs": [
        {
          "output_type": "execute_result",
          "data": {
            "text/plain": [
              "<matplotlib.legend.Legend at 0x7f15e20a3be0>"
            ]
          },
          "metadata": {
            "tags": []
          },
          "execution_count": 10
        },
        {
          "output_type": "display_data",
          "data": {
            "image/png": "[encoded data removed]",
            "text/plain": [
              "<Figure size 432x288 with 1 Axes>"
            ]
          },
          "metadata": {
            "tags": [],
            "needs_background": "light"
          }
        }
      ]
    },
    {
      "cell_type": "code",
      "metadata": {
        "id": "c_d_Qi9bJp7z",
        "outputId": "358a69c8-9985-42fb-e21c-cfddfeba2a49",
        "colab": {
          "base_uri": "https://localhost:8080/",
          "height": 282
        }
      },
      "source": [
        "plt.plot(output.history['loss'])\n",
        "plt.plot(output.history['val_loss'])\n",
        "plt.legend(['Training loss','Testing loss'])"
      ],
      "execution_count": null,
      "outputs": [
        {
          "output_type": "execute_result",
          "data": {
            "text/plain": [
              "<matplotlib.legend.Legend at 0x7f15e2099710>"
            ]
          },
          "metadata": {
            "tags": []
          },
          "execution_count": 11
        },
        {
          "output_type": "display_data",
          "data": {
            "image/png": "[encoded data removed]",
            "text/plain": [
              "<Figure size 432x288 with 1 Axes>"
            ]
          },
          "metadata": {
            "tags": [],
            "needs_background": "light"
          }
        }
      ]
    },
    {
      "cell_type": "code",
      "metadata": {
        "id": "hmn3Z8uYTk3u",
        "outputId": "79b520df-1cae-49f3-fd07-b96e988da79e",
        "colab": {
          "base_uri": "https://localhost:8080/",
          "height": 101
        }
      },
      "source": [
        "import tensorflow as tf\n",
        "from tensorflow import keras\n",
        "from tensorflow.keras import layers\n",
        "import numpy as np\n",
        "import datetime as dt\n",
        "from keras.models import Sequential\n",
        "from keras.layers import Dense, Dropout, Flatten\n",
        "from keras.layers import Conv2D, MaxPooling2D,Add,Activation\n",
        "from keras import backend as K\n",
        "import matplotlib.pyplot as plt\n",
        "from keras.preprocessing.image import ImageDataGenerator\n",
        "from sklearn.metrics import confusion_matrix, precision_score, recall_score, accuracy_score\n",
        "\n",
        "(x_train, y_train), (x_test, y_test) = tf.keras.datasets.cifar100.load_data()\n",
        "\n",
        "y_proc=np.zeros((50000,100))\n",
        "for i in range(0,50000):\n",
        "    y_proc[i][y_train[i][0]]=1\n",
        "y_test_proc=np.zeros((10000,100))\n",
        "for i in range(0,10000):\n",
        "    y_test_proc[i][y_test[i][0]]=1\n",
        "y_proc.shape\n",
        "input_shape=(32,32,3)\n",
        "\n",
        "inputs = keras.Input(shape=input_shape)\n",
        "x = layers.Conv2D(32, 3, activation='relu')(inputs)\n",
        "x = layers.Conv2D(32, 3, activation='relu')(x)\n",
        "x = layers.MaxPooling2D(3)(x)\n",
        "num_res_net_blocks = 5\n",
        "filters=32\n",
        "conv_size=3\n",
        "\n",
        "x_skip=x\n",
        "x = layers.Conv2D(32, conv_size, activation='relu', padding='same')(x)\n",
        "\n",
        "x = layers.Add()([x, x_skip])\n",
        "# x = layers.MaxPool2D((3,3), strides=(1,1), padding='same')(x)\n",
        "x = layers.Activation('relu')(x)\n",
        "\n",
        "x_skip=x\n",
        "x = layers.Conv2D(filters, conv_size, activation='relu', padding='same')(x)\n",
        "x = layers.Conv2D(filters, conv_size, activation=None, padding='same')(x)\n",
        "x = layers.Add()([x, x_skip])\n",
        "# x = layers.MaxPool2D((3,3), strides=(1,1), padding='same')(x)\n",
        "x = layers.Activation('relu')(x)\n",
        "x=layers.Dropout(0.01)(x)\n",
        "\n",
        "x_skip=x\n",
        "x = layers.Conv2D(32, conv_size, activation='relu', padding='same')(x)\n",
        "x = layers.Conv2D(32, conv_size, activation=None, padding='same')(x)\n",
        "x = layers.Add()([x, x_skip])\n",
        "# x = layers.MaxPool2D((3,3), strides=(1,1), padding='same')(x)\n",
        "x = layers.Activation('relu')(x)\n",
        "\n",
        "x = layers.Conv2D(64, conv_size, activation=None, padding='same')(x)\n",
        "\n",
        "x_skip=x\n",
        "x = layers.Conv2D(64, conv_size, activation='relu', padding='same')(x)\n",
        "x = layers.Conv2D(64, conv_size, activation=None, padding='same')(x)\n",
        "x = layers.Add()([x, x_skip])\n",
        "# x = layers.MaxPool2D((3,3), strides=(1,1), padding='same')(x)\n",
        "x = layers.Activation('relu')(x)\n",
        "\n",
        "x_skip=x\n",
        "x = layers.Conv2D(64, conv_size, activation='relu', padding='same')(x)\n",
        "x = layers.Conv2D(64, conv_size, activation=None, padding='same')(x)\n",
        "x = layers.Add()([x, x_skip])\n",
        "# x = layers.MaxPool2D((3,3), strides=(1,1), padding='same')(x)\n",
        "x = layers.Activation('relu')(x)\n",
        "x=layers.Dropout(0.01)(x)\n",
        "x = layers.Conv2D(128, conv_size, activation=None, padding='same')(x)\n",
        "\n",
        "x_skip=x\n",
        "x = layers.Conv2D(128, conv_size, activation='relu', padding='same')(x)\n",
        "x = layers.Conv2D(128, conv_size, activation=None, padding='same')(x)\n",
        "x = layers.Add()([x, x_skip])\n",
        "# x = layers.MaxPool2D((3,3), strides=(1,1), padding='same')(x)\n",
        "x = layers.Activation('relu')(x)\n",
        "\n",
        "x_skip=x\n",
        "x = layers.Conv2D(128, conv_size, activation='relu', padding='same')(x)\n",
        "x = layers.Conv2D(128, conv_size, activation=None, padding='same')(x)\n",
        "x = layers.Add()([x, x_skip])\n",
        "# x = layers.MaxPool2D((3,3), strides=(1,1), padding='same')(x)\n",
        "x = layers.Activation('relu')(x)\n",
        "x=layers.Dropout(0.01)(x)\n",
        "\n",
        "x = layers.Conv2D(256, 3, activation='relu')(x)\n",
        "x = layers.Conv2D(256, 3, activation='relu')(x)\n",
        "x = layers.AveragePooling2D(4)(x)\n",
        "x=layers.Flatten()(x)\n",
        "x = layers.Dense(256, activation='relu')(x)\n",
        "outputs = layers.Dense(100, activation='softmax')(x)\n",
        "\n",
        "res_net_model = keras.Model(inputs, outputs)\n",
        "\n",
        "res_net_model.load_weights('../weights/resnet_adam_dropout.hdf5')\n",
        "\n",
        "\n",
        "y_pred=res_net_model.predict(x_test)\n",
        "# tf.one_hot(y_pred)\n",
        "# y_pred=np.where(y_pred[0]=max(y_pred[0],1,0))\n",
        "y_pred_proc=np.zeros((10000,100))\n",
        "for i in range(0,10000):\n",
        "    y_pred_proc[i][np.argmax(y_pred[i])]=1\n",
        "print(\"Precision: \"+ str(precision_score(y_test_proc, y_pred_proc, average='weighted')))\n",
        "print(\"Recall: \"+ str(recall_score(y_test_proc, y_pred_proc, average='weighted')))\n",
        "print(\"Accuracy: \"+ str(accuracy_score(y_test_proc, y_pred_proc)))"
      ],
      "execution_count": 1,
      "outputs": [
        {
          "output_type": "stream",
          "text": [
            "Downloading data from https://www.cs.toronto.edu/~kriz/cifar-100-python.tar.gz\n",
            "169009152/169001437 [==============================] - 4s 0us/step\n",
            "Precision: 0.5481367202351054\n",
            "Recall: 0.5283\n",
            "Accuracy: 0.5283\n"
          ],
          "name": "stdout"
        }
      ]
    }
  ]
}