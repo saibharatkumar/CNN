{
  "nbformat": 4,
  "nbformat_minor": 0,
  "metadata": {
    "colab": {
      "name": "VGG_Adam_Dropout.ipynb",
      "provenance": [],
      "collapsed_sections": []
    },
    "kernelspec": {
      "name": "python3",
      "display_name": "Python 3"
    },
    "accelerator": "GPU"
  },
  "cells": [
    {
      "cell_type": "code",
      "metadata": {
        "id": "DHxExJHmHrOi"
      },
      "source": [
        "import tensorflow as tf\n",
        "from tensorflow import keras\n",
        "from tensorflow.keras import layers\n",
        "import numpy as np\n",
        "import datetime as dt\n",
        "from keras.models import Sequential\n",
        "from keras.layers import Dense, Dropout, Flatten\n",
        "from keras.layers import Conv2D, MaxPooling2D,Add,Activation\n",
        "from keras import backend as K\n",
        "import matplotlib.pyplot as plt\n",
        "from keras.preprocessing.image import ImageDataGenerator\n",
        "from sklearn.metrics import confusion_matrix, precision_score, recall_score, accuracy_score\n"
      ],
      "execution_count": null,
      "outputs": []
    },
    {
      "cell_type": "code",
      "metadata": {
        "id": "EdglliqVIpcH",
        "outputId": "4ab84b25-7155-4e01-df4c-0852adb42d58",
        "colab": {
          "base_uri": "https://localhost:8080/",
          "height": 50
        }
      },
      "source": [
        "(x_train, y_train), (x_test, y_test) = tf.keras.datasets.cifar100.load_data()"
      ],
      "execution_count": null,
      "outputs": [
        {
          "output_type": "stream",
          "text": [
            "Downloading data from https://www.cs.toronto.edu/~kriz/cifar-100-python.tar.gz\n",
            "169009152/169001437 [==============================] - 11s 0us/step\n"
          ],
          "name": "stdout"
        }
      ]
    },
    {
      "cell_type": "code",
      "metadata": {
        "id": "3xOtuKNpIvmm",
        "outputId": "5e6df4f9-28f9-48b3-be1a-03d28ca568d5",
        "colab": {
          "base_uri": "https://localhost:8080/",
          "height": 34
        }
      },
      "source": [
        "y_proc=np.zeros((50000,100))\n",
        "for i in range(0,50000):\n",
        "    y_proc[i][y_train[i][0]]=1\n",
        "y_test_proc=np.zeros((10000,100))\n",
        "for i in range(0,10000):\n",
        "    y_test_proc[i][y_test[i][0]]=1\n",
        "y_proc.shape\n",
        "input_shape=(32,32,3)\n",
        "y_test_proc[0]\n",
        "x_train=x_train.astype('float')/255\n",
        "x_test=x_test.astype('float')/255\n",
        "y_test_proc.shape"
      ],
      "execution_count": null,
      "outputs": [
        {
          "output_type": "execute_result",
          "data": {
            "text/plain": [
              "(10000, 100)"
            ]
          },
          "metadata": {
            "tags": []
          },
          "execution_count": 3
        }
      ]
    },
    {
      "cell_type": "code",
      "metadata": {
        "id": "kjNVHplzIxNh"
      },
      "source": [
        "datagen = ImageDataGenerator(\n",
        "    featurewise_center=False,  # set input mean to 0 over the dataset\n",
        "    samplewise_center=False,  # set each sample mean to 0\n",
        "    featurewise_std_normalization=False,  # divide inputs by std of the dataset\n",
        "    samplewise_std_normalization=False,  # divide each input by its std\n",
        "    zca_whitening=False,  # apply ZCA whitening\n",
        "    rotation_range=15,  # randomly rotate images in the range (degrees, 0 to 180)\n",
        "    width_shift_range=0.1,  # randomly shift images horizontally (fraction of total width)\n",
        "    height_shift_range=0.1,  # randomly shift images vertically (fraction of total height)\n",
        "    horizontal_flip=True,  # randomly flip images\n",
        "    vertical_flip=False)  # randomly flip images\n",
        "# (std, mean, and principal components if ZCA whitening is applied).\n",
        "datagen.fit(x_train)"
      ],
      "execution_count": null,
      "outputs": []
    },
    {
      "cell_type": "code",
      "metadata": {
        "id": "Bwee_Z5zIy4v"
      },
      "source": [
        "inputs = keras.Input(shape=input_shape)\n",
        "x = layers.Conv2D(32, 3, activation='relu')(inputs)\n",
        "x=layers.Dropout(0.01)(x)\n",
        "x = layers.Conv2D(32, 3, activation='relu')(x)\n",
        "x = layers.MaxPool2D((3,3),strides=(1,1), padding='same')(x)\n",
        "x = layers.Conv2D(32, 3, activation='relu')(x)\n",
        "x=layers.Dropout(0.01)(x)\n",
        "x = layers.Conv2D(32, 3, activation='relu')(x)\n",
        "x = layers.MaxPool2D((3,3),strides=(1,1), padding='same')(x)\n",
        "x = layers.Conv2D(64, 3, activation='relu')(x)\n",
        "x = layers.Conv2D(64, 3, activation='relu')(x)\n",
        "x=layers.Dropout(0.01)(x)\n",
        "x = layers.Conv2D(64, 3, activation='relu')(x)\n",
        "x = layers.MaxPool2D((3,3),strides=(1,1), padding='same')(x)\n",
        "x = layers.Conv2D(64, 3, activation='relu')(x)\n",
        "x = layers.Conv2D(64, 3, activation='relu')(x)\n",
        "x=layers.Dropout(0.01)(x)\n",
        "x = layers.Conv2D(64, 3, activation='relu')(x)\n",
        "x = layers.MaxPool2D((3,3),strides=(1,1), padding='same')(x)\n",
        "x = layers.Conv2D(128, 3, activation='relu')(x)\n",
        "x = layers.Conv2D(128, 3, activation='relu')(x)\n",
        "x = layers.Conv2D(128, 3, activation='relu')(x)\n",
        "x = layers.MaxPool2D((3,3),strides=(1,1), padding='same')(x)\n",
        "x=layers.Flatten()(x)\n",
        "\n",
        "x = layers.Dense(256, activation='relu')(x)\n",
        "x = layers.Dense(256, activation='relu')(x)\n",
        "x = layers.Dense(256, activation='relu')(x)\n",
        "\n",
        "outputs = layers.Dense(100, activation='softmax')(x)\n",
        "\n",
        "\n",
        "vgg_net_model = keras.Model(inputs, outputs)"
      ],
      "execution_count": null,
      "outputs": []
    },
    {
      "cell_type": "code",
      "metadata": {
        "id": "b8_otLGWKM43",
        "outputId": "a513d86c-1e73-4d31-9d33-11833ff716a2",
        "colab": {
          "base_uri": "https://localhost:8080/",
          "height": 1000
        }
      },
      "source": [
        "vgg_net_model.summary()"
      ],
      "execution_count": null,
      "outputs": [
        {
          "output_type": "stream",
          "text": [
            "Model: \"functional_3\"\n",
            "_________________________________________________________________\n",
            "Layer (type)                 Output Shape              Param #   \n",
            "=================================================================\n",
            "input_2 (InputLayer)         [(None, 32, 32, 3)]       0         \n",
            "_________________________________________________________________\n",
            "conv2d_13 (Conv2D)           (None, 30, 30, 32)        896       \n",
            "_________________________________________________________________\n",
            "dropout_4 (Dropout)          (None, 30, 30, 32)        0         \n",
            "_________________________________________________________________\n",
            "conv2d_14 (Conv2D)           (None, 28, 28, 32)        9248      \n",
            "_________________________________________________________________\n",
            "max_pooling2d_5 (MaxPooling2 (None, 28, 28, 32)        0         \n",
            "_________________________________________________________________\n",
            "conv2d_15 (Conv2D)           (None, 26, 26, 32)        9248      \n",
            "_________________________________________________________________\n",
            "dropout_5 (Dropout)          (None, 26, 26, 32)        0         \n",
            "_________________________________________________________________\n",
            "conv2d_16 (Conv2D)           (None, 24, 24, 32)        9248      \n",
            "_________________________________________________________________\n",
            "max_pooling2d_6 (MaxPooling2 (None, 24, 24, 32)        0         \n",
            "_________________________________________________________________\n",
            "conv2d_17 (Conv2D)           (None, 22, 22, 64)        18496     \n",
            "_________________________________________________________________\n",
            "conv2d_18 (Conv2D)           (None, 20, 20, 64)        36928     \n",
            "_________________________________________________________________\n",
            "dropout_6 (Dropout)          (None, 20, 20, 64)        0         \n",
            "_________________________________________________________________\n",
            "conv2d_19 (Conv2D)           (None, 18, 18, 64)        36928     \n",
            "_________________________________________________________________\n",
            "max_pooling2d_7 (MaxPooling2 (None, 18, 18, 64)        0         \n",
            "_________________________________________________________________\n",
            "conv2d_20 (Conv2D)           (None, 16, 16, 64)        36928     \n",
            "_________________________________________________________________\n",
            "conv2d_21 (Conv2D)           (None, 14, 14, 64)        36928     \n",
            "_________________________________________________________________\n",
            "dropout_7 (Dropout)          (None, 14, 14, 64)        0         \n",
            "_________________________________________________________________\n",
            "conv2d_22 (Conv2D)           (None, 12, 12, 64)        36928     \n",
            "_________________________________________________________________\n",
            "max_pooling2d_8 (MaxPooling2 (None, 12, 12, 64)        0         \n",
            "_________________________________________________________________\n",
            "conv2d_23 (Conv2D)           (None, 10, 10, 128)       73856     \n",
            "_________________________________________________________________\n",
            "conv2d_24 (Conv2D)           (None, 8, 8, 128)         147584    \n",
            "_________________________________________________________________\n",
            "conv2d_25 (Conv2D)           (None, 6, 6, 128)         147584    \n",
            "_________________________________________________________________\n",
            "max_pooling2d_9 (MaxPooling2 (None, 6, 6, 128)         0         \n",
            "_________________________________________________________________\n",
            "flatten_1 (Flatten)          (None, 4608)              0         \n",
            "_________________________________________________________________\n",
            "dense_4 (Dense)              (None, 256)               1179904   \n",
            "_________________________________________________________________\n",
            "dense_5 (Dense)              (None, 256)               65792     \n",
            "_________________________________________________________________\n",
            "dense_6 (Dense)              (None, 256)               65792     \n",
            "_________________________________________________________________\n",
            "dense_7 (Dense)              (None, 100)               25700     \n",
            "=================================================================\n",
            "Total params: 1,937,988\n",
            "Trainable params: 1,937,988\n",
            "Non-trainable params: 0\n",
            "_________________________________________________________________\n"
          ],
          "name": "stdout"
        }
      ]
    },
    {
      "cell_type": "code",
      "metadata": {
        "id": "9iCKoHIdKQPm",
        "outputId": "86601e85-9942-490b-e0ac-547258639b0c",
        "colab": {
          "base_uri": "https://localhost:8080/",
          "height": 1000
        }
      },
      "source": [
        "%load_ext tensorboard\n",
        "tensor_board = tf.keras.callbacks.TensorBoard(log_dir='tensorboard',histogram_freq=1)\n",
        "vgg_net_model.compile(optimizer=keras.optimizers.Adam(lr=0.0001,clipvalue=0.7,clipnorm=0.7),\n",
        "              loss='categorical_crossentropy',\n",
        "              metrics=['acc'])\n",
        "callback = tf.keras.callbacks.EarlyStopping(monitor='loss', patience=3,min_delta=0.0001)\n",
        "model_checkpoint_callback = tf.keras.callbacks.ModelCheckpoint(\n",
        "    filepath='vgg_adam_dropout.hdf5',\n",
        "    save_weights_only=True,\n",
        "    monitor='val_acc',\n",
        "    mode='max',\n",
        "    save_best_only=True)\n",
        "# vgg_net_model.fit(x_train,y_proc,batch_size=200,validation_data=(x_test,y_test_proc),epochs=50,callbacks=[callback,model_checkpoint_callback])\n",
        "output=vgg_net_model.fit_generator(datagen.flow(x_train,y_proc,batch_size = 200), epochs = 200, validation_data = (x_test,y_test_proc),callbacks = [tensor_board,callback,model_checkpoint_callback])"
      ],
      "execution_count": null,
      "outputs": [
        {
          "output_type": "stream",
          "text": [
            "The tensorboard extension is already loaded. To reload it, use:\n",
            "  %reload_ext tensorboard\n",
            "Epoch 1/200\n",
            "  2/250 [..............................] - ETA: 30s - loss: 4.6050 - acc: 0.0150WARNING:tensorflow:Callbacks method `on_train_batch_end` is slow compared to the batch time (batch time: 0.0811s vs `on_train_batch_end` time: 0.1736s). Check your callbacks.\n",
            "250/250 [==============================] - 24s 95ms/step - loss: 4.4696 - acc: 0.0203 - val_loss: 4.3233 - val_acc: 0.0316\n",
            "Epoch 2/200\n",
            "250/250 [==============================] - 23s 94ms/step - loss: 4.2477 - acc: 0.0405 - val_loss: 4.1533 - val_acc: 0.0558\n",
            "Epoch 3/200\n",
            "250/250 [==============================] - 23s 94ms/step - loss: 4.1171 - acc: 0.0554 - val_loss: 4.0320 - val_acc: 0.0673\n",
            "Epoch 4/200\n",
            "250/250 [==============================] - 23s 93ms/step - loss: 3.9952 - acc: 0.0730 - val_loss: 3.9322 - val_acc: 0.0851\n",
            "Epoch 5/200\n",
            "250/250 [==============================] - 23s 93ms/step - loss: 3.8870 - acc: 0.0944 - val_loss: 3.8046 - val_acc: 0.1116\n",
            "Epoch 6/200\n",
            "250/250 [==============================] - 24s 95ms/step - loss: 3.8168 - acc: 0.1057 - val_loss: 3.7277 - val_acc: 0.1246\n",
            "Epoch 7/200\n",
            "250/250 [==============================] - 23s 93ms/step - loss: 3.7461 - acc: 0.1181 - val_loss: 3.6838 - val_acc: 0.1265\n",
            "Epoch 8/200\n",
            "250/250 [==============================] - 23s 93ms/step - loss: 3.6923 - acc: 0.1275 - val_loss: 3.6117 - val_acc: 0.1439\n",
            "Epoch 9/200\n",
            "250/250 [==============================] - 23s 93ms/step - loss: 3.6566 - acc: 0.1326 - val_loss: 3.6497 - val_acc: 0.1398\n",
            "Epoch 10/200\n",
            "250/250 [==============================] - 24s 94ms/step - loss: 3.6091 - acc: 0.1401 - val_loss: 3.5899 - val_acc: 0.1513\n",
            "Epoch 11/200\n",
            "250/250 [==============================] - 23s 94ms/step - loss: 3.5626 - acc: 0.1487 - val_loss: 3.5074 - val_acc: 0.1619\n",
            "Epoch 12/200\n",
            "250/250 [==============================] - 24s 94ms/step - loss: 3.5298 - acc: 0.1560 - val_loss: 3.4960 - val_acc: 0.1655\n",
            "Epoch 13/200\n",
            "250/250 [==============================] - 23s 93ms/step - loss: 3.4856 - acc: 0.1656 - val_loss: 3.4702 - val_acc: 0.1593\n",
            "Epoch 14/200\n",
            "250/250 [==============================] - 23s 94ms/step - loss: 3.4616 - acc: 0.1677 - val_loss: 3.3954 - val_acc: 0.1868\n",
            "Epoch 15/200\n",
            "250/250 [==============================] - 23s 93ms/step - loss: 3.4231 - acc: 0.1749 - val_loss: 3.3843 - val_acc: 0.1823\n",
            "Epoch 16/200\n",
            "250/250 [==============================] - 23s 94ms/step - loss: 3.3878 - acc: 0.1802 - val_loss: 3.3841 - val_acc: 0.1832\n",
            "Epoch 17/200\n",
            "250/250 [==============================] - 23s 93ms/step - loss: 3.3590 - acc: 0.1877 - val_loss: 3.3692 - val_acc: 0.1922\n",
            "Epoch 18/200\n",
            "250/250 [==============================] - 23s 94ms/step - loss: 3.3364 - acc: 0.1944 - val_loss: 3.3220 - val_acc: 0.1976\n",
            "Epoch 19/200\n",
            "250/250 [==============================] - 23s 93ms/step - loss: 3.3129 - acc: 0.1948 - val_loss: 3.3370 - val_acc: 0.1942\n",
            "Epoch 20/200\n",
            "250/250 [==============================] - 24s 95ms/step - loss: 3.2862 - acc: 0.2013 - val_loss: 3.3611 - val_acc: 0.1916\n",
            "Epoch 21/200\n",
            "250/250 [==============================] - 23s 94ms/step - loss: 3.2626 - acc: 0.2050 - val_loss: 3.2834 - val_acc: 0.2035\n",
            "Epoch 22/200\n",
            "250/250 [==============================] - 23s 94ms/step - loss: 3.2370 - acc: 0.2118 - val_loss: 3.2583 - val_acc: 0.2061\n",
            "Epoch 23/200\n",
            "250/250 [==============================] - 24s 94ms/step - loss: 3.2195 - acc: 0.2136 - val_loss: 3.2621 - val_acc: 0.2086\n",
            "Epoch 24/200\n",
            "250/250 [==============================] - 24s 95ms/step - loss: 3.1860 - acc: 0.2187 - val_loss: 3.1957 - val_acc: 0.2174\n",
            "Epoch 25/200\n",
            "250/250 [==============================] - 24s 95ms/step - loss: 3.1685 - acc: 0.2237 - val_loss: 3.2515 - val_acc: 0.2087\n",
            "Epoch 26/200\n",
            "250/250 [==============================] - 24s 94ms/step - loss: 3.1495 - acc: 0.2274 - val_loss: 3.2327 - val_acc: 0.2165\n",
            "Epoch 27/200\n",
            "250/250 [==============================] - 24s 95ms/step - loss: 3.1270 - acc: 0.2307 - val_loss: 3.1242 - val_acc: 0.2284\n",
            "Epoch 28/200\n",
            "250/250 [==============================] - 24s 94ms/step - loss: 3.1030 - acc: 0.2374 - val_loss: 3.1744 - val_acc: 0.2235\n",
            "Epoch 29/200\n",
            "250/250 [==============================] - 23s 94ms/step - loss: 3.0869 - acc: 0.2389 - val_loss: 3.1298 - val_acc: 0.2291\n",
            "Epoch 30/200\n",
            "250/250 [==============================] - 24s 95ms/step - loss: 3.0662 - acc: 0.2417 - val_loss: 3.1762 - val_acc: 0.2276\n",
            "Epoch 31/200\n",
            "250/250 [==============================] - 23s 94ms/step - loss: 3.0516 - acc: 0.2457 - val_loss: 3.0704 - val_acc: 0.2418\n",
            "Epoch 32/200\n",
            "250/250 [==============================] - 24s 94ms/step - loss: 3.0354 - acc: 0.2457 - val_loss: 3.0524 - val_acc: 0.2450\n",
            "Epoch 33/200\n",
            "250/250 [==============================] - 23s 94ms/step - loss: 3.0188 - acc: 0.2527 - val_loss: 3.1948 - val_acc: 0.2209\n",
            "Epoch 34/200\n",
            "250/250 [==============================] - 24s 95ms/step - loss: 3.0056 - acc: 0.2513 - val_loss: 3.0818 - val_acc: 0.2449\n",
            "Epoch 35/200\n",
            "250/250 [==============================] - 23s 94ms/step - loss: 2.9971 - acc: 0.2537 - val_loss: 3.1297 - val_acc: 0.2387\n",
            "Epoch 36/200\n",
            "250/250 [==============================] - 24s 95ms/step - loss: 2.9754 - acc: 0.2600 - val_loss: 3.0566 - val_acc: 0.2497\n",
            "Epoch 37/200\n",
            "250/250 [==============================] - 24s 94ms/step - loss: 2.9563 - acc: 0.2631 - val_loss: 3.0856 - val_acc: 0.2440\n",
            "Epoch 38/200\n",
            "250/250 [==============================] - 24s 96ms/step - loss: 2.9422 - acc: 0.2640 - val_loss: 3.0124 - val_acc: 0.2621\n",
            "Epoch 39/200\n",
            "250/250 [==============================] - 24s 94ms/step - loss: 2.9244 - acc: 0.2677 - val_loss: 2.9246 - val_acc: 0.2727\n",
            "Epoch 40/200\n",
            "250/250 [==============================] - 24s 95ms/step - loss: 2.9171 - acc: 0.2678 - val_loss: 2.9309 - val_acc: 0.2718\n",
            "Epoch 41/200\n",
            "250/250 [==============================] - 24s 94ms/step - loss: 2.8973 - acc: 0.2726 - val_loss: 2.9469 - val_acc: 0.2741\n",
            "Epoch 42/200\n",
            "250/250 [==============================] - 24s 94ms/step - loss: 2.8801 - acc: 0.2765 - val_loss: 2.9913 - val_acc: 0.2615\n",
            "Epoch 43/200\n",
            "250/250 [==============================] - 24s 94ms/step - loss: 2.8724 - acc: 0.2778 - val_loss: 3.0255 - val_acc: 0.2585\n",
            "Epoch 44/200\n",
            "250/250 [==============================] - 24s 95ms/step - loss: 2.8633 - acc: 0.2803 - val_loss: 2.9267 - val_acc: 0.2747\n",
            "Epoch 45/200\n",
            "250/250 [==============================] - 24s 94ms/step - loss: 2.8477 - acc: 0.2821 - val_loss: 2.9350 - val_acc: 0.2731\n",
            "Epoch 46/200\n",
            "250/250 [==============================] - 24s 95ms/step - loss: 2.8236 - acc: 0.2860 - val_loss: 2.9048 - val_acc: 0.2808\n",
            "Epoch 47/200\n",
            "250/250 [==============================] - 24s 94ms/step - loss: 2.8177 - acc: 0.2879 - val_loss: 2.9055 - val_acc: 0.2772\n",
            "Epoch 48/200\n",
            "250/250 [==============================] - 24s 95ms/step - loss: 2.8019 - acc: 0.2913 - val_loss: 3.0414 - val_acc: 0.2548\n",
            "Epoch 49/200\n",
            "250/250 [==============================] - 24s 94ms/step - loss: 2.7946 - acc: 0.2936 - val_loss: 2.9313 - val_acc: 0.2747\n",
            "Epoch 50/200\n",
            "250/250 [==============================] - 24s 95ms/step - loss: 2.7765 - acc: 0.2968 - val_loss: 2.9204 - val_acc: 0.2756\n",
            "Epoch 51/200\n",
            "250/250 [==============================] - 24s 95ms/step - loss: 2.7658 - acc: 0.2999 - val_loss: 2.9193 - val_acc: 0.2726\n",
            "Epoch 52/200\n",
            "250/250 [==============================] - 24s 94ms/step - loss: 2.7584 - acc: 0.2992 - val_loss: 2.8489 - val_acc: 0.2954\n",
            "Epoch 53/200\n",
            "250/250 [==============================] - 24s 95ms/step - loss: 2.7485 - acc: 0.3005 - val_loss: 2.8667 - val_acc: 0.2903\n",
            "Epoch 54/200\n",
            "250/250 [==============================] - 24s 95ms/step - loss: 2.7212 - acc: 0.3073 - val_loss: 2.9011 - val_acc: 0.2808\n",
            "Epoch 55/200\n",
            "250/250 [==============================] - 24s 94ms/step - loss: 2.7182 - acc: 0.3080 - val_loss: 2.7869 - val_acc: 0.3013\n",
            "Epoch 56/200\n",
            "250/250 [==============================] - 24s 95ms/step - loss: 2.7097 - acc: 0.3095 - val_loss: 2.8485 - val_acc: 0.2923\n",
            "Epoch 57/200\n",
            "250/250 [==============================] - 24s 95ms/step - loss: 2.6942 - acc: 0.3105 - val_loss: 2.8798 - val_acc: 0.2853\n",
            "Epoch 58/200\n",
            "250/250 [==============================] - 24s 95ms/step - loss: 2.6828 - acc: 0.3154 - val_loss: 2.8689 - val_acc: 0.2933\n",
            "Epoch 59/200\n",
            "250/250 [==============================] - 23s 94ms/step - loss: 2.6787 - acc: 0.3178 - val_loss: 2.9211 - val_acc: 0.2803\n",
            "Epoch 60/200\n",
            "250/250 [==============================] - 24s 95ms/step - loss: 2.6625 - acc: 0.3176 - val_loss: 2.8038 - val_acc: 0.2983\n",
            "Epoch 61/200\n",
            "250/250 [==============================] - 24s 94ms/step - loss: 2.6498 - acc: 0.3204 - val_loss: 2.9351 - val_acc: 0.2804\n",
            "Epoch 62/200\n",
            "250/250 [==============================] - 24s 94ms/step - loss: 2.6375 - acc: 0.3236 - val_loss: 2.8066 - val_acc: 0.2966\n",
            "Epoch 63/200\n",
            "250/250 [==============================] - 23s 94ms/step - loss: 2.6365 - acc: 0.3238 - val_loss: 2.7954 - val_acc: 0.3013\n",
            "Epoch 64/200\n",
            "250/250 [==============================] - 24s 98ms/step - loss: 2.6248 - acc: 0.3285 - val_loss: 2.8506 - val_acc: 0.2971\n",
            "Epoch 65/200\n",
            "250/250 [==============================] - 24s 98ms/step - loss: 2.6093 - acc: 0.3294 - val_loss: 2.7993 - val_acc: 0.3002\n",
            "Epoch 66/200\n",
            "250/250 [==============================] - 25s 99ms/step - loss: 2.5980 - acc: 0.3306 - val_loss: 2.7837 - val_acc: 0.3065\n",
            "Epoch 67/200\n",
            "250/250 [==============================] - 24s 97ms/step - loss: 2.5916 - acc: 0.3355 - val_loss: 2.8151 - val_acc: 0.3003\n",
            "Epoch 68/200\n",
            "250/250 [==============================] - 24s 97ms/step - loss: 2.5779 - acc: 0.3363 - val_loss: 2.7484 - val_acc: 0.3107\n",
            "Epoch 69/200\n",
            "250/250 [==============================] - 24s 96ms/step - loss: 2.5711 - acc: 0.3375 - val_loss: 2.8434 - val_acc: 0.2995\n",
            "Epoch 70/200\n",
            "250/250 [==============================] - 24s 97ms/step - loss: 2.5658 - acc: 0.3361 - val_loss: 2.7231 - val_acc: 0.3168\n",
            "Epoch 71/200\n",
            "250/250 [==============================] - 24s 97ms/step - loss: 2.5616 - acc: 0.3400 - val_loss: 2.8046 - val_acc: 0.3046\n",
            "Epoch 72/200\n",
            "250/250 [==============================] - 24s 97ms/step - loss: 2.5403 - acc: 0.3430 - val_loss: 2.7922 - val_acc: 0.3047\n",
            "Epoch 73/200\n",
            "250/250 [==============================] - 24s 96ms/step - loss: 2.5386 - acc: 0.3442 - val_loss: 2.7802 - val_acc: 0.3056\n",
            "Epoch 74/200\n",
            "250/250 [==============================] - 24s 98ms/step - loss: 2.5241 - acc: 0.3469 - val_loss: 2.7399 - val_acc: 0.3134\n",
            "Epoch 75/200\n",
            "250/250 [==============================] - 24s 96ms/step - loss: 2.5233 - acc: 0.3479 - val_loss: 2.7435 - val_acc: 0.3163\n",
            "Epoch 76/200\n",
            "250/250 [==============================] - 25s 99ms/step - loss: 2.5132 - acc: 0.3476 - val_loss: 2.9221 - val_acc: 0.2864\n",
            "Epoch 77/200\n",
            "250/250 [==============================] - 25s 100ms/step - loss: 2.4923 - acc: 0.3540 - val_loss: 2.7032 - val_acc: 0.3191\n",
            "Epoch 78/200\n",
            "250/250 [==============================] - 25s 101ms/step - loss: 2.4849 - acc: 0.3537 - val_loss: 2.7313 - val_acc: 0.3111\n",
            "Epoch 79/200\n",
            "250/250 [==============================] - 25s 102ms/step - loss: 2.4751 - acc: 0.3556 - val_loss: 2.6916 - val_acc: 0.3267\n",
            "Epoch 80/200\n",
            "250/250 [==============================] - 25s 100ms/step - loss: 2.4650 - acc: 0.3596 - val_loss: 2.7150 - val_acc: 0.3251\n",
            "Epoch 81/200\n",
            "250/250 [==============================] - 25s 99ms/step - loss: 2.4644 - acc: 0.3588 - val_loss: 2.7322 - val_acc: 0.3209\n",
            "Epoch 82/200\n",
            "250/250 [==============================] - 25s 100ms/step - loss: 2.4548 - acc: 0.3612 - val_loss: 2.7276 - val_acc: 0.3178\n",
            "Epoch 83/200\n",
            "250/250 [==============================] - 25s 99ms/step - loss: 2.4429 - acc: 0.3639 - val_loss: 2.6802 - val_acc: 0.3289\n",
            "Epoch 84/200\n",
            "250/250 [==============================] - 25s 98ms/step - loss: 2.4312 - acc: 0.3659 - val_loss: 2.6842 - val_acc: 0.3304\n",
            "Epoch 85/200\n",
            "250/250 [==============================] - 25s 98ms/step - loss: 2.4294 - acc: 0.3654 - val_loss: 2.8189 - val_acc: 0.3064\n",
            "Epoch 86/200\n",
            "250/250 [==============================] - 25s 98ms/step - loss: 2.4190 - acc: 0.3673 - val_loss: 2.6236 - val_acc: 0.3420\n",
            "Epoch 87/200\n",
            "250/250 [==============================] - 25s 99ms/step - loss: 2.4170 - acc: 0.3685 - val_loss: 2.6368 - val_acc: 0.3347\n",
            "Epoch 88/200\n",
            "250/250 [==============================] - 24s 98ms/step - loss: 2.4012 - acc: 0.3742 - val_loss: 2.6999 - val_acc: 0.3264\n",
            "Epoch 89/200\n",
            "250/250 [==============================] - 25s 99ms/step - loss: 2.4076 - acc: 0.3705 - val_loss: 2.6924 - val_acc: 0.3296\n",
            "Epoch 90/200\n",
            "250/250 [==============================] - 24s 98ms/step - loss: 2.3953 - acc: 0.3744 - val_loss: 2.7090 - val_acc: 0.3250\n",
            "Epoch 91/200\n",
            "250/250 [==============================] - 25s 98ms/step - loss: 2.3875 - acc: 0.3730 - val_loss: 2.6159 - val_acc: 0.3400\n",
            "Epoch 92/200\n",
            "250/250 [==============================] - 24s 97ms/step - loss: 2.3673 - acc: 0.3798 - val_loss: 2.7071 - val_acc: 0.3280\n",
            "Epoch 93/200\n",
            "250/250 [==============================] - 25s 99ms/step - loss: 2.3670 - acc: 0.3777 - val_loss: 2.6475 - val_acc: 0.3366\n",
            "Epoch 94/200\n",
            "250/250 [==============================] - 24s 97ms/step - loss: 2.3564 - acc: 0.3821 - val_loss: 2.6517 - val_acc: 0.3486\n",
            "Epoch 95/200\n",
            "250/250 [==============================] - 25s 98ms/step - loss: 2.3472 - acc: 0.3826 - val_loss: 2.6221 - val_acc: 0.3442\n",
            "Epoch 96/200\n",
            "250/250 [==============================] - 24s 98ms/step - loss: 2.3404 - acc: 0.3870 - val_loss: 2.6741 - val_acc: 0.3349\n",
            "Epoch 97/200\n",
            "250/250 [==============================] - 25s 98ms/step - loss: 2.3294 - acc: 0.3858 - val_loss: 2.6054 - val_acc: 0.3513\n",
            "Epoch 98/200\n",
            "250/250 [==============================] - 24s 97ms/step - loss: 2.3323 - acc: 0.3864 - val_loss: 2.6323 - val_acc: 0.3462\n",
            "Epoch 99/200\n",
            "250/250 [==============================] - 24s 98ms/step - loss: 2.3279 - acc: 0.3859 - val_loss: 2.7848 - val_acc: 0.3159\n",
            "Epoch 100/200\n",
            "250/250 [==============================] - 25s 98ms/step - loss: 2.3209 - acc: 0.3854 - val_loss: 2.7488 - val_acc: 0.3227\n",
            "Epoch 101/200\n",
            "250/250 [==============================] - 25s 98ms/step - loss: 2.3030 - acc: 0.3919 - val_loss: 2.6514 - val_acc: 0.3429\n",
            "Epoch 102/200\n",
            "250/250 [==============================] - 25s 99ms/step - loss: 2.3048 - acc: 0.3908 - val_loss: 2.5721 - val_acc: 0.3568\n",
            "Epoch 103/200\n",
            "250/250 [==============================] - 25s 99ms/step - loss: 2.2919 - acc: 0.3930 - val_loss: 2.6069 - val_acc: 0.3496\n",
            "Epoch 104/200\n",
            "250/250 [==============================] - 24s 98ms/step - loss: 2.2985 - acc: 0.3916 - val_loss: 2.6638 - val_acc: 0.3351\n",
            "Epoch 105/200\n",
            "250/250 [==============================] - 25s 99ms/step - loss: 2.2841 - acc: 0.3938 - val_loss: 2.5777 - val_acc: 0.3577\n",
            "Epoch 106/200\n",
            "250/250 [==============================] - 24s 98ms/step - loss: 2.2665 - acc: 0.3985 - val_loss: 2.6835 - val_acc: 0.3429\n",
            "Epoch 107/200\n",
            "250/250 [==============================] - 25s 99ms/step - loss: 2.2622 - acc: 0.3990 - val_loss: 2.5884 - val_acc: 0.3484\n",
            "Epoch 108/200\n",
            "250/250 [==============================] - 24s 98ms/step - loss: 2.2435 - acc: 0.4027 - val_loss: 2.6622 - val_acc: 0.3432\n",
            "Epoch 109/200\n",
            "250/250 [==============================] - 25s 99ms/step - loss: 2.2525 - acc: 0.4012 - val_loss: 2.5744 - val_acc: 0.3517\n",
            "Epoch 110/200\n",
            "250/250 [==============================] - 24s 98ms/step - loss: 2.2414 - acc: 0.4070 - val_loss: 2.6481 - val_acc: 0.3472\n",
            "Epoch 111/200\n",
            "250/250 [==============================] - 25s 98ms/step - loss: 2.2314 - acc: 0.4083 - val_loss: 2.7113 - val_acc: 0.3371\n",
            "Epoch 112/200\n",
            "250/250 [==============================] - 24s 97ms/step - loss: 2.2338 - acc: 0.4053 - val_loss: 2.5828 - val_acc: 0.3537\n",
            "Epoch 113/200\n",
            "250/250 [==============================] - 25s 99ms/step - loss: 2.2197 - acc: 0.4088 - val_loss: 2.6164 - val_acc: 0.3511\n",
            "Epoch 114/200\n",
            "250/250 [==============================] - 25s 99ms/step - loss: 2.2233 - acc: 0.4104 - val_loss: 2.6917 - val_acc: 0.3410\n",
            "Epoch 115/200\n",
            "250/250 [==============================] - 25s 99ms/step - loss: 2.2167 - acc: 0.4104 - val_loss: 2.6113 - val_acc: 0.3535\n",
            "Epoch 116/200\n",
            "250/250 [==============================] - 25s 98ms/step - loss: 2.1991 - acc: 0.4134 - val_loss: 2.5498 - val_acc: 0.3639\n",
            "Epoch 117/200\n",
            "250/250 [==============================] - 25s 99ms/step - loss: 2.1932 - acc: 0.4156 - val_loss: 2.5261 - val_acc: 0.3684\n",
            "Epoch 118/200\n",
            "250/250 [==============================] - 24s 97ms/step - loss: 2.1993 - acc: 0.4162 - val_loss: 2.6617 - val_acc: 0.3463\n",
            "Epoch 119/200\n",
            "250/250 [==============================] - 24s 98ms/step - loss: 2.1873 - acc: 0.4163 - val_loss: 2.6252 - val_acc: 0.3529\n",
            "Epoch 120/200\n",
            "250/250 [==============================] - 24s 97ms/step - loss: 2.1848 - acc: 0.4163 - val_loss: 2.7406 - val_acc: 0.3374\n",
            "Epoch 121/200\n",
            "250/250 [==============================] - 24s 98ms/step - loss: 2.1765 - acc: 0.4213 - val_loss: 2.6074 - val_acc: 0.3576\n",
            "Epoch 122/200\n",
            "250/250 [==============================] - 24s 97ms/step - loss: 2.1619 - acc: 0.4234 - val_loss: 2.6606 - val_acc: 0.3498\n",
            "Epoch 123/200\n",
            "250/250 [==============================] - 25s 99ms/step - loss: 2.1611 - acc: 0.4227 - val_loss: 2.6257 - val_acc: 0.3524\n",
            "Epoch 124/200\n",
            "250/250 [==============================] - 24s 98ms/step - loss: 2.1540 - acc: 0.4211 - val_loss: 2.6718 - val_acc: 0.3421\n",
            "Epoch 125/200\n",
            "250/250 [==============================] - 24s 98ms/step - loss: 2.1468 - acc: 0.4257 - val_loss: 2.5883 - val_acc: 0.3600\n",
            "Epoch 126/200\n",
            "250/250 [==============================] - 24s 97ms/step - loss: 2.1407 - acc: 0.4283 - val_loss: 2.5786 - val_acc: 0.3623\n",
            "Epoch 127/200\n",
            "250/250 [==============================] - 25s 99ms/step - loss: 2.1310 - acc: 0.4283 - val_loss: 2.6168 - val_acc: 0.3550\n",
            "Epoch 128/200\n",
            "250/250 [==============================] - 24s 98ms/step - loss: 2.1402 - acc: 0.4257 - val_loss: 2.6378 - val_acc: 0.3544\n",
            "Epoch 129/200\n",
            "250/250 [==============================] - 25s 98ms/step - loss: 2.1193 - acc: 0.4297 - val_loss: 2.5695 - val_acc: 0.3621\n",
            "Epoch 130/200\n",
            "250/250 [==============================] - 24s 98ms/step - loss: 2.1123 - acc: 0.4327 - val_loss: 2.5804 - val_acc: 0.3647\n",
            "Epoch 131/200\n",
            "250/250 [==============================] - 24s 98ms/step - loss: 2.1126 - acc: 0.4338 - val_loss: 2.6623 - val_acc: 0.3482\n",
            "Epoch 132/200\n",
            "250/250 [==============================] - 24s 97ms/step - loss: 2.1042 - acc: 0.4351 - val_loss: 2.7315 - val_acc: 0.3377\n",
            "Epoch 133/200\n",
            "250/250 [==============================] - 25s 98ms/step - loss: 2.1092 - acc: 0.4315 - val_loss: 2.6462 - val_acc: 0.3535\n",
            "Epoch 134/200\n",
            "250/250 [==============================] - 24s 97ms/step - loss: 2.1056 - acc: 0.4332 - val_loss: 2.7150 - val_acc: 0.3394\n",
            "Epoch 135/200\n",
            "250/250 [==============================] - 24s 97ms/step - loss: 2.0831 - acc: 0.4392 - val_loss: 2.6745 - val_acc: 0.3494\n",
            "Epoch 136/200\n",
            "250/250 [==============================] - 24s 98ms/step - loss: 2.0856 - acc: 0.4382 - val_loss: 2.6102 - val_acc: 0.3621\n",
            "Epoch 137/200\n",
            "250/250 [==============================] - 24s 98ms/step - loss: 2.0905 - acc: 0.4374 - val_loss: 2.5622 - val_acc: 0.3624\n",
            "Epoch 138/200\n",
            "250/250 [==============================] - 24s 97ms/step - loss: 2.0711 - acc: 0.4416 - val_loss: 2.6435 - val_acc: 0.3529\n",
            "Epoch 139/200\n",
            "250/250 [==============================] - 25s 99ms/step - loss: 2.0720 - acc: 0.4419 - val_loss: 2.6281 - val_acc: 0.3558\n",
            "Epoch 140/200\n",
            "250/250 [==============================] - 25s 99ms/step - loss: 2.0691 - acc: 0.4447 - val_loss: 2.5395 - val_acc: 0.3703\n",
            "Epoch 141/200\n",
            "250/250 [==============================] - 24s 98ms/step - loss: 2.0608 - acc: 0.4419 - val_loss: 2.6212 - val_acc: 0.3551\n",
            "Epoch 142/200\n",
            "250/250 [==============================] - 24s 98ms/step - loss: 2.0594 - acc: 0.4423 - val_loss: 2.6496 - val_acc: 0.3464\n",
            "Epoch 143/200\n",
            "250/250 [==============================] - 25s 99ms/step - loss: 2.0447 - acc: 0.4460 - val_loss: 2.6686 - val_acc: 0.3506\n",
            "Epoch 144/200\n",
            "250/250 [==============================] - 24s 98ms/step - loss: 2.0399 - acc: 0.4492 - val_loss: 2.6108 - val_acc: 0.3617\n",
            "Epoch 145/200\n",
            "250/250 [==============================] - 25s 98ms/step - loss: 2.0507 - acc: 0.4474 - val_loss: 2.6841 - val_acc: 0.3533\n",
            "Epoch 146/200\n",
            "250/250 [==============================] - 25s 98ms/step - loss: 2.0270 - acc: 0.4492 - val_loss: 2.6146 - val_acc: 0.3639\n",
            "Epoch 147/200\n",
            "250/250 [==============================] - 25s 98ms/step - loss: 2.0386 - acc: 0.4518 - val_loss: 2.5409 - val_acc: 0.3685\n",
            "Epoch 148/200\n",
            "250/250 [==============================] - 24s 97ms/step - loss: 2.0177 - acc: 0.4567 - val_loss: 2.6454 - val_acc: 0.3594\n",
            "Epoch 149/200\n",
            "250/250 [==============================] - 25s 99ms/step - loss: 2.0168 - acc: 0.4543 - val_loss: 2.5916 - val_acc: 0.3658\n",
            "Epoch 150/200\n",
            "250/250 [==============================] - 24s 97ms/step - loss: 2.0103 - acc: 0.4533 - val_loss: 2.7077 - val_acc: 0.3573\n",
            "Epoch 151/200\n",
            "250/250 [==============================] - 25s 98ms/step - loss: 2.0045 - acc: 0.4545 - val_loss: 2.5684 - val_acc: 0.3655\n",
            "Epoch 152/200\n",
            "250/250 [==============================] - 25s 99ms/step - loss: 2.0049 - acc: 0.4543 - val_loss: 2.6875 - val_acc: 0.3542\n",
            "Epoch 153/200\n",
            "250/250 [==============================] - 25s 98ms/step - loss: 2.0082 - acc: 0.4542 - val_loss: 2.7477 - val_acc: 0.3440\n",
            "Epoch 154/200\n",
            "250/250 [==============================] - 24s 98ms/step - loss: 1.9882 - acc: 0.4598 - val_loss: 2.5419 - val_acc: 0.3731\n",
            "Epoch 155/200\n",
            "250/250 [==============================] - 25s 99ms/step - loss: 1.9877 - acc: 0.4595 - val_loss: 2.4951 - val_acc: 0.3779\n",
            "Epoch 156/200\n",
            "250/250 [==============================] - 24s 98ms/step - loss: 1.9836 - acc: 0.4612 - val_loss: 2.6111 - val_acc: 0.3623\n",
            "Epoch 157/200\n",
            "250/250 [==============================] - 25s 98ms/step - loss: 1.9680 - acc: 0.4641 - val_loss: 2.7326 - val_acc: 0.3469\n",
            "Epoch 158/200\n",
            "250/250 [==============================] - 24s 98ms/step - loss: 1.9796 - acc: 0.4620 - val_loss: 2.6413 - val_acc: 0.3567\n",
            "Epoch 159/200\n",
            "250/250 [==============================] - 25s 99ms/step - loss: 1.9778 - acc: 0.4598 - val_loss: 2.7085 - val_acc: 0.3570\n",
            "Epoch 160/200\n",
            "250/250 [==============================] - 25s 98ms/step - loss: 1.9683 - acc: 0.4634 - val_loss: 2.6209 - val_acc: 0.3585\n"
          ],
          "name": "stdout"
        }
      ]
    },
    {
      "cell_type": "code",
      "metadata": {
        "id": "JTEGhOaJKnB5",
        "outputId": "c08664c1-ccdb-4ca9-c13e-000caaa66035",
        "colab": {
          "base_uri": "https://localhost:8080/",
          "height": 67
        }
      },
      "source": [
        "\n",
        "\n",
        "y_pred=vgg_net_model.predict(x_test)\n",
        "# tf.one_hot(y_pred)\n",
        "# y_pred=np.where(y_pred[0]=max(y_pred[0],1,0))\n",
        "y_pred_proc=np.zeros((10000,100))\n",
        "for i in range(0,10000):\n",
        "    y_pred_proc[i][np.argmax(y_pred[i])]=1\n",
        "print(\"Precision: \"+ str(precision_score(y_test_proc, y_pred_proc, average='weighted')))\n",
        "print(\"Recall: \"+ str(recall_score(y_test_proc, y_pred_proc, average='weighted')))\n",
        "print(\"Accuracy: \"+ str(accuracy_score(y_test_proc, y_pred_proc)))"
      ],
      "execution_count": null,
      "outputs": [
        {
          "output_type": "stream",
          "text": [
            "Precision: 0.37127885172616765\n",
            "Recall: 0.3585\n",
            "Accuracy: 0.3585\n"
          ],
          "name": "stdout"
        }
      ]
    },
    {
      "cell_type": "code",
      "metadata": {
        "id": "seiMcUtKgNsh",
        "outputId": "4ef5a7c2-cdb2-4a3d-f8a1-1c794b33c95a",
        "colab": {
          "base_uri": "https://localhost:8080/",
          "height": 282
        }
      },
      "source": [
        "plt.plot(output.history['acc'])\n",
        "plt.plot(output.history['val_acc'])\n",
        "plt.legend(['Training Accuracy','Testing Accuracy'])\n"
      ],
      "execution_count": null,
      "outputs": [
        {
          "output_type": "execute_result",
          "data": {
            "text/plain": [
              "<matplotlib.legend.Legend at 0x7fdba6de4748>"
            ]
          },
          "metadata": {
            "tags": []
          },
          "execution_count": 12
        },
        {
          "output_type": "display_data",
          "data": {
            "image/png": "[encoded data removed]",
            "text/plain": [
              "<Figure size 432x288 with 1 Axes>"
            ]
          },
          "metadata": {
            "tags": [],
            "needs_background": "light"
          }
        }
      ]
    },
    {
      "cell_type": "code",
      "metadata": {
        "id": "uLY3-wt-gP96",
        "outputId": "b7eed259-223f-489e-92df-747eeecddb9b",
        "colab": {
          "base_uri": "https://localhost:8080/",
          "height": 282
        }
      },
      "source": [
        "plt.plot(output.history['loss'])\n",
        "plt.plot(output.history['val_loss'])\n",
        "plt.legend(['Training loss','Testing loss'])"
      ],
      "execution_count": null,
      "outputs": [
        {
          "output_type": "execute_result",
          "data": {
            "text/plain": [
              "<matplotlib.legend.Legend at 0x7fdba68c4860>"
            ]
          },
          "metadata": {
            "tags": []
          },
          "execution_count": 13
        },
        {
          "output_type": "display_data",
          "data": {
            "image/png": "[encoded data removed]",
            "text/plain": [
              "<Figure size 432x288 with 1 Axes>"
            ]
          },
          "metadata": {
            "tags": [],
            "needs_background": "light"
          }
        }
      ]
    },
    {
      "cell_type": "code",
      "metadata": {
        "id": "b0RuJPDdgSBs",
        "outputId": "dd6e6470-6b5d-440f-de9c-102227a4d2a8",
        "colab": {
          "base_uri": "https://localhost:8080/",
          "height": 101
        }
      },
      "source": [
        "import tensorflow as tf\n",
        "from tensorflow import keras\n",
        "from tensorflow.keras import layers\n",
        "import numpy as np\n",
        "import datetime as dt\n",
        "from keras.models import Sequential\n",
        "from keras.layers import Dense, Dropout, Flatten\n",
        "from keras.layers import Conv2D, MaxPooling2D,Add,Activation\n",
        "from keras import backend as K\n",
        "import matplotlib.pyplot as plt\n",
        "from keras.preprocessing.image import ImageDataGenerator\n",
        "from sklearn.metrics import confusion_matrix, precision_score, recall_score, accuracy_score\n",
        "\n",
        "(x_train, y_train), (x_test, y_test) = tf.keras.datasets.cifar100.load_data()\n",
        "\n",
        "y_proc=np.zeros((50000,100))\n",
        "for i in range(0,50000):\n",
        "    y_proc[i][y_train[i][0]]=1\n",
        "y_test_proc=np.zeros((10000,100))\n",
        "for i in range(0,10000):\n",
        "    y_test_proc[i][y_test[i][0]]=1\n",
        "y_proc.shape\n",
        "input_shape=(32,32,3)\n",
        "y_test_proc[0]\n",
        "x_train=x_train.astype('float')/255\n",
        "x_test=x_test.astype('float')/255\n",
        "y_test_proc.shape\n",
        "\n",
        "inputs = keras.Input(shape=input_shape)\n",
        "x = layers.Conv2D(32, 3, activation='relu')(inputs)\n",
        "x=layers.Dropout(0.01)(x)\n",
        "x = layers.Conv2D(32, 3, activation='relu')(x)\n",
        "x = layers.MaxPool2D((3,3),strides=(1,1), padding='same')(x)\n",
        "x = layers.Conv2D(32, 3, activation='relu')(x)\n",
        "x=layers.Dropout(0.01)(x)\n",
        "x = layers.Conv2D(32, 3, activation='relu')(x)\n",
        "x = layers.MaxPool2D((3,3),strides=(1,1), padding='same')(x)\n",
        "x = layers.Conv2D(64, 3, activation='relu')(x)\n",
        "x = layers.Conv2D(64, 3, activation='relu')(x)\n",
        "x=layers.Dropout(0.01)(x)\n",
        "x = layers.Conv2D(64, 3, activation='relu')(x)\n",
        "x = layers.MaxPool2D((3,3),strides=(1,1), padding='same')(x)\n",
        "x = layers.Conv2D(64, 3, activation='relu')(x)\n",
        "x = layers.Conv2D(64, 3, activation='relu')(x)\n",
        "x=layers.Dropout(0.01)(x)\n",
        "x = layers.Conv2D(64, 3, activation='relu')(x)\n",
        "x = layers.MaxPool2D((3,3),strides=(1,1), padding='same')(x)\n",
        "x = layers.Conv2D(128, 3, activation='relu')(x)\n",
        "x = layers.Conv2D(128, 3, activation='relu')(x)\n",
        "x = layers.Conv2D(128, 3, activation='relu')(x)\n",
        "x = layers.MaxPool2D((3,3),strides=(1,1), padding='same')(x)\n",
        "x=layers.Flatten()(x)\n",
        "\n",
        "x = layers.Dense(256, activation='relu')(x)\n",
        "x = layers.Dense(256, activation='relu')(x)\n",
        "x = layers.Dense(256, activation='relu')(x)\n",
        "\n",
        "outputs = layers.Dense(100, activation='softmax')(x)\n",
        "\n",
        "\n",
        "vgg_net_model = keras.Model(inputs, outputs)\n",
        "\n",
        "vgg_net_model.load_weights('../weights/vgg_adam_dropout.hdf5')\n",
        "\n",
        "\n",
        "y_pred=vgg_net_model.predict(x_test)\n",
        "# tf.one_hot(y_pred)\n",
        "# y_pred=np.where(y_pred[0]=max(y_pred[0],1,0))\n",
        "y_pred_proc=np.zeros((10000,100))\n",
        "for i in range(0,10000):\n",
        "    y_pred_proc[i][np.argmax(y_pred[i])]=1\n",
        "print(\"Precision: \"+ str(precision_score(y_test_proc, y_pred_proc, average='weighted')))\n",
        "print(\"Recall: \"+ str(recall_score(y_test_proc, y_pred_proc, average='weighted')))\n",
        "print(\"Accuracy: \"+ str(accuracy_score(y_test_proc, y_pred_proc)))"
      ],
      "execution_count": 1,
      "outputs": [
        {
          "output_type": "stream",
          "text": [
            "Downloading data from https://www.cs.toronto.edu/~kriz/cifar-100-python.tar.gz\n",
            "169009152/169001437 [==============================] - 6s 0us/step\n",
            "Precision: 0.38861006545930216\n",
            "Recall: 0.3779\n",
            "Accuracy: 0.3779\n"
          ],
          "name": "stdout"
        }
      ]
    }
  ]
}