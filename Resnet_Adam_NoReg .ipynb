{
  "nbformat": 4,
  "nbformat_minor": 0,
  "metadata": {
    "colab": {
      "name": "Resnet_Adam_NoReg.ipynb",
      "provenance": [],
      "collapsed_sections": []
    },
    "kernelspec": {
      "name": "python3",
      "display_name": "Python 3"
    },
    "accelerator": "GPU"
  },
  "cells": [
    {
      "cell_type": "code",
      "metadata": {
        "id": "gnZwzGKtm-4H"
      },
      "source": [
        "import tensorflow as tf\n",
        "from tensorflow import keras\n",
        "from tensorflow.keras import layers\n",
        "import numpy as np\n",
        "import datetime as dt\n",
        "from keras.models import Sequential\n",
        "from keras.layers import Dense, Dropout, Flatten\n",
        "from keras.layers import Conv2D, MaxPooling2D,Add,Activation\n",
        "from keras import backend as K\n",
        "import matplotlib.pyplot as plt\n",
        "from keras.preprocessing.image import ImageDataGenerator\n",
        "from sklearn.metrics import confusion_matrix, precision_score, recall_score, accuracy_score\n"
      ],
      "execution_count": null,
      "outputs": []
    },
    {
      "cell_type": "code",
      "metadata": {
        "id": "CVCsWOv4Z_Wr"
      },
      "source": [
        "(x_train, y_train), (x_test, y_test) = tf.keras.datasets.cifar100.load_data()"
      ],
      "execution_count": null,
      "outputs": []
    },
    {
      "cell_type": "code",
      "metadata": {
        "id": "hQzNX4T-scgS"
      },
      "source": [
        "datagen = ImageDataGenerator(\n",
        "    featurewise_center=False,  # set input mean to 0 over the dataset\n",
        "    samplewise_center=False,  # set each sample mean to 0\n",
        "    featurewise_std_normalization=False,  # divide inputs by std of the dataset\n",
        "    samplewise_std_normalization=False,  # divide each input by its std\n",
        "    zca_whitening=False,  # apply ZCA whitening\n",
        "    rotation_range=15,  # randomly rotate images in the range (degrees, 0 to 180)\n",
        "    width_shift_range=0.1,  # randomly shift images horizontally (fraction of total width)\n",
        "    height_shift_range=0.1,  # randomly shift images vertically (fraction of total height)\n",
        "    horizontal_flip=True,  # randomly flip images\n",
        "    vertical_flip=False)  # randomly flip images\n",
        "# (std, mean, and principal components if ZCA whitening is applied).\n",
        "datagen.fit(x_train)"
      ],
      "execution_count": null,
      "outputs": []
    },
    {
      "cell_type": "code",
      "metadata": {
        "id": "u5xJK2Eh_h4p",
        "outputId": "07c3b243-b468-471b-ef38-771cfefe11f3",
        "colab": {
          "base_uri": "https://localhost:8080/",
          "height": 118
        }
      },
      "source": [
        "y_proc=np.zeros((50000,100))\n",
        "for i in range(0,50000):\n",
        "    y_proc[i][y_train[i][0]]=1\n",
        "y_test_proc=np.zeros((10000,100))\n",
        "for i in range(0,10000):\n",
        "    y_test_proc[i][y_test[i][0]]=1\n",
        "y_proc.shape\n",
        "input_shape=(32,32,3)\n",
        "y_test_proc[0]\n",
        "# plt.imshow(x_train[0])\n",
        "# x_train=x_train.astype('float')/255\n",
        "# x_test=x_test.astype('float')/255"
      ],
      "execution_count": null,
      "outputs": [
        {
          "output_type": "execute_result",
          "data": {
            "text/plain": [
              "array([0., 0., 0., 0., 0., 0., 0., 0., 0., 0., 0., 0., 0., 0., 0., 0., 0.,\n",
              "       0., 0., 0., 0., 0., 0., 0., 0., 0., 0., 0., 0., 0., 0., 0., 0., 0.,\n",
              "       0., 0., 0., 0., 0., 0., 0., 0., 0., 0., 0., 0., 0., 0., 0., 1., 0.,\n",
              "       0., 0., 0., 0., 0., 0., 0., 0., 0., 0., 0., 0., 0., 0., 0., 0., 0.,\n",
              "       0., 0., 0., 0., 0., 0., 0., 0., 0., 0., 0., 0., 0., 0., 0., 0., 0.,\n",
              "       0., 0., 0., 0., 0., 0., 0., 0., 0., 0., 0., 0., 0., 0., 0.])"
            ]
          },
          "metadata": {
            "tags": []
          },
          "execution_count": 28
        }
      ]
    },
    {
      "cell_type": "code",
      "metadata": {
        "id": "_j1aCOsk4HXo"
      },
      "source": [
        "def res_net_block(input_data, filters, conv_size):\n",
        "  x = layers.Conv2D(filters, conv_size, activation='relu', padding='same')(input_data)\n",
        "  x = layers.Conv2D(filters, conv_size, activation=None, padding='same')(x)\n",
        "  x = layers.Add()([x, input_data])\n",
        "  x = layers.Activation('relu')(x)\n",
        "  return x"
      ],
      "execution_count": null,
      "outputs": []
    },
    {
      "cell_type": "code",
      "metadata": {
        "id": "3r6uKEStaLdy"
      },
      "source": [
        "inputs = keras.Input(shape=input_shape)\n",
        "x = layers.Conv2D(32, 3, activation='relu')(inputs)\n",
        "x = layers.Conv2D(32, 3, activation='relu')(x)\n",
        "x = layers.MaxPooling2D(3)(x)\n",
        "num_res_net_blocks = 5\n",
        "filters=32\n",
        "conv_size=3\n",
        "\n",
        "x_skip=x\n",
        "x = layers.Conv2D(32, conv_size, activation='relu', padding='same')(x)\n",
        "\n",
        "x = layers.Add()([x, x_skip])\n",
        "# x = layers.MaxPool2D((3,3), strides=(1,1), padding='same')(x)\n",
        "x = layers.Activation('relu')(x)\n",
        "\n",
        "x_skip=x\n",
        "x = layers.Conv2D(filters, conv_size, activation='relu', padding='same')(x)\n",
        "x = layers.Conv2D(filters, conv_size, activation=None, padding='same')(x)\n",
        "x = layers.Add()([x, x_skip])\n",
        "# x = layers.MaxPool2D((3,3), strides=(1,1), padding='same')(x)\n",
        "x = layers.Activation('relu')(x)\n",
        "\n",
        "\n",
        "x_skip=x\n",
        "x = layers.Conv2D(32, conv_size, activation='relu', padding='same')(x)\n",
        "x = layers.Conv2D(32, conv_size, activation=None, padding='same')(x)\n",
        "x = layers.Add()([x, x_skip])\n",
        "# x = layers.MaxPool2D((3,3), strides=(1,1), padding='same')(x)\n",
        "x = layers.Activation('relu')(x)\n",
        "\n",
        "x = layers.Conv2D(64, conv_size, activation=None, padding='same')(x)\n",
        "\n",
        "x_skip=x\n",
        "x = layers.Conv2D(64, conv_size, activation='relu', padding='same')(x)\n",
        "x = layers.Conv2D(64, conv_size, activation=None, padding='same')(x)\n",
        "x = layers.Add()([x, x_skip])\n",
        "# x = layers.MaxPool2D((3,3), strides=(1,1), padding='same')(x)\n",
        "x = layers.Activation('relu')(x)\n",
        "\n",
        "x_skip=x\n",
        "x = layers.Conv2D(64, conv_size, activation='relu', padding='same')(x)\n",
        "x = layers.Conv2D(64, conv_size, activation=None, padding='same')(x)\n",
        "x = layers.Add()([x, x_skip])\n",
        "# x = layers.MaxPool2D((3,3), strides=(1,1), padding='same')(x)\n",
        "x = layers.Activation('relu')(x)\n",
        "\n",
        "x = layers.Conv2D(128, conv_size, activation=None, padding='same')(x)\n",
        "\n",
        "x_skip=x\n",
        "x = layers.Conv2D(128, conv_size, activation='relu', padding='same')(x)\n",
        "x = layers.Conv2D(128, conv_size, activation=None, padding='same')(x)\n",
        "x = layers.Add()([x, x_skip])\n",
        "# x = layers.MaxPool2D((3,3), strides=(1,1), padding='same')(x)\n",
        "x = layers.Activation('relu')(x)\n",
        "\n",
        "x_skip=x\n",
        "x = layers.Conv2D(128, conv_size, activation='relu', padding='same')(x)\n",
        "x = layers.Conv2D(128, conv_size, activation=None, padding='same')(x)\n",
        "x = layers.Add()([x, x_skip])\n",
        "# x = layers.MaxPool2D((3,3), strides=(1,1), padding='same')(x)\n",
        "x = layers.Activation('relu')(x)\n",
        "\n",
        "\n",
        "x = layers.Conv2D(256, 3, activation='relu')(x)\n",
        "x = layers.Conv2D(256, 3, activation='relu')(x)\n",
        "x = layers.AveragePooling2D(4)(x)\n",
        "x=layers.Flatten()(x)\n",
        "x = layers.Dense(256, activation='relu')(x)\n",
        "outputs = layers.Dense(100, activation='softmax')(x)\n",
        "\n",
        "res_net_model = keras.Model(inputs, outputs)"
      ],
      "execution_count": null,
      "outputs": []
    },
    {
      "cell_type": "code",
      "metadata": {
        "id": "Y8voV4Dm_Mac",
        "outputId": "9edbb8cf-446a-4a3d-b1dd-2aa065a143f6",
        "colab": {
          "base_uri": "https://localhost:8080/",
          "height": 1000
        }
      },
      "source": [
        "res_net_model.summary()"
      ],
      "execution_count": null,
      "outputs": [
        {
          "output_type": "stream",
          "text": [
            "Model: \"functional_3\"\n",
            "__________________________________________________________________________________________________\n",
            "Layer (type)                    Output Shape         Param #     Connected to                     \n",
            "==================================================================================================\n",
            "input_4 (InputLayer)            [(None, 32, 32, 3)]  0                                            \n",
            "__________________________________________________________________________________________________\n",
            "conv2d_39 (Conv2D)              (None, 30, 30, 32)   896         input_4[0][0]                    \n",
            "__________________________________________________________________________________________________\n",
            "conv2d_40 (Conv2D)              (None, 28, 28, 32)   9248        conv2d_39[0][0]                  \n",
            "__________________________________________________________________________________________________\n",
            "max_pooling2d_3 (MaxPooling2D)  (None, 9, 9, 32)     0           conv2d_40[0][0]                  \n",
            "__________________________________________________________________________________________________\n",
            "conv2d_41 (Conv2D)              (None, 9, 9, 32)     9248        max_pooling2d_3[0][0]            \n",
            "__________________________________________________________________________________________________\n",
            "add_15 (Add)                    (None, 9, 9, 32)     0           conv2d_41[0][0]                  \n",
            "                                                                 max_pooling2d_3[0][0]            \n",
            "__________________________________________________________________________________________________\n",
            "activation_13 (Activation)      (None, 9, 9, 32)     0           add_15[0][0]                     \n",
            "__________________________________________________________________________________________________\n",
            "conv2d_42 (Conv2D)              (None, 9, 9, 32)     9248        activation_13[0][0]              \n",
            "__________________________________________________________________________________________________\n",
            "conv2d_43 (Conv2D)              (None, 9, 9, 32)     9248        conv2d_42[0][0]                  \n",
            "__________________________________________________________________________________________________\n",
            "add_16 (Add)                    (None, 9, 9, 32)     0           conv2d_43[0][0]                  \n",
            "                                                                 activation_13[0][0]              \n",
            "__________________________________________________________________________________________________\n",
            "activation_14 (Activation)      (None, 9, 9, 32)     0           add_16[0][0]                     \n",
            "__________________________________________________________________________________________________\n",
            "conv2d_44 (Conv2D)              (None, 9, 9, 32)     9248        activation_14[0][0]              \n",
            "__________________________________________________________________________________________________\n",
            "conv2d_45 (Conv2D)              (None, 9, 9, 32)     9248        conv2d_44[0][0]                  \n",
            "__________________________________________________________________________________________________\n",
            "add_17 (Add)                    (None, 9, 9, 32)     0           conv2d_45[0][0]                  \n",
            "                                                                 activation_14[0][0]              \n",
            "__________________________________________________________________________________________________\n",
            "activation_15 (Activation)      (None, 9, 9, 32)     0           add_17[0][0]                     \n",
            "__________________________________________________________________________________________________\n",
            "conv2d_46 (Conv2D)              (None, 9, 9, 64)     18496       activation_15[0][0]              \n",
            "__________________________________________________________________________________________________\n",
            "conv2d_47 (Conv2D)              (None, 9, 9, 64)     36928       conv2d_46[0][0]                  \n",
            "__________________________________________________________________________________________________\n",
            "conv2d_48 (Conv2D)              (None, 9, 9, 64)     36928       conv2d_47[0][0]                  \n",
            "__________________________________________________________________________________________________\n",
            "add_18 (Add)                    (None, 9, 9, 64)     0           conv2d_48[0][0]                  \n",
            "                                                                 conv2d_46[0][0]                  \n",
            "__________________________________________________________________________________________________\n",
            "activation_16 (Activation)      (None, 9, 9, 64)     0           add_18[0][0]                     \n",
            "__________________________________________________________________________________________________\n",
            "conv2d_49 (Conv2D)              (None, 9, 9, 64)     36928       activation_16[0][0]              \n",
            "__________________________________________________________________________________________________\n",
            "conv2d_50 (Conv2D)              (None, 9, 9, 64)     36928       conv2d_49[0][0]                  \n",
            "__________________________________________________________________________________________________\n",
            "add_19 (Add)                    (None, 9, 9, 64)     0           conv2d_50[0][0]                  \n",
            "                                                                 activation_16[0][0]              \n",
            "__________________________________________________________________________________________________\n",
            "activation_17 (Activation)      (None, 9, 9, 64)     0           add_19[0][0]                     \n",
            "__________________________________________________________________________________________________\n",
            "conv2d_51 (Conv2D)              (None, 9, 9, 128)    73856       activation_17[0][0]              \n",
            "__________________________________________________________________________________________________\n",
            "conv2d_52 (Conv2D)              (None, 9, 9, 128)    147584      conv2d_51[0][0]                  \n",
            "__________________________________________________________________________________________________\n",
            "conv2d_53 (Conv2D)              (None, 9, 9, 128)    147584      conv2d_52[0][0]                  \n",
            "__________________________________________________________________________________________________\n",
            "add_20 (Add)                    (None, 9, 9, 128)    0           conv2d_53[0][0]                  \n",
            "                                                                 conv2d_51[0][0]                  \n",
            "__________________________________________________________________________________________________\n",
            "activation_18 (Activation)      (None, 9, 9, 128)    0           add_20[0][0]                     \n",
            "__________________________________________________________________________________________________\n",
            "conv2d_54 (Conv2D)              (None, 9, 9, 128)    147584      activation_18[0][0]              \n",
            "__________________________________________________________________________________________________\n",
            "conv2d_55 (Conv2D)              (None, 9, 9, 128)    147584      conv2d_54[0][0]                  \n",
            "__________________________________________________________________________________________________\n",
            "add_21 (Add)                    (None, 9, 9, 128)    0           conv2d_55[0][0]                  \n",
            "                                                                 activation_18[0][0]              \n",
            "__________________________________________________________________________________________________\n",
            "activation_19 (Activation)      (None, 9, 9, 128)    0           add_21[0][0]                     \n",
            "__________________________________________________________________________________________________\n",
            "conv2d_56 (Conv2D)              (None, 7, 7, 256)    295168      activation_19[0][0]              \n",
            "__________________________________________________________________________________________________\n",
            "conv2d_57 (Conv2D)              (None, 5, 5, 256)    590080      conv2d_56[0][0]                  \n",
            "__________________________________________________________________________________________________\n",
            "average_pooling2d_1 (AveragePoo (None, 1, 1, 256)    0           conv2d_57[0][0]                  \n",
            "__________________________________________________________________________________________________\n",
            "flatten_1 (Flatten)             (None, 256)          0           average_pooling2d_1[0][0]        \n",
            "__________________________________________________________________________________________________\n",
            "dense_2 (Dense)                 (None, 256)          65792       flatten_1[0][0]                  \n",
            "__________________________________________________________________________________________________\n",
            "dense_3 (Dense)                 (None, 100)          25700       dense_2[0][0]                    \n",
            "==================================================================================================\n",
            "Total params: 1,863,524\n",
            "Trainable params: 1,863,524\n",
            "Non-trainable params: 0\n",
            "__________________________________________________________________________________________________\n"
          ],
          "name": "stdout"
        }
      ]
    },
    {
      "cell_type": "code",
      "metadata": {
        "id": "r3Fskc9PajwH",
        "outputId": "59e35f68-79a5-4a53-9d18-7e15370d02db",
        "colab": {
          "base_uri": "https://localhost:8080/",
          "height": 1000
        }
      },
      "source": [
        "%load_ext tensorboard\n",
        "tensor_board = tf.keras.callbacks.TensorBoard(log_dir='tensorboard',histogram_freq=1)\n",
        "res_net_model.compile(optimizer=keras.optimizers.Adam(lr=0.001),\n",
        "              loss='categorical_crossentropy',\n",
        "              metrics=['acc'])\n",
        "callback = tf.keras.callbacks.EarlyStopping(monitor='loss', patience=3,min_delta=0.00000001)\n",
        "model_checkpoint_callback = tf.keras.callbacks.ModelCheckpoint(\n",
        "    filepath='resnet_adam_noreg.hdf5',\n",
        "    save_weights_only=True,\n",
        "    monitor='val_acc',\n",
        "    mode='max',\n",
        "    save_best_only=True)\n",
        "# res_net_model.fit(x_train,y_proc,batch_size=128,validation_data=(x_test,y_test_proc),epochs=100,callbacks=[callback,model_checkpoint_callback])\n",
        "output=res_net_model.fit_generator(datagen.flow(x_train,y_proc,batch_size = 200), epochs = 100, validation_data = (x_test,y_test_proc),callbacks = [tensor_board,callback,model_checkpoint_callback])"
      ],
      "execution_count": null,
      "outputs": [
        {
          "output_type": "stream",
          "text": [
            "The tensorboard extension is already loaded. To reload it, use:\n",
            "  %reload_ext tensorboard\n",
            "Epoch 1/100\n",
            "  1/250 [..............................] - ETA: 0s - loss: 16.0837 - acc: 0.0150WARNING:tensorflow:From /usr/local/lib/python3.6/dist-packages/tensorflow/python/ops/summary_ops_v2.py:1277: stop (from tensorflow.python.eager.profiler) is deprecated and will be removed after 2020-07-01.\n",
            "Instructions for updating:\n",
            "use `tf.profiler.experimental.stop` instead.\n",
            "  2/250 [..............................] - ETA: 27s - loss: 29.2514 - acc: 0.0075WARNING:tensorflow:Callbacks method `on_train_batch_end` is slow compared to the batch time (batch time: 0.0816s vs `on_train_batch_end` time: 0.1410s). Check your callbacks.\n",
            "250/250 [==============================] - 28s 114ms/step - loss: 4.5360 - acc: 0.0364 - val_loss: 4.0220 - val_acc: 0.0665\n",
            "Epoch 2/100\n",
            "250/250 [==============================] - 28s 110ms/step - loss: 3.8700 - acc: 0.0968 - val_loss: 3.6668 - val_acc: 0.1289\n",
            "Epoch 3/100\n",
            "250/250 [==============================] - 28s 111ms/step - loss: 3.5672 - acc: 0.1472 - val_loss: 3.3660 - val_acc: 0.1876\n",
            "Epoch 4/100\n",
            "250/250 [==============================] - 28s 110ms/step - loss: 3.3255 - acc: 0.1922 - val_loss: 3.1886 - val_acc: 0.2223\n",
            "Epoch 5/100\n",
            "250/250 [==============================] - 27s 110ms/step - loss: 3.1439 - acc: 0.2262 - val_loss: 3.0083 - val_acc: 0.2611\n",
            "Epoch 6/100\n",
            "250/250 [==============================] - 28s 110ms/step - loss: 2.9823 - acc: 0.2590 - val_loss: 2.9572 - val_acc: 0.2689\n",
            "Epoch 7/100\n",
            "250/250 [==============================] - 28s 111ms/step - loss: 2.8528 - acc: 0.2851 - val_loss: 2.8430 - val_acc: 0.2882\n",
            "Epoch 8/100\n",
            "250/250 [==============================] - 28s 110ms/step - loss: 2.7405 - acc: 0.3079 - val_loss: 2.6182 - val_acc: 0.3345\n",
            "Epoch 9/100\n",
            "250/250 [==============================] - 27s 109ms/step - loss: 2.6300 - acc: 0.3290 - val_loss: 2.6696 - val_acc: 0.3244\n",
            "Epoch 10/100\n",
            "250/250 [==============================] - 27s 110ms/step - loss: 2.5397 - acc: 0.3483 - val_loss: 2.5019 - val_acc: 0.3648\n",
            "Epoch 11/100\n",
            "250/250 [==============================] - 28s 111ms/step - loss: 2.4443 - acc: 0.3675 - val_loss: 2.3755 - val_acc: 0.3835\n",
            "Epoch 12/100\n",
            "250/250 [==============================] - 28s 110ms/step - loss: 2.3726 - acc: 0.3842 - val_loss: 2.3741 - val_acc: 0.3898\n",
            "Epoch 13/100\n",
            "250/250 [==============================] - 27s 110ms/step - loss: 2.3155 - acc: 0.3951 - val_loss: 2.3733 - val_acc: 0.3931\n",
            "Epoch 14/100\n",
            "250/250 [==============================] - 27s 110ms/step - loss: 2.2530 - acc: 0.4096 - val_loss: 2.3715 - val_acc: 0.3995\n",
            "Epoch 15/100\n",
            "250/250 [==============================] - 27s 110ms/step - loss: 2.1822 - acc: 0.4264 - val_loss: 2.1944 - val_acc: 0.4246\n",
            "Epoch 16/100\n",
            "250/250 [==============================] - 27s 110ms/step - loss: 2.1369 - acc: 0.4341 - val_loss: 2.2799 - val_acc: 0.4169\n",
            "Epoch 17/100\n",
            "250/250 [==============================] - 27s 109ms/step - loss: 2.0880 - acc: 0.4455 - val_loss: 2.1755 - val_acc: 0.4411\n",
            "Epoch 18/100\n",
            "250/250 [==============================] - 27s 108ms/step - loss: 2.0451 - acc: 0.4538 - val_loss: 2.2144 - val_acc: 0.4300\n",
            "Epoch 19/100\n",
            "250/250 [==============================] - 27s 109ms/step - loss: 1.9891 - acc: 0.4655 - val_loss: 2.1258 - val_acc: 0.4556\n",
            "Epoch 20/100\n",
            "250/250 [==============================] - 27s 108ms/step - loss: 1.9604 - acc: 0.4705 - val_loss: 2.1700 - val_acc: 0.4447\n",
            "Epoch 21/100\n",
            "250/250 [==============================] - 27s 109ms/step - loss: 1.9282 - acc: 0.4791 - val_loss: 2.1807 - val_acc: 0.4499\n",
            "Epoch 22/100\n",
            "250/250 [==============================] - 27s 109ms/step - loss: 1.8875 - acc: 0.4865 - val_loss: 2.1027 - val_acc: 0.4661\n",
            "Epoch 23/100\n",
            "250/250 [==============================] - 27s 109ms/step - loss: 1.8512 - acc: 0.4958 - val_loss: 2.0542 - val_acc: 0.4701\n",
            "Epoch 24/100\n",
            "250/250 [==============================] - 27s 109ms/step - loss: 1.8200 - acc: 0.5053 - val_loss: 2.1309 - val_acc: 0.4533\n",
            "Epoch 25/100\n",
            "250/250 [==============================] - 27s 110ms/step - loss: 1.7814 - acc: 0.5138 - val_loss: 2.0549 - val_acc: 0.4647\n",
            "Epoch 26/100\n",
            "250/250 [==============================] - 27s 109ms/step - loss: 1.7639 - acc: 0.5163 - val_loss: 2.0621 - val_acc: 0.4739\n",
            "Epoch 27/100\n",
            "250/250 [==============================] - 27s 109ms/step - loss: 1.7364 - acc: 0.5234 - val_loss: 2.0943 - val_acc: 0.4699\n",
            "Epoch 28/100\n",
            "250/250 [==============================] - 27s 109ms/step - loss: 1.7044 - acc: 0.5340 - val_loss: 2.1289 - val_acc: 0.4605\n",
            "Epoch 29/100\n",
            "250/250 [==============================] - 27s 108ms/step - loss: 1.6776 - acc: 0.5384 - val_loss: 2.0979 - val_acc: 0.4634\n",
            "Epoch 30/100\n",
            "250/250 [==============================] - 27s 110ms/step - loss: 1.6607 - acc: 0.5432 - val_loss: 2.0103 - val_acc: 0.4831\n",
            "Epoch 31/100\n",
            "250/250 [==============================] - 27s 109ms/step - loss: 1.6361 - acc: 0.5487 - val_loss: 2.0057 - val_acc: 0.4810\n",
            "Epoch 32/100\n",
            "250/250 [==============================] - 27s 109ms/step - loss: 1.6012 - acc: 0.5565 - val_loss: 2.0282 - val_acc: 0.4863\n",
            "Epoch 33/100\n",
            "250/250 [==============================] - 27s 109ms/step - loss: 1.5653 - acc: 0.5646 - val_loss: 1.9985 - val_acc: 0.4962\n",
            "Epoch 34/100\n",
            "250/250 [==============================] - 27s 109ms/step - loss: 1.5423 - acc: 0.5690 - val_loss: 2.1530 - val_acc: 0.4627\n",
            "Epoch 35/100\n",
            "250/250 [==============================] - 27s 107ms/step - loss: 1.5373 - acc: 0.5694 - val_loss: 2.0308 - val_acc: 0.4879\n",
            "Epoch 36/100\n",
            "250/250 [==============================] - 27s 108ms/step - loss: 1.5314 - acc: 0.5736 - val_loss: 2.0344 - val_acc: 0.4936\n",
            "Epoch 37/100\n",
            "250/250 [==============================] - 27s 109ms/step - loss: 1.4840 - acc: 0.5850 - val_loss: 2.0721 - val_acc: 0.4876\n",
            "Epoch 38/100\n",
            "250/250 [==============================] - 27s 108ms/step - loss: 1.4799 - acc: 0.5849 - val_loss: 2.1507 - val_acc: 0.4743\n",
            "Epoch 39/100\n",
            "250/250 [==============================] - 27s 108ms/step - loss: 1.4715 - acc: 0.5857 - val_loss: 1.9770 - val_acc: 0.4979\n",
            "Epoch 40/100\n",
            "250/250 [==============================] - 27s 107ms/step - loss: 1.4283 - acc: 0.5984 - val_loss: 1.9659 - val_acc: 0.5028\n",
            "Epoch 41/100\n",
            "250/250 [==============================] - 27s 108ms/step - loss: 1.4231 - acc: 0.5980 - val_loss: 2.0339 - val_acc: 0.5035\n",
            "Epoch 42/100\n",
            "250/250 [==============================] - 27s 108ms/step - loss: 1.4168 - acc: 0.6002 - val_loss: 2.0454 - val_acc: 0.4971\n",
            "Epoch 43/100\n",
            "250/250 [==============================] - 27s 108ms/step - loss: 1.3882 - acc: 0.6082 - val_loss: 1.9652 - val_acc: 0.5105\n",
            "Epoch 44/100\n",
            "250/250 [==============================] - 27s 108ms/step - loss: 1.3696 - acc: 0.6105 - val_loss: 1.9720 - val_acc: 0.5161\n",
            "Epoch 45/100\n",
            "250/250 [==============================] - 27s 109ms/step - loss: 1.3638 - acc: 0.6119 - val_loss: 2.1717 - val_acc: 0.4835\n",
            "Epoch 46/100\n",
            "250/250 [==============================] - 27s 108ms/step - loss: 1.3351 - acc: 0.6190 - val_loss: 1.9455 - val_acc: 0.5236\n",
            "Epoch 47/100\n",
            "250/250 [==============================] - 27s 107ms/step - loss: 1.3233 - acc: 0.6228 - val_loss: 2.0341 - val_acc: 0.5006\n",
            "Epoch 48/100\n",
            "250/250 [==============================] - 27s 109ms/step - loss: 1.3032 - acc: 0.6293 - val_loss: 1.9754 - val_acc: 0.5099\n",
            "Epoch 49/100\n",
            "250/250 [==============================] - 27s 107ms/step - loss: 1.2978 - acc: 0.6323 - val_loss: 2.0760 - val_acc: 0.5008\n",
            "Epoch 50/100\n",
            "250/250 [==============================] - 27s 108ms/step - loss: 1.2822 - acc: 0.6327 - val_loss: 2.0216 - val_acc: 0.5077\n",
            "Epoch 51/100\n",
            "250/250 [==============================] - 27s 107ms/step - loss: 1.2844 - acc: 0.6337 - val_loss: 2.0556 - val_acc: 0.5092\n",
            "Epoch 52/100\n",
            "250/250 [==============================] - 26s 105ms/step - loss: 1.2581 - acc: 0.6371 - val_loss: 2.0681 - val_acc: 0.5084\n",
            "Epoch 53/100\n",
            "250/250 [==============================] - 27s 109ms/step - loss: 1.2367 - acc: 0.6439 - val_loss: 2.0835 - val_acc: 0.5077\n",
            "Epoch 54/100\n",
            "250/250 [==============================] - 28s 111ms/step - loss: 1.2424 - acc: 0.6442 - val_loss: 2.1127 - val_acc: 0.5037\n",
            "Epoch 55/100\n",
            "250/250 [==============================] - 27s 109ms/step - loss: 1.2148 - acc: 0.6514 - val_loss: 2.0653 - val_acc: 0.5123\n",
            "Epoch 56/100\n",
            "250/250 [==============================] - 27s 109ms/step - loss: 1.2199 - acc: 0.6492 - val_loss: 2.0853 - val_acc: 0.5116\n",
            "Epoch 57/100\n",
            "250/250 [==============================] - 27s 109ms/step - loss: 1.1969 - acc: 0.6542 - val_loss: 2.1020 - val_acc: 0.5063\n",
            "Epoch 58/100\n",
            "250/250 [==============================] - 27s 108ms/step - loss: 1.1997 - acc: 0.6548 - val_loss: 2.0657 - val_acc: 0.5075\n",
            "Epoch 59/100\n",
            "250/250 [==============================] - 27s 109ms/step - loss: 1.1847 - acc: 0.6565 - val_loss: 2.1068 - val_acc: 0.5171\n",
            "Epoch 60/100\n",
            "250/250 [==============================] - 27s 109ms/step - loss: 1.1768 - acc: 0.6595 - val_loss: 2.1355 - val_acc: 0.4999\n",
            "Epoch 61/100\n",
            "250/250 [==============================] - 27s 108ms/step - loss: 1.1571 - acc: 0.6652 - val_loss: 2.0784 - val_acc: 0.5203\n",
            "Epoch 62/100\n",
            "250/250 [==============================] - 28s 110ms/step - loss: 1.1537 - acc: 0.6665 - val_loss: 2.1700 - val_acc: 0.5115\n",
            "Epoch 63/100\n",
            "250/250 [==============================] - 27s 109ms/step - loss: 1.1336 - acc: 0.6704 - val_loss: 2.1301 - val_acc: 0.5105\n",
            "Epoch 64/100\n",
            "250/250 [==============================] - 27s 108ms/step - loss: 1.1402 - acc: 0.6677 - val_loss: 2.1384 - val_acc: 0.4995\n",
            "Epoch 65/100\n",
            "250/250 [==============================] - 27s 108ms/step - loss: 1.1251 - acc: 0.6748 - val_loss: 2.1681 - val_acc: 0.5096\n",
            "Epoch 66/100\n",
            "250/250 [==============================] - 27s 108ms/step - loss: 1.1108 - acc: 0.6766 - val_loss: 2.1894 - val_acc: 0.5006\n",
            "Epoch 67/100\n",
            "250/250 [==============================] - 27s 108ms/step - loss: 1.1129 - acc: 0.6742 - val_loss: 2.0340 - val_acc: 0.5262\n",
            "Epoch 68/100\n",
            "250/250 [==============================] - 27s 108ms/step - loss: 1.1061 - acc: 0.6777 - val_loss: 2.0143 - val_acc: 0.5216\n",
            "Epoch 69/100\n",
            "250/250 [==============================] - 27s 107ms/step - loss: 1.0991 - acc: 0.6787 - val_loss: 2.1039 - val_acc: 0.5145\n",
            "Epoch 70/100\n",
            "250/250 [==============================] - 27s 107ms/step - loss: 1.0854 - acc: 0.6824 - val_loss: 2.1438 - val_acc: 0.5138\n",
            "Epoch 71/100\n",
            "250/250 [==============================] - 27s 108ms/step - loss: 1.0749 - acc: 0.6831 - val_loss: 2.0818 - val_acc: 0.5178\n",
            "Epoch 72/100\n",
            "250/250 [==============================] - 27s 107ms/step - loss: 1.0721 - acc: 0.6856 - val_loss: 2.1236 - val_acc: 0.5131\n",
            "Epoch 73/100\n",
            "250/250 [==============================] - 27s 108ms/step - loss: 1.0570 - acc: 0.6905 - val_loss: 2.2089 - val_acc: 0.5177\n",
            "Epoch 74/100\n",
            "250/250 [==============================] - 27s 108ms/step - loss: 1.0498 - acc: 0.6917 - val_loss: 2.1189 - val_acc: 0.5142\n",
            "Epoch 75/100\n",
            "250/250 [==============================] - 27s 108ms/step - loss: 1.0456 - acc: 0.6920 - val_loss: 2.2575 - val_acc: 0.4995\n",
            "Epoch 76/100\n",
            "250/250 [==============================] - 27s 108ms/step - loss: 1.0493 - acc: 0.6934 - val_loss: 2.2085 - val_acc: 0.5079\n",
            "Epoch 77/100\n",
            "250/250 [==============================] - 27s 107ms/step - loss: 1.0323 - acc: 0.6964 - val_loss: 2.1100 - val_acc: 0.5235\n",
            "Epoch 78/100\n",
            "250/250 [==============================] - 27s 107ms/step - loss: 1.0303 - acc: 0.6991 - val_loss: 2.1661 - val_acc: 0.5209\n",
            "Epoch 79/100\n",
            "250/250 [==============================] - 27s 107ms/step - loss: 1.0212 - acc: 0.7003 - val_loss: 2.2916 - val_acc: 0.5187\n",
            "Epoch 80/100\n",
            "250/250 [==============================] - 27s 107ms/step - loss: 1.0074 - acc: 0.7041 - val_loss: 2.2104 - val_acc: 0.5199\n",
            "Epoch 81/100\n",
            "250/250 [==============================] - 27s 108ms/step - loss: 1.0311 - acc: 0.6965 - val_loss: 2.1367 - val_acc: 0.5196\n",
            "Epoch 82/100\n",
            "250/250 [==============================] - 27s 108ms/step - loss: 1.0034 - acc: 0.7040 - val_loss: 2.1790 - val_acc: 0.5138\n",
            "Epoch 83/100\n",
            "250/250 [==============================] - 27s 108ms/step - loss: 1.0036 - acc: 0.7041 - val_loss: 2.2787 - val_acc: 0.5042\n",
            "Epoch 84/100\n",
            "250/250 [==============================] - 27s 108ms/step - loss: 0.9951 - acc: 0.7057 - val_loss: 2.2389 - val_acc: 0.5176\n",
            "Epoch 85/100\n",
            "250/250 [==============================] - 27s 108ms/step - loss: 0.9747 - acc: 0.7100 - val_loss: 2.3118 - val_acc: 0.5061\n",
            "Epoch 86/100\n",
            "250/250 [==============================] - 27s 107ms/step - loss: 0.9764 - acc: 0.7116 - val_loss: 2.3443 - val_acc: 0.4925\n",
            "Epoch 87/100\n",
            "250/250 [==============================] - 27s 108ms/step - loss: 0.9745 - acc: 0.7122 - val_loss: 2.3549 - val_acc: 0.5038\n",
            "Epoch 88/100\n",
            "250/250 [==============================] - 27s 107ms/step - loss: 0.9677 - acc: 0.7122 - val_loss: 2.1980 - val_acc: 0.5124\n",
            "Epoch 89/100\n",
            "250/250 [==============================] - 27s 107ms/step - loss: 0.9562 - acc: 0.7155 - val_loss: 2.1625 - val_acc: 0.5249\n",
            "Epoch 90/100\n",
            "250/250 [==============================] - 27s 107ms/step - loss: 0.9535 - acc: 0.7180 - val_loss: 2.4171 - val_acc: 0.5028\n",
            "Epoch 91/100\n",
            "250/250 [==============================] - 27s 107ms/step - loss: 0.9751 - acc: 0.7106 - val_loss: 2.2634 - val_acc: 0.5169\n",
            "Epoch 92/100\n",
            "250/250 [==============================] - 27s 107ms/step - loss: 0.9451 - acc: 0.7217 - val_loss: 2.3024 - val_acc: 0.5085\n",
            "Epoch 93/100\n",
            "250/250 [==============================] - 27s 108ms/step - loss: 0.9635 - acc: 0.7160 - val_loss: 2.2821 - val_acc: 0.5111\n",
            "Epoch 94/100\n",
            "250/250 [==============================] - 27s 108ms/step - loss: 0.9235 - acc: 0.7255 - val_loss: 2.4401 - val_acc: 0.4960\n",
            "Epoch 95/100\n",
            "250/250 [==============================] - 27s 108ms/step - loss: 0.9236 - acc: 0.7266 - val_loss: 2.4850 - val_acc: 0.5028\n",
            "Epoch 96/100\n",
            "250/250 [==============================] - 27s 108ms/step - loss: 0.9351 - acc: 0.7249 - val_loss: 2.2652 - val_acc: 0.5165\n",
            "Epoch 97/100\n",
            "250/250 [==============================] - 27s 107ms/step - loss: 0.9196 - acc: 0.7272 - val_loss: 2.2953 - val_acc: 0.5112\n",
            "Epoch 98/100\n",
            "250/250 [==============================] - 27s 107ms/step - loss: 0.9340 - acc: 0.7232 - val_loss: 2.2846 - val_acc: 0.5188\n",
            "Epoch 99/100\n",
            "250/250 [==============================] - 27s 107ms/step - loss: 0.9283 - acc: 0.7225 - val_loss: 2.2353 - val_acc: 0.5246\n",
            "Epoch 100/100\n",
            "250/250 [==============================] - 27s 108ms/step - loss: 0.9137 - acc: 0.7273 - val_loss: 2.3028 - val_acc: 0.5180\n"
          ],
          "name": "stdout"
        }
      ]
    },
    {
      "cell_type": "code",
      "metadata": {
        "id": "jWA-ZJ85-Ofq",
        "outputId": "f8bbcf6e-b2ed-4b48-f3c1-9878089d67a8",
        "colab": {
          "base_uri": "https://localhost:8080/",
          "height": 871
        }
      },
      "source": [
        "\n",
        "y_pred=res_net_model.predict(x_test)\n",
        "# tf.one_hot(y_pred)\n",
        "# y_pred=np.where(y_pred[0]=max(y_pred[0],1,0))\n",
        "y_pred_proc=np.zeros((10000,100))\n",
        "for i in range(0,10000):\n",
        "    y_pred_proc[i][np.argmax(y_pred[i])]=1\n",
        "print(\"Precision: \"+ str(precision_score(y_test_proc, y_pred_proc, average='weighted')))\n",
        "print(\"Recall: \"+ str(recall_score(y_test_proc, y_pred_proc, average='weighted')))\n",
        "print(\"Accuracy: \"+ str(accuracy_score(y_test_proc, y_pred_proc)))"
      ],
      "execution_count": null,
      "outputs": [
        {
          "output_type": "stream",
          "text": [
            "Precision: 0.5312366073736966\n",
            "Recall: 0.518\n",
            "Accuracy: 0.518\n"
          ],
          "name": "stdout"
        },
        {
          "output_type": "display_data",
          "data": {
            "application/javascript": [
              "\n",
              "        (async () => {\n",
              "            const url = await google.colab.kernel.proxyPort(6006, {\"cache\": true});\n",
              "            const iframe = document.createElement('iframe');\n",
              "            iframe.src = url;\n",
              "            iframe.setAttribute('width', '100%');\n",
              "            iframe.setAttribute('height', '800');\n",
              "            iframe.setAttribute('frameborder', 0);\n",
              "            document.body.appendChild(iframe);\n",
              "        })();\n",
              "    "
            ],
            "text/plain": [
              "<IPython.core.display.Javascript object>"
            ]
          },
          "metadata": {
            "tags": []
          }
        }
      ]
    },
    {
      "cell_type": "code",
      "metadata": {
        "id": "Kn8t5NxAo7m_",
        "outputId": "7d4803c5-9887-4359-b15a-b41754c0e3df",
        "colab": {
          "base_uri": "https://localhost:8080/",
          "height": 282
        }
      },
      "source": [
        "plt.plot(output.history['acc'])\n",
        "plt.plot(output.history['val_acc'])\n",
        "plt.legend(['Training Accuracy','Testing Accuracy'])\n"
      ],
      "execution_count": null,
      "outputs": [
        {
          "output_type": "execute_result",
          "data": {
            "text/plain": [
              "<matplotlib.legend.Legend at 0x7fea082b07f0>"
            ]
          },
          "metadata": {
            "tags": []
          },
          "execution_count": 35
        },
        {
          "output_type": "display_data",
          "data": {
            "image/png": "[encoded data removed]",
            "text/plain": [
              "<Figure size 432x288 with 1 Axes>"
            ]
          },
          "metadata": {
            "tags": [],
            "needs_background": "light"
          }
        }
      ]
    },
    {
      "cell_type": "code",
      "metadata": {
        "id": "miAMsUX24x0Q",
        "outputId": "e7ce7448-4a40-4645-bd09-d3b730e9946e",
        "colab": {
          "base_uri": "https://localhost:8080/",
          "height": 282
        }
      },
      "source": [
        "plt.plot(output.history['loss'])\n",
        "plt.plot(output.history['val_loss'])\n",
        "plt.legend(['Training loss','Testing loss'])"
      ],
      "execution_count": null,
      "outputs": [
        {
          "output_type": "execute_result",
          "data": {
            "text/plain": [
              "<matplotlib.legend.Legend at 0x7fea08346048>"
            ]
          },
          "metadata": {
            "tags": []
          },
          "execution_count": 36
        },
        {
          "output_type": "display_data",
          "data": {
            "image/png": "[encoded data removed]",
            "text/plain": [
              "<Figure size 432x288 with 1 Axes>"
            ]
          },
          "metadata": {
            "tags": [],
            "needs_background": "light"
          }
        }
      ]
    },
    {
      "cell_type": "code",
      "metadata": {
        "id": "VNaw4vMN40Ej",
        "outputId": "0fdb01e0-ed92-40cf-d6e8-e0723854b54d",
        "colab": {
          "base_uri": "https://localhost:8080/",
          "height": 67
        }
      },
      "source": [
        "import tensorflow as tf\n",
        "from tensorflow import keras\n",
        "from tensorflow.keras import layers\n",
        "import numpy as np\n",
        "import datetime as dt\n",
        "from keras.models import Sequential\n",
        "from keras.layers import Dense, Dropout, Flatten\n",
        "from keras.layers import Conv2D, MaxPooling2D,Add,Activation\n",
        "from keras import backend as K\n",
        "import matplotlib.pyplot as plt\n",
        "from keras.preprocessing.image import ImageDataGenerator\n",
        "from sklearn.metrics import confusion_matrix, precision_score, recall_score, accuracy_score\n",
        "\n",
        "(x_train, y_train), (x_test, y_test) = tf.keras.datasets.cifar100.load_data()\n",
        "\n",
        "y_proc=np.zeros((50000,100))\n",
        "for i in range(0,50000):\n",
        "    y_proc[i][y_train[i][0]]=1\n",
        "y_test_proc=np.zeros((10000,100))\n",
        "for i in range(0,10000):\n",
        "    y_test_proc[i][y_test[i][0]]=1\n",
        "y_proc.shape\n",
        "input_shape=(32,32,3)\n",
        "y_test_proc[0]\n",
        "# plt.imshow(x_train[0])\n",
        "# x_train=x_train.astype('float')/255\n",
        "# x_test=x_test.astype('float')/255\n",
        "\n",
        "inputs = keras.Input(shape=input_shape)\n",
        "x = layers.Conv2D(32, 3, activation='relu')(inputs)\n",
        "x = layers.Conv2D(32, 3, activation='relu')(x)\n",
        "x = layers.MaxPooling2D(3)(x)\n",
        "num_res_net_blocks = 5\n",
        "filters=32\n",
        "conv_size=3\n",
        "\n",
        "x_skip=x\n",
        "x = layers.Conv2D(32, conv_size, activation='relu', padding='same')(x)\n",
        "\n",
        "x = layers.Add()([x, x_skip])\n",
        "# x = layers.MaxPool2D((3,3), strides=(1,1), padding='same')(x)\n",
        "x = layers.Activation('relu')(x)\n",
        "\n",
        "x_skip=x\n",
        "x = layers.Conv2D(filters, conv_size, activation='relu', padding='same')(x)\n",
        "x = layers.Conv2D(filters, conv_size, activation=None, padding='same')(x)\n",
        "x = layers.Add()([x, x_skip])\n",
        "# x = layers.MaxPool2D((3,3), strides=(1,1), padding='same')(x)\n",
        "x = layers.Activation('relu')(x)\n",
        "\n",
        "\n",
        "x_skip=x\n",
        "x = layers.Conv2D(32, conv_size, activation='relu', padding='same')(x)\n",
        "x = layers.Conv2D(32, conv_size, activation=None, padding='same')(x)\n",
        "x = layers.Add()([x, x_skip])\n",
        "# x = layers.MaxPool2D((3,3), strides=(1,1), padding='same')(x)\n",
        "x = layers.Activation('relu')(x)\n",
        "\n",
        "x = layers.Conv2D(64, conv_size, activation=None, padding='same')(x)\n",
        "\n",
        "x_skip=x\n",
        "x = layers.Conv2D(64, conv_size, activation='relu', padding='same')(x)\n",
        "x = layers.Conv2D(64, conv_size, activation=None, padding='same')(x)\n",
        "x = layers.Add()([x, x_skip])\n",
        "# x = layers.MaxPool2D((3,3), strides=(1,1), padding='same')(x)\n",
        "x = layers.Activation('relu')(x)\n",
        "\n",
        "x_skip=x\n",
        "x = layers.Conv2D(64, conv_size, activation='relu', padding='same')(x)\n",
        "x = layers.Conv2D(64, conv_size, activation=None, padding='same')(x)\n",
        "x = layers.Add()([x, x_skip])\n",
        "# x = layers.MaxPool2D((3,3), strides=(1,1), padding='same')(x)\n",
        "x = layers.Activation('relu')(x)\n",
        "\n",
        "x = layers.Conv2D(128, conv_size, activation=None, padding='same')(x)\n",
        "\n",
        "x_skip=x\n",
        "x = layers.Conv2D(128, conv_size, activation='relu', padding='same')(x)\n",
        "x = layers.Conv2D(128, conv_size, activation=None, padding='same')(x)\n",
        "x = layers.Add()([x, x_skip])\n",
        "# x = layers.MaxPool2D((3,3), strides=(1,1), padding='same')(x)\n",
        "x = layers.Activation('relu')(x)\n",
        "\n",
        "x_skip=x\n",
        "x = layers.Conv2D(128, conv_size, activation='relu', padding='same')(x)\n",
        "x = layers.Conv2D(128, conv_size, activation=None, padding='same')(x)\n",
        "x = layers.Add()([x, x_skip])\n",
        "# x = layers.MaxPool2D((3,3), strides=(1,1), padding='same')(x)\n",
        "x = layers.Activation('relu')(x)\n",
        "\n",
        "\n",
        "x = layers.Conv2D(256, 3, activation='relu')(x)\n",
        "x = layers.Conv2D(256, 3, activation='relu')(x)\n",
        "x = layers.AveragePooling2D(4)(x)\n",
        "x=layers.Flatten()(x)\n",
        "x = layers.Dense(256, activation='relu')(x)\n",
        "outputs = layers.Dense(100, activation='softmax')(x)\n",
        "\n",
        "res_net_model = keras.Model(inputs, outputs)\n",
        "\n",
        "res_net_model.load_weights('../weights/resnet_adam_noreg.hdf5')\n",
        "\n",
        "\n",
        "y_pred=res_net_model.predict(x_test)\n",
        "# tf.one_hot(y_pred)\n",
        "# y_pred=np.where(y_pred[0]=max(y_pred[0],1,0))\n",
        "y_pred_proc=np.zeros((10000,100))\n",
        "for i in range(0,10000):\n",
        "    y_pred_proc[i][np.argmax(y_pred[i])]=1\n",
        "print(\"Precision: \"+ str(precision_score(y_test_proc, y_pred_proc, average='weighted')))\n",
        "print(\"Recall: \"+ str(recall_score(y_test_proc, y_pred_proc, average='weighted')))\n",
        "print(\"Accuracy: \"+ str(accuracy_score(y_test_proc, y_pred_proc)))"
      ],
      "execution_count": 2,
      "outputs": [
        {
          "output_type": "stream",
          "text": [
            "Precision: 0.5429850361603739\n",
            "Recall: 0.5262\n",
            "Accuracy: 0.5262\n"
          ],
          "name": "stdout"
        }
      ]
    }
  ]
}