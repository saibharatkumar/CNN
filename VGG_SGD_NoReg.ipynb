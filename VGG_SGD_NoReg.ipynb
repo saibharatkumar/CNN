{
  "nbformat": 4,
  "nbformat_minor": 0,
  "metadata": {
    "colab": {
      "name": "VGG_SGD_NoReg.ipynb",
      "provenance": [],
      "collapsed_sections": []
    },
    "kernelspec": {
      "name": "python3",
      "display_name": "Python 3"
    },
    "accelerator": "GPU"
  },
  "cells": [
    {
      "cell_type": "code",
      "metadata": {
        "id": "DHxExJHmHrOi"
      },
      "source": [
        "import tensorflow as tf\n",
        "from tensorflow import keras\n",
        "from tensorflow.keras import layers\n",
        "import numpy as np\n",
        "import datetime as dt\n",
        "from keras.models import Sequential\n",
        "from keras.layers import Dense, Dropout, Flatten\n",
        "from keras.layers import Conv2D, MaxPooling2D,Add,Activation\n",
        "from keras import backend as K\n",
        "import matplotlib.pyplot as plt\n",
        "from keras.preprocessing.image import ImageDataGenerator\n",
        "from sklearn.metrics import confusion_matrix, precision_score, recall_score, accuracy_score\n"
      ],
      "execution_count": null,
      "outputs": []
    },
    {
      "cell_type": "code",
      "metadata": {
        "id": "EdglliqVIpcH",
        "outputId": "0a50f5f6-70fb-402c-cc75-8a1d8e6323ba",
        "colab": {
          "base_uri": "https://localhost:8080/",
          "height": 50
        }
      },
      "source": [
        "(x_train, y_train), (x_test, y_test) = tf.keras.datasets.cifar100.load_data()"
      ],
      "execution_count": null,
      "outputs": [
        {
          "output_type": "stream",
          "text": [
            "Downloading data from https://www.cs.toronto.edu/~kriz/cifar-100-python.tar.gz\n",
            "169009152/169001437 [==============================] - 5s 0us/step\n"
          ],
          "name": "stdout"
        }
      ]
    },
    {
      "cell_type": "code",
      "metadata": {
        "id": "3xOtuKNpIvmm",
        "outputId": "103512df-eeee-47eb-a8eb-a7a20f1c32dc",
        "colab": {
          "base_uri": "https://localhost:8080/",
          "height": 34
        }
      },
      "source": [
        "y_proc=np.zeros((50000,100))\n",
        "for i in range(0,50000):\n",
        "    y_proc[i][y_train[i][0]]=1\n",
        "y_test_proc=np.zeros((10000,100))\n",
        "for i in range(0,10000):\n",
        "    y_test_proc[i][y_test[i][0]]=1\n",
        "y_proc.shape\n",
        "input_shape=(32,32,3)\n",
        "y_test_proc[0]\n",
        "x_train=x_train.astype('float')/255\n",
        "x_test=x_test.astype('float')/255\n",
        "y_test_proc.shape"
      ],
      "execution_count": null,
      "outputs": [
        {
          "output_type": "execute_result",
          "data": {
            "text/plain": [
              "(10000, 100)"
            ]
          },
          "metadata": {
            "tags": []
          },
          "execution_count": 3
        }
      ]
    },
    {
      "cell_type": "code",
      "metadata": {
        "id": "kjNVHplzIxNh"
      },
      "source": [
        "datagen = ImageDataGenerator(\n",
        "    featurewise_center=False,  # set input mean to 0 over the dataset\n",
        "    samplewise_center=False,  # set each sample mean to 0\n",
        "    featurewise_std_normalization=False,  # divide inputs by std of the dataset\n",
        "    samplewise_std_normalization=False,  # divide each input by its std\n",
        "    zca_whitening=False,  # apply ZCA whitening\n",
        "    rotation_range=15,  # randomly rotate images in the range (degrees, 0 to 180)\n",
        "    width_shift_range=0.1,  # randomly shift images horizontally (fraction of total width)\n",
        "    height_shift_range=0.1,  # randomly shift images vertically (fraction of total height)\n",
        "    horizontal_flip=True,  # randomly flip images\n",
        "    vertical_flip=False)  # randomly flip images\n",
        "# (std, mean, and principal components if ZCA whitening is applied).\n",
        "datagen.fit(x_train)"
      ],
      "execution_count": null,
      "outputs": []
    },
    {
      "cell_type": "code",
      "metadata": {
        "id": "Bwee_Z5zIy4v"
      },
      "source": [
        "inputs = keras.Input(shape=input_shape)\n",
        "x = layers.Conv2D(32, 3, activation='elu')(inputs)\n",
        "x = layers.Conv2D(32, 3, activation='relu')(x)\n",
        "x = layers.MaxPool2D((3,3),strides=(1,1), padding='same')(x)\n",
        "x = layers.Conv2D(32, 3, activation='elu')(x)\n",
        "x = layers.Conv2D(32, 3, activation='relu')(x)\n",
        "x = layers.MaxPool2D((3,3),strides=(1,1), padding='same')(x)\n",
        "x = layers.Conv2D(64, 3, activation='elu')(x)\n",
        "x = layers.Conv2D(64, 3, activation='elu')(x)\n",
        "x = layers.Conv2D(64, 3, activation='relu')(x)\n",
        "x = layers.MaxPool2D((3,3),strides=(1,1), padding='same')(x)\n",
        "x = layers.Conv2D(64, 3, activation='elu')(x)\n",
        "x = layers.Conv2D(64, 3, activation='elu')(x)\n",
        "x = layers.Conv2D(64, 3, activation='relu')(x)\n",
        "x = layers.MaxPool2D((3,3),strides=(1,1), padding='same')(x)\n",
        "x = layers.Conv2D(128, 3, activation='elu')(x)\n",
        "x = layers.Conv2D(128, 3, activation='elu')(x)\n",
        "x = layers.Conv2D(128, 3, activation='relu')(x)\n",
        "x = layers.MaxPool2D((3,3),strides=(1,1), padding='same')(x)\n",
        "x=layers.Flatten()(x)\n",
        "\n",
        "x = layers.Dense(256, activation='elu')(x)\n",
        "x = layers.Dense(256, activation='elu')(x)\n",
        "x = layers.Dense(256, activation='relu')(x)\n",
        "\n",
        "outputs = layers.Dense(100, activation='softmax')(x)\n",
        "\n",
        "\n",
        "vgg_net_model = keras.Model(inputs, outputs)"
      ],
      "execution_count": null,
      "outputs": []
    },
    {
      "cell_type": "code",
      "metadata": {
        "id": "b8_otLGWKM43",
        "outputId": "61c63789-6df0-4127-e2d6-69cf7b2105e8",
        "colab": {
          "base_uri": "https://localhost:8080/",
          "height": 958
        }
      },
      "source": [
        "vgg_net_model.summary()"
      ],
      "execution_count": null,
      "outputs": [
        {
          "output_type": "stream",
          "text": [
            "Model: \"functional_3\"\n",
            "_________________________________________________________________\n",
            "Layer (type)                 Output Shape              Param #   \n",
            "=================================================================\n",
            "input_2 (InputLayer)         [(None, 32, 32, 3)]       0         \n",
            "_________________________________________________________________\n",
            "conv2d_13 (Conv2D)           (None, 30, 30, 32)        896       \n",
            "_________________________________________________________________\n",
            "conv2d_14 (Conv2D)           (None, 28, 28, 32)        9248      \n",
            "_________________________________________________________________\n",
            "max_pooling2d_5 (MaxPooling2 (None, 28, 28, 32)        0         \n",
            "_________________________________________________________________\n",
            "conv2d_15 (Conv2D)           (None, 26, 26, 32)        9248      \n",
            "_________________________________________________________________\n",
            "conv2d_16 (Conv2D)           (None, 24, 24, 32)        9248      \n",
            "_________________________________________________________________\n",
            "max_pooling2d_6 (MaxPooling2 (None, 24, 24, 32)        0         \n",
            "_________________________________________________________________\n",
            "conv2d_17 (Conv2D)           (None, 22, 22, 64)        18496     \n",
            "_________________________________________________________________\n",
            "conv2d_18 (Conv2D)           (None, 20, 20, 64)        36928     \n",
            "_________________________________________________________________\n",
            "conv2d_19 (Conv2D)           (None, 18, 18, 64)        36928     \n",
            "_________________________________________________________________\n",
            "max_pooling2d_7 (MaxPooling2 (None, 18, 18, 64)        0         \n",
            "_________________________________________________________________\n",
            "conv2d_20 (Conv2D)           (None, 16, 16, 64)        36928     \n",
            "_________________________________________________________________\n",
            "conv2d_21 (Conv2D)           (None, 14, 14, 64)        36928     \n",
            "_________________________________________________________________\n",
            "conv2d_22 (Conv2D)           (None, 12, 12, 64)        36928     \n",
            "_________________________________________________________________\n",
            "max_pooling2d_8 (MaxPooling2 (None, 12, 12, 64)        0         \n",
            "_________________________________________________________________\n",
            "conv2d_23 (Conv2D)           (None, 10, 10, 128)       73856     \n",
            "_________________________________________________________________\n",
            "conv2d_24 (Conv2D)           (None, 8, 8, 128)         147584    \n",
            "_________________________________________________________________\n",
            "conv2d_25 (Conv2D)           (None, 6, 6, 128)         147584    \n",
            "_________________________________________________________________\n",
            "max_pooling2d_9 (MaxPooling2 (None, 6, 6, 128)         0         \n",
            "_________________________________________________________________\n",
            "flatten_1 (Flatten)          (None, 4608)              0         \n",
            "_________________________________________________________________\n",
            "dense_4 (Dense)              (None, 256)               1179904   \n",
            "_________________________________________________________________\n",
            "dense_5 (Dense)              (None, 256)               65792     \n",
            "_________________________________________________________________\n",
            "dense_6 (Dense)              (None, 256)               65792     \n",
            "_________________________________________________________________\n",
            "dense_7 (Dense)              (None, 100)               25700     \n",
            "=================================================================\n",
            "Total params: 1,937,988\n",
            "Trainable params: 1,937,988\n",
            "Non-trainable params: 0\n",
            "_________________________________________________________________\n"
          ],
          "name": "stdout"
        }
      ]
    },
    {
      "cell_type": "code",
      "metadata": {
        "id": "9iCKoHIdKQPm",
        "outputId": "ac5d6a10-c2b9-4297-9088-21a4a96e2ae7",
        "colab": {
          "base_uri": "https://localhost:8080/",
          "height": 1000
        }
      },
      "source": [
        "%load_ext tensorboard\n",
        "tensor_board = tf.keras.callbacks.TensorBoard(log_dir='tensorboard',histogram_freq=1)\n",
        "vgg_net_model.compile(optimizer=keras.optimizers.SGD(lr=0.01,momentum=0.9,clipvalue=0.7,clipnorm=0.7),\n",
        "              loss='categorical_crossentropy',\n",
        "              metrics=['acc'])\n",
        "callback = tf.keras.callbacks.EarlyStopping(monitor='loss', patience=3,min_delta=0.0001)\n",
        "model_checkpoint_callback = tf.keras.callbacks.ModelCheckpoint(\n",
        "    filepath='vgg_sgd_noreg.hdf5',\n",
        "    save_weights_only=True,\n",
        "    monitor='val_acc',\n",
        "    mode='max',\n",
        "    save_best_only=True)\n",
        "# vgg_net_model.fit(x_train,y_proc,batch_size=200,validation_data=(x_test,y_test_proc),epochs=50,callbacks=[callback,model_checkpoint_callback])\n",
        "output=vgg_net_model.fit_generator(datagen.flow(x_train,y_proc,batch_size = 200), epochs = 100, validation_data = (x_test,y_test_proc),callbacks = [tensor_board,callback,model_checkpoint_callback])"
      ],
      "execution_count": null,
      "outputs": [
        {
          "output_type": "stream",
          "text": [
            "The tensorboard extension is already loaded. To reload it, use:\n",
            "  %reload_ext tensorboard\n",
            "Epoch 1/100\n",
            "  2/250 [..............................] - ETA: 33s - loss: 4.6047 - acc: 0.0150WARNING:tensorflow:Callbacks method `on_train_batch_end` is slow compared to the batch time (batch time: 0.0904s vs `on_train_batch_end` time: 0.1760s). Check your callbacks.\n",
            "250/250 [==============================] - 26s 104ms/step - loss: 4.4578 - acc: 0.0253 - val_loss: 4.2400 - val_acc: 0.0496\n",
            "Epoch 2/100\n",
            "250/250 [==============================] - 26s 103ms/step - loss: 4.0907 - acc: 0.0660 - val_loss: 3.9183 - val_acc: 0.0926\n",
            "Epoch 3/100\n",
            "250/250 [==============================] - 26s 104ms/step - loss: 3.8812 - acc: 0.0969 - val_loss: 3.7930 - val_acc: 0.1128\n",
            "Epoch 4/100\n",
            "250/250 [==============================] - 26s 104ms/step - loss: 3.7263 - acc: 0.1203 - val_loss: 3.5625 - val_acc: 0.1630\n",
            "Epoch 5/100\n",
            "250/250 [==============================] - 26s 104ms/step - loss: 3.5712 - acc: 0.1482 - val_loss: 3.4557 - val_acc: 0.1709\n",
            "Epoch 6/100\n",
            "250/250 [==============================] - 27s 106ms/step - loss: 3.4532 - acc: 0.1695 - val_loss: 3.3913 - val_acc: 0.1859\n",
            "Epoch 7/100\n",
            "250/250 [==============================] - 26s 104ms/step - loss: 3.3504 - acc: 0.1884 - val_loss: 3.3008 - val_acc: 0.1947\n",
            "Epoch 8/100\n",
            "250/250 [==============================] - 26s 105ms/step - loss: 3.2474 - acc: 0.2046 - val_loss: 3.1685 - val_acc: 0.2243\n",
            "Epoch 9/100\n",
            "250/250 [==============================] - 26s 104ms/step - loss: 3.1549 - acc: 0.2207 - val_loss: 3.0921 - val_acc: 0.2410\n",
            "Epoch 10/100\n",
            "250/250 [==============================] - 25s 102ms/step - loss: 3.0867 - acc: 0.2372 - val_loss: 3.1072 - val_acc: 0.2370\n",
            "Epoch 11/100\n",
            "250/250 [==============================] - 25s 102ms/step - loss: 3.0086 - acc: 0.2500 - val_loss: 3.0729 - val_acc: 0.2396\n",
            "Epoch 12/100\n",
            "250/250 [==============================] - 25s 102ms/step - loss: 2.9518 - acc: 0.2630 - val_loss: 3.0507 - val_acc: 0.2507\n",
            "Epoch 13/100\n",
            "250/250 [==============================] - 26s 102ms/step - loss: 2.8939 - acc: 0.2725 - val_loss: 2.8185 - val_acc: 0.2956\n",
            "Epoch 14/100\n",
            "250/250 [==============================] - 26s 103ms/step - loss: 2.8280 - acc: 0.2864 - val_loss: 2.8869 - val_acc: 0.2816\n",
            "Epoch 15/100\n",
            "250/250 [==============================] - 27s 108ms/step - loss: 2.7810 - acc: 0.2941 - val_loss: 2.8093 - val_acc: 0.3017\n",
            "Epoch 16/100\n",
            "250/250 [==============================] - 27s 108ms/step - loss: 2.7220 - acc: 0.3078 - val_loss: 2.7718 - val_acc: 0.3103\n",
            "Epoch 17/100\n",
            "250/250 [==============================] - 27s 106ms/step - loss: 2.6812 - acc: 0.3165 - val_loss: 2.7982 - val_acc: 0.3000\n",
            "Epoch 18/100\n",
            "250/250 [==============================] - 27s 107ms/step - loss: 2.6407 - acc: 0.3233 - val_loss: 2.6766 - val_acc: 0.3254\n",
            "Epoch 19/100\n",
            "250/250 [==============================] - 27s 106ms/step - loss: 2.5918 - acc: 0.3320 - val_loss: 2.7429 - val_acc: 0.3139\n",
            "Epoch 20/100\n",
            "250/250 [==============================] - 26s 106ms/step - loss: 2.5695 - acc: 0.3384 - val_loss: 2.7209 - val_acc: 0.3188\n",
            "Epoch 21/100\n",
            "250/250 [==============================] - 26s 106ms/step - loss: 2.5303 - acc: 0.3411 - val_loss: 2.6201 - val_acc: 0.3350\n",
            "Epoch 22/100\n",
            "250/250 [==============================] - 27s 106ms/step - loss: 2.4960 - acc: 0.3517 - val_loss: 2.5252 - val_acc: 0.3522\n",
            "Epoch 23/100\n",
            "250/250 [==============================] - 27s 106ms/step - loss: 2.4760 - acc: 0.3541 - val_loss: 2.5926 - val_acc: 0.3475\n",
            "Epoch 24/100\n",
            "250/250 [==============================] - 27s 106ms/step - loss: 2.4285 - acc: 0.3671 - val_loss: 2.6810 - val_acc: 0.3229\n",
            "Epoch 25/100\n",
            "250/250 [==============================] - 27s 106ms/step - loss: 2.3986 - acc: 0.3713 - val_loss: 2.5380 - val_acc: 0.3536\n",
            "Epoch 26/100\n",
            "250/250 [==============================] - 27s 106ms/step - loss: 2.3803 - acc: 0.3740 - val_loss: 2.5242 - val_acc: 0.3610\n",
            "Epoch 27/100\n",
            "250/250 [==============================] - 27s 106ms/step - loss: 2.3445 - acc: 0.3818 - val_loss: 2.5202 - val_acc: 0.3574\n",
            "Epoch 28/100\n",
            "250/250 [==============================] - 27s 107ms/step - loss: 2.3211 - acc: 0.3885 - val_loss: 2.5673 - val_acc: 0.3424\n",
            "Epoch 29/100\n",
            "250/250 [==============================] - 27s 107ms/step - loss: 2.2953 - acc: 0.3941 - val_loss: 2.4750 - val_acc: 0.3640\n",
            "Epoch 30/100\n",
            "250/250 [==============================] - 27s 106ms/step - loss: 2.2717 - acc: 0.3997 - val_loss: 2.5293 - val_acc: 0.3545\n",
            "Epoch 31/100\n",
            "250/250 [==============================] - 27s 107ms/step - loss: 2.2566 - acc: 0.4012 - val_loss: 2.4839 - val_acc: 0.3639\n",
            "Epoch 32/100\n",
            "250/250 [==============================] - 26s 106ms/step - loss: 2.2297 - acc: 0.4070 - val_loss: 2.4766 - val_acc: 0.3677\n",
            "Epoch 33/100\n",
            "250/250 [==============================] - 27s 106ms/step - loss: 2.2123 - acc: 0.4128 - val_loss: 2.4854 - val_acc: 0.3715\n",
            "Epoch 34/100\n",
            "250/250 [==============================] - 27s 107ms/step - loss: 2.1691 - acc: 0.4186 - val_loss: 2.4230 - val_acc: 0.3801\n",
            "Epoch 35/100\n",
            "250/250 [==============================] - 27s 107ms/step - loss: 2.1606 - acc: 0.4235 - val_loss: 2.3419 - val_acc: 0.3934\n",
            "Epoch 36/100\n",
            "250/250 [==============================] - 27s 106ms/step - loss: 2.1373 - acc: 0.4274 - val_loss: 2.4709 - val_acc: 0.3743\n",
            "Epoch 37/100\n",
            "250/250 [==============================] - 27s 107ms/step - loss: 2.1200 - acc: 0.4312 - val_loss: 2.4367 - val_acc: 0.3813\n",
            "Epoch 38/100\n",
            "250/250 [==============================] - 27s 107ms/step - loss: 2.1019 - acc: 0.4348 - val_loss: 2.4326 - val_acc: 0.3810\n",
            "Epoch 39/100\n",
            "250/250 [==============================] - 27s 107ms/step - loss: 2.0827 - acc: 0.4399 - val_loss: 2.3297 - val_acc: 0.4020\n",
            "Epoch 40/100\n",
            "250/250 [==============================] - 27s 108ms/step - loss: 2.0730 - acc: 0.4410 - val_loss: 2.3458 - val_acc: 0.3984\n",
            "Epoch 41/100\n",
            "250/250 [==============================] - 27s 109ms/step - loss: 2.0523 - acc: 0.4446 - val_loss: 2.3755 - val_acc: 0.3950\n",
            "Epoch 42/100\n",
            "250/250 [==============================] - 27s 108ms/step - loss: 2.0464 - acc: 0.4473 - val_loss: 2.4017 - val_acc: 0.3926\n",
            "Epoch 43/100\n",
            "250/250 [==============================] - 27s 108ms/step - loss: 2.0312 - acc: 0.4495 - val_loss: 2.3748 - val_acc: 0.4023\n",
            "Epoch 44/100\n",
            "250/250 [==============================] - 27s 109ms/step - loss: 2.0075 - acc: 0.4536 - val_loss: 2.3946 - val_acc: 0.3893\n",
            "Epoch 45/100\n",
            "250/250 [==============================] - 27s 109ms/step - loss: 1.9996 - acc: 0.4568 - val_loss: 2.4229 - val_acc: 0.3875\n",
            "Epoch 46/100\n",
            "250/250 [==============================] - 27s 109ms/step - loss: 1.9773 - acc: 0.4612 - val_loss: 2.3152 - val_acc: 0.4066\n",
            "Epoch 47/100\n",
            "250/250 [==============================] - 27s 109ms/step - loss: 1.9642 - acc: 0.4651 - val_loss: 2.4238 - val_acc: 0.3898\n",
            "Epoch 48/100\n",
            "250/250 [==============================] - 27s 109ms/step - loss: 1.9556 - acc: 0.4685 - val_loss: 2.4472 - val_acc: 0.3843\n",
            "Epoch 49/100\n",
            "250/250 [==============================] - 27s 109ms/step - loss: 1.9340 - acc: 0.4722 - val_loss: 2.4867 - val_acc: 0.3832\n",
            "Epoch 50/100\n",
            "250/250 [==============================] - 27s 109ms/step - loss: 1.9280 - acc: 0.4734 - val_loss: 2.3575 - val_acc: 0.4071\n",
            "Epoch 51/100\n",
            "250/250 [==============================] - 27s 109ms/step - loss: 1.8990 - acc: 0.4792 - val_loss: 2.3725 - val_acc: 0.4003\n",
            "Epoch 52/100\n",
            "250/250 [==============================] - 28s 110ms/step - loss: 1.9010 - acc: 0.4809 - val_loss: 2.2966 - val_acc: 0.4108\n",
            "Epoch 53/100\n",
            "250/250 [==============================] - 27s 110ms/step - loss: 1.8881 - acc: 0.4801 - val_loss: 2.3323 - val_acc: 0.4116\n",
            "Epoch 54/100\n",
            "250/250 [==============================] - 27s 109ms/step - loss: 1.8655 - acc: 0.4875 - val_loss: 2.3819 - val_acc: 0.4060\n",
            "Epoch 55/100\n",
            "250/250 [==============================] - 27s 109ms/step - loss: 1.8637 - acc: 0.4878 - val_loss: 2.3526 - val_acc: 0.4091\n",
            "Epoch 56/100\n",
            "250/250 [==============================] - 27s 109ms/step - loss: 1.8437 - acc: 0.4915 - val_loss: 2.2484 - val_acc: 0.4260\n",
            "Epoch 57/100\n",
            "250/250 [==============================] - 27s 109ms/step - loss: 1.8349 - acc: 0.4940 - val_loss: 2.3452 - val_acc: 0.4107\n",
            "Epoch 58/100\n",
            "250/250 [==============================] - 27s 109ms/step - loss: 1.8186 - acc: 0.4989 - val_loss: 2.3412 - val_acc: 0.4222\n",
            "Epoch 59/100\n",
            "250/250 [==============================] - 27s 109ms/step - loss: 1.8134 - acc: 0.4975 - val_loss: 2.3423 - val_acc: 0.4065\n",
            "Epoch 60/100\n",
            "250/250 [==============================] - 27s 110ms/step - loss: 1.8070 - acc: 0.5017 - val_loss: 2.4901 - val_acc: 0.3929\n",
            "Epoch 61/100\n",
            "250/250 [==============================] - 27s 110ms/step - loss: 1.7847 - acc: 0.5049 - val_loss: 2.3658 - val_acc: 0.4090\n",
            "Epoch 62/100\n",
            "250/250 [==============================] - 27s 109ms/step - loss: 1.7811 - acc: 0.5062 - val_loss: 2.4352 - val_acc: 0.3992\n",
            "Epoch 63/100\n",
            "250/250 [==============================] - 28s 111ms/step - loss: 1.7663 - acc: 0.5120 - val_loss: 2.2871 - val_acc: 0.4217\n",
            "Epoch 64/100\n",
            "250/250 [==============================] - 27s 110ms/step - loss: 1.7562 - acc: 0.5130 - val_loss: 2.3636 - val_acc: 0.4154\n",
            "Epoch 65/100\n",
            "250/250 [==============================] - 28s 110ms/step - loss: 1.7523 - acc: 0.5153 - val_loss: 2.2320 - val_acc: 0.4357\n",
            "Epoch 66/100\n",
            "250/250 [==============================] - 28s 110ms/step - loss: 1.7287 - acc: 0.5201 - val_loss: 2.2790 - val_acc: 0.4234\n",
            "Epoch 67/100\n",
            "250/250 [==============================] - 27s 110ms/step - loss: 1.7242 - acc: 0.5185 - val_loss: 2.2479 - val_acc: 0.4351\n",
            "Epoch 68/100\n",
            "250/250 [==============================] - 28s 110ms/step - loss: 1.7190 - acc: 0.5195 - val_loss: 2.2558 - val_acc: 0.4309\n",
            "Epoch 69/100\n",
            "250/250 [==============================] - 28s 110ms/step - loss: 1.7060 - acc: 0.5224 - val_loss: 2.3368 - val_acc: 0.4296\n",
            "Epoch 70/100\n",
            "250/250 [==============================] - 28s 111ms/step - loss: 1.7009 - acc: 0.5237 - val_loss: 2.1978 - val_acc: 0.4472\n",
            "Epoch 71/100\n",
            "250/250 [==============================] - 28s 110ms/step - loss: 1.6735 - acc: 0.5299 - val_loss: 2.2730 - val_acc: 0.4395\n",
            "Epoch 72/100\n",
            "250/250 [==============================] - 28s 110ms/step - loss: 1.6866 - acc: 0.5295 - val_loss: 2.2874 - val_acc: 0.4274\n",
            "Epoch 73/100\n",
            "250/250 [==============================] - 28s 111ms/step - loss: 1.6713 - acc: 0.5317 - val_loss: 2.2900 - val_acc: 0.4272\n",
            "Epoch 74/100\n",
            "250/250 [==============================] - 28s 111ms/step - loss: 1.6642 - acc: 0.5340 - val_loss: 2.3060 - val_acc: 0.4286\n",
            "Epoch 75/100\n",
            "250/250 [==============================] - 28s 111ms/step - loss: 1.6557 - acc: 0.5343 - val_loss: 2.2849 - val_acc: 0.4281\n",
            "Epoch 76/100\n",
            "250/250 [==============================] - 28s 110ms/step - loss: 1.6513 - acc: 0.5337 - val_loss: 2.2666 - val_acc: 0.4351\n",
            "Epoch 77/100\n",
            "250/250 [==============================] - 28s 111ms/step - loss: 1.6418 - acc: 0.5381 - val_loss: 2.2800 - val_acc: 0.4332\n",
            "Epoch 78/100\n",
            "250/250 [==============================] - 28s 111ms/step - loss: 1.6321 - acc: 0.5400 - val_loss: 2.1722 - val_acc: 0.4484\n",
            "Epoch 79/100\n",
            "250/250 [==============================] - 28s 111ms/step - loss: 1.6163 - acc: 0.5430 - val_loss: 2.2417 - val_acc: 0.4330\n",
            "Epoch 80/100\n",
            "250/250 [==============================] - 28s 111ms/step - loss: 1.6127 - acc: 0.5468 - val_loss: 2.2401 - val_acc: 0.4371\n",
            "Epoch 81/100\n",
            "250/250 [==============================] - 28s 111ms/step - loss: 1.6026 - acc: 0.5490 - val_loss: 2.3215 - val_acc: 0.4337\n",
            "Epoch 82/100\n",
            "250/250 [==============================] - 28s 111ms/step - loss: 1.5879 - acc: 0.5529 - val_loss: 2.4375 - val_acc: 0.4082\n",
            "Epoch 83/100\n",
            "250/250 [==============================] - 28s 111ms/step - loss: 1.5932 - acc: 0.5487 - val_loss: 2.4022 - val_acc: 0.4237\n",
            "Epoch 84/100\n",
            "250/250 [==============================] - 28s 111ms/step - loss: 1.5847 - acc: 0.5528 - val_loss: 2.2870 - val_acc: 0.4318\n",
            "Epoch 85/100\n",
            "250/250 [==============================] - 28s 111ms/step - loss: 1.5741 - acc: 0.5539 - val_loss: 2.2457 - val_acc: 0.4413\n",
            "Epoch 86/100\n",
            "250/250 [==============================] - 28s 112ms/step - loss: 1.5644 - acc: 0.5558 - val_loss: 2.2628 - val_acc: 0.4325\n",
            "Epoch 87/100\n",
            "250/250 [==============================] - 28s 111ms/step - loss: 1.5566 - acc: 0.5581 - val_loss: 2.2309 - val_acc: 0.4451\n",
            "Epoch 88/100\n",
            "250/250 [==============================] - 28s 112ms/step - loss: 1.5558 - acc: 0.5586 - val_loss: 2.2993 - val_acc: 0.4341\n",
            "Epoch 89/100\n",
            "250/250 [==============================] - 28s 112ms/step - loss: 1.5395 - acc: 0.5592 - val_loss: 2.3465 - val_acc: 0.4273\n",
            "Epoch 90/100\n",
            "250/250 [==============================] - 28s 111ms/step - loss: 1.5241 - acc: 0.5674 - val_loss: 2.2518 - val_acc: 0.4429\n",
            "Epoch 91/100\n",
            "250/250 [==============================] - 28s 112ms/step - loss: 1.5276 - acc: 0.5639 - val_loss: 2.2676 - val_acc: 0.4406\n",
            "Epoch 92/100\n",
            "250/250 [==============================] - 28s 112ms/step - loss: 1.5218 - acc: 0.5682 - val_loss: 2.2999 - val_acc: 0.4382\n",
            "Epoch 93/100\n",
            "250/250 [==============================] - 28s 111ms/step - loss: 1.5207 - acc: 0.5681 - val_loss: 2.2942 - val_acc: 0.4342\n",
            "Epoch 94/100\n",
            "250/250 [==============================] - 28s 111ms/step - loss: 1.5067 - acc: 0.5691 - val_loss: 2.3138 - val_acc: 0.4370\n",
            "Epoch 95/100\n",
            "250/250 [==============================] - 28s 112ms/step - loss: 1.4982 - acc: 0.5699 - val_loss: 2.3417 - val_acc: 0.4373\n",
            "Epoch 96/100\n",
            "250/250 [==============================] - 28s 112ms/step - loss: 1.4943 - acc: 0.5706 - val_loss: 2.3259 - val_acc: 0.4344\n",
            "Epoch 97/100\n",
            "250/250 [==============================] - 28s 113ms/step - loss: 1.4877 - acc: 0.5728 - val_loss: 2.3286 - val_acc: 0.4262\n",
            "Epoch 98/100\n",
            "250/250 [==============================] - 28s 112ms/step - loss: 1.4896 - acc: 0.5752 - val_loss: 2.3014 - val_acc: 0.4431\n",
            "Epoch 99/100\n",
            "250/250 [==============================] - 28s 112ms/step - loss: 1.4785 - acc: 0.5783 - val_loss: 2.2210 - val_acc: 0.4539\n",
            "Epoch 100/100\n",
            "250/250 [==============================] - 28s 112ms/step - loss: 1.4848 - acc: 0.5762 - val_loss: 2.2754 - val_acc: 0.4417\n"
          ],
          "name": "stdout"
        }
      ]
    },
    {
      "cell_type": "code",
      "metadata": {
        "id": "JTEGhOaJKnB5",
        "outputId": "c13e3ef2-aa40-4d84-9ebe-cce2fe030edf",
        "colab": {
          "base_uri": "https://localhost:8080/",
          "height": 67
        }
      },
      "source": [
        "\n",
        "y_pred=vgg_net_model.predict(x_test)\n",
        "# tf.one_hot(y_pred)\n",
        "# y_pred=np.where(y_pred[0]=max(y_pred[0],1,0))\n",
        "y_pred_proc=np.zeros((10000,100))\n",
        "for i in range(0,10000):\n",
        "    y_pred_proc[i][np.argmax(y_pred[i])]=1\n",
        "print(\"Precision: \"+ str(precision_score(y_test_proc, y_pred_proc, average='weighted')))\n",
        "print(\"Recall: \"+ str(recall_score(y_test_proc, y_pred_proc, average='weighted')))\n",
        "print(\"Accuracy: \"+ str(accuracy_score(y_test_proc, y_pred_proc)))"
      ],
      "execution_count": null,
      "outputs": [
        {
          "output_type": "stream",
          "text": [
            "Precision: 0.46252579894902784\n",
            "Recall: 0.4417\n",
            "Accuracy: 0.4417\n"
          ],
          "name": "stdout"
        }
      ]
    },
    {
      "cell_type": "code",
      "metadata": {
        "id": "seiMcUtKgNsh",
        "outputId": "fa06f634-770d-4b42-d406-865e1c8f71cb",
        "colab": {
          "base_uri": "https://localhost:8080/",
          "height": 284
        }
      },
      "source": [
        "plt.plot(output.history['acc'])\n",
        "plt.plot(output.history['val_acc'])\n",
        "plt.legend(['Training Accuracy','Testing Accuracy'])\n"
      ],
      "execution_count": null,
      "outputs": [
        {
          "output_type": "execute_result",
          "data": {
            "text/plain": [
              "<matplotlib.legend.Legend at 0x7f60f7064160>"
            ]
          },
          "metadata": {
            "tags": []
          },
          "execution_count": 17
        },
        {
          "output_type": "display_data",
          "data": {
            "image/png": "[encoded data removed]",
            "text/plain": [
              "<Figure size 432x288 with 1 Axes>"
            ]
          },
          "metadata": {
            "tags": [],
            "needs_background": "light"
          }
        }
      ]
    },
    {
      "cell_type": "code",
      "metadata": {
        "id": "uLY3-wt-gP96",
        "outputId": "64a67fa1-af72-478a-b401-a97920e6a21c",
        "colab": {
          "base_uri": "https://localhost:8080/",
          "height": 282
        }
      },
      "source": [
        "plt.plot(output.history['loss'])\n",
        "plt.plot(output.history['val_loss'])\n",
        "plt.legend(['Training loss','Testing loss'])"
      ],
      "execution_count": null,
      "outputs": [
        {
          "output_type": "execute_result",
          "data": {
            "text/plain": [
              "<matplotlib.legend.Legend at 0x7f60f70e9d68>"
            ]
          },
          "metadata": {
            "tags": []
          },
          "execution_count": 18
        },
        {
          "output_type": "display_data",
          "data": {
            "image/png": "[encoded data removed]",
            "text/plain": [
              "<Figure size 432x288 with 1 Axes>"
            ]
          },
          "metadata": {
            "tags": [],
            "needs_background": "light"
          }
        }
      ]
    },
    {
      "cell_type": "code",
      "metadata": {
        "id": "b0RuJPDdgSBs",
        "outputId": "d34dd7fa-4ffa-4878-ed11-1893dc67d9da",
        "colab": {
          "base_uri": "https://localhost:8080/",
          "height": 101
        }
      },
      "source": [
        "import tensorflow as tf\n",
        "from tensorflow import keras\n",
        "from tensorflow.keras import layers\n",
        "import numpy as np\n",
        "import datetime as dt\n",
        "from keras.models import Sequential\n",
        "from keras.layers import Dense, Dropout, Flatten\n",
        "from keras.layers import Conv2D, MaxPooling2D,Add,Activation\n",
        "from keras import backend as K\n",
        "import matplotlib.pyplot as plt\n",
        "from keras.preprocessing.image import ImageDataGenerator\n",
        "from sklearn.metrics import confusion_matrix, precision_score, recall_score, accuracy_score\n",
        "\n",
        "(x_train, y_train), (x_test, y_test) = tf.keras.datasets.cifar100.load_data()\n",
        "\n",
        "y_proc=np.zeros((50000,100))\n",
        "for i in range(0,50000):\n",
        "    y_proc[i][y_train[i][0]]=1\n",
        "y_test_proc=np.zeros((10000,100))\n",
        "for i in range(0,10000):\n",
        "    y_test_proc[i][y_test[i][0]]=1\n",
        "y_proc.shape\n",
        "input_shape=(32,32,3)\n",
        "y_test_proc[0]\n",
        "x_train=x_train.astype('float')/255\n",
        "x_test=x_test.astype('float')/255\n",
        "y_test_proc.shape\n",
        "\n",
        "inputs = keras.Input(shape=input_shape)\n",
        "x = layers.Conv2D(32, 3, activation='elu')(inputs)\n",
        "x = layers.Conv2D(32, 3, activation='relu')(x)\n",
        "x = layers.MaxPool2D((3,3),strides=(1,1), padding='same')(x)\n",
        "x = layers.Conv2D(32, 3, activation='elu')(x)\n",
        "x = layers.Conv2D(32, 3, activation='relu')(x)\n",
        "x = layers.MaxPool2D((3,3),strides=(1,1), padding='same')(x)\n",
        "x = layers.Conv2D(64, 3, activation='elu')(x)\n",
        "x = layers.Conv2D(64, 3, activation='elu')(x)\n",
        "x = layers.Conv2D(64, 3, activation='relu')(x)\n",
        "x = layers.MaxPool2D((3,3),strides=(1,1), padding='same')(x)\n",
        "x = layers.Conv2D(64, 3, activation='elu')(x)\n",
        "x = layers.Conv2D(64, 3, activation='elu')(x)\n",
        "x = layers.Conv2D(64, 3, activation='relu')(x)\n",
        "x = layers.MaxPool2D((3,3),strides=(1,1), padding='same')(x)\n",
        "x = layers.Conv2D(128, 3, activation='elu')(x)\n",
        "x = layers.Conv2D(128, 3, activation='elu')(x)\n",
        "x = layers.Conv2D(128, 3, activation='relu')(x)\n",
        "x = layers.MaxPool2D((3,3),strides=(1,1), padding='same')(x)\n",
        "x=layers.Flatten()(x)\n",
        "\n",
        "x = layers.Dense(256, activation='elu')(x)\n",
        "x = layers.Dense(256, activation='elu')(x)\n",
        "x = layers.Dense(256, activation='relu')(x)\n",
        "\n",
        "outputs = layers.Dense(100, activation='softmax')(x)\n",
        "\n",
        "\n",
        "vgg_net_model = keras.Model(inputs, outputs)\n",
        "vgg_net_model.load_weights('../weights/vgg_sgd_noreg.hdf5')\n",
        "\n",
        "y_pred=vgg_net_model.predict(x_test)\n",
        "# tf.one_hot(y_pred)\n",
        "# y_pred=np.where(y_pred[0]=max(y_pred[0],1,0))\n",
        "y_pred_proc=np.zeros((10000,100))\n",
        "for i in range(0,10000):\n",
        "    y_pred_proc[i][np.argmax(y_pred[i])]=1\n",
        "print(\"Precision: \"+ str(precision_score(y_test_proc, y_pred_proc, average='weighted')))\n",
        "print(\"Recall: \"+ str(recall_score(y_test_proc, y_pred_proc, average='weighted')))\n",
        "print(\"Accuracy: \"+ str(accuracy_score(y_test_proc, y_pred_proc)))"
      ],
      "execution_count": 2,
      "outputs": [
        {
          "output_type": "stream",
          "text": [
            "Downloading data from https://www.cs.toronto.edu/~kriz/cifar-100-python.tar.gz\n",
            "169009152/169001437 [==============================] - 4s 0us/step\n",
            "Precision: 0.4602233493935588\n",
            "Recall: 0.4539\n",
            "Accuracy: 0.4539\n"
          ],
          "name": "stdout"
        }
      ]
    }
  ]
}